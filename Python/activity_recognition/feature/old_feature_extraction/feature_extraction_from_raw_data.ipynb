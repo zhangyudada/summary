{
 "cells": [
  {
   "cell_type": "markdown",
   "metadata": {},
   "source": [
    "### Feature extraction"
   ]
  },
  {
   "cell_type": "code",
   "execution_count": 1,
   "metadata": {
    "collapsed": true
   },
   "outputs": [],
   "source": [
    "import pandas as pd\n",
    "import numpy as np\n",
    "\n",
    "from sklearn import preprocessing"
   ]
  },
  {
   "cell_type": "code",
   "execution_count": 2,
   "metadata": {
    "collapsed": true
   },
   "outputs": [],
   "source": [
    "df = pd.read_csv('./data/all.csv')"
   ]
  },
  {
   "cell_type": "code",
   "execution_count": 3,
   "metadata": {},
   "outputs": [
    {
     "data": {
      "text/html": [
       "<div>\n",
       "<style>\n",
       "    .dataframe thead tr:only-child th {\n",
       "        text-align: right;\n",
       "    }\n",
       "\n",
       "    .dataframe thead th {\n",
       "        text-align: left;\n",
       "    }\n",
       "\n",
       "    .dataframe tbody tr th {\n",
       "        vertical-align: top;\n",
       "    }\n",
       "</style>\n",
       "<table border=\"1\" class=\"dataframe\">\n",
       "  <thead>\n",
       "    <tr style=\"text-align: right;\">\n",
       "      <th></th>\n",
       "      <th>x</th>\n",
       "      <th>y</th>\n",
       "      <th>z</th>\n",
       "      <th>class</th>\n",
       "      <th>seg</th>\n",
       "      <th>suspicious</th>\n",
       "    </tr>\n",
       "  </thead>\n",
       "  <tbody>\n",
       "    <tr>\n",
       "      <th>0</th>\n",
       "      <td>20</td>\n",
       "      <td>781</td>\n",
       "      <td>-507</td>\n",
       "      <td>walk</td>\n",
       "      <td>walk/863137003295439_walk_L_2017-07-25 17-39-0...</td>\n",
       "      <td>False</td>\n",
       "    </tr>\n",
       "    <tr>\n",
       "      <th>1</th>\n",
       "      <td>40</td>\n",
       "      <td>797</td>\n",
       "      <td>-492</td>\n",
       "      <td>walk</td>\n",
       "      <td>walk/863137003295439_walk_L_2017-07-25 17-39-0...</td>\n",
       "      <td>False</td>\n",
       "    </tr>\n",
       "    <tr>\n",
       "      <th>2</th>\n",
       "      <td>59</td>\n",
       "      <td>807</td>\n",
       "      <td>-502</td>\n",
       "      <td>walk</td>\n",
       "      <td>walk/863137003295439_walk_L_2017-07-25 17-39-0...</td>\n",
       "      <td>False</td>\n",
       "    </tr>\n",
       "    <tr>\n",
       "      <th>3</th>\n",
       "      <td>75</td>\n",
       "      <td>807</td>\n",
       "      <td>-527</td>\n",
       "      <td>walk</td>\n",
       "      <td>walk/863137003295439_walk_L_2017-07-25 17-39-0...</td>\n",
       "      <td>False</td>\n",
       "    </tr>\n",
       "    <tr>\n",
       "      <th>4</th>\n",
       "      <td>107</td>\n",
       "      <td>806</td>\n",
       "      <td>-560</td>\n",
       "      <td>walk</td>\n",
       "      <td>walk/863137003295439_walk_L_2017-07-25 17-39-0...</td>\n",
       "      <td>False</td>\n",
       "    </tr>\n",
       "  </tbody>\n",
       "</table>\n",
       "</div>"
      ],
      "text/plain": [
       "     x    y    z class                                                seg  \\\n",
       "0   20  781 -507  walk  walk/863137003295439_walk_L_2017-07-25 17-39-0...   \n",
       "1   40  797 -492  walk  walk/863137003295439_walk_L_2017-07-25 17-39-0...   \n",
       "2   59  807 -502  walk  walk/863137003295439_walk_L_2017-07-25 17-39-0...   \n",
       "3   75  807 -527  walk  walk/863137003295439_walk_L_2017-07-25 17-39-0...   \n",
       "4  107  806 -560  walk  walk/863137003295439_walk_L_2017-07-25 17-39-0...   \n",
       "\n",
       "   suspicious  \n",
       "0       False  \n",
       "1       False  \n",
       "2       False  \n",
       "3       False  \n",
       "4       False  "
      ]
     },
     "execution_count": 3,
     "metadata": {},
     "output_type": "execute_result"
    }
   ],
   "source": [
    "df.head()"
   ]
  },
  {
   "cell_type": "code",
   "execution_count": 4,
   "metadata": {
    "collapsed": true
   },
   "outputs": [],
   "source": [
    "segs = df.seg.unique()"
   ]
  },
  {
   "cell_type": "code",
   "execution_count": 5,
   "metadata": {},
   "outputs": [
    {
     "data": {
      "text/plain": [
       "array([ 'walk/863137003295439_walk_L_2017-07-25 17-39-00_2017-07-25 17-49-00.csv-31-98',\n",
       "       'walk/863137003295439_walk_L_2017-07-25 17-39-00_2017-07-25 17-49-00.csv-112-154',\n",
       "       'walk/863137003295439_walk_L_2017-07-25 17-39-00_2017-07-25 17-49-00.csv-366-407',\n",
       "       ..., 'clean/庆喜/repeat_82-duration_60.csv-1442-1488',\n",
       "       'clean/庆喜/repeat_82-duration_60.csv-1498-1546',\n",
       "       'clean/庆喜/repeat_82-duration_60.csv-1584-1628'], dtype=object)"
      ]
     },
     "execution_count": 5,
     "metadata": {},
     "output_type": "execute_result"
    }
   ],
   "source": [
    "segs"
   ]
  },
  {
   "cell_type": "code",
   "execution_count": 6,
   "metadata": {
    "collapsed": true
   },
   "outputs": [],
   "source": [
    "seg = segs[0]"
   ]
  },
  {
   "cell_type": "code",
   "execution_count": 7,
   "metadata": {
    "collapsed": true
   },
   "outputs": [],
   "source": [
    "seg_df = df[df['seg'] ==seg][['x', 'y', 'z']]"
   ]
  },
  {
   "cell_type": "code",
   "execution_count": 8,
   "metadata": {},
   "outputs": [
    {
     "data": {
      "text/html": [
       "<div>\n",
       "<style>\n",
       "    .dataframe thead tr:only-child th {\n",
       "        text-align: right;\n",
       "    }\n",
       "\n",
       "    .dataframe thead th {\n",
       "        text-align: left;\n",
       "    }\n",
       "\n",
       "    .dataframe tbody tr th {\n",
       "        vertical-align: top;\n",
       "    }\n",
       "</style>\n",
       "<table border=\"1\" class=\"dataframe\">\n",
       "  <thead>\n",
       "    <tr style=\"text-align: right;\">\n",
       "      <th></th>\n",
       "      <th>x</th>\n",
       "      <th>y</th>\n",
       "      <th>z</th>\n",
       "    </tr>\n",
       "  </thead>\n",
       "  <tbody>\n",
       "    <tr>\n",
       "      <th>0</th>\n",
       "      <td>20</td>\n",
       "      <td>781</td>\n",
       "      <td>-507</td>\n",
       "    </tr>\n",
       "    <tr>\n",
       "      <th>1</th>\n",
       "      <td>40</td>\n",
       "      <td>797</td>\n",
       "      <td>-492</td>\n",
       "    </tr>\n",
       "    <tr>\n",
       "      <th>2</th>\n",
       "      <td>59</td>\n",
       "      <td>807</td>\n",
       "      <td>-502</td>\n",
       "    </tr>\n",
       "    <tr>\n",
       "      <th>3</th>\n",
       "      <td>75</td>\n",
       "      <td>807</td>\n",
       "      <td>-527</td>\n",
       "    </tr>\n",
       "    <tr>\n",
       "      <th>4</th>\n",
       "      <td>107</td>\n",
       "      <td>806</td>\n",
       "      <td>-560</td>\n",
       "    </tr>\n",
       "  </tbody>\n",
       "</table>\n",
       "</div>"
      ],
      "text/plain": [
       "     x    y    z\n",
       "0   20  781 -507\n",
       "1   40  797 -492\n",
       "2   59  807 -502\n",
       "3   75  807 -527\n",
       "4  107  806 -560"
      ]
     },
     "execution_count": 8,
     "metadata": {},
     "output_type": "execute_result"
    }
   ],
   "source": [
    "seg_df.head()"
   ]
  },
  {
   "cell_type": "code",
   "execution_count": 9,
   "metadata": {},
   "outputs": [
    {
     "data": {
      "text/plain": [
       "(68, 3)"
      ]
     },
     "execution_count": 9,
     "metadata": {},
     "output_type": "execute_result"
    }
   ],
   "source": [
    "seg_df.shape"
   ]
  },
  {
   "cell_type": "code",
   "execution_count": 10,
   "metadata": {
    "collapsed": true
   },
   "outputs": [],
   "source": [
    "x = seg_df['x'].values\n",
    "y = seg_df['y'].values\n",
    "z = seg_df['z'].values"
   ]
  },
  {
   "cell_type": "code",
   "execution_count": 11,
   "metadata": {},
   "outputs": [
    {
     "data": {
      "text/plain": [
       "array([  20,   40,   59,   75,  107,  128,  143,  140,   74,   41,   30,\n",
       "         62,   76,   77,   74,   64,   44,   14,   -5,   33,   56,   46,\n",
       "        -41,  -65,  -63,  -52,  -58,  -68,  -73,  -75,  -92, -105, -114,\n",
       "       -118, -119, -122, -126, -128, -126, -124, -119, -108, -106, -110,\n",
       "       -119, -126, -126, -116,  -85,  -75,  -73,  -79,  -89,  -98,  -97,\n",
       "        -91,  -88,  -88,  -87,  -78,  -75,  -76,  -80,  -84,  -92,  -95,\n",
       "        -96,  -95], dtype=int64)"
      ]
     },
     "execution_count": 11,
     "metadata": {},
     "output_type": "execute_result"
    }
   ],
   "source": [
    "x"
   ]
  },
  {
   "cell_type": "code",
   "execution_count": 12,
   "metadata": {
    "collapsed": true
   },
   "outputs": [],
   "source": [
    "x = x.reshape(-1, 1).astype(float)"
   ]
  },
  {
   "cell_type": "code",
   "execution_count": 13,
   "metadata": {},
   "outputs": [
    {
     "data": {
      "text/plain": [
       "(68, 1)"
      ]
     },
     "execution_count": 13,
     "metadata": {},
     "output_type": "execute_result"
    }
   ],
   "source": [
    "x.shape"
   ]
  },
  {
   "cell_type": "code",
   "execution_count": 14,
   "metadata": {
    "collapsed": true
   },
   "outputs": [],
   "source": [
    "scaler = preprocessing.StandardScaler().fit(x)"
   ]
  },
  {
   "cell_type": "code",
   "execution_count": 15,
   "metadata": {},
   "outputs": [
    {
     "data": {
      "text/plain": [
       "StandardScaler(copy=True, with_mean=True, with_std=True)"
      ]
     },
     "execution_count": 15,
     "metadata": {},
     "output_type": "execute_result"
    }
   ],
   "source": [
    "scaler"
   ]
  },
  {
   "cell_type": "code",
   "execution_count": 16,
   "metadata": {},
   "outputs": [
    {
     "data": {
      "text/plain": [
       "array([-42.97058824])"
      ]
     },
     "execution_count": 16,
     "metadata": {},
     "output_type": "execute_result"
    }
   ],
   "source": [
    "scaler.mean_"
   ]
  },
  {
   "cell_type": "code",
   "execution_count": 17,
   "metadata": {},
   "outputs": [
    {
     "data": {
      "text/plain": [
       "array([ 78.91580968])"
      ]
     },
     "execution_count": 17,
     "metadata": {},
     "output_type": "execute_result"
    }
   ],
   "source": [
    "scaler.scale_"
   ]
  },
  {
   "cell_type": "code",
   "execution_count": 18,
   "metadata": {
    "collapsed": true
   },
   "outputs": [],
   "source": [
    "x = scaler.transform(x).reshape(x.shape[0])"
   ]
  },
  {
   "cell_type": "code",
   "execution_count": 19,
   "metadata": {},
   "outputs": [
    {
     "data": {
      "text/plain": [
       "array([ 0.79794643,  1.05138107,  1.29214398,  1.49489169,  1.90038712,\n",
       "        2.16649349,  2.35656948,  2.31855428,  1.48221996,  1.0640528 ,\n",
       "        0.92466375,  1.33015917,  1.50756342,  1.52023516,  1.48221996,\n",
       "        1.35550264,  1.102068  ,  0.72191603,  0.48115312,  0.96267894,\n",
       "        1.25412878,  1.12741146,  0.02497077, -0.2791508 , -0.25380734,\n",
       "       -0.11441829, -0.19044868, -0.317166  , -0.38052466, -0.40586813,\n",
       "       -0.62128757, -0.78602009, -0.90006568, -0.95075261, -0.96342434,\n",
       "       -1.00143954, -1.05212646, -1.07746993, -1.05212646, -1.026783  ,\n",
       "       -0.96342434, -0.82403529, -0.79869182, -0.84937875, -0.96342434,\n",
       "       -1.05212646, -1.05212646, -0.92540914, -0.53258545, -0.40586813,\n",
       "       -0.38052466, -0.45655505, -0.58327238, -0.69731796, -0.68464623,\n",
       "       -0.60861584, -0.57060064, -0.57060064, -0.55792891, -0.44388332,\n",
       "       -0.40586813, -0.41853986, -0.46922679, -0.51991371, -0.62128757,\n",
       "       -0.65930277, -0.6719745 , -0.65930277])"
      ]
     },
     "execution_count": 19,
     "metadata": {},
     "output_type": "execute_result"
    }
   ],
   "source": [
    "x"
   ]
  },
  {
   "cell_type": "code",
   "execution_count": 90,
   "metadata": {},
   "outputs": [
    {
     "data": {
      "text/plain": [
       "-2.4490213778496099e-17"
      ]
     },
     "execution_count": 90,
     "metadata": {},
     "output_type": "execute_result"
    }
   ],
   "source": [
    "x.mean()"
   ]
  },
  {
   "cell_type": "code",
   "execution_count": 91,
   "metadata": {},
   "outputs": [
    {
     "data": {
      "text/plain": [
       "1.0"
      ]
     },
     "execution_count": 91,
     "metadata": {},
     "output_type": "execute_result"
    }
   ],
   "source": [
    "x.std()"
   ]
  },
  {
   "cell_type": "code",
   "execution_count": 81,
   "metadata": {
    "collapsed": true
   },
   "outputs": [],
   "source": [
    "label = seg.split('/')[0]"
   ]
  },
  {
   "cell_type": "code",
   "execution_count": 18,
   "metadata": {},
   "outputs": [
    {
     "data": {
      "text/plain": [
       "'walk'"
      ]
     },
     "execution_count": 18,
     "metadata": {},
     "output_type": "execute_result"
    }
   ],
   "source": [
    "label"
   ]
  },
  {
   "cell_type": "code",
   "execution_count": 19,
   "metadata": {
    "collapsed": true
   },
   "outputs": [],
   "source": [
    "sum_x = sum(x)\n",
    "sum_y = sum(y)\n",
    "sum_z = sum(z)"
   ]
  },
  {
   "cell_type": "code",
   "execution_count": 20,
   "metadata": {},
   "outputs": [
    {
     "data": {
      "text/plain": [
       "-2942"
      ]
     },
     "execution_count": 20,
     "metadata": {},
     "output_type": "execute_result"
    }
   ],
   "source": [
    "sum_x"
   ]
  },
  {
   "cell_type": "code",
   "execution_count": 21,
   "metadata": {
    "collapsed": true
   },
   "outputs": [],
   "source": [
    "mean_x = np.mean(x)\n",
    "mean_y = np.mean(y)\n",
    "mean_z = np.mean(z)"
   ]
  },
  {
   "cell_type": "code",
   "execution_count": 22,
   "metadata": {},
   "outputs": [
    {
     "data": {
      "text/plain": [
       "-43.264705882352942"
      ]
     },
     "execution_count": 22,
     "metadata": {},
     "output_type": "execute_result"
    }
   ],
   "source": [
    "mean_x"
   ]
  },
  {
   "cell_type": "code",
   "execution_count": 23,
   "metadata": {
    "collapsed": true
   },
   "outputs": [],
   "source": [
    "std_x = np.std(x)\n",
    "std_y = np.std(y)\n",
    "std_z = np.std(z)"
   ]
  },
  {
   "cell_type": "code",
   "execution_count": 24,
   "metadata": {},
   "outputs": [
    {
     "data": {
      "text/plain": [
       "78.717592332086426"
      ]
     },
     "execution_count": 24,
     "metadata": {},
     "output_type": "execute_result"
    }
   ],
   "source": [
    "std_x"
   ]
  },
  {
   "cell_type": "code",
   "execution_count": 25,
   "metadata": {
    "collapsed": true
   },
   "outputs": [],
   "source": [
    "cv_x = std_x / mean_x\n",
    "cv_y = std_y / mean_y\n",
    "cv_z = std_z / mean_z"
   ]
  },
  {
   "cell_type": "code",
   "execution_count": 26,
   "metadata": {},
   "outputs": [
    {
     "data": {
      "text/plain": [
       "-1.8194412911563143"
      ]
     },
     "execution_count": 26,
     "metadata": {},
     "output_type": "execute_result"
    }
   ],
   "source": [
    "cv_x"
   ]
  },
  {
   "cell_type": "code",
   "execution_count": 27,
   "metadata": {
    "collapsed": true
   },
   "outputs": [],
   "source": [
    "ptp_x = np.ptp(x)\n",
    "ptp_y = np.ptp(y)\n",
    "ptp_z = np.ptp(z)"
   ]
  },
  {
   "cell_type": "code",
   "execution_count": 28,
   "metadata": {},
   "outputs": [
    {
     "data": {
      "text/plain": [
       "271"
      ]
     },
     "execution_count": 28,
     "metadata": {},
     "output_type": "execute_result"
    }
   ],
   "source": [
    "ptp_x"
   ]
  },
  {
   "cell_type": "code",
   "execution_count": 29,
   "metadata": {},
   "outputs": [
    {
     "data": {
      "text/plain": [
       "6"
      ]
     },
     "execution_count": 29,
     "metadata": {},
     "output_type": "execute_result"
    }
   ],
   "source": [
    "int(np.round(6.4999999999999))"
   ]
  },
  {
   "cell_type": "code",
   "execution_count": 30,
   "metadata": {
    "collapsed": true
   },
   "outputs": [],
   "source": [
    "p10_x = x[int(np.round(0.1*x.size))]\n",
    "p10_y = y[int(np.round(0.1*y.size))]\n",
    "p10_z = z[int(np.round(0.1*z.size))]\n",
    "\n",
    "p25_x = x[int(np.round(0.25*x.size))]\n",
    "p25_y = y[int(np.round(0.25*y.size))]\n",
    "p25_z = z[int(np.round(0.25*z.size))]\n",
    "\n",
    "p50_x = x[int(np.round(0.5*x.size))]\n",
    "p50_y = y[int(np.round(0.5*y.size))]\n",
    "p50_z = z[int(np.round(0.5*z.size))]\n",
    "\n",
    "p75_x = x[int(np.round(0.75*x.size))]\n",
    "p75_y = y[int(np.round(0.75*y.size))]\n",
    "p75_z = z[int(np.round(0.75*z.size))]\n",
    "\n",
    "p90_x = x[int(np.round(0.9*x.size))]\n",
    "p90_y = y[int(np.round(0.9*y.size))]\n",
    "p90_z = z[int(np.round(0.9*z.size))]"
   ]
  },
  {
   "cell_type": "code",
   "execution_count": 31,
   "metadata": {},
   "outputs": [
    {
     "data": {
      "text/plain": [
       "140"
      ]
     },
     "execution_count": 31,
     "metadata": {},
     "output_type": "execute_result"
    }
   ],
   "source": [
    "p10_x"
   ]
  },
  {
   "cell_type": "code",
   "execution_count": 32,
   "metadata": {
    "collapsed": true
   },
   "outputs": [],
   "source": [
    "iq_x = p75_x - p25_x\n",
    "iq_y = p75_y - p25_y\n",
    "iq_z = p75_z - p25_z"
   ]
  },
  {
   "cell_type": "code",
   "execution_count": 33,
   "metadata": {},
   "outputs": [
    {
     "data": {
      "text/plain": [
       "-93"
      ]
     },
     "execution_count": 33,
     "metadata": {},
     "output_type": "execute_result"
    }
   ],
   "source": [
    "iq_x"
   ]
  },
  {
   "cell_type": "code",
   "execution_count": 34,
   "metadata": {
    "collapsed": true
   },
   "outputs": [],
   "source": [
    "fz_sum_x = 0.0\n",
    "fz_sum_y = 0.0\n",
    "fz_sum_z = 0.0\n",
    "\n",
    "fm_sum_x = 0.0\n",
    "fm_sum_y = 0.0\n",
    "fm_sum_z = 0.0\n",
    "\n",
    "for i in range(x.size-1):\n",
    "    fz_sum_x += (x[i]-mean_x) * (x[i+1]-mean_x)\n",
    "    fz_sum_y += (y[i]-mean_y) * (y[i+1]-mean_y)\n",
    "    fz_sum_z += (z[i]-mean_z) * (z[i+1]-mean_z)\n",
    "    \n",
    "    fm_sum_x += (x[i]-mean_x) ** 2\n",
    "    fm_sum_y += (y[i]-mean_y) ** 2\n",
    "    fm_sum_z += (z[i]-mean_z) ** 2\n",
    "fm_sum_x += (x[x.size-1]-mean_x) ** 2\n",
    "fm_sum_y += (y[y.size-1]-mean_y) ** 2\n",
    "fm_sum_z += (z[z.size-1]-mean_z) ** 2\n",
    "\n",
    "lagone_autocor_x = fz_sum_x / fm_sum_x\n",
    "lagone_autocor_y = fz_sum_y / fm_sum_y\n",
    "lagone_autocor_z = fz_sum_z / fm_sum_z"
   ]
  },
  {
   "cell_type": "code",
   "execution_count": 35,
   "metadata": {},
   "outputs": [
    {
     "data": {
      "text/plain": [
       "0.96434707855453405"
      ]
     },
     "execution_count": 35,
     "metadata": {},
     "output_type": "execute_result"
    }
   ],
   "source": [
    "lagone_autocor_x"
   ]
  },
  {
   "cell_type": "code",
   "execution_count": 36,
   "metadata": {
    "collapsed": true
   },
   "outputs": [],
   "source": [
    "x2 = 0\n",
    "y2 = 0\n",
    "z2 = 0\n",
    "\n",
    "x3 = 0\n",
    "y3 = 0\n",
    "z3 = 0\n",
    "\n",
    "for i in range(x.size):\n",
    "    x3 += (x[i]-mean_x) ** 3\n",
    "    y3 += (y[i]-mean_y) ** 3\n",
    "    z3 += (z[i]-mean_z) ** 3\n",
    "    \n",
    "    x2 += (x[i]-mean_x) ** 2\n",
    "    y2 += (y[i]-mean_y) ** 2\n",
    "    z2 += (z[i]-mean_z) ** 2\n",
    "    \n",
    "x2 = (x2 / x.size) ** 1.5\n",
    "y2 = (y2 / y.size) ** 1.5\n",
    "z2 = (z2 / z.size) ** 1.5\n",
    "\n",
    "sk_x = x3 / x.size / x2\n",
    "sk_y = y3 / y.size / y2\n",
    "sk_z = z3 / z.size / z2"
   ]
  },
  {
   "cell_type": "code",
   "execution_count": 37,
   "metadata": {},
   "outputs": [
    {
     "data": {
      "text/plain": [
       "0.8493824008188855"
      ]
     },
     "execution_count": 37,
     "metadata": {},
     "output_type": "execute_result"
    }
   ],
   "source": [
    "sk_x"
   ]
  },
  {
   "cell_type": "code",
   "execution_count": 38,
   "metadata": {
    "collapsed": true
   },
   "outputs": [],
   "source": [
    "x2 = 0\n",
    "y2 = 0\n",
    "z2 = 0\n",
    "\n",
    "x4 = 0\n",
    "y4 = 0\n",
    "z4 = 0\n",
    "\n",
    "for i in range(x.size):\n",
    "    x4 += (x[i]-mean_x) ** 4\n",
    "    y4 += (y[i]-mean_y) ** 4\n",
    "    z4 += (z[i]-mean_z) ** 4\n",
    "    \n",
    "    x2 += (x[i]-mean_x) ** 2\n",
    "    y2 += (y[i]-mean_y) ** 2\n",
    "    z2 += (z[i]-mean_z) ** 2\n",
    "    \n",
    "x2 = (x2 / x.size) ** 3\n",
    "y2 = (y2 / y.size) ** 3\n",
    "z2 = (z2 / z.size) ** 3\n",
    "\n",
    "kurt_x = x4 / x.size / x2 - 3\n",
    "kurt_y = y4 / y.size / y2 - 3\n",
    "kurt_z = z4 / z.size / z2 - 3"
   ]
  },
  {
   "cell_type": "code",
   "execution_count": 39,
   "metadata": {},
   "outputs": [
    {
     "data": {
      "text/plain": [
       "-2.9982741573836398"
      ]
     },
     "execution_count": 39,
     "metadata": {},
     "output_type": "execute_result"
    }
   ],
   "source": [
    "kurt_y"
   ]
  },
  {
   "cell_type": "code",
   "execution_count": 40,
   "metadata": {
    "collapsed": true
   },
   "outputs": [],
   "source": [
    "power_x = sum(x ** 2)\n",
    "power_y = sum(y ** 2)\n",
    "power_z = sum(z ** 2)"
   ]
  },
  {
   "cell_type": "code",
   "execution_count": 41,
   "metadata": {},
   "outputs": [
    {
     "data": {
      "text/plain": [
       "548644"
      ]
     },
     "execution_count": 41,
     "metadata": {},
     "output_type": "execute_result"
    }
   ],
   "source": [
    "power_x"
   ]
  },
  {
   "cell_type": "code",
   "execution_count": 42,
   "metadata": {},
   "outputs": [
    {
     "name": "stderr",
     "output_type": "stream",
     "text": [
      "C:\\Program1\\2others\\Anaconda\\Anaconda3\\lib\\site-packages\\ipykernel_launcher.py:1: RuntimeWarning: divide by zero encountered in log\n",
      "  \"\"\"Entry point for launching an IPython kernel.\n"
     ]
    }
   ],
   "source": [
    "logpower_x = sum(np.log(x ** 2))\n",
    "logpower_y = sum(np.log(y ** 2))\n",
    "logpower_z = sum(np.log(z ** 2))"
   ]
  },
  {
   "cell_type": "code",
   "execution_count": 43,
   "metadata": {},
   "outputs": [
    {
     "data": {
      "text/plain": [
       "-inf"
      ]
     },
     "execution_count": 43,
     "metadata": {},
     "output_type": "execute_result"
    }
   ],
   "source": [
    "logpower_x"
   ]
  },
  {
   "cell_type": "code",
   "execution_count": 44,
   "metadata": {},
   "outputs": [
    {
     "data": {
      "text/plain": [
       "array([ 1,  2,  3,  4,  5,  6,  7,  8,  9, 10, 11, 12, 13, 14, 15, 16, 17,\n",
       "       18, 19, 20, 21, 22, 23, 24, 25, 26, 27, 28, 29, 30, 31, 32, 33, 34,\n",
       "       35, 36, 37, 38, 39, 40, 41, 42, 43, 44, 45, 46, 47, 48, 49, 50, 51,\n",
       "       52, 53, 54, 55, 56, 57, 58, 59, 60, 61, 62, 63, 64, 65, 66])"
      ]
     },
     "execution_count": 44,
     "metadata": {},
     "output_type": "execute_result"
    }
   ],
   "source": [
    "np.arange(1,x.size-1)"
   ]
  },
  {
   "cell_type": "code",
   "execution_count": 45,
   "metadata": {
    "collapsed": true
   },
   "outputs": [],
   "source": [
    "peak_x = 0\n",
    "peak_y = 0\n",
    "peak_z = 0\n",
    "for i in np.arange(1,x.size-1):\n",
    "    if x[i-1] < x[i] and x[i] > x[i+1]:\n",
    "        peak_x += 1\n",
    "    if y[i-1] < y[i] and y[i] > y[i+1]:\n",
    "        peak_y += 1\n",
    "    if z[i-1] < z[i] and z[i] > z[i+1]:\n",
    "        peak_z += 1"
   ]
  },
  {
   "cell_type": "code",
   "execution_count": 46,
   "metadata": {},
   "outputs": [
    {
     "data": {
      "text/plain": [
       "8"
      ]
     },
     "execution_count": 46,
     "metadata": {},
     "output_type": "execute_result"
    }
   ],
   "source": [
    "peak_z"
   ]
  },
  {
   "cell_type": "code",
   "execution_count": 47,
   "metadata": {
    "collapsed": true
   },
   "outputs": [],
   "source": [
    "regu_x = x - mean_x\n",
    "regu_y = y - mean_y\n",
    "regu_z = z - mean_z\n",
    "\n",
    "cross0_x = 0\n",
    "cross0_y = 0\n",
    "cross0_z = 0\n",
    "\n",
    "for i in range(x.size-1):\n",
    "    if (regu_x[i] > 0 and regu_x[i+1] < 0) or (regu_x[i] < 0 and regu_x[i+1] > 0):\n",
    "        cross0_x += 1\n",
    "    if (regu_y[i] > 0 and regu_y[i+1] < 0) or (regu_y[i] < 0 and regu_y[i+1] > 0):\n",
    "        cross0_y += 1\n",
    "    if (regu_z[i] > 0 and regu_z[i+1] < 0) or (regu_z[i] < 0 and regu_z[i+1] > 0):\n",
    "        cross0_z += 1"
   ]
  },
  {
   "cell_type": "code",
   "execution_count": 48,
   "metadata": {},
   "outputs": [
    {
     "data": {
      "text/plain": [
       "10"
      ]
     },
     "execution_count": 48,
     "metadata": {},
     "output_type": "execute_result"
    }
   ],
   "source": [
    "cross0_z"
   ]
  },
  {
   "cell_type": "code",
   "execution_count": 49,
   "metadata": {
    "collapsed": true
   },
   "outputs": [],
   "source": [
    "cor_xy = np.corrcoef(np.array([x,y]))[0,1]\n",
    "cor_yz = np.corrcoef(np.array([y,z]))[0,1]\n",
    "cor_zx = np.corrcoef(np.array([z,x]))[0,1]"
   ]
  },
  {
   "cell_type": "code",
   "execution_count": 50,
   "metadata": {},
   "outputs": [
    {
     "data": {
      "text/plain": [
       "0.55847904816906779"
      ]
     },
     "execution_count": 50,
     "metadata": {},
     "output_type": "execute_result"
    }
   ],
   "source": [
    "cor_yz"
   ]
  },
  {
   "cell_type": "code",
   "execution_count": 51,
   "metadata": {
    "collapsed": true
   },
   "outputs": [],
   "source": [
    " cols = ['label', \n",
    "            'sum_x', 'sum_y', 'sum_z', \\\n",
    "            'mean_x', 'mean_y', 'mean_z', \\\n",
    "            'std_x', 'std_y', 'std_z', \\\n",
    "            'cv_x', 'cv_y', 'cv_z', \\\n",
    "            'ptp_x', 'ptp_y', 'ptp_z', \\\n",
    "            'p10_x', 'p10_y', 'p10_z', \\\n",
    "            'p25_x', 'p25_y', 'p25_z', \\\n",
    "            'p50_x', 'p50_y', 'p50_z', \\\n",
    "            'p75_x', 'p75_y', 'p75_z', \\\n",
    "            'p90_x',' p90_y', 'p90_z', \\\n",
    "            'iq_x', 'iq_y', 'iq_z', \\\n",
    "            'lagone_autocor_x', 'lagone_autocor_y', 'lagone_autocor_z', \\\n",
    "            'sk_x', 'sk_y', 'sk_z', \\\n",
    "            'kurt_x', 'kurt_y', 'kurt_z', \\\n",
    "            'power_x', 'power_y', 'power_z', \\\n",
    "            'logpower_x', 'logpower_y', 'logpower_z', \\\n",
    "            'peak_x', 'peak_y', 'peak_z', \\\n",
    "            'cross0_x', 'cross0_y', 'cross0_z', \\\n",
    "            'cor_xy', 'cor_yz', 'cor_zx']\n",
    "new_df = pd.DataFrame(columns=cols)"
   ]
  },
  {
   "cell_type": "code",
   "execution_count": 52,
   "metadata": {},
   "outputs": [
    {
     "data": {
      "text/html": [
       "<div>\n",
       "<style>\n",
       "    .dataframe thead tr:only-child th {\n",
       "        text-align: right;\n",
       "    }\n",
       "\n",
       "    .dataframe thead th {\n",
       "        text-align: left;\n",
       "    }\n",
       "\n",
       "    .dataframe tbody tr th {\n",
       "        vertical-align: top;\n",
       "    }\n",
       "</style>\n",
       "<table border=\"1\" class=\"dataframe\">\n",
       "  <thead>\n",
       "    <tr style=\"text-align: right;\">\n",
       "      <th></th>\n",
       "      <th>label</th>\n",
       "      <th>sum_x</th>\n",
       "      <th>sum_y</th>\n",
       "      <th>sum_z</th>\n",
       "      <th>mean_x</th>\n",
       "      <th>mean_y</th>\n",
       "      <th>mean_z</th>\n",
       "      <th>std_x</th>\n",
       "      <th>std_y</th>\n",
       "      <th>std_z</th>\n",
       "      <th>...</th>\n",
       "      <th>logpower_z</th>\n",
       "      <th>peak_x</th>\n",
       "      <th>peak_y</th>\n",
       "      <th>peak_z</th>\n",
       "      <th>cross0_x</th>\n",
       "      <th>cross0_y</th>\n",
       "      <th>cross0_z</th>\n",
       "      <th>cor_xy</th>\n",
       "      <th>cor_yz</th>\n",
       "      <th>cor_zx</th>\n",
       "    </tr>\n",
       "  </thead>\n",
       "  <tbody>\n",
       "  </tbody>\n",
       "</table>\n",
       "<p>0 rows × 58 columns</p>\n",
       "</div>"
      ],
      "text/plain": [
       "Empty DataFrame\n",
       "Columns: [label, sum_x, sum_y, sum_z, mean_x, mean_y, mean_z, std_x, std_y, std_z, cv_x, cv_y, cv_z, ptp_x, ptp_y, ptp_z, p10_x, p10_y, p10_z, p25_x, p25_y, p25_z, p50_x, p50_y, p50_z, p75_x, p75_y, p75_z, p90_x,  p90_y, p90_z, iq_x, iq_y, iq_z, lagone_autocor_x, lagone_autocor_y, lagone_autocor_z, sk_x, sk_y, sk_z, kurt_x, kurt_y, kurt_z, power_x, power_y, power_z, logpower_x, logpower_y, logpower_z, peak_x, peak_y, peak_z, cross0_x, cross0_y, cross0_z, cor_xy, cor_yz, cor_zx]\n",
       "Index: []\n",
       "\n",
       "[0 rows x 58 columns]"
      ]
     },
     "execution_count": 52,
     "metadata": {},
     "output_type": "execute_result"
    }
   ],
   "source": [
    "new_df"
   ]
  }
 ],
 "metadata": {
  "kernelspec": {
   "display_name": "Python 3",
   "language": "python",
   "name": "python3"
  },
  "language_info": {
   "codemirror_mode": {
    "name": "ipython",
    "version": 3
   },
   "file_extension": ".py",
   "mimetype": "text/x-python",
   "name": "python",
   "nbconvert_exporter": "python",
   "pygments_lexer": "ipython3",
   "version": "3.6.1"
  }
 },
 "nbformat": 4,
 "nbformat_minor": 2
}

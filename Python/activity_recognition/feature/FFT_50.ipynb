{
 "cells": [
  {
   "cell_type": "code",
   "execution_count": 1,
   "metadata": {},
   "outputs": [],
   "source": [
    "%matplotlib inline\n",
    "import pandas as pd\n",
    "import numpy as np\n",
    "import matplotlib.pyplot as plt\n",
    "import scipy.signal as signal\n",
    "\n",
    "from feature import feature_extraction_freq\n",
    "from feature import feature_normalization"
   ]
  },
  {
   "cell_type": "code",
   "execution_count": 2,
   "metadata": {},
   "outputs": [
    {
     "data": {
      "text/html": [
       "<div>\n",
       "<style scoped>\n",
       "    .dataframe tbody tr th:only-of-type {\n",
       "        vertical-align: middle;\n",
       "    }\n",
       "\n",
       "    .dataframe tbody tr th {\n",
       "        vertical-align: top;\n",
       "    }\n",
       "\n",
       "    .dataframe thead th {\n",
       "        text-align: right;\n",
       "    }\n",
       "</style>\n",
       "<table border=\"1\" class=\"dataframe\">\n",
       "  <thead>\n",
       "    <tr style=\"text-align: right;\">\n",
       "      <th></th>\n",
       "      <th>x</th>\n",
       "      <th>y</th>\n",
       "      <th>z</th>\n",
       "      <th>class</th>\n",
       "      <th>seg</th>\n",
       "      <th>suspicious</th>\n",
       "    </tr>\n",
       "  </thead>\n",
       "  <tbody>\n",
       "    <tr>\n",
       "      <th>0</th>\n",
       "      <td>20.000000</td>\n",
       "      <td>781.000000</td>\n",
       "      <td>-507.000000</td>\n",
       "      <td>walk</td>\n",
       "      <td>walk/863137003295439_walk_L_2017-07-25 17-39-0...</td>\n",
       "      <td>False</td>\n",
       "    </tr>\n",
       "    <tr>\n",
       "      <th>1</th>\n",
       "      <td>47.149682</td>\n",
       "      <td>801.381706</td>\n",
       "      <td>-493.331434</td>\n",
       "      <td>walk</td>\n",
       "      <td>walk/863137003295439_walk_L_2017-07-25 17-39-0...</td>\n",
       "      <td>False</td>\n",
       "    </tr>\n",
       "    <tr>\n",
       "      <th>2</th>\n",
       "      <td>68.463292</td>\n",
       "      <td>807.909511</td>\n",
       "      <td>-517.057892</td>\n",
       "      <td>walk</td>\n",
       "      <td>walk/863137003295439_walk_L_2017-07-25 17-39-0...</td>\n",
       "      <td>False</td>\n",
       "    </tr>\n",
       "    <tr>\n",
       "      <th>3</th>\n",
       "      <td>107.586607</td>\n",
       "      <td>806.152008</td>\n",
       "      <td>-560.345064</td>\n",
       "      <td>walk</td>\n",
       "      <td>walk/863137003295439_walk_L_2017-07-25 17-39-0...</td>\n",
       "      <td>False</td>\n",
       "    </tr>\n",
       "    <tr>\n",
       "      <th>4</th>\n",
       "      <td>133.492367</td>\n",
       "      <td>836.226825</td>\n",
       "      <td>-555.404935</td>\n",
       "      <td>walk</td>\n",
       "      <td>walk/863137003295439_walk_L_2017-07-25 17-39-0...</td>\n",
       "      <td>False</td>\n",
       "    </tr>\n",
       "  </tbody>\n",
       "</table>\n",
       "</div>"
      ],
      "text/plain": [
       "            x           y           z class  \\\n",
       "0   20.000000  781.000000 -507.000000  walk   \n",
       "1   47.149682  801.381706 -493.331434  walk   \n",
       "2   68.463292  807.909511 -517.057892  walk   \n",
       "3  107.586607  806.152008 -560.345064  walk   \n",
       "4  133.492367  836.226825 -555.404935  walk   \n",
       "\n",
       "                                                 seg  suspicious  \n",
       "0  walk/863137003295439_walk_L_2017-07-25 17-39-0...       False  \n",
       "1  walk/863137003295439_walk_L_2017-07-25 17-39-0...       False  \n",
       "2  walk/863137003295439_walk_L_2017-07-25 17-39-0...       False  \n",
       "3  walk/863137003295439_walk_L_2017-07-25 17-39-0...       False  \n",
       "4  walk/863137003295439_walk_L_2017-07-25 17-39-0...       False  "
      ]
     },
     "execution_count": 2,
     "metadata": {},
     "output_type": "execute_result"
    }
   ],
   "source": [
    "df = pd.read_csv('./data/processed_data/all/resample_to_50_per_act/resample_to_50.csv')\n",
    "df.head()"
   ]
  },
  {
   "cell_type": "code",
   "execution_count": 3,
   "metadata": {},
   "outputs": [
    {
     "data": {
      "text/plain": [
       "array([ 'walk/863137003295439_walk_L_2017-07-25 17-39-00_2017-07-25 17-49-00.csv-31-98',\n",
       "       'walk/863137003295439_walk_L_2017-07-25 17-39-00_2017-07-25 17-49-00.csv-112-154',\n",
       "       'walk/863137003295439_walk_L_2017-07-25 17-39-00_2017-07-25 17-49-00.csv-366-407',\n",
       "       ..., 'clean/庆喜/repeat_82-duration_60.csv-1442-1488',\n",
       "       'clean/庆喜/repeat_82-duration_60.csv-1498-1546',\n",
       "       'clean/庆喜/repeat_82-duration_60.csv-1584-1628'], dtype=object)"
      ]
     },
     "execution_count": 3,
     "metadata": {},
     "output_type": "execute_result"
    }
   ],
   "source": [
    "segs = df.seg.unique()\n",
    "segs"
   ]
  },
  {
   "cell_type": "code",
   "execution_count": 4,
   "metadata": {},
   "outputs": [
    {
     "data": {
      "text/plain": [
       "'bweep/大扫帚推地/大扫帚推右手低位第二组/男/863137003291982_2017-06-30 15-05-00_2017-06-30 15-08-20.csv-866-915'"
      ]
     },
     "execution_count": 4,
     "metadata": {},
     "output_type": "execute_result"
    }
   ],
   "source": [
    "seg = segs[200]\n",
    "seg"
   ]
  },
  {
   "cell_type": "code",
   "execution_count": 5,
   "metadata": {},
   "outputs": [
    {
     "data": {
      "text/html": [
       "<div>\n",
       "<style scoped>\n",
       "    .dataframe tbody tr th:only-of-type {\n",
       "        vertical-align: middle;\n",
       "    }\n",
       "\n",
       "    .dataframe tbody tr th {\n",
       "        vertical-align: top;\n",
       "    }\n",
       "\n",
       "    .dataframe thead th {\n",
       "        text-align: right;\n",
       "    }\n",
       "</style>\n",
       "<table border=\"1\" class=\"dataframe\">\n",
       "  <thead>\n",
       "    <tr style=\"text-align: right;\">\n",
       "      <th></th>\n",
       "      <th>x</th>\n",
       "      <th>y</th>\n",
       "      <th>z</th>\n",
       "      <th>class</th>\n",
       "      <th>seg</th>\n",
       "      <th>suspicious</th>\n",
       "    </tr>\n",
       "  </thead>\n",
       "  <tbody>\n",
       "    <tr>\n",
       "      <th>10045</th>\n",
       "      <td>-830.284156</td>\n",
       "      <td>-103.486946</td>\n",
       "      <td>-482.000404</td>\n",
       "      <td>bweep</td>\n",
       "      <td>bweep/大扫帚推地/大扫帚推右手低位第二组/男/863137003291982_2017...</td>\n",
       "      <td>False</td>\n",
       "    </tr>\n",
       "    <tr>\n",
       "      <th>10046</th>\n",
       "      <td>-811.128324</td>\n",
       "      <td>-72.593472</td>\n",
       "      <td>-531.260675</td>\n",
       "      <td>bweep</td>\n",
       "      <td>bweep/大扫帚推地/大扫帚推右手低位第二组/男/863137003291982_2017...</td>\n",
       "      <td>False</td>\n",
       "    </tr>\n",
       "    <tr>\n",
       "      <th>10047</th>\n",
       "      <td>-785.343991</td>\n",
       "      <td>-28.454205</td>\n",
       "      <td>-593.874148</td>\n",
       "      <td>bweep</td>\n",
       "      <td>bweep/大扫帚推地/大扫帚推右手低位第二组/男/863137003291982_2017...</td>\n",
       "      <td>False</td>\n",
       "    </tr>\n",
       "    <tr>\n",
       "      <th>10048</th>\n",
       "      <td>-709.775260</td>\n",
       "      <td>55.378742</td>\n",
       "      <td>-611.738748</td>\n",
       "      <td>bweep</td>\n",
       "      <td>bweep/大扫帚推地/大扫帚推右手低位第二组/男/863137003291982_2017...</td>\n",
       "      <td>False</td>\n",
       "    </tr>\n",
       "    <tr>\n",
       "      <th>10049</th>\n",
       "      <td>-698.330496</td>\n",
       "      <td>71.888822</td>\n",
       "      <td>-591.512995</td>\n",
       "      <td>bweep</td>\n",
       "      <td>bweep/大扫帚推地/大扫帚推右手低位第二组/男/863137003291982_2017...</td>\n",
       "      <td>False</td>\n",
       "    </tr>\n",
       "  </tbody>\n",
       "</table>\n",
       "</div>"
      ],
      "text/plain": [
       "                x           y           z  class  \\\n",
       "10045 -830.284156 -103.486946 -482.000404  bweep   \n",
       "10046 -811.128324  -72.593472 -531.260675  bweep   \n",
       "10047 -785.343991  -28.454205 -593.874148  bweep   \n",
       "10048 -709.775260   55.378742 -611.738748  bweep   \n",
       "10049 -698.330496   71.888822 -591.512995  bweep   \n",
       "\n",
       "                                                     seg  suspicious  \n",
       "10045  bweep/大扫帚推地/大扫帚推右手低位第二组/男/863137003291982_2017...       False  \n",
       "10046  bweep/大扫帚推地/大扫帚推右手低位第二组/男/863137003291982_2017...       False  \n",
       "10047  bweep/大扫帚推地/大扫帚推右手低位第二组/男/863137003291982_2017...       False  \n",
       "10048  bweep/大扫帚推地/大扫帚推右手低位第二组/男/863137003291982_2017...       False  \n",
       "10049  bweep/大扫帚推地/大扫帚推右手低位第二组/男/863137003291982_2017...       False  "
      ]
     },
     "execution_count": 5,
     "metadata": {},
     "output_type": "execute_result"
    }
   ],
   "source": [
    "seg_df = df[df['seg'] ==seg]\n",
    "seg_df.tail()"
   ]
  },
  {
   "cell_type": "code",
   "execution_count": 6,
   "metadata": {},
   "outputs": [
    {
     "data": {
      "text/plain": [
       "numpy.ndarray"
      ]
     },
     "execution_count": 6,
     "metadata": {},
     "output_type": "execute_result"
    },
    {
     "data": {
      "text/plain": [
       "[<matplotlib.lines.Line2D at 0x41cc6b0c50>]"
      ]
     },
     "execution_count": 6,
     "metadata": {},
     "output_type": "execute_result"
    },
    {
     "data": {
      "image/png": "[encoded data removed]",
      "text/plain": [
       "<matplotlib.figure.Figure at 0x41c96b8710>"
      ]
     },
     "metadata": {},
     "output_type": "display_data"
    }
   ],
   "source": [
    "x = seg_df['x'].values\n",
    "y = seg_df['y'].values\n",
    "z = seg_df['z'].values\n",
    "type(x)\n",
    "plt.plot(x)"
   ]
  },
  {
   "cell_type": "code",
   "execution_count": 7,
   "metadata": {},
   "outputs": [
    {
     "data": {
      "text/plain": [
       "[<matplotlib.lines.Line2D at 0x41cc78a828>]"
      ]
     },
     "execution_count": 7,
     "metadata": {},
     "output_type": "execute_result"
    },
    {
     "data": {
      "image/png": "[encoded data removed]",
      "text/plain": [
       "<matplotlib.figure.Figure at 0x41cc672748>"
      ]
     },
     "metadata": {},
     "output_type": "display_data"
    }
   ],
   "source": [
    "fft_size = len(x)\n",
    "plt.plot(signal.hann(fft_size, sym=0))"
   ]
  },
  {
   "cell_type": "code",
   "execution_count": 8,
   "metadata": {},
   "outputs": [
    {
     "data": {
      "text/plain": [
       "[<matplotlib.lines.Line2D at 0x41cc86d908>]"
      ]
     },
     "execution_count": 8,
     "metadata": {},
     "output_type": "execute_result"
    },
    {
     "data": {
      "image/png": "[encoded data removed]",
      "text/plain": [
       "<matplotlib.figure.Figure at 0x41cc755668>"
      ]
     },
     "metadata": {},
     "output_type": "display_data"
    }
   ],
   "source": [
    "tmp = x * signal.hann(fft_size, sym=0) * 2\n",
    "plt.plot(tmp)"
   ]
  },
  {
   "cell_type": "code",
   "execution_count": 9,
   "metadata": {},
   "outputs": [
    {
     "name": "stdout",
     "output_type": "stream",
     "text": [
      "Wall time: 101 ms\n"
     ]
    },
    {
     "data": {
      "image/png": "[encoded data removed]",
      "text/plain": [
       "<matplotlib.figure.Figure at 0x41cc749278>"
      ]
     },
     "metadata": {},
     "output_type": "display_data"
    }
   ],
   "source": [
    "%%time\n",
    "fft_size = len(x)\n",
    "\n",
    "xf = np.fft.rfft(x * signal.hann(fft_size, sym=0) * 2)/fft_size\n",
    "yf = np.fft.rfft(y * signal.hann(fft_size, sym=0) * 2)/fft_size\n",
    "zf = np.fft.rfft(z * signal.hann(fft_size, sym=0) * 2)/fft_size\n",
    "xfp = np.abs(xf)\n",
    "yfp = np.abs(yf)\n",
    "zfp = np.abs(zf)\n",
    "len(xfp)\n",
    "xfp\n",
    "yfp\n",
    "zfp\n",
    "plt.plot(xfp)\n",
    "plt.plot(yfp)\n",
    "plt.plot(zfp)"
   ]
  },
  {
   "cell_type": "code",
   "execution_count": 10,
   "metadata": {},
   "outputs": [
    {
     "data": {
      "text/plain": [
       "array([  7.57523035e+02,   4.95653060e+01,   6.70304783e+02,\n",
       "         2.53841544e+01,   1.72137250e+01,   2.71854537e+01,\n",
       "         4.06756795e+03,   5.80698098e+02,   4.71631525e+03,\n",
       "         6.37774878e+01,   2.40976783e+01,   6.86754341e+01,\n",
       "         4.16248236e+00,   2.00394222e+00,   4.44593062e+00,\n",
       "         1.65682755e+01,   3.51604140e+00,   1.85395635e+01,\n",
       "         2.70482285e+00,   4.25277029e+00,   3.44136985e+00,\n",
       "         1.92737618e+01,   2.23210666e+01,   2.45686802e+01,\n",
       "         4.39018927e+00,   4.72451760e+00,   4.95668036e+00,\n",
       "         1.81331920e+02,   1.74835373e+02,   2.02775108e+02,\n",
       "         2.99895149e+03,   2.82197045e+03,   3.50339326e+03])"
      ]
     },
     "execution_count": 10,
     "metadata": {},
     "output_type": "execute_result"
    }
   ],
   "source": [
    "features = feature_extraction_freq(xfp,yfp,zfp)\n",
    "features"
   ]
  },
  {
   "cell_type": "code",
   "execution_count": null,
   "metadata": {},
   "outputs": [],
   "source": []
  }
 ],
 "metadata": {
  "kernelspec": {
   "display_name": "Python 3",
   "language": "python",
   "name": "python3"
  },
  "language_info": {
   "codemirror_mode": {
    "name": "ipython",
    "version": 3
   },
   "file_extension": ".py",
   "mimetype": "text/x-python",
   "name": "python",
   "nbconvert_exporter": "python",
   "pygments_lexer": "ipython3",
   "version": "3.6.1"
  },
  "toc": {
   "nav_menu": {},
   "number_sections": true,
   "sideBar": true,
   "skip_h1_title": false,
   "toc_cell": false,
   "toc_position": {},
   "toc_section_display": "block",
   "toc_window_display": false
  },
  "varInspector": {
   "cols": {
    "lenName": 16,
    "lenType": 16,
    "lenVar": 40
   },
   "kernels_config": {
    "python": {
     "delete_cmd_postfix": "",
     "delete_cmd_prefix": "del ",
     "library": "var_list.py",
     "varRefreshCmd": "print(var_dic_list())"
    },
    "r": {
     "delete_cmd_postfix": ") ",
     "delete_cmd_prefix": "rm(",
     "library": "var_list.r",
     "varRefreshCmd": "cat(var_dic_list()) "
    }
   },
   "types_to_exclude": [
    "module",
    "function",
    "builtin_function_or_method",
    "instance",
    "_Feature"
   ],
   "window_display": false
  }
 },
 "nbformat": 4,
 "nbformat_minor": 2
}

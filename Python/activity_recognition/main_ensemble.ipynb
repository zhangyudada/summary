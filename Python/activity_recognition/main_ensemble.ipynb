{
 "cells": [
  {
   "cell_type": "markdown",
   "metadata": {},
   "source": [
    "## Data loading"
   ]
  },
  {
   "cell_type": "code",
   "execution_count": 1,
   "metadata": {
    "ExecuteTime": {
     "end_time": "2017-12-04T07:21:46.052302Z",
     "start_time": "2017-12-04T07:21:46.023281Z"
    }
   },
   "outputs": [],
   "source": [
    "%matplotlib inline\n",
    "import matplotlib.pyplot as plt\n",
    "from matplotlib.pyplot import rcParams\n",
    "rcParams['figure.figsize'] = 12,6\n",
    "\n",
    "import pandas as pd\n",
    "import numpy as np\n",
    "\n",
    "import xgboost as xgb\n",
    "from xgboost.sklearn import XGBClassifier\n",
    "\n",
    "from sklearn.model_selection import StratifiedShuffleSplit\n",
    "from sklearn.model_selection import cross_val_score\n",
    "from sklearn.model_selection import train_test_split\n",
    "from sklearn.model_selection import GridSearchCV\n",
    "\n",
    "from sklearn.ensemble import RandomForestClassifier\n",
    "from sklearn.ensemble import GradientBoostingClassifier\n",
    "\n",
    "from sklearn.metrics import classification_report\n",
    "from sklearn.metrics import f1_score\n",
    "from sklearn.metrics import accuracy_score"
   ]
  },
  {
   "cell_type": "code",
   "execution_count": 2,
   "metadata": {},
   "outputs": [],
   "source": [
    "def modelfit(alg, X, y, cv=5):\n",
    "    scores = cross_val_score(alg, X, y, cv=cv)\n",
    "    \n",
    "    X_train, X_test, y_train, y_test = \\\n",
    "            train_test_split(X, y, test_size=0.2, random_state=0)\n",
    "\n",
    "    #Fit the algorithm on the data\n",
    "    alg.fit(X_train, y_train)\n",
    "\n",
    "    #Predict training set:\n",
    "    train_predictions = alg.predict(X_train)\n",
    "    \n",
    "    #Predict test set:\n",
    "    test_predictions = alg.predict(X_test)\n",
    "\n",
    "    #Print model report:\n",
    "    print('\\nModel Report')\n",
    "    print('Training Accuracy : %.8g' % accuracy_score(y_train, train_predictions))\n",
    "    print('Testing  Accuracy : %.8g' % accuracy_score(y_test, test_predictions))\n",
    "    print('Cross  val  score : %.8g' % scores.mean())\n",
    "\n",
    "#     xgb.plot_importance(alg,max_num_features=20)\n",
    "    "
   ]
  },
  {
   "cell_type": "code",
   "execution_count": 3,
   "metadata": {},
   "outputs": [
    {
     "name": "stdout",
     "output_type": "stream",
     "text": [
      "CPU times: user 108 ms, sys: 4 ms, total: 112 ms\n",
      "Wall time: 113 ms\n"
     ]
    }
   ],
   "source": [
    "%%time\n",
    "df = pd.read_csv('./data/processed_data/all/resample_to_50_per_act/SVM/SVM_w50.csv')\n",
    "df_data = np.array(df.drop('label',axis=1))\n",
    "df_labels = df['label']"
   ]
  },
  {
   "cell_type": "markdown",
   "metadata": {},
   "source": [
    "## XGBoost"
   ]
  },
  {
   "cell_type": "code",
   "execution_count": 4,
   "metadata": {},
   "outputs": [],
   "source": [
    "# labels = df_labels.unique()\n",
    "# # xgboost要求数据的标签不能为字符串，则替换为int编号\n",
    "# label_index = 0\n",
    "# for label in labels:\n",
    "#     df_labels = df_labels.replace(label, label_index)\n",
    "#     label_index += 1\n",
    "# df_labels.unique()"
   ]
  },
  {
   "cell_type": "markdown",
   "metadata": {},
   "source": [
    "### 调参"
   ]
  },
  {
   "cell_type": "markdown",
   "metadata": {},
   "source": [
    "这里的调参参看的是余音大神的[GitHub分享](https://github.com/lytforgood/MachineLearningTrick/blob/master/xgboost%E8%B0%83%E5%8F%82%E6%BC%94%E7%A4%BA.md)and [机器学习系列(12)_XGBoost参数调优完全指南（附Python代码）](http://blog.csdn.net/han_xiaoyang/article/details/52665396)。"
   ]
  },
  {
   "cell_type": "markdown",
   "metadata": {},
   "source": [
    "#### 默认Xgboost参数"
   ]
  },
  {
   "cell_type": "code",
   "execution_count": 5,
   "metadata": {
    "scrolled": true
   },
   "outputs": [
    {
     "name": "stdout",
     "output_type": "stream",
     "text": [
      "\n",
      "Model Report\n",
      "Training Accuracy : 0.95298507\n",
      "Testing  Accuracy : 0.89860835\n",
      "Cross  val  score : 0.89403579\n",
      "CPU times: user 44.6 s, sys: 0 ns, total: 44.6 s\n",
      "Wall time: 44.6 s\n"
     ]
    }
   ],
   "source": [
    "%%time\n",
    "xgb0 = XGBClassifier()\n",
    "cv0 = StratifiedShuffleSplit(n_splits=5, test_size=0.2, random_state=0)\n",
    "modelfit(xgb0, df_data, df_labels, cv0)"
   ]
  },
  {
   "cell_type": "markdown",
   "metadata": {},
   "source": [
    "#### 第一步：确定学习速率和tree_based 参数调优的估计器数目"
   ]
  },
  {
   "cell_type": "code",
   "execution_count": 6,
   "metadata": {},
   "outputs": [
    {
     "name": "stdout",
     "output_type": "stream",
     "text": [
      "CPU times: user 44.7 s, sys: 64 ms, total: 44.8 s\n",
      "Wall time: 5min 44s\n"
     ]
    }
   ],
   "source": [
    "%%time\n",
    "param_test1 = {'n_estimators':[100,200,500,1000,1500]}\n",
    "est1 = XGBClassifier(\n",
    "    learning_rate =0.1,\n",
    "    n_estimators=100,\n",
    "    max_depth=5,\n",
    "    min_child_weight=1,\n",
    "    gamma=0,\n",
    "    subsample=0.8,\n",
    "    colsample_bytree=0.8,\n",
    "    objective= 'reg:linear',\n",
    "    scale_pos_weight=1,\n",
    "    seed=27)\n",
    "cv1 = StratifiedShuffleSplit(n_splits=5, test_size=0.2, random_state=0)\n",
    "gsearch1 = GridSearchCV(est1, param_grid=param_test1, n_jobs=4, iid=False, cv=cv1)\n",
    "gsearch1.fit(df_data, df_labels)"
   ]
  },
  {
   "cell_type": "code",
   "execution_count": 7,
   "metadata": {},
   "outputs": [
    {
     "data": {
      "text/plain": [
       "{'n_estimators': 500}"
      ]
     },
     "execution_count": 7,
     "metadata": {},
     "output_type": "execute_result"
    }
   ],
   "source": [
    "gsearch1.best_params_"
   ]
  },
  {
   "cell_type": "code",
   "execution_count": 8,
   "metadata": {},
   "outputs": [
    {
     "data": {
      "text/plain": [
       "0.92743538767395628"
      ]
     },
     "execution_count": 8,
     "metadata": {},
     "output_type": "execute_result"
    }
   ],
   "source": [
    "gsearch1.best_score_"
   ]
  },
  {
   "cell_type": "code",
   "execution_count": 9,
   "metadata": {},
   "outputs": [
    {
     "name": "stdout",
     "output_type": "stream",
     "text": [
      "CPU times: user 49.9 s, sys: 64 ms, total: 50 s\n",
      "Wall time: 3min 28s\n"
     ]
    }
   ],
   "source": [
    "%%time\n",
    "param_test1_2 = {'n_estimators':[400,500,600]}\n",
    "gsearch1_2 = GridSearchCV(est1, param_grid=param_test1_2, n_jobs=4, iid=False, cv=cv1)\n",
    "gsearch1_2.fit(df_data, df_labels)"
   ]
  },
  {
   "cell_type": "code",
   "execution_count": 10,
   "metadata": {},
   "outputs": [
    {
     "data": {
      "text/plain": [
       "{'n_estimators': 600}"
      ]
     },
     "execution_count": 10,
     "metadata": {},
     "output_type": "execute_result"
    }
   ],
   "source": [
    "gsearch1_2.best_params_"
   ]
  },
  {
   "cell_type": "code",
   "execution_count": 11,
   "metadata": {},
   "outputs": [
    {
     "data": {
      "text/plain": [
       "0.92823061630218684"
      ]
     },
     "execution_count": 11,
     "metadata": {},
     "output_type": "execute_result"
    }
   ],
   "source": [
    "gsearch1_2.best_score_"
   ]
  },
  {
   "cell_type": "code",
   "execution_count": 13,
   "metadata": {},
   "outputs": [
    {
     "name": "stdout",
     "output_type": "stream",
     "text": [
      "CPU times: user 49.9 s, sys: 72 ms, total: 50 s\n",
      "Wall time: 5min 10s\n"
     ]
    }
   ],
   "source": [
    "%%time\n",
    "param_test1_3 = {'n_estimators':[600,700,800,900]}\n",
    "gsearch1_3 = GridSearchCV(est1, param_grid=param_test1_3, n_jobs=4, iid=False, cv=cv1)\n",
    "gsearch1_3.fit(df_data, df_labels)"
   ]
  },
  {
   "cell_type": "code",
   "execution_count": 14,
   "metadata": {},
   "outputs": [
    {
     "data": {
      "text/plain": [
       "{'n_estimators': 600}"
      ]
     },
     "execution_count": 14,
     "metadata": {},
     "output_type": "execute_result"
    }
   ],
   "source": [
    "gsearch1_3.best_params_"
   ]
  },
  {
   "cell_type": "code",
   "execution_count": 15,
   "metadata": {},
   "outputs": [
    {
     "data": {
      "text/plain": [
       "0.92823061630218684"
      ]
     },
     "execution_count": 15,
     "metadata": {},
     "output_type": "execute_result"
    }
   ],
   "source": [
    "gsearch1_3.best_score_"
   ]
  },
  {
   "cell_type": "code",
   "execution_count": 16,
   "metadata": {},
   "outputs": [
    {
     "name": "stdout",
     "output_type": "stream",
     "text": [
      "CPU times: user 48.8 s, sys: 84 ms, total: 48.9 s\n",
      "Wall time: 3min 44s\n"
     ]
    }
   ],
   "source": [
    "%%time\n",
    "param_test1_4 = {'n_estimators':[550,600,650]}\n",
    "gsearch1_4 = GridSearchCV(est1, param_grid=param_test1_4, n_jobs=4, iid=False, cv=cv1)\n",
    "gsearch1_4.fit(df_data, df_labels)"
   ]
  },
  {
   "cell_type": "code",
   "execution_count": 17,
   "metadata": {},
   "outputs": [
    {
     "data": {
      "text/plain": [
       "{'n_estimators': 600}"
      ]
     },
     "execution_count": 17,
     "metadata": {},
     "output_type": "execute_result"
    }
   ],
   "source": [
    "gsearch1_4.best_params_"
   ]
  },
  {
   "cell_type": "code",
   "execution_count": 18,
   "metadata": {},
   "outputs": [
    {
     "data": {
      "text/plain": [
       "0.92823061630218684"
      ]
     },
     "execution_count": 18,
     "metadata": {},
     "output_type": "execute_result"
    }
   ],
   "source": [
    "gsearch1_4.best_score_"
   ]
  },
  {
   "cell_type": "code",
   "execution_count": 19,
   "metadata": {},
   "outputs": [
    {
     "name": "stdout",
     "output_type": "stream",
     "text": [
      "CPU times: user 48.7 s, sys: 72 ms, total: 48.8 s\n",
      "Wall time: 3min 41s\n"
     ]
    }
   ],
   "source": [
    "%%time\n",
    "param_test1_5 = {'n_estimators':[580,600,620]}\n",
    "gsearch1_5 = GridSearchCV(est1, param_grid=param_test1_5, n_jobs=4, iid=False, cv=cv1)\n",
    "gsearch1_5.fit(df_data, df_labels)"
   ]
  },
  {
   "cell_type": "code",
   "execution_count": 20,
   "metadata": {},
   "outputs": [
    {
     "data": {
      "text/plain": [
       "{'n_estimators': 600}"
      ]
     },
     "execution_count": 20,
     "metadata": {},
     "output_type": "execute_result"
    }
   ],
   "source": [
    "gsearch1_5.best_params_"
   ]
  },
  {
   "cell_type": "code",
   "execution_count": 21,
   "metadata": {},
   "outputs": [
    {
     "data": {
      "text/plain": [
       "0.92823061630218684"
      ]
     },
     "execution_count": 21,
     "metadata": {},
     "output_type": "execute_result"
    }
   ],
   "source": [
    "gsearch1_5.best_score_"
   ]
  },
  {
   "cell_type": "code",
   "execution_count": 22,
   "metadata": {},
   "outputs": [
    {
     "name": "stdout",
     "output_type": "stream",
     "text": [
      "CPU times: user 49.5 s, sys: 104 ms, total: 49.6 s\n",
      "Wall time: 3min 40s\n"
     ]
    }
   ],
   "source": [
    "%%time\n",
    "param_test1_6 = {'n_estimators':[590,600,610]}\n",
    "gsearch1_6 = GridSearchCV(est1, param_grid=param_test1_6, n_jobs=4, iid=False, cv=cv1)\n",
    "gsearch1_6.fit(df_data, df_labels)"
   ]
  },
  {
   "cell_type": "code",
   "execution_count": 23,
   "metadata": {},
   "outputs": [
    {
     "data": {
      "text/plain": [
       "{'n_estimators': 600}"
      ]
     },
     "execution_count": 23,
     "metadata": {},
     "output_type": "execute_result"
    }
   ],
   "source": [
    "gsearch1_6.best_params_"
   ]
  },
  {
   "cell_type": "code",
   "execution_count": 24,
   "metadata": {},
   "outputs": [
    {
     "data": {
      "text/plain": [
       "0.92823061630218684"
      ]
     },
     "execution_count": 24,
     "metadata": {},
     "output_type": "execute_result"
    }
   ],
   "source": [
    "gsearch1_6.best_score_"
   ]
  },
  {
   "cell_type": "markdown",
   "metadata": {},
   "source": [
    "#### 第二步： max_depth 和 min_weight 参数调优"
   ]
  },
  {
   "cell_type": "code",
   "execution_count": 25,
   "metadata": {},
   "outputs": [
    {
     "name": "stdout",
     "output_type": "stream",
     "text": [
      "CPU times: user 55.5 s, sys: 136 ms, total: 55.7 s\n",
      "Wall time: 12min 3s\n"
     ]
    }
   ],
   "source": [
    "%%time\n",
    "param_test2 = {\n",
    "    'max_depth':range(3,10,2),\n",
    "    'min_child_weight':range(1,6,2)\n",
    "}\n",
    "est2 = XGBClassifier(\n",
    "    learning_rate =0.1,\n",
    "    n_estimators=600,\n",
    "    max_depth=5,\n",
    "    min_child_weight=1,\n",
    "    gamma=0,\n",
    "    subsample=0.8,\n",
    "    colsample_bytree=0.8,\n",
    "    objective= 'reg:linear',\n",
    "    scale_pos_weight=1,\n",
    "    seed=27)\n",
    "cv2 = StratifiedShuffleSplit(n_splits=5, test_size=0.2, random_state=0)\n",
    "gsearch2 = GridSearchCV(est2, param_grid=param_test2, n_jobs=4, iid=False, cv=cv2)\n",
    "gsearch2.fit(df_data, df_labels)"
   ]
  },
  {
   "cell_type": "code",
   "execution_count": 26,
   "metadata": {},
   "outputs": [
    {
     "data": {
      "text/plain": [
       "{'max_depth': 5, 'min_child_weight': 1}"
      ]
     },
     "execution_count": 26,
     "metadata": {},
     "output_type": "execute_result"
    }
   ],
   "source": [
    "gsearch2.best_params_"
   ]
  },
  {
   "cell_type": "code",
   "execution_count": 27,
   "metadata": {},
   "outputs": [
    {
     "data": {
      "text/plain": [
       "0.92823061630218684"
      ]
     },
     "execution_count": 27,
     "metadata": {},
     "output_type": "execute_result"
    }
   ],
   "source": [
    "gsearch2.best_score_"
   ]
  },
  {
   "cell_type": "code",
   "execution_count": 28,
   "metadata": {},
   "outputs": [
    {
     "name": "stdout",
     "output_type": "stream",
     "text": [
      "CPU times: user 49.9 s, sys: 104 ms, total: 50 s\n",
      "Wall time: 3min 42s\n"
     ]
    }
   ],
   "source": [
    "%%time\n",
    "param_test2_2 = {\n",
    "    'max_depth':[4,5,6]\n",
    "}\n",
    "gsearch2_2= GridSearchCV(est2, param_grid=param_test2_2, n_jobs=4, iid=False, cv=cv2)\n",
    "gsearch2_2.fit(df_data, df_labels)"
   ]
  },
  {
   "cell_type": "code",
   "execution_count": 29,
   "metadata": {},
   "outputs": [
    {
     "data": {
      "text/plain": [
       "{'max_depth': 5}"
      ]
     },
     "execution_count": 29,
     "metadata": {},
     "output_type": "execute_result"
    }
   ],
   "source": [
    "gsearch2_2.best_params_"
   ]
  },
  {
   "cell_type": "code",
   "execution_count": 30,
   "metadata": {},
   "outputs": [
    {
     "data": {
      "text/plain": [
       "0.92823061630218684"
      ]
     },
     "execution_count": 30,
     "metadata": {},
     "output_type": "execute_result"
    }
   ],
   "source": [
    "gsearch2_2.best_score_"
   ]
  },
  {
   "cell_type": "markdown",
   "metadata": {},
   "source": [
    "#### 第三步：gamma参数调优"
   ]
  },
  {
   "cell_type": "code",
   "execution_count": 31,
   "metadata": {},
   "outputs": [
    {
     "name": "stdout",
     "output_type": "stream",
     "text": [
      "CPU times: user 49.3 s, sys: 168 ms, total: 49.5 s\n",
      "Wall time: 8min 34s\n"
     ]
    }
   ],
   "source": [
    "%%time\n",
    "param_test3 = {\n",
    "    'gamma':[i/10.0 for i in range(0,7)]\n",
    "}\n",
    "est3 = XGBClassifier(\n",
    "    learning_rate =0.1,\n",
    "    n_estimators=600,\n",
    "    max_depth=5,\n",
    "    min_child_weight=1,\n",
    "    gamma=0,\n",
    "    subsample=0.8,\n",
    "    colsample_bytree=0.8,\n",
    "    objective= 'reg:linear',\n",
    "    scale_pos_weight=1,\n",
    "    seed=27)\n",
    "cv3 = StratifiedShuffleSplit(n_splits=5, test_size=0.2, random_state=0)\n",
    "gsearch3 = GridSearchCV(est3, param_grid=param_test3, n_jobs=4, iid=False, cv=cv3)\n",
    "gsearch3.fit(df_data, df_labels)"
   ]
  },
  {
   "cell_type": "code",
   "execution_count": 32,
   "metadata": {},
   "outputs": [
    {
     "data": {
      "text/plain": [
       "{'gamma': 0.0}"
      ]
     },
     "execution_count": 32,
     "metadata": {},
     "output_type": "execute_result"
    }
   ],
   "source": [
    "gsearch3.best_params_"
   ]
  },
  {
   "cell_type": "code",
   "execution_count": 33,
   "metadata": {},
   "outputs": [
    {
     "data": {
      "text/plain": [
       "0.92823061630218684"
      ]
     },
     "execution_count": 33,
     "metadata": {},
     "output_type": "execute_result"
    }
   ],
   "source": [
    "gsearch3.best_score_"
   ]
  },
  {
   "cell_type": "markdown",
   "metadata": {},
   "source": [
    "#### 第四步：调整subsample 和 colsample_bytree 参数"
   ]
  },
  {
   "cell_type": "code",
   "execution_count": 34,
   "metadata": {},
   "outputs": [
    {
     "name": "stdout",
     "output_type": "stream",
     "text": [
      "CPU times: user 50.2 s, sys: 240 ms, total: 50.4 s\n",
      "Wall time: 14min 38s\n"
     ]
    }
   ],
   "source": [
    "%%time\n",
    "param_test4 = {\n",
    "    'subsample':[i/10.0 for i in range(6,10)],\n",
    "    'colsample_bytree':[i/10.0 for i in range(6,10)]\n",
    "}\n",
    "est4 = XGBClassifier(\n",
    "    learning_rate =0.1,\n",
    "    n_estimators=600,\n",
    "    max_depth=5,\n",
    "    min_child_weight=1,\n",
    "    gamma=0,\n",
    "    subsample=0.8,\n",
    "    colsample_bytree=0.8,\n",
    "    objective= 'reg:linear',\n",
    "    scale_pos_weight=1,\n",
    "    seed=27)\n",
    "cv4 = StratifiedShuffleSplit(n_splits=5, test_size=0.2, random_state=0)\n",
    "gsearch4 = GridSearchCV(est4, param_grid=param_test4, n_jobs=4, iid=False, cv=cv4)\n",
    "gsearch4.fit(df_data, df_labels)"
   ]
  },
  {
   "cell_type": "code",
   "execution_count": 35,
   "metadata": {},
   "outputs": [
    {
     "data": {
      "text/plain": [
       "{'colsample_bytree': 0.8, 'subsample': 0.6}"
      ]
     },
     "execution_count": 35,
     "metadata": {},
     "output_type": "execute_result"
    }
   ],
   "source": [
    "gsearch4.best_params_"
   ]
  },
  {
   "cell_type": "code",
   "execution_count": 36,
   "metadata": {},
   "outputs": [
    {
     "data": {
      "text/plain": [
       "0.92842942345924462"
      ]
     },
     "execution_count": 36,
     "metadata": {},
     "output_type": "execute_result"
    }
   ],
   "source": [
    "gsearch4.best_score_"
   ]
  },
  {
   "cell_type": "code",
   "execution_count": 37,
   "metadata": {},
   "outputs": [
    {
     "name": "stdout",
     "output_type": "stream",
     "text": [
      "CPU times: user 48.2 s, sys: 176 ms, total: 48.4 s\n",
      "Wall time: 9min 12s\n"
     ]
    }
   ],
   "source": [
    "%%time\n",
    "param_test4_2 = {\n",
    "    'subsample':[0.55, 0.6, 0.65],\n",
    "    'colsample_bytree':[0.75, 0.8, 0.85]\n",
    "}\n",
    "gsearch4_2 = GridSearchCV(est4, param_grid=param_test4_2, n_jobs=4, iid=False, cv=cv4)\n",
    "gsearch4_2.fit(df_data, df_labels)"
   ]
  },
  {
   "cell_type": "code",
   "execution_count": 38,
   "metadata": {},
   "outputs": [
    {
     "data": {
      "text/plain": [
       "{'colsample_bytree': 0.8, 'subsample': 0.6}"
      ]
     },
     "execution_count": 38,
     "metadata": {},
     "output_type": "execute_result"
    }
   ],
   "source": [
    "gsearch4_2.best_params_"
   ]
  },
  {
   "cell_type": "code",
   "execution_count": 39,
   "metadata": {},
   "outputs": [
    {
     "data": {
      "text/plain": [
       "0.92842942345924462"
      ]
     },
     "execution_count": 39,
     "metadata": {},
     "output_type": "execute_result"
    }
   ],
   "source": [
    "gsearch4_2.best_score_"
   ]
  },
  {
   "cell_type": "markdown",
   "metadata": {},
   "source": [
    "#### 第五步：正则化参数调优"
   ]
  },
  {
   "cell_type": "code",
   "execution_count": 40,
   "metadata": {},
   "outputs": [
    {
     "name": "stdout",
     "output_type": "stream",
     "text": [
      "CPU times: user 51.2 s, sys: 132 ms, total: 51.3 s\n",
      "Wall time: 5min 19s\n"
     ]
    }
   ],
   "source": [
    "%%time\n",
    "param_test5 = {\n",
    "    'reg_alpha':[1e-5, 1e-2, 0.1, 1, 100]\n",
    "}\n",
    "est5 = XGBClassifier(\n",
    "    learning_rate =0.1,\n",
    "    n_estimators=600,\n",
    "    max_depth=5,\n",
    "    min_child_weight=1,\n",
    "    gamma=0,\n",
    "    subsample=0.6,\n",
    "    colsample_bytree=0.8,\n",
    "    objective= 'reg:linear',\n",
    "    scale_pos_weight=1,\n",
    "    seed=27)\n",
    "cv5 = StratifiedShuffleSplit(n_splits=5, test_size=0.2, random_state=0)\n",
    "gsearch5 = GridSearchCV(est5, param_grid=param_test5, n_jobs=4, iid=False, cv=cv5)\n",
    "gsearch5.fit(df_data, df_labels)"
   ]
  },
  {
   "cell_type": "code",
   "execution_count": 41,
   "metadata": {},
   "outputs": [
    {
     "data": {
      "text/plain": [
       "{'reg_alpha': 1e-05}"
      ]
     },
     "execution_count": 41,
     "metadata": {},
     "output_type": "execute_result"
    }
   ],
   "source": [
    "gsearch5.best_params_"
   ]
  },
  {
   "cell_type": "code",
   "execution_count": 42,
   "metadata": {},
   "outputs": [
    {
     "data": {
      "text/plain": [
       "0.92644135188866783"
      ]
     },
     "execution_count": 42,
     "metadata": {},
     "output_type": "execute_result"
    }
   ],
   "source": [
    "gsearch5.best_score_"
   ]
  },
  {
   "cell_type": "code",
   "execution_count": 43,
   "metadata": {},
   "outputs": [
    {
     "name": "stdout",
     "output_type": "stream",
     "text": [
      "CPU times: user 58.2 s, sys: 120 ms, total: 58.3 s\n",
      "Wall time: 2min 40s\n"
     ]
    }
   ],
   "source": [
    "%%time\n",
    "param_test5_1 = {\n",
    "    'reg_alpha':[0, 0.001, 0.005, 0.01, 0.05]\n",
    "}\n",
    "est5_1 = XGBClassifier(\n",
    "    learning_rate =0.1,\n",
    "    n_estimators=600,\n",
    "    max_depth=5,\n",
    "    min_child_weight=1,\n",
    "    gamma=0,\n",
    "    subsample=0.6,\n",
    "    colsample_bytree=0.8,\n",
    "    objective= 'reg:linear',\n",
    "    nthread=4,\n",
    "    scale_pos_weight=1,\n",
    "    seed=27)\n",
    "gsearch5_1 = GridSearchCV(est5_1, param_grid=param_test5_1, n_jobs=4, iid=False, cv=cv5)\n",
    "gsearch5_1.fit(df_data, df_labels)"
   ]
  },
  {
   "cell_type": "code",
   "execution_count": 44,
   "metadata": {},
   "outputs": [
    {
     "data": {
      "text/plain": [
       "{'reg_alpha': 0}"
      ]
     },
     "execution_count": 44,
     "metadata": {},
     "output_type": "execute_result"
    }
   ],
   "source": [
    "gsearch5_1.best_params_"
   ]
  },
  {
   "cell_type": "code",
   "execution_count": 45,
   "metadata": {},
   "outputs": [
    {
     "data": {
      "text/plain": [
       "0.92842942345924462"
      ]
     },
     "execution_count": 45,
     "metadata": {},
     "output_type": "execute_result"
    }
   ],
   "source": [
    "gsearch5_1.best_score_"
   ]
  },
  {
   "cell_type": "markdown",
   "metadata": {},
   "source": [
    "#### 第六步：进一步 降低学习速率 增加更多的树"
   ]
  },
  {
   "cell_type": "code",
   "execution_count": 4,
   "metadata": {},
   "outputs": [
    {
     "name": "stdout",
     "output_type": "stream",
     "text": [
      "CPU times: user 58.4 s, sys: 52 ms, total: 58.4 s\n",
      "Wall time: 1min 47s\n"
     ]
    }
   ],
   "source": [
    "%%time\n",
    "param_test6 = {\n",
    "    'learning_rate':[0.01, 0.1, 0.3]\n",
    "}\n",
    "est6 = XGBClassifier(\n",
    "    learning_rate =0.1,\n",
    "    n_estimators=600,\n",
    "    max_depth=5,\n",
    "    min_child_weight=1,\n",
    "    gamma=0,\n",
    "    subsample=0.6,\n",
    "    colsample_bytree=0.8,\n",
    "    objective= 'reg:linear',\n",
    "    nthread=4,\n",
    "    scale_pos_weight=1,\n",
    "    reg_alpha=0,\n",
    "    reg_lambda=1,\n",
    "    seed=27)\n",
    "cv6 = StratifiedShuffleSplit(n_splits=5, test_size=0.2, random_state=0)\n",
    "gsearch6 = GridSearchCV(est6, param_grid=param_test6, n_jobs=4, iid=False, cv=cv6)\n",
    "gsearch6.fit(df_data, df_labels)"
   ]
  },
  {
   "cell_type": "code",
   "execution_count": 5,
   "metadata": {},
   "outputs": [
    {
     "data": {
      "text/plain": [
       "{'learning_rate': 0.1}"
      ]
     },
     "execution_count": 5,
     "metadata": {},
     "output_type": "execute_result"
    }
   ],
   "source": [
    "gsearch6.best_params_"
   ]
  },
  {
   "cell_type": "code",
   "execution_count": 6,
   "metadata": {},
   "outputs": [
    {
     "data": {
      "text/plain": [
       "0.92842942345924462"
      ]
     },
     "execution_count": 6,
     "metadata": {},
     "output_type": "execute_result"
    }
   ],
   "source": [
    "gsearch6.best_score_"
   ]
  },
  {
   "cell_type": "code",
   "execution_count": 4,
   "metadata": {},
   "outputs": [
    {
     "name": "stdout",
     "output_type": "stream",
     "text": [
      "CPU times: user 1min, sys: 56 ms, total: 1min\n",
      "Wall time: 3min 24s\n"
     ]
    }
   ],
   "source": [
    "%%time\n",
    "param_test6_1 = {\n",
    "    'n_estimators':[600, 800, 1000, 1500]\n",
    "}\n",
    "est6_1 = XGBClassifier(\n",
    "    learning_rate =0.1,\n",
    "    n_estimators=600,\n",
    "    max_depth=5,\n",
    "    min_child_weight=1,\n",
    "    gamma=0,\n",
    "    subsample=0.6,\n",
    "    colsample_bytree=0.8,\n",
    "    objective= 'reg:linear',\n",
    "    nthread=4,\n",
    "    scale_pos_weight=1,\n",
    "    reg_alpha=0,\n",
    "    reg_lambda=1,\n",
    "    seed=27)\n",
    "cv6 = StratifiedShuffleSplit(n_splits=5, test_size=0.2, random_state=0)\n",
    "gsearch6_1 = GridSearchCV(est6_1, param_grid=param_test6_1, n_jobs=4, iid=False, cv=cv6)\n",
    "gsearch6_1.fit(df_data, df_labels)"
   ]
  },
  {
   "cell_type": "code",
   "execution_count": 5,
   "metadata": {},
   "outputs": [
    {
     "data": {
      "text/plain": [
       "{'n_estimators': 600}"
      ]
     },
     "execution_count": 5,
     "metadata": {},
     "output_type": "execute_result"
    }
   ],
   "source": [
    "gsearch6_1.best_params_"
   ]
  },
  {
   "cell_type": "code",
   "execution_count": 6,
   "metadata": {},
   "outputs": [
    {
     "data": {
      "text/plain": [
       "0.92842942345924462"
      ]
     },
     "execution_count": 6,
     "metadata": {},
     "output_type": "execute_result"
    }
   ],
   "source": [
    "gsearch6_1.best_score_"
   ]
  },
  {
   "cell_type": "markdown",
   "metadata": {},
   "source": [
    "### 调参后交叉验证查看最终效果"
   ]
  },
  {
   "cell_type": "code",
   "execution_count": 6,
   "metadata": {},
   "outputs": [
    {
     "name": "stdout",
     "output_type": "stream",
     "text": [
      "\n",
      "Model Report\n",
      "Training Accuracy : 1\n",
      "Testing  Accuracy : 0.92942346\n",
      "Cross  val  score : 0.92842942\n",
      "CPU times: user 4min 37s, sys: 160 ms, total: 4min 37s\n",
      "Wall time: 1min 9s\n"
     ]
    }
   ],
   "source": [
    "%%time\n",
    "cv = StratifiedShuffleSplit(n_splits=5, test_size=0.2, random_state=0)\n",
    "xgb = XGBClassifier(\n",
    "    learning_rate =0.1,\n",
    "    n_estimators=600,\n",
    "    max_depth=5,\n",
    "    min_child_weight=1,\n",
    "    gamma=0,\n",
    "    subsample=0.6,\n",
    "    colsample_bytree=0.8,\n",
    "    objective= 'reg:linear',\n",
    "    nthread=4,\n",
    "    scale_pos_weight=1,\n",
    "    reg_alpha=0,\n",
    "    reg_lambda=1,\n",
    "    seed=27)\n",
    "modelfit(xgb, df_data, df_labels, cv)"
   ]
  },
  {
   "cell_type": "markdown",
   "metadata": {},
   "source": [
    "### 组合特征实践"
   ]
  },
  {
   "cell_type": "code",
   "execution_count": 4,
   "metadata": {},
   "outputs": [],
   "source": [
    "# 将数据分割为训练集和测试集\n",
    "train_data, test_data, train_labels, test_labels = \\\n",
    "    train_test_split(df_data, df_labels, test_size=0.2, random_state=1)"
   ]
  },
  {
   "cell_type": "code",
   "execution_count": 5,
   "metadata": {},
   "outputs": [
    {
     "data": {
      "text/plain": [
       "(4020, 57)"
      ]
     },
     "execution_count": 5,
     "metadata": {},
     "output_type": "execute_result"
    }
   ],
   "source": [
    "train_data.shape"
   ]
  },
  {
   "cell_type": "code",
   "execution_count": 6,
   "metadata": {},
   "outputs": [
    {
     "data": {
      "text/plain": [
       "(1006, 57)"
      ]
     },
     "execution_count": 6,
     "metadata": {},
     "output_type": "execute_result"
    }
   ],
   "source": [
    "test_data.shape"
   ]
  },
  {
   "cell_type": "code",
   "execution_count": 7,
   "metadata": {},
   "outputs": [],
   "source": [
    "# 利用训练集训练出模型clf1并检测效果\n",
    "xgb = XGBClassifier(\n",
    "    learning_rate =0.1,\n",
    "    n_estimators=600,\n",
    "    max_depth=5,\n",
    "    min_child_weight=1,\n",
    "    gamma=0,\n",
    "    subsample=0.6,\n",
    "    colsample_bytree=0.8,\n",
    "    objective= 'reg:linear',\n",
    "    nthread=4,\n",
    "    scale_pos_weight=1,\n",
    "    reg_alpha=0,\n",
    "    reg_lambda=1,\n",
    "    seed=27)\n",
    "clf1 = xgb.fit(train_data, train_labels)\n",
    "clf1_labels = clf1.predict(test_data)"
   ]
  },
  {
   "cell_type": "code",
   "execution_count": 8,
   "metadata": {},
   "outputs": [
    {
     "name": "stdout",
     "output_type": "stream",
     "text": [
      "             precision    recall  f1-score   support\n",
      "\n",
      "      bweep    0.94481   0.92675   0.93569       314\n",
      "      clean    0.94030   0.96183   0.95094       131\n",
      "      daily    0.90395   0.89888   0.90141       178\n",
      "       dump    0.91837   0.91837   0.91837        98\n",
      "        run    0.92308   0.85714   0.88889        14\n",
      "      sweep    0.93671   0.95279   0.94468       233\n",
      "       walk    0.89744   0.92105   0.90909        38\n",
      "\n",
      "avg / total    0.93045   0.93042   0.93035      1006\n",
      "\n"
     ]
    }
   ],
   "source": [
    "print(classification_report(test_labels, clf1_labels, digits=5))"
   ]
  },
  {
   "cell_type": "markdown",
   "metadata": {},
   "source": [
    "#### 生成新特征"
   ]
  },
  {
   "cell_type": "code",
   "execution_count": 9,
   "metadata": {},
   "outputs": [
    {
     "data": {
      "text/plain": [
       "array([[50, 23, 49, ...,  0,  5,  0],\n",
       "       [46, 27, 30, ...,  0,  2,  0],\n",
       "       [46, 25, 30, ...,  0,  6,  0],\n",
       "       ..., \n",
       "       [41, 25, 30, ...,  0,  4,  0],\n",
       "       [41, 26, 30, ...,  0,  5,  0],\n",
       "       [53, 28, 42, ...,  0,  2,  0]], dtype=int32)"
      ]
     },
     "execution_count": 9,
     "metadata": {},
     "output_type": "execute_result"
    }
   ],
   "source": [
    "# 利用原训练集训练出模型clf1对原训练集生成新的训练集\n",
    "train_data2 = clf1.apply(train_data)\n",
    "train_data2.shape\n",
    "train_data2"
   ]
  },
  {
   "cell_type": "code",
   "execution_count": 10,
   "metadata": {},
   "outputs": [
    {
     "data": {
      "text/plain": [
       "array([[45, 25, 30, ...,  0,  6,  0],\n",
       "       [32, 25, 32, ...,  0,  5,  0],\n",
       "       [45, 25, 30, ...,  0,  4,  0],\n",
       "       ..., \n",
       "       [46, 25, 30, ...,  0,  6,  0],\n",
       "       [41, 25, 30, ...,  0,  5,  0],\n",
       "       [39, 25, 33, ...,  0,  4,  0]], dtype=int32)"
      ]
     },
     "execution_count": 10,
     "metadata": {},
     "output_type": "execute_result"
    }
   ],
   "source": [
    "# 利用原训练集训练出模型clf1对原测试集生成新的测试集\n",
    "test_data2 = clf1.apply(test_data)\n",
    "test_data2.shape\n",
    "test_data2"
   ]
  },
  {
   "cell_type": "code",
   "execution_count": 11,
   "metadata": {},
   "outputs": [],
   "source": [
    "# 利用新训练集训练出新模型clf2，并在新测试集上测试\n",
    "clf2 = xgb.fit(train_data2, train_labels)\n",
    "clf2_labels = clf2.predict(test_data2)"
   ]
  },
  {
   "cell_type": "code",
   "execution_count": 12,
   "metadata": {},
   "outputs": [
    {
     "name": "stdout",
     "output_type": "stream",
     "text": [
      "             precision    recall  f1-score   support\n",
      "\n",
      "      bweep    0.94156   0.92357   0.93248       314\n",
      "      clean    0.91912   0.95420   0.93633       131\n",
      "      daily    0.89944   0.90449   0.90196       178\n",
      "       dump    0.92553   0.88776   0.90625        98\n",
      "        run    0.92308   0.85714   0.88889        14\n",
      "      sweep    0.92405   0.93991   0.93191       233\n",
      "       walk    0.89744   0.92105   0.90909        38\n",
      "\n",
      "avg / total    0.92364   0.92346   0.92340      1006\n",
      "\n"
     ]
    }
   ],
   "source": [
    "print(classification_report(test_labels, clf2_labels, digits=5))"
   ]
  },
  {
   "cell_type": "markdown",
   "metadata": {},
   "source": [
    "#### 原特征和新特征合并"
   ]
  },
  {
   "cell_type": "code",
   "execution_count": 13,
   "metadata": {},
   "outputs": [],
   "source": [
    "# 合并函数\n",
    "def mergeToOne(X,X2):\n",
    "    X3=[]\n",
    "    for i in range(X.shape[0]):\n",
    "        tmp=np.array([list(X[i]),list(X2[i])])\n",
    "        X3.append(list(np.hstack(tmp)))\n",
    "    X3=np.array(X3)\n",
    "    return X3"
   ]
  },
  {
   "cell_type": "code",
   "execution_count": 14,
   "metadata": {},
   "outputs": [
    {
     "data": {
      "text/plain": [
       "array([[  9.14897172e-02,   1.17917280e+00,  -2.48756373e-01, ...,\n",
       "          0.00000000e+00,   5.00000000e+00,   0.00000000e+00],\n",
       "       [ -3.51275036e-01,  -1.85045880e-01,   1.70630355e+00, ...,\n",
       "          0.00000000e+00,   2.00000000e+00,   0.00000000e+00],\n",
       "       [ -9.49873944e-01,  -5.68356785e-01,  -1.01270796e+00, ...,\n",
       "          0.00000000e+00,   6.00000000e+00,   0.00000000e+00],\n",
       "       ..., \n",
       "       [ -7.86117223e-01,  -5.45791445e-01,  -1.30422767e+00, ...,\n",
       "          0.00000000e+00,   4.00000000e+00,   0.00000000e+00],\n",
       "       [  3.69263126e-01,   1.10268977e+00,   6.08600078e-04, ...,\n",
       "          0.00000000e+00,   5.00000000e+00,   0.00000000e+00],\n",
       "       [  4.70093450e-01,  -4.09916843e-01,   2.06607679e+00, ...,\n",
       "          0.00000000e+00,   2.00000000e+00,   0.00000000e+00]])"
      ]
     },
     "execution_count": 14,
     "metadata": {},
     "output_type": "execute_result"
    }
   ],
   "source": [
    "# 原训练集和新训练集合并为新的训练集\n",
    "train_data3 = mergeToOne(train_data, train_data2)\n",
    "train_data3.shape\n",
    "train_data3"
   ]
  },
  {
   "cell_type": "code",
   "execution_count": 15,
   "metadata": {},
   "outputs": [
    {
     "data": {
      "text/plain": [
       "array([[-1.02867869, -0.54883891, -0.50517894, ...,  0.        ,\n",
       "         6.        ,  0.        ],\n",
       "       [-0.93697866, -0.19744733, -0.52745753, ...,  0.        ,\n",
       "         5.        ,  0.        ],\n",
       "       [-1.08969337, -0.29251743,  0.09483577, ...,  0.        ,\n",
       "         4.        ,  0.        ],\n",
       "       ..., \n",
       "       [-1.05418781, -0.51831651, -0.28008058, ...,  0.        ,\n",
       "         6.        ,  0.        ],\n",
       "       [-0.88977841, -1.2161169 , -1.05505567, ...,  0.        ,\n",
       "         5.        ,  0.        ],\n",
       "       [-0.34316468,  0.79940605, -1.15294356, ...,  0.        ,\n",
       "         4.        ,  0.        ]])"
      ]
     },
     "execution_count": 15,
     "metadata": {},
     "output_type": "execute_result"
    }
   ],
   "source": [
    "# 原测试集和新测试集合并为新的测试集\n",
    "test_data3 = mergeToOne(test_data, test_data2)\n",
    "test_data3.shape\n",
    "test_data3"
   ]
  },
  {
   "cell_type": "code",
   "execution_count": 16,
   "metadata": {},
   "outputs": [],
   "source": [
    "# 利用最新训练集训练出最新模型clf3，并在最新测试集上测试\n",
    "clf3 = xgb.fit(train_data3, train_labels)\n",
    "clf3_labels = clf3.predict(test_data3)"
   ]
  },
  {
   "cell_type": "code",
   "execution_count": 17,
   "metadata": {},
   "outputs": [
    {
     "name": "stdout",
     "output_type": "stream",
     "text": [
      "             precision    recall  f1-score   support\n",
      "\n",
      "      bweep    0.94426   0.91720   0.93053       314\n",
      "      clean    0.91176   0.94656   0.92884       131\n",
      "      daily    0.88827   0.89326   0.89076       178\n",
      "       dump    0.91579   0.88776   0.90155        98\n",
      "        run    0.92308   0.85714   0.88889        14\n",
      "      sweep    0.92050   0.94421   0.93220       233\n",
      "       walk    0.89744   0.92105   0.90909        38\n",
      "\n",
      "avg / total    0.91978   0.91948   0.91945      1006\n",
      "\n"
     ]
    }
   ],
   "source": [
    "print(classification_report(test_labels, clf3_labels, digits=5))"
   ]
  },
  {
   "cell_type": "markdown",
   "metadata": {},
   "source": [
    "## Random Forest"
   ]
  },
  {
   "cell_type": "code",
   "execution_count": 3,
   "metadata": {},
   "outputs": [],
   "source": [
    "# #网格搜索法寻找最优参数组合，很费时间\n",
    "# rfc = RandomForestClassifier(n_estimators=200)\n",
    "# parameters = {'max_features':np.arange(8,30,2)}\n",
    "# clf = GridSearchCV(rfc, parameters)\n",
    "# clf.fit(df_data, df_labels)\n",
    "# clf.best_score_\n",
    "# clf.best_params_\n",
    "# clf.best_estimator_"
   ]
  },
  {
   "cell_type": "code",
   "execution_count": 4,
   "metadata": {},
   "outputs": [],
   "source": [
    "clf = RandomForestClassifier(n_estimators=200, max_features=10)"
   ]
  },
  {
   "cell_type": "code",
   "execution_count": 5,
   "metadata": {},
   "outputs": [],
   "source": [
    "cv = StratifiedShuffleSplit(n_splits=10, test_size=0.1, random_state=0)"
   ]
  },
  {
   "cell_type": "code",
   "execution_count": 6,
   "metadata": {},
   "outputs": [
    {
     "name": "stdout",
     "output_type": "stream",
     "text": [
      "Wall time: 1min 50s\n"
     ]
    }
   ],
   "source": [
    "%%time\n",
    "scores = cross_val_score(clf, df_data, df_labels, cv=cv)"
   ]
  },
  {
   "cell_type": "code",
   "execution_count": 7,
   "metadata": {},
   "outputs": [
    {
     "data": {
      "text/plain": [
       "array([ 0.91053678,  0.92644135,  0.9304175 ,  0.92047714,  0.92047714,\n",
       "        0.92644135,  0.91053678,  0.91650099,  0.92644135,  0.92047714])"
      ]
     },
     "execution_count": 7,
     "metadata": {},
     "output_type": "execute_result"
    },
    {
     "data": {
      "text/plain": [
       "0.92087475149105358"
      ]
     },
     "execution_count": 7,
     "metadata": {},
     "output_type": "execute_result"
    }
   ],
   "source": [
    "scores\n",
    "scores.mean()"
   ]
  },
  {
   "cell_type": "code",
   "execution_count": 8,
   "metadata": {},
   "outputs": [],
   "source": [
    "# #进行T次交叉验证，求平均值\n",
    "# T = 10\n",
    "# ave_scores =[]\n",
    "# for t in range(T):\n",
    "#     ave_scores.append( cross_val_score(clf, df_data, df_labels, cv=cv).mean() )\n",
    "# ave_scores = np.array(ave_scores)"
   ]
  },
  {
   "cell_type": "markdown",
   "metadata": {},
   "source": [
    "## Gradient Boosting Tree"
   ]
  },
  {
   "cell_type": "code",
   "execution_count": 9,
   "metadata": {},
   "outputs": [],
   "source": [
    "# clf = GradientBoostingClassifier(n_estimators=100,learning_rate=0.1)\n",
    "clf = GradientBoostingClassifier()"
   ]
  },
  {
   "cell_type": "code",
   "execution_count": 10,
   "metadata": {},
   "outputs": [],
   "source": [
    "cv = StratifiedShuffleSplit(n_splits=10, test_size=0.1, random_state=0)"
   ]
  },
  {
   "cell_type": "code",
   "execution_count": 11,
   "metadata": {},
   "outputs": [
    {
     "name": "stdout",
     "output_type": "stream",
     "text": [
      "Wall time: 4min 3s\n"
     ]
    }
   ],
   "source": [
    "%%time\n",
    "scores = cross_val_score(clf, df_data, df_labels, cv=cv)"
   ]
  },
  {
   "cell_type": "code",
   "execution_count": 12,
   "metadata": {},
   "outputs": [
    {
     "data": {
      "text/plain": [
       "array([ 0.87872763,  0.89264414,  0.89860835,  0.88667992,  0.90059642,\n",
       "        0.89860835,  0.88469185,  0.88866799,  0.89463221,  0.88866799])"
      ]
     },
     "execution_count": 12,
     "metadata": {},
     "output_type": "execute_result"
    },
    {
     "data": {
      "text/plain": [
       "0.8912524850894632"
      ]
     },
     "execution_count": 12,
     "metadata": {},
     "output_type": "execute_result"
    }
   ],
   "source": [
    "scores\n",
    "scores.mean()"
   ]
  }
 ],
 "metadata": {
  "kernelspec": {
   "display_name": "Python 3",
   "language": "python",
   "name": "python3"
  },
  "language_info": {
   "codemirror_mode": {
    "name": "ipython",
    "version": 3
   },
   "file_extension": ".py",
   "mimetype": "text/x-python",
   "name": "python",
   "nbconvert_exporter": "python",
   "pygments_lexer": "ipython3",
   "version": "3.6.1"
  },
  "toc": {
   "nav_menu": {},
   "number_sections": true,
   "sideBar": true,
   "skip_h1_title": false,
   "toc_cell": false,
   "toc_position": {
    "height": "524px",
    "left": "0px",
    "right": "1057px",
    "top": "111px",
    "width": "307px"
   },
   "toc_section_display": "block",
   "toc_window_display": true
  },
  "varInspector": {
   "cols": {
    "lenName": 16,
    "lenType": 16,
    "lenVar": 40
   },
   "kernels_config": {
    "python": {
     "delete_cmd_postfix": "",
     "delete_cmd_prefix": "del ",
     "library": "var_list.py",
     "varRefreshCmd": "print(var_dic_list())"
    },
    "r": {
     "delete_cmd_postfix": ") ",
     "delete_cmd_prefix": "rm(",
     "library": "var_list.r",
     "varRefreshCmd": "cat(var_dic_list()) "
    }
   },
   "position": {
    "height": "440px",
    "left": "530px",
    "right": "147px",
    "top": "32px",
    "width": "687px"
   },
   "types_to_exclude": [
    "module",
    "function",
    "builtin_function_or_method",
    "instance",
    "_Feature"
   ],
   "window_display": false
  }
 },
 "nbformat": 4,
 "nbformat_minor": 2
}

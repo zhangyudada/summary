{
 "cells": [
  {
   "cell_type": "code",
   "execution_count": 1,
   "metadata": {
    "collapsed": true
   },
   "outputs": [],
   "source": [
    "import numpy as np\n",
    "import pandas as pd\n",
    "import DataCsv3\n",
    "import tensorflow as tf\n",
    "import os\n",
    "import sys"
   ]
  },
  {
   "cell_type": "code",
   "execution_count": 2,
   "metadata": {},
   "outputs": [
    {
     "name": "stdout",
     "output_type": "stream",
     "text": [
      "(5026, 77, 9)\n",
      "[  1.14220446e-02   6.49210334e-01  -4.22500014e-01   1.30463101e-04\n",
      "   4.21474010e-01   1.78506255e-01   1.49015534e-06   2.73625284e-01\n",
      "  -7.54188895e-02]\n"
     ]
    }
   ],
   "source": [
    "x,y = DataCsv.data_csv()\n",
    "\n",
    "x=x.astype(np.float32)\n",
    "y=y.astype(np.int32)\n",
    "print(x.shape)\n",
    "print(x[0,0,:])"
   ]
  },
  {
   "cell_type": "code",
   "execution_count": 3,
   "metadata": {},
   "outputs": [
    {
     "name": "stdout",
     "output_type": "stream",
     "text": [
      "This is x.shape: (5026, 77, 9) 5026\n",
      "This is y.shape|len: (5026, 1) 5026\n",
      "This is n_values: 7\n"
     ]
    }
   ],
   "source": [
    "print('This is x.shape:',x.shape,len(x))\n",
    "print('This is y.shape|len:',y.shape,len(y))\n",
    "n_values = int(np.max(y)) + 1\n",
    "print('This is n_values:',n_values)"
   ]
  },
  {
   "cell_type": "code",
   "execution_count": 4,
   "metadata": {},
   "outputs": [
    {
     "name": "stdout",
     "output_type": "stream",
     "text": [
      "int32\n"
     ]
    }
   ],
   "source": [
    "print(y.dtype)"
   ]
  },
  {
   "cell_type": "code",
   "execution_count": 5,
   "metadata": {},
   "outputs": [
    {
     "name": "stderr",
     "output_type": "stream",
     "text": [
      "D:\\Anaconda3\\lib\\site-packages\\sklearn\\cross_validation.py:44: DeprecationWarning: This module was deprecated in version 0.18 in favor of the model_selection module into which all the refactored classes and functions are moved. Also note that the interface of the new CV iterators are different from that of this module. This module will be removed in 0.20.\n",
      "  \"This module will be removed in 0.20.\", DeprecationWarning)\n"
     ]
    }
   ],
   "source": [
    "#from sklearn.cross_validation import train_test_split\n",
    "#x_train, x_test, y_train, y_test = train_test_split(x, y, test_size = 0.2)\n",
    "from sklearn.cross_validation import StratifiedShuffleSplit\n",
    "sss=StratifiedShuffleSplit(y,test_size=0.2,train_size=0.8,random_state=0)\n",
    "for  train_index,test_index  in  sss:\n",
    "    x_train, x_test = x[train_index], x[test_index]\n",
    "    y_train, y_test = y[train_index], y[test_index]"
   ]
  },
  {
   "cell_type": "code",
   "execution_count": 6,
   "metadata": {},
   "outputs": [
    {
     "data": {
      "text/plain": [
       "array([[5],\n",
       "       [3],\n",
       "       [3],\n",
       "       [4],\n",
       "       [3],\n",
       "       [1],\n",
       "       [4],\n",
       "       [5],\n",
       "       [1],\n",
       "       [3]])"
      ]
     },
     "execution_count": 6,
     "metadata": {},
     "output_type": "execute_result"
    }
   ],
   "source": [
    "y_train[:10]"
   ]
  },
  {
   "cell_type": "code",
   "execution_count": 7,
   "metadata": {},
   "outputs": [
    {
     "data": {
      "text/plain": [
       "array([[2],\n",
       "       [2],\n",
       "       [3],\n",
       "       [1],\n",
       "       [4],\n",
       "       [2],\n",
       "       [3],\n",
       "       [2],\n",
       "       [1],\n",
       "       [4]])"
      ]
     },
     "execution_count": 7,
     "metadata": {},
     "output_type": "execute_result"
    }
   ],
   "source": [
    "y_test[:10]"
   ]
  },
  {
   "cell_type": "code",
   "execution_count": 8,
   "metadata": {
    "collapsed": true
   },
   "outputs": [],
   "source": [
    "def weight_variable(shape):\n",
    "    initial = tf.truncated_normal(shape, stddev=0.1)  \n",
    "    return tf.Variable(initial)\n",
    "def bias_variable(shape):\n",
    "    initial = tf.constant(0.1, shape=shape)\n",
    "    return tf.Variable(initial)\n",
    "def conv2d(x, W):\n",
    "    return tf.nn.conv2d(x, W, strides=[1, 1, 1, 1], padding='SAME')\n",
    "def max_pool_2x2(x):\n",
    "    return tf.nn.max_pool(x, ksize=[1, 2, 2, 1],\n",
    "                        strides=[1, 2, 2, 1], padding='SAME')"
   ]
  },
  {
   "cell_type": "code",
   "execution_count": 25,
   "metadata": {
    "collapsed": true
   },
   "outputs": [],
   "source": [
    "def deepnn(x):\n",
    "    with tf.name_scope('reshape'):\n",
    "        x_image = tf.reshape(x, [-1, 77, 9, 1])\n",
    "\n",
    "  # First convolutional layer - maps one grayscale image to 32 feature maps.\n",
    "    with tf.name_scope('conv1'):\n",
    "        W_conv1 = weight_variable([9, 3, 1, 5])\n",
    "        b_conv1 = bias_variable([5])\n",
    "        h_conv1 = tf.nn.relu(conv2d(x_image, W_conv1) + b_conv1)\n",
    "\n",
    "  # Pooling layer - downsamples by 2X.\n",
    "    with tf.name_scope('pool1'):\n",
    "        h_pool1 = max_pool_2x2(h_conv1)\n",
    "\n",
    "  # Second convolutional layer -- maps 32 feature maps to 64.\n",
    "    with tf.name_scope('conv2'):\n",
    "        W_conv2 = weight_variable([7, 3, 5, 10])\n",
    "        b_conv2 = bias_variable([10])\n",
    "        h_conv2 = tf.nn.relu(conv2d(h_pool1, W_conv2) + b_conv2)\n",
    "\n",
    "  # Second pooling layer.\n",
    "    with tf.name_scope('pool2'):\n",
    "        h_pool2 = max_pool_2x2(h_conv2)\n",
    "        print(h_pool2.shape)\n",
    "        \n",
    "    with tf.name_scope('conv3'):\n",
    "        W_conv3 = weight_variable([5, 3, 10, 20])\n",
    "        b_conv3 = bias_variable([20])\n",
    "        h_conv3 = tf.nn.relu(conv2d(h_pool2, W_conv3) + b_conv3)\n",
    "\n",
    "  # Pooling layer - downsamples by 2X.\n",
    "    with tf.name_scope('pool3'):\n",
    "        h_pool3 = max_pool_2x2(h_conv3)\n",
    "  # Fully connected layer 1 -- after 2 round of downsampling, our 28x28 image\n",
    "  # is down to 7x7x64 feature maps -- maps this to 1024 features.\n",
    "    with tf.name_scope('fc1'):\n",
    "        W_fc1 = weight_variable([10 * 2* 20, 200])\n",
    "        b_fc1 = bias_variable([200])\n",
    "\n",
    "        h_pool3_flat = tf.reshape(h_pool3, [-1, 10*2*20])\n",
    "        h_fc1 = tf.nn.relu(tf.matmul(h_pool3_flat, W_fc1) + b_fc1)\n",
    "\n",
    "  # Dropout - controls the complexity of the model, prevents co-adaptation of\n",
    "  # features.\n",
    "    with tf.name_scope('dropout'):\n",
    "        keep_prob = tf.placeholder(tf.float32)\n",
    "        h_fc1_drop = tf.nn.dropout(h_fc1, keep_prob)\n",
    "\n",
    "  # Map the 1024 features to 10 classes, one for each digit\n",
    "    with tf.name_scope('fc2'):\n",
    "        W_fc2 = weight_variable([200, 7])\n",
    "        b_fc2 = bias_variable([7])\n",
    "\n",
    "        y_conv = tf.matmul(h_fc1_drop, W_fc2) + b_fc2\n",
    "        return y_conv, keep_prob\n",
    "    \n",
    "def extract_batch_size(_train, step, batch_size):\n",
    "    \n",
    "    shape = list(_train.shape) #_X  7352 128 9\n",
    "    shape[0] = batch_size      # 1500 128 9\n",
    "    batch_s = np.empty(shape)\n",
    "\n",
    "    for i in range(batch_size):\n",
    "        index = ((step-1)*batch_size + i) % len(_train) # step=1 \n",
    "        batch_s[i] = _train[index] \n",
    "\n",
    "    return batch_s \n",
    "\n",
    "def one_hot(y_):\n",
    "    y_ = y_.reshape(len(y_))\n",
    "    #n_values = int(np.max(y_)) + 1\n",
    "    n_values = 7\n",
    "    return np.eye(n_values)[np.array(y_, dtype=np.int32)]  # Returns FLOATS"
   ]
  },
  {
   "cell_type": "code",
   "execution_count": 26,
   "metadata": {
    "collapsed": true
   },
   "outputs": [],
   "source": [
    "def main():\n",
    "     \n",
    "    x = tf.placeholder(tf.float32, [None, 77,9])\n",
    "\n",
    "    y_ = tf.placeholder(tf.float32, [None, 7])\n",
    "\n",
    "    y_conv, keep_prob = deepnn(x)\n",
    "\n",
    "    with tf.name_scope('loss'):\n",
    "        \n",
    "        cross_entropy = tf.nn.softmax_cross_entropy_with_logits(labels=y_,\n",
    "                                                            logits=y_conv)\n",
    "        cross_entropy = tf.reduce_mean(cross_entropy)\n",
    "\n",
    "    with tf.name_scope('adam_optimizer'):\n",
    "        train_step = tf.train.AdamOptimizer(1e-3).minimize(cross_entropy)\n",
    "\n",
    "    with tf.name_scope('accuracy'):\n",
    "        correct_prediction = tf.equal(tf.argmax(y_conv, 1), tf.argmax(y_, 1))\n",
    "        correct_prediction = tf.cast(correct_prediction, tf.float32)\n",
    "        accuracy = tf.reduce_mean(correct_prediction)\n",
    "\n",
    "    graph_location=\"/tmp/tensorboard\"\n",
    "    print('Saving graph to: %s' % graph_location)\n",
    "    train_writer = tf.summary.FileWriter(graph_location)\n",
    "    train_writer.add_graph(tf.get_default_graph())\n",
    "    \n",
    "    with tf.Session() as sess:\n",
    "        sess.run(tf.global_variables_initializer())\n",
    "        for i in range(5600):\n",
    "            x_batch = extract_batch_size(x_train, i, 200)\n",
    "            y_batch = one_hot(extract_batch_size(y_train, i, 200))\n",
    "        \n",
    "            if i % 200 == 0:\n",
    "                #x_batc = extract_batch_size(x_test, i, 200)\n",
    "                #y_batc = one_hot(extract_batch_size(y_test, i, 200))\n",
    "                \n",
    "                train_accuracy = accuracy.eval(feed_dict={\n",
    "                x: x_batch, y_: y_batch, keep_prob: 1.0})\n",
    "                print('step %d, training accuracy %g' % (i, train_accuracy))\n",
    "                #train_accuracies.append(train_accuracy)\n",
    "                loss=sess.run(cross_entropy,feed_dict={x: x_batch, y_: y_batch, keep_prob: 0.5})\n",
    "                train_losses.append(loss) \n",
    "                print (\"test accuracy %g\"%accuracy.eval(feed_dict={x: x_test, y_: one_hot(y_test), keep_prob: 1.0}))\n",
    "            train_step.run(feed_dict={x: x_batch, y_: y_batch, keep_prob: 0.5})\n",
    "        pre = sess.run(y_conv,feed_dict={x: x_test, keep_prob: 1.0})\n",
    "        pres.append(np.argmax(pre,axis=1))  "
   ]
  },
  {
   "cell_type": "code",
   "execution_count": 27,
   "metadata": {},
   "outputs": [
    {
     "name": "stdout",
     "output_type": "stream",
     "text": [
      "-----pre---- [] 0\n",
      "-------------------------\n",
      "(?, 20, 3, 10)\n",
      "Saving graph to: /tmp/tensorboard\n",
      "step 0, training accuracy 0.13\n",
      "test accuracy 0.142147\n",
      "step 200, training accuracy 0.75\n",
      "test accuracy 0.727634\n",
      "step 400, training accuracy 0.875\n",
      "test accuracy 0.835984\n",
      "step 600, training accuracy 0.92\n",
      "test accuracy 0.870775\n",
      "step 800, training accuracy 0.915\n",
      "test accuracy 0.892644\n",
      "step 1000, training accuracy 0.955\n",
      "test accuracy 0.904573\n",
      "step 1200, training accuracy 0.97\n",
      "test accuracy 0.905567\n",
      "step 1400, training accuracy 0.955\n",
      "test accuracy 0.918489\n",
      "step 1600, training accuracy 0.98\n",
      "test accuracy 0.913519\n",
      "step 1800, training accuracy 0.97\n",
      "test accuracy 0.907555\n",
      "step 2000, training accuracy 0.985\n",
      "test accuracy 0.909543\n",
      "step 2200, training accuracy 0.98\n",
      "test accuracy 0.916501\n",
      "step 2400, training accuracy 0.985\n",
      "test accuracy 0.917495\n",
      "step 2600, training accuracy 0.99\n",
      "test accuracy 0.913519\n",
      "step 2800, training accuracy 0.995\n",
      "test accuracy 0.919483\n",
      "step 3000, training accuracy 0.99\n",
      "test accuracy 0.922465\n",
      "step 3200, training accuracy 0.995\n",
      "test accuracy 0.915507\n",
      "step 3400, training accuracy 0.99\n",
      "test accuracy 0.908549\n",
      "step 3600, training accuracy 0.995\n",
      "test accuracy 0.908549\n",
      "step 3800, training accuracy 1\n",
      "test accuracy 0.920477\n",
      "step 4000, training accuracy 0.995\n",
      "test accuracy 0.924453\n",
      "step 4200, training accuracy 1\n",
      "test accuracy 0.928429\n",
      "step 4400, training accuracy 0.995\n",
      "test accuracy 0.921471\n",
      "step 4600, training accuracy 0.995\n",
      "test accuracy 0.922465\n",
      "step 4800, training accuracy 1\n",
      "test accuracy 0.922465\n",
      "step 5000, training accuracy 1\n",
      "test accuracy 0.922465\n",
      "step 5200, training accuracy 0.995\n",
      "test accuracy 0.926441\n",
      "step 5400, training accuracy 1\n",
      "test accuracy 0.919483\n",
      "[2.0293882, 0.75584227, 0.49716321, 0.33069056, 0.28627264, 0.20804602, 0.18047918, 0.16259696, 0.14654821, 0.12720862, 0.10977092, 0.093251608, 0.082885087, 0.089609429, 0.030198036, 0.052285094, 0.05191737, 0.057607498, 0.066245832, 0.041004419, 0.042399563, 0.043926191, 0.051059678, 0.034865513, 0.032323126, 0.032066669, 0.019160265, 0.03429164]\n"
     ]
    }
   ],
   "source": [
    "train_losses=[]\n",
    "#train_accuracies=[]\n",
    "pres = []\n",
    "print('-----pre----',pres,len(pres))\n",
    "print('-------------------------')\n",
    "main()\n",
    "print(train_losses)\n",
    "#print(train_accuracies)"
   ]
  },
  {
   "cell_type": "code",
   "execution_count": 28,
   "metadata": {},
   "outputs": [
    {
     "name": "stdout",
     "output_type": "stream",
     "text": [
      "[3 2 1 ..., 1 5 4]\n",
      "[3 6 1 ..., 1 5 4]\n",
      "Confusion Matrix:\n",
      "[[ 35   0   0   0   0   0   0]\n",
      " [  0 283   5   6   6   2   0]\n",
      " [  0  10 129   0   4   0   0]\n",
      " [  0   5   0 223   1   1   0]\n",
      " [  1   8   5   0 164   0   0]\n",
      " [  0   7   1   6   3  85   1]\n",
      " [  0   1   2   0   0   0  12]]\n",
      "\n",
      "Confusion matrix (normalised to % of total test data):\n",
      "[[  3.47912526   0.           0.           0.           0.           0.\n",
      "    0.        ]\n",
      " [  0.          28.13121414   0.49701789   0.59642148   0.59642148\n",
      "    0.19880715   0.        ]\n",
      " [  0.           0.99403578  12.82306194   0.           0.3976143    0.\n",
      "    0.        ]\n",
      " [  0.           0.49701789   0.          22.16699791   0.09940358\n",
      "    0.09940358   0.        ]\n",
      " [  0.09940358   0.7952286    0.49701789   0.          16.30218697   0.\n",
      "    0.        ]\n",
      " [  0.           0.69582504   0.09940358   0.59642148   0.29821074\n",
      "    8.44930458   0.09940358]\n",
      " [  0.           0.09940358   0.19880715   0.           0.           0.\n",
      "    1.19284296]]\n"
     ]
    }
   ],
   "source": [
    "pres = np.array(pres)\n",
    "pres = pres.astype(np.int32)\n",
    "pres = pres.reshape(1006)\n",
    "y_test = y_test.reshape(1006)\n",
    "\n",
    "print(pres)\n",
    "print(y_test)\n",
    "from sklearn import metrics\n",
    "print(\"Confusion Matrix:\")\n",
    "confusion_matrix = metrics.confusion_matrix(y_test, pres)\n",
    "print(confusion_matrix)\n",
    "normalised_confusion_matrix = np.array(confusion_matrix, dtype=np.float32)/np.sum(confusion_matrix)*100\n",
    "\n",
    "print(\"\")\n",
    "print(\"Confusion matrix (normalised to % of total test data):\")\n",
    "print(normalised_confusion_matrix)"
   ]
  },
  {
   "cell_type": "code",
   "execution_count": 29,
   "metadata": {},
   "outputs": [
    {
     "name": "stdout",
     "output_type": "stream",
     "text": [
      "             precision    recall  f1-score   support\n",
      "\n",
      "       walk       0.97      1.00      0.99        35\n",
      "      bweep       0.90      0.94      0.92       302\n",
      "      clean       0.91      0.90      0.91       143\n",
      "      sweep       0.95      0.97      0.96       230\n",
      "      daily       0.92      0.92      0.92       178\n",
      "       dump       0.97      0.83      0.89       103\n",
      "        run       0.92      0.80      0.86        15\n",
      "\n",
      "avg / total       0.93      0.93      0.93      1006\n",
      "\n"
     ]
    }
   ],
   "source": [
    "from sklearn.metrics import classification_report\n",
    "target_names = ['walk','bweep','clean','sweep','daily','dump','run']\n",
    "print(classification_report(y_test,pres,target_names=target_names))"
   ]
  },
  {
   "cell_type": "code",
   "execution_count": 30,
   "metadata": {},
   "outputs": [
    {
     "data": {
      "image/png": "[encoded data removed]",
      "text/plain": [
       "<matplotlib.figure.Figure at 0x7fc7fe3bfa20>"
      ]
     },
     "metadata": {},
     "output_type": "display_data"
    }
   ],
   "source": [
    "import matplotlib.pyplot as plt\n",
    "%matplotlib inline\n",
    "\n",
    "plt.plot(train_losses)\n",
    "plt.show()"
   ]
  },
  {
   "cell_type": "code",
   "execution_count": null,
   "metadata": {
    "collapsed": true
   },
   "outputs": [],
   "source": []
  }
 ],
 "metadata": {
  "kernelspec": {
   "display_name": "Python 3",
   "language": "python",
   "name": "python3"
  },
  "language_info": {
   "codemirror_mode": {
    "name": "ipython",
    "version": 3
   },
   "file_extension": ".py",
   "mimetype": "text/x-python",
   "name": "python",
   "nbconvert_exporter": "python",
   "pygments_lexer": "ipython3",
   "version": "3.6.1"
  },
  "toc": {
   "nav_menu": {},
   "number_sections": true,
   "sideBar": true,
   "skip_h1_title": false,
   "toc_cell": false,
   "toc_position": {},
   "toc_section_display": "block",
   "toc_window_display": false
  },
  "varInspector": {
   "cols": {
    "lenName": 16,
    "lenType": 16,
    "lenVar": 40
   },
   "kernels_config": {
    "python": {
     "delete_cmd_postfix": "",
     "delete_cmd_prefix": "del ",
     "library": "var_list.py",
     "varRefreshCmd": "print(var_dic_list())"
    },
    "r": {
     "delete_cmd_postfix": ") ",
     "delete_cmd_prefix": "rm(",
     "library": "var_list.r",
     "varRefreshCmd": "cat(var_dic_list()) "
    }
   },
   "types_to_exclude": [
    "module",
    "function",
    "builtin_function_or_method",
    "instance",
    "_Feature"
   ],
   "window_display": false
  }
 },
 "nbformat": 4,
 "nbformat_minor": 2
}

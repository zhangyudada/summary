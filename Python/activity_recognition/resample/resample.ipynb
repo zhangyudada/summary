{
 "cells": [
  {
   "cell_type": "code",
   "execution_count": 73,
   "metadata": {
    "collapsed": true
   },
   "outputs": [],
   "source": [
    "import pandas as pd\n",
    "import numpy as np\n",
    "from scipy import interpolate\n",
    "max_length = 100"
   ]
  },
  {
   "cell_type": "code",
   "execution_count": 74,
   "metadata": {
    "collapsed": true,
    "scrolled": true
   },
   "outputs": [],
   "source": [
    "df = pd.read_csv('./data/all.csv')"
   ]
  },
  {
   "cell_type": "code",
   "execution_count": 75,
   "metadata": {},
   "outputs": [
    {
     "data": {
      "text/html": [
       "<div>\n",
       "<style>\n",
       "    .dataframe thead tr:only-child th {\n",
       "        text-align: right;\n",
       "    }\n",
       "\n",
       "    .dataframe thead th {\n",
       "        text-align: left;\n",
       "    }\n",
       "\n",
       "    .dataframe tbody tr th {\n",
       "        vertical-align: top;\n",
       "    }\n",
       "</style>\n",
       "<table border=\"1\" class=\"dataframe\">\n",
       "  <thead>\n",
       "    <tr style=\"text-align: right;\">\n",
       "      <th></th>\n",
       "      <th>x</th>\n",
       "      <th>y</th>\n",
       "      <th>z</th>\n",
       "      <th>class</th>\n",
       "      <th>seg</th>\n",
       "      <th>suspicious</th>\n",
       "    </tr>\n",
       "  </thead>\n",
       "  <tbody>\n",
       "    <tr>\n",
       "      <th>266550</th>\n",
       "      <td>-941</td>\n",
       "      <td>174</td>\n",
       "      <td>337</td>\n",
       "      <td>clean</td>\n",
       "      <td>clean/庆喜/repeat_82-duration_60.csv-1584-1628</td>\n",
       "      <td>False</td>\n",
       "    </tr>\n",
       "    <tr>\n",
       "      <th>266551</th>\n",
       "      <td>-942</td>\n",
       "      <td>173</td>\n",
       "      <td>314</td>\n",
       "      <td>clean</td>\n",
       "      <td>clean/庆喜/repeat_82-duration_60.csv-1584-1628</td>\n",
       "      <td>False</td>\n",
       "    </tr>\n",
       "    <tr>\n",
       "      <th>266552</th>\n",
       "      <td>-916</td>\n",
       "      <td>158</td>\n",
       "      <td>310</td>\n",
       "      <td>clean</td>\n",
       "      <td>clean/庆喜/repeat_82-duration_60.csv-1584-1628</td>\n",
       "      <td>False</td>\n",
       "    </tr>\n",
       "    <tr>\n",
       "      <th>266553</th>\n",
       "      <td>-898</td>\n",
       "      <td>145</td>\n",
       "      <td>304</td>\n",
       "      <td>clean</td>\n",
       "      <td>clean/庆喜/repeat_82-duration_60.csv-1584-1628</td>\n",
       "      <td>False</td>\n",
       "    </tr>\n",
       "    <tr>\n",
       "      <th>266554</th>\n",
       "      <td>-891</td>\n",
       "      <td>132</td>\n",
       "      <td>295</td>\n",
       "      <td>clean</td>\n",
       "      <td>clean/庆喜/repeat_82-duration_60.csv-1584-1628</td>\n",
       "      <td>False</td>\n",
       "    </tr>\n",
       "  </tbody>\n",
       "</table>\n",
       "</div>"
      ],
      "text/plain": [
       "          x    y    z  class                                           seg  \\\n",
       "266550 -941  174  337  clean  clean/庆喜/repeat_82-duration_60.csv-1584-1628   \n",
       "266551 -942  173  314  clean  clean/庆喜/repeat_82-duration_60.csv-1584-1628   \n",
       "266552 -916  158  310  clean  clean/庆喜/repeat_82-duration_60.csv-1584-1628   \n",
       "266553 -898  145  304  clean  clean/庆喜/repeat_82-duration_60.csv-1584-1628   \n",
       "266554 -891  132  295  clean  clean/庆喜/repeat_82-duration_60.csv-1584-1628   \n",
       "\n",
       "        suspicious  \n",
       "266550       False  \n",
       "266551       False  \n",
       "266552       False  \n",
       "266553       False  \n",
       "266554       False  "
      ]
     },
     "execution_count": 75,
     "metadata": {},
     "output_type": "execute_result"
    }
   ],
   "source": [
    "df.tail()"
   ]
  },
  {
   "cell_type": "code",
   "execution_count": 76,
   "metadata": {
    "collapsed": true
   },
   "outputs": [],
   "source": [
    "segs = df.seg.unique()"
   ]
  },
  {
   "cell_type": "code",
   "execution_count": 77,
   "metadata": {},
   "outputs": [
    {
     "data": {
      "text/plain": [
       "5026"
      ]
     },
     "execution_count": 77,
     "metadata": {},
     "output_type": "execute_result"
    }
   ],
   "source": [
    "len(segs)"
   ]
  },
  {
   "cell_type": "code",
   "execution_count": 78,
   "metadata": {
    "collapsed": true
   },
   "outputs": [],
   "source": [
    "cols = df.columns.values"
   ]
  },
  {
   "cell_type": "code",
   "execution_count": 79,
   "metadata": {},
   "outputs": [
    {
     "data": {
      "text/plain": [
       "array(['x', 'y', 'z', 'class', 'seg', 'suspicious'], dtype=object)"
      ]
     },
     "execution_count": 79,
     "metadata": {},
     "output_type": "execute_result"
    }
   ],
   "source": [
    "cols"
   ]
  },
  {
   "cell_type": "code",
   "execution_count": 80,
   "metadata": {},
   "outputs": [],
   "source": [
    "row_num = max_length*len(segs)"
   ]
  },
  {
   "cell_type": "code",
   "execution_count": 82,
   "metadata": {},
   "outputs": [
    {
     "data": {
      "text/plain": [
       "502600"
      ]
     },
     "execution_count": 82,
     "metadata": {},
     "output_type": "execute_result"
    }
   ],
   "source": [
    "row_num"
   ]
  },
  {
   "cell_type": "code",
   "execution_count": 83,
   "metadata": {},
   "outputs": [
    {
     "data": {
      "text/plain": [
       "array([[ 0.,  0.,  0.,  0.,  0.,  0.],\n",
       "       [ 0.,  0.,  0.,  0.,  0.,  0.],\n",
       "       [ 0.,  0.,  0.,  0.,  0.,  0.],\n",
       "       ..., \n",
       "       [ 0.,  0.,  0.,  0.,  0.,  0.],\n",
       "       [ 0.,  0.,  0.,  0.,  0.,  0.],\n",
       "       [ 0.,  0.,  0.,  0.,  0.,  0.]])"
      ]
     },
     "execution_count": 83,
     "metadata": {},
     "output_type": "execute_result"
    }
   ],
   "source": [
    "np.zeros((row_num,6))"
   ]
  },
  {
   "cell_type": "code",
   "execution_count": 84,
   "metadata": {},
   "outputs": [],
   "source": [
    "new_df = pd.DataFrame(data=np.zeros((row_num,6)), columns=cols)"
   ]
  },
  {
   "cell_type": "code",
   "execution_count": 85,
   "metadata": {},
   "outputs": [
    {
     "data": {
      "text/html": [
       "<div>\n",
       "<style>\n",
       "    .dataframe thead tr:only-child th {\n",
       "        text-align: right;\n",
       "    }\n",
       "\n",
       "    .dataframe thead th {\n",
       "        text-align: left;\n",
       "    }\n",
       "\n",
       "    .dataframe tbody tr th {\n",
       "        vertical-align: top;\n",
       "    }\n",
       "</style>\n",
       "<table border=\"1\" class=\"dataframe\">\n",
       "  <thead>\n",
       "    <tr style=\"text-align: right;\">\n",
       "      <th></th>\n",
       "      <th>x</th>\n",
       "      <th>y</th>\n",
       "      <th>z</th>\n",
       "      <th>class</th>\n",
       "      <th>seg</th>\n",
       "      <th>suspicious</th>\n",
       "    </tr>\n",
       "  </thead>\n",
       "  <tbody>\n",
       "    <tr>\n",
       "      <th>502595</th>\n",
       "      <td>0.0</td>\n",
       "      <td>0.0</td>\n",
       "      <td>0.0</td>\n",
       "      <td>0.0</td>\n",
       "      <td>0.0</td>\n",
       "      <td>0.0</td>\n",
       "    </tr>\n",
       "    <tr>\n",
       "      <th>502596</th>\n",
       "      <td>0.0</td>\n",
       "      <td>0.0</td>\n",
       "      <td>0.0</td>\n",
       "      <td>0.0</td>\n",
       "      <td>0.0</td>\n",
       "      <td>0.0</td>\n",
       "    </tr>\n",
       "    <tr>\n",
       "      <th>502597</th>\n",
       "      <td>0.0</td>\n",
       "      <td>0.0</td>\n",
       "      <td>0.0</td>\n",
       "      <td>0.0</td>\n",
       "      <td>0.0</td>\n",
       "      <td>0.0</td>\n",
       "    </tr>\n",
       "    <tr>\n",
       "      <th>502598</th>\n",
       "      <td>0.0</td>\n",
       "      <td>0.0</td>\n",
       "      <td>0.0</td>\n",
       "      <td>0.0</td>\n",
       "      <td>0.0</td>\n",
       "      <td>0.0</td>\n",
       "    </tr>\n",
       "    <tr>\n",
       "      <th>502599</th>\n",
       "      <td>0.0</td>\n",
       "      <td>0.0</td>\n",
       "      <td>0.0</td>\n",
       "      <td>0.0</td>\n",
       "      <td>0.0</td>\n",
       "      <td>0.0</td>\n",
       "    </tr>\n",
       "  </tbody>\n",
       "</table>\n",
       "</div>"
      ],
      "text/plain": [
       "          x    y    z  class  seg  suspicious\n",
       "502595  0.0  0.0  0.0    0.0  0.0         0.0\n",
       "502596  0.0  0.0  0.0    0.0  0.0         0.0\n",
       "502597  0.0  0.0  0.0    0.0  0.0         0.0\n",
       "502598  0.0  0.0  0.0    0.0  0.0         0.0\n",
       "502599  0.0  0.0  0.0    0.0  0.0         0.0"
      ]
     },
     "execution_count": 85,
     "metadata": {},
     "output_type": "execute_result"
    }
   ],
   "source": [
    "new_df.tail()"
   ]
  },
  {
   "cell_type": "code",
   "execution_count": 86,
   "metadata": {
    "collapsed": true
   },
   "outputs": [],
   "source": [
    "seg = segs[0]"
   ]
  },
  {
   "cell_type": "code",
   "execution_count": 87,
   "metadata": {},
   "outputs": [
    {
     "data": {
      "text/plain": [
       "'walk/863137003295439_walk_L_2017-07-25 17-39-00_2017-07-25 17-49-00.csv-31-98'"
      ]
     },
     "execution_count": 87,
     "metadata": {},
     "output_type": "execute_result"
    }
   ],
   "source": [
    "seg"
   ]
  },
  {
   "cell_type": "code",
   "execution_count": 88,
   "metadata": {
    "collapsed": true
   },
   "outputs": [],
   "source": [
    "seg_df = df[df['seg'] ==seg]"
   ]
  },
  {
   "cell_type": "code",
   "execution_count": 89,
   "metadata": {},
   "outputs": [
    {
     "data": {
      "text/html": [
       "<div>\n",
       "<style>\n",
       "    .dataframe thead tr:only-child th {\n",
       "        text-align: right;\n",
       "    }\n",
       "\n",
       "    .dataframe thead th {\n",
       "        text-align: left;\n",
       "    }\n",
       "\n",
       "    .dataframe tbody tr th {\n",
       "        vertical-align: top;\n",
       "    }\n",
       "</style>\n",
       "<table border=\"1\" class=\"dataframe\">\n",
       "  <thead>\n",
       "    <tr style=\"text-align: right;\">\n",
       "      <th></th>\n",
       "      <th>x</th>\n",
       "      <th>y</th>\n",
       "      <th>z</th>\n",
       "      <th>class</th>\n",
       "      <th>seg</th>\n",
       "      <th>suspicious</th>\n",
       "    </tr>\n",
       "  </thead>\n",
       "  <tbody>\n",
       "    <tr>\n",
       "      <th>0</th>\n",
       "      <td>20</td>\n",
       "      <td>781</td>\n",
       "      <td>-507</td>\n",
       "      <td>walk</td>\n",
       "      <td>walk/863137003295439_walk_L_2017-07-25 17-39-0...</td>\n",
       "      <td>False</td>\n",
       "    </tr>\n",
       "    <tr>\n",
       "      <th>1</th>\n",
       "      <td>40</td>\n",
       "      <td>797</td>\n",
       "      <td>-492</td>\n",
       "      <td>walk</td>\n",
       "      <td>walk/863137003295439_walk_L_2017-07-25 17-39-0...</td>\n",
       "      <td>False</td>\n",
       "    </tr>\n",
       "    <tr>\n",
       "      <th>2</th>\n",
       "      <td>59</td>\n",
       "      <td>807</td>\n",
       "      <td>-502</td>\n",
       "      <td>walk</td>\n",
       "      <td>walk/863137003295439_walk_L_2017-07-25 17-39-0...</td>\n",
       "      <td>False</td>\n",
       "    </tr>\n",
       "    <tr>\n",
       "      <th>3</th>\n",
       "      <td>75</td>\n",
       "      <td>807</td>\n",
       "      <td>-527</td>\n",
       "      <td>walk</td>\n",
       "      <td>walk/863137003295439_walk_L_2017-07-25 17-39-0...</td>\n",
       "      <td>False</td>\n",
       "    </tr>\n",
       "    <tr>\n",
       "      <th>4</th>\n",
       "      <td>107</td>\n",
       "      <td>806</td>\n",
       "      <td>-560</td>\n",
       "      <td>walk</td>\n",
       "      <td>walk/863137003295439_walk_L_2017-07-25 17-39-0...</td>\n",
       "      <td>False</td>\n",
       "    </tr>\n",
       "  </tbody>\n",
       "</table>\n",
       "</div>"
      ],
      "text/plain": [
       "     x    y    z class                                                seg  \\\n",
       "0   20  781 -507  walk  walk/863137003295439_walk_L_2017-07-25 17-39-0...   \n",
       "1   40  797 -492  walk  walk/863137003295439_walk_L_2017-07-25 17-39-0...   \n",
       "2   59  807 -502  walk  walk/863137003295439_walk_L_2017-07-25 17-39-0...   \n",
       "3   75  807 -527  walk  walk/863137003295439_walk_L_2017-07-25 17-39-0...   \n",
       "4  107  806 -560  walk  walk/863137003295439_walk_L_2017-07-25 17-39-0...   \n",
       "\n",
       "   suspicious  \n",
       "0       False  \n",
       "1       False  \n",
       "2       False  \n",
       "3       False  \n",
       "4       False  "
      ]
     },
     "execution_count": 89,
     "metadata": {},
     "output_type": "execute_result"
    }
   ],
   "source": [
    "seg_df.head()"
   ]
  },
  {
   "cell_type": "code",
   "execution_count": 107,
   "metadata": {},
   "outputs": [
    {
     "data": {
      "text/plain": [
       "0    walk/863137003295439_walk_L_2017-07-25 17-39-0...\n",
       "1    walk/863137003295439_walk_L_2017-07-25 17-39-0...\n",
       "2    walk/863137003295439_walk_L_2017-07-25 17-39-0...\n",
       "3    walk/863137003295439_walk_L_2017-07-25 17-39-0...\n",
       "4    walk/863137003295439_walk_L_2017-07-25 17-39-0...\n",
       "Name: seg, dtype: object"
      ]
     },
     "execution_count": 107,
     "metadata": {},
     "output_type": "execute_result"
    }
   ],
   "source": [
    "seg_df.iloc[0:5, 4]"
   ]
  },
  {
   "cell_type": "code",
   "execution_count": 91,
   "metadata": {
    "collapsed": true
   },
   "outputs": [],
   "source": [
    "raw_x = seg_df['x'].values\n",
    "raw_y = seg_df['y'].values\n",
    "raw_z = seg_df['z'].values\n",
    "raw_index = np.linspace(0, max_length, raw_x.size)\n",
    "\n",
    "f_x = interpolate.interp1d(raw_index, raw_x, kind='cubic')\n",
    "f_y = interpolate.interp1d(raw_index, raw_y, kind='cubic')\n",
    "f_z = interpolate.interp1d(raw_index, raw_z, kind='cubic')\n",
    "\n",
    "new_index = np.arange(max_length)\n",
    "new_x = f_x(new_index)\n",
    "new_y = f_y(new_index)\n",
    "new_z = f_z(new_index)"
   ]
  },
  {
   "cell_type": "code",
   "execution_count": 92,
   "metadata": {},
   "outputs": [
    {
     "data": {
      "text/plain": [
       "100"
      ]
     },
     "execution_count": 92,
     "metadata": {},
     "output_type": "execute_result"
    }
   ],
   "source": [
    "len(new_x)"
   ]
  },
  {
   "cell_type": "code",
   "execution_count": 93,
   "metadata": {},
   "outputs": [
    {
     "data": {
      "text/plain": [
       "20.0"
      ]
     },
     "execution_count": 93,
     "metadata": {},
     "output_type": "execute_result"
    }
   ],
   "source": [
    "new_x[0]"
   ]
  },
  {
   "cell_type": "code",
   "execution_count": 99,
   "metadata": {},
   "outputs": [],
   "source": [
    "# for ind in range(max_length):\n",
    "#     new_df.loc[ind+max_length, 'x'] = new_x[ind]\n",
    "#     new_df.loc[ind+max_length, 'y'] = new_y[ind]\n",
    "#     new_df.loc[ind+max_length, 'z'] = new_z[ind]\n",
    "#     new_df.loc[ind+max_length, 'class'] = seg_df.iloc[0, 3]\n",
    "#     new_df.loc[ind+max_length, 'seg'] = seg\n",
    "#     new_df.loc[ind+max_length, 'suspicious'] = seg_df.iloc[0, 5]\n",
    "\n",
    "new_df.iloc[0:max_length, 0] = new_x\n",
    "new_df.iloc[0:max_length, 1] = new_y\n",
    "new_df.iloc[0:max_length, 2] = new_z\n",
    "new_df.iloc[0:max_length, 3] = seg_df.iloc[0, 3]\n",
    "new_df.iloc[0:max_length, 4] = seg\n",
    "new_df.iloc[0:max_length, 5] = seg_df.iloc[0, 5]"
   ]
  },
  {
   "cell_type": "code",
   "execution_count": 104,
   "metadata": {},
   "outputs": [
    {
     "data": {
      "text/html": [
       "<div>\n",
       "<style>\n",
       "    .dataframe thead tr:only-child th {\n",
       "        text-align: right;\n",
       "    }\n",
       "\n",
       "    .dataframe thead th {\n",
       "        text-align: left;\n",
       "    }\n",
       "\n",
       "    .dataframe tbody tr th {\n",
       "        vertical-align: top;\n",
       "    }\n",
       "</style>\n",
       "<table border=\"1\" class=\"dataframe\">\n",
       "  <thead>\n",
       "    <tr style=\"text-align: right;\">\n",
       "      <th></th>\n",
       "      <th>x</th>\n",
       "      <th>y</th>\n",
       "      <th>z</th>\n",
       "      <th>class</th>\n",
       "      <th>seg</th>\n",
       "      <th>suspicious</th>\n",
       "    </tr>\n",
       "  </thead>\n",
       "  <tbody>\n",
       "    <tr>\n",
       "      <th>98</th>\n",
       "      <td>-95.786329</td>\n",
       "      <td>843.487729</td>\n",
       "      <td>-495.611099</td>\n",
       "      <td>walk</td>\n",
       "      <td>walk/863137003295439_walk_L_2017-07-25 17-39-0...</td>\n",
       "      <td>False</td>\n",
       "    </tr>\n",
       "    <tr>\n",
       "      <th>99</th>\n",
       "      <td>-95.987008</td>\n",
       "      <td>842.857205</td>\n",
       "      <td>-498.128814</td>\n",
       "      <td>walk</td>\n",
       "      <td>walk/863137003295439_walk_L_2017-07-25 17-39-0...</td>\n",
       "      <td>False</td>\n",
       "    </tr>\n",
       "    <tr>\n",
       "      <th>100</th>\n",
       "      <td>0.000000</td>\n",
       "      <td>0.000000</td>\n",
       "      <td>0.000000</td>\n",
       "      <td>0</td>\n",
       "      <td>0</td>\n",
       "      <td>0</td>\n",
       "    </tr>\n",
       "    <tr>\n",
       "      <th>101</th>\n",
       "      <td>0.000000</td>\n",
       "      <td>0.000000</td>\n",
       "      <td>0.000000</td>\n",
       "      <td>0</td>\n",
       "      <td>0</td>\n",
       "      <td>0</td>\n",
       "    </tr>\n",
       "  </tbody>\n",
       "</table>\n",
       "</div>"
      ],
      "text/plain": [
       "             x           y           z class  \\\n",
       "98  -95.786329  843.487729 -495.611099  walk   \n",
       "99  -95.987008  842.857205 -498.128814  walk   \n",
       "100   0.000000    0.000000    0.000000     0   \n",
       "101   0.000000    0.000000    0.000000     0   \n",
       "\n",
       "                                                   seg suspicious  \n",
       "98   walk/863137003295439_walk_L_2017-07-25 17-39-0...      False  \n",
       "99   walk/863137003295439_walk_L_2017-07-25 17-39-0...      False  \n",
       "100                                                  0          0  \n",
       "101                                                  0          0  "
      ]
     },
     "execution_count": 104,
     "metadata": {},
     "output_type": "execute_result"
    }
   ],
   "source": [
    "new_df[98:102]"
   ]
  },
  {
   "cell_type": "code",
   "execution_count": 102,
   "metadata": {},
   "outputs": [
    {
     "data": {
      "text/plain": [
       "array([ 'walk/863137003295439_walk_L_2017-07-25 17-39-00_2017-07-25 17-49-00.csv-112-154',\n",
       "       'walk/863137003295439_walk_L_2017-07-25 17-39-00_2017-07-25 17-49-00.csv-366-407',\n",
       "       'walk/863137003295439_walk_L_2017-07-25 17-39-00_2017-07-25 17-49-00.csv-427-494',\n",
       "       'walk/863137003295439_walk_L_2017-07-25 17-39-00_2017-07-25 17-49-00.csv-497-539',\n",
       "       'walk/863137003295439_walk_L_2017-07-25 17-39-00_2017-07-25 17-49-00.csv-701-770',\n",
       "       'walk/863137003295439_walk_L_2017-07-25 17-39-00_2017-07-25 17-49-00.csv-812-884',\n",
       "       'walk/863137003295439_walk_L_2017-07-25 17-39-00_2017-07-25 17-49-00.csv-895-969',\n",
       "       'walk/863137003295439_walk_L_2017-07-25 17-39-00_2017-07-25 17-49-00.csv-971-1023',\n",
       "       'walk/863137003295439_walk_L_2017-07-25 17-39-00_2017-07-25 17-49-00.csv-1050-1103'], dtype=object)"
      ]
     },
     "execution_count": 102,
     "metadata": {},
     "output_type": "execute_result"
    }
   ],
   "source": [
    "segs[1:10]"
   ]
  },
  {
   "cell_type": "code",
   "execution_count": 112,
   "metadata": {
    "collapsed": true
   },
   "outputs": [],
   "source": [
    "seg_num = 1\n",
    "for seg in segs[1:100]:\n",
    "    seg_df = df[df['seg'] == seg]\n",
    "\n",
    "    raw_x = seg_df['x'].values\n",
    "    raw_y = seg_df['y'].values\n",
    "    raw_z = seg_df['z'].values\n",
    "    raw_index = np.linspace(0, max_length, raw_x.size)\n",
    "\n",
    "    f_x = interpolate.interp1d(raw_index, raw_x, kind='cubic')\n",
    "    f_y = interpolate.interp1d(raw_index, raw_y, kind='cubic')\n",
    "    f_z = interpolate.interp1d(raw_index, raw_z, kind='cubic')\n",
    "\n",
    "    new_index = np.arange(max_length)\n",
    "    new_x = f_x(new_index)\n",
    "    new_y = f_y(new_index)\n",
    "    new_z = f_z(new_index)\n",
    "    \n",
    "    new_df.iloc[seg_num*max_length : (seg_num+1)*max_length, 0] = new_x\n",
    "    new_df.iloc[seg_num*max_length : (seg_num+1)*max_length, 1] = new_y\n",
    "    new_df.iloc[seg_num*max_length : (seg_num+1)*max_length, 2] = new_z\n",
    "    new_df.iloc[seg_num*max_length : (seg_num+1)*max_length, 3] = seg_df.iloc[0, 3]\n",
    "    new_df.iloc[seg_num*max_length : (seg_num+1)*max_length, 4] = seg\n",
    "    new_df.iloc[seg_num*max_length : (seg_num+1)*max_length, 5] = seg_df.iloc[0, 5]\n",
    "    \n",
    "    seg_num += 1"
   ]
  },
  {
   "cell_type": "code",
   "execution_count": 114,
   "metadata": {},
   "outputs": [
    {
     "data": {
      "text/html": [
       "<div>\n",
       "<style>\n",
       "    .dataframe thead tr:only-child th {\n",
       "        text-align: right;\n",
       "    }\n",
       "\n",
       "    .dataframe thead th {\n",
       "        text-align: left;\n",
       "    }\n",
       "\n",
       "    .dataframe tbody tr th {\n",
       "        vertical-align: top;\n",
       "    }\n",
       "</style>\n",
       "<table border=\"1\" class=\"dataframe\">\n",
       "  <thead>\n",
       "    <tr style=\"text-align: right;\">\n",
       "      <th></th>\n",
       "      <th>x</th>\n",
       "      <th>y</th>\n",
       "      <th>z</th>\n",
       "      <th>class</th>\n",
       "      <th>seg</th>\n",
       "      <th>suspicious</th>\n",
       "    </tr>\n",
       "  </thead>\n",
       "  <tbody>\n",
       "    <tr>\n",
       "      <th>9998</th>\n",
       "      <td>250.903073</td>\n",
       "      <td>183.52975</td>\n",
       "      <td>829.332408</td>\n",
       "      <td>bweep</td>\n",
       "      <td>bweep/大扫帚扫地/大扫帚扫右手（现场部署）/863137003297617_2017-...</td>\n",
       "      <td>False</td>\n",
       "    </tr>\n",
       "    <tr>\n",
       "      <th>9999</th>\n",
       "      <td>317.572902</td>\n",
       "      <td>167.90079</td>\n",
       "      <td>749.802360</td>\n",
       "      <td>bweep</td>\n",
       "      <td>bweep/大扫帚扫地/大扫帚扫右手（现场部署）/863137003297617_2017-...</td>\n",
       "      <td>False</td>\n",
       "    </tr>\n",
       "    <tr>\n",
       "      <th>10000</th>\n",
       "      <td>0.000000</td>\n",
       "      <td>0.00000</td>\n",
       "      <td>0.000000</td>\n",
       "      <td>0</td>\n",
       "      <td>0</td>\n",
       "      <td>0</td>\n",
       "    </tr>\n",
       "    <tr>\n",
       "      <th>10001</th>\n",
       "      <td>0.000000</td>\n",
       "      <td>0.00000</td>\n",
       "      <td>0.000000</td>\n",
       "      <td>0</td>\n",
       "      <td>0</td>\n",
       "      <td>0</td>\n",
       "    </tr>\n",
       "  </tbody>\n",
       "</table>\n",
       "</div>"
      ],
      "text/plain": [
       "                x          y           z  class  \\\n",
       "9998   250.903073  183.52975  829.332408  bweep   \n",
       "9999   317.572902  167.90079  749.802360  bweep   \n",
       "10000    0.000000    0.00000    0.000000      0   \n",
       "10001    0.000000    0.00000    0.000000      0   \n",
       "\n",
       "                                                     seg suspicious  \n",
       "9998   bweep/大扫帚扫地/大扫帚扫右手（现场部署）/863137003297617_2017-...      False  \n",
       "9999   bweep/大扫帚扫地/大扫帚扫右手（现场部署）/863137003297617_2017-...      False  \n",
       "10000                                                  0          0  \n",
       "10001                                                  0          0  "
      ]
     },
     "execution_count": 114,
     "metadata": {},
     "output_type": "execute_result"
    }
   ],
   "source": [
    "new_df[9998:10002]"
   ]
  },
  {
   "cell_type": "code",
   "execution_count": null,
   "metadata": {
    "collapsed": true
   },
   "outputs": [],
   "source": []
  }
 ],
 "metadata": {
  "kernelspec": {
   "display_name": "Python 3",
   "language": "python",
   "name": "python3"
  },
  "language_info": {
   "codemirror_mode": {
    "name": "ipython",
    "version": 3
   },
   "file_extension": ".py",
   "mimetype": "text/x-python",
   "name": "python",
   "nbconvert_exporter": "python",
   "pygments_lexer": "ipython3",
   "version": "3.6.1"
  }
 },
 "nbformat": 4,
 "nbformat_minor": 2
}

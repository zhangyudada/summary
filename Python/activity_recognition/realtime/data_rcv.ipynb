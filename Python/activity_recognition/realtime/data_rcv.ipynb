{
 "cells": [
  {
   "cell_type": "code",
   "execution_count": 34,
   "metadata": {},
   "outputs": [],
   "source": [
    "import pandas as pd\n",
    "import numpy as np\n",
    "\n",
    "import socket\n",
    "import time\n",
    "import struct\n",
    "import binascii\n",
    "import ctypes"
   ]
  },
  {
   "cell_type": "code",
   "execution_count": 35,
   "metadata": {},
   "outputs": [],
   "source": [
    "ip_port = ('127.0.0.1',9999)\n",
    "sk = socket.socket(socket.AF_INET,socket.SOCK_DGRAM,0)\n",
    "sk.bind(ip_port)"
   ]
  },
  {
   "cell_type": "code",
   "execution_count": 36,
   "metadata": {},
   "outputs": [],
   "source": [
    "def rcv_decode(data):\n",
    "    s = struct.Struct('<150h')\n",
    "    rcv_arr = np.array(s.unpack_from(binascii.unhexlify(data),0))\n",
    "    rcv_arr = rcv_arr/32768*4*9.8*100\n",
    "    x = rcv_arr[0:150:3]\n",
    "    y = rcv_arr[1:150:3]\n",
    "    z = rcv_arr[2:150:3]\n",
    "    return x, y, z"
   ]
  },
  {
   "cell_type": "code",
   "execution_count": 42,
   "metadata": {},
   "outputs": [
    {
     "name": "stdout",
     "output_type": "stream",
     "text": [
      "2018-01-19 18:35:26数据为：fa0d8a1cad326c0af4191f3336043b1df83684018021323a38001624443c25fea9246f3d80fdd722493c0f00af20223a400467207e39b1071f20d3398e083220a03b28050820113b0904bb1f8e397504921f3b38a604d51fdf385804d91fce390604661fb0391d04161f36397a04c61e3a39db04051e473ae604631d843a1a05161d3b3a5305281dc039a202ee1ef338faff76204e388afe6121d837b3fe3622c037b7ff5f22ec3753ff2422af3775fe6622323785fd3323a93600fd9c24ec3554fda224fc35d4fd1224703636fe67232e37c5fdb723b636c3fcae241a35aefb23258233a1fbf9242333cefd56241e3505ff602477364fff6624c336d7fe3724f735c6fe3d25c234cffe3c262a356ffe74265036abfd2126c33661fd0726763516fe57268e33c2feb2259334\n",
      "数据长度：600\n"
     ]
    }
   ],
   "source": [
    "data_len = 600\n",
    "while True:\n",
    "    data = sk.recv(1024)\n",
    "    if len(data) == data_len:\n",
    "        x,y,z = rcv_decode(data)\n",
    "        t = time.strftime('%Y-%m-%d %H:%M:%S')\n",
    "        print(t+'数据为：%s' % bytes.decode(data))\n",
    "        print('数据长度：%d' % len(bytes.decode(data)))\n",
    "        break"
   ]
  },
  {
   "cell_type": "code",
   "execution_count": 41,
   "metadata": {},
   "outputs": [
    {
     "data": {
      "text/plain": [
       "array([ 214.01611328,  159.58496094,   64.47998047,   23.20800781,\n",
       "          3.34960938,  -28.41186523,  -38.28125   ,    0.8972168 ,\n",
       "         65.078125  ,  117.7746582 ,  130.99365234,   78.95507813,\n",
       "         61.78833008,   68.24829102,   71.17919922,   66.51367188,\n",
       "         61.60888672,   62.98461914,   68.54736328,   74.34936523,\n",
       "         75.00732422,   78.11767578,   81.52709961,   40.31494141,\n",
       "         -0.35888672,  -22.37060547,  -19.91821289,   -4.36645508,\n",
       "        -10.34790039,  -23.62670898,  -37.98217773,  -45.9375    ,\n",
       "        -40.91308594,  -33.25683594,  -27.39501953,  -34.15405273,\n",
       "        -49.58618164,  -66.15478516,  -66.93237305,  -33.61572266,\n",
       "        -15.01342773,  -10.5871582 ,  -17.76489258,  -18.78173828,\n",
       "        -18.2434082 ,  -23.9855957 ,  -35.70922852,  -40.13549805,\n",
       "        -29.30908203,  -19.02099609])"
      ]
     },
     "execution_count": 41,
     "metadata": {},
     "output_type": "execute_result"
    },
    {
     "data": {
      "text/plain": [
       "array([ 437.00439453,  397.40722656,  447.59155273,  512.96875   ,\n",
       "        552.56591797,  561.35864258,  533.48510742,  500.4675293 ,\n",
       "        496.16088867,  491.85424805,  492.99072266,  490.47851562,\n",
       "        485.87280273,  483.42041016,  487.42797852,  487.66723633,\n",
       "        480.78857422,  476.00341797,  471.21826172,  459.67407227,\n",
       "        449.98413086,  445.37841797,  446.45507813,  473.61083984,\n",
       "        497.05810547,  511.11450195,  523.85498047,  526.30737305,\n",
       "        522.77832031,  526.72607422,  538.98803711,  560.58105469,\n",
       "        560.93994141,  552.32666016,  542.09838867,  546.88354492,\n",
       "        561.65771484,  568.65600586,  566.14379883,  556.39404297,\n",
       "        556.9921875 ,  557.35107422,  554.53979492,  570.21118164,\n",
       "        585.46386719,  588.81347656,  583.84887695,  582.29370117,\n",
       "        587.07885742,  577.20947266])"
      ]
     },
     "execution_count": 41,
     "metadata": {},
     "output_type": "execute_result"
    },
    {
     "data": {
      "text/plain": [
       "array([ 775.97290039,  782.79174805,  841.70898438,  891.11572266,\n",
       "        922.81738281,  940.7019043 ,  923.11645508,  890.15869141,\n",
       "        880.34912109,  885.43334961,  913.0078125 ,  904.4543457 ,\n",
       "        881.30615234,  861.02905273,  870.83862305,  885.13427734,\n",
       "        883.33984375,  876.04248047,  876.28173828,  892.37182617,\n",
       "        896.02050781,  891.65405273,  884.296875  ,  872.03491211,\n",
       "        862.16552734,  855.10742188,  853.671875  ,  856.30371094,\n",
       "        852.6550293 ,  845.17822266,  836.98364258,  825.67871094,\n",
       "        826.63574219,  833.57421875,  844.93896484,  837.76123047,\n",
       "        813.11767578,  788.71337891,  783.03100586,  813.35693359,\n",
       "        833.99291992,  838.53881836,  826.33666992,  807.85400391,\n",
       "        814.07470703,  831.66015625,  838.53881836,  818.62060547,\n",
       "        789.43115234,  805.04272461])"
      ]
     },
     "execution_count": 41,
     "metadata": {},
     "output_type": "execute_result"
    }
   ],
   "source": [
    "x\n",
    "y\n",
    "z"
   ]
  },
  {
   "cell_type": "code",
   "execution_count": null,
   "metadata": {},
   "outputs": [],
   "source": []
  }
 ],
 "metadata": {
  "kernelspec": {
   "display_name": "Python 3",
   "language": "python",
   "name": "python3"
  },
  "language_info": {
   "codemirror_mode": {
    "name": "ipython",
    "version": 3
   },
   "file_extension": ".py",
   "mimetype": "text/x-python",
   "name": "python",
   "nbconvert_exporter": "python",
   "pygments_lexer": "ipython3",
   "version": "3.6.1"
  },
  "toc": {
   "nav_menu": {},
   "number_sections": true,
   "sideBar": true,
   "skip_h1_title": false,
   "toc_cell": false,
   "toc_position": {},
   "toc_section_display": "block",
   "toc_window_display": false
  },
  "varInspector": {
   "cols": {
    "lenName": 16,
    "lenType": 16,
    "lenVar": 40
   },
   "kernels_config": {
    "python": {
     "delete_cmd_postfix": "",
     "delete_cmd_prefix": "del ",
     "library": "var_list.py",
     "varRefreshCmd": "print(var_dic_list())"
    },
    "r": {
     "delete_cmd_postfix": ") ",
     "delete_cmd_prefix": "rm(",
     "library": "var_list.r",
     "varRefreshCmd": "cat(var_dic_list()) "
    }
   },
   "types_to_exclude": [
    "module",
    "function",
    "builtin_function_or_method",
    "instance",
    "_Feature"
   ],
   "window_display": false
  }
 },
 "nbformat": 4,
 "nbformat_minor": 2
}

{
 "cells": [
  {
   "cell_type": "code",
   "execution_count": 1,
   "metadata": {},
   "outputs": [],
   "source": [
    "import pandas as pd\n",
    "import numpy as np\n",
    "\n",
    "from sklearn.neighbors import KNeighborsClassifier\n",
    "from sklearn.tree import DecisionTreeClassifier\n",
    "from sklearn.naive_bayes import GaussianNB\n",
    "from sklearn import svm\n",
    "from sklearn.externals import joblib"
   ]
  },
  {
   "cell_type": "code",
   "execution_count": 2,
   "metadata": {},
   "outputs": [],
   "source": [
    "training_data = pd.read_csv('./feature_matrix_all.csv')"
   ]
  },
  {
   "cell_type": "code",
   "execution_count": 3,
   "metadata": {},
   "outputs": [
    {
     "data": {
      "text/html": [
       "<div>\n",
       "<style scoped>\n",
       "    .dataframe tbody tr th:only-of-type {\n",
       "        vertical-align: middle;\n",
       "    }\n",
       "\n",
       "    .dataframe tbody tr th {\n",
       "        vertical-align: top;\n",
       "    }\n",
       "\n",
       "    .dataframe thead th {\n",
       "        text-align: right;\n",
       "    }\n",
       "</style>\n",
       "<table border=\"1\" class=\"dataframe\">\n",
       "  <thead>\n",
       "    <tr style=\"text-align: right;\">\n",
       "      <th></th>\n",
       "      <th>label</th>\n",
       "      <th>sum_x</th>\n",
       "      <th>sum_y</th>\n",
       "      <th>sum_z</th>\n",
       "      <th>mean_x</th>\n",
       "      <th>mean_y</th>\n",
       "      <th>mean_z</th>\n",
       "      <th>std_x</th>\n",
       "      <th>std_y</th>\n",
       "      <th>std_z</th>\n",
       "      <th>...</th>\n",
       "      <th>logpower_z</th>\n",
       "      <th>peak_x</th>\n",
       "      <th>peak_y</th>\n",
       "      <th>peak_z</th>\n",
       "      <th>cross0_x</th>\n",
       "      <th>cross0_y</th>\n",
       "      <th>cross0_z</th>\n",
       "      <th>cor_xy</th>\n",
       "      <th>cor_yz</th>\n",
       "      <th>cor_zx</th>\n",
       "    </tr>\n",
       "  </thead>\n",
       "  <tbody>\n",
       "    <tr>\n",
       "      <th>8523</th>\n",
       "      <td>run</td>\n",
       "      <td>0.189805</td>\n",
       "      <td>-1.281936</td>\n",
       "      <td>0.872933</td>\n",
       "      <td>0.189805</td>\n",
       "      <td>-1.281936</td>\n",
       "      <td>0.872933</td>\n",
       "      <td>2.050616</td>\n",
       "      <td>4.132020</td>\n",
       "      <td>0.406729</td>\n",
       "      <td>...</td>\n",
       "      <td>-0.235000</td>\n",
       "      <td>0.476485</td>\n",
       "      <td>3.333746</td>\n",
       "      <td>0.739004</td>\n",
       "      <td>-0.224119</td>\n",
       "      <td>2.717729</td>\n",
       "      <td>1.382503</td>\n",
       "      <td>0.249037</td>\n",
       "      <td>-0.575488</td>\n",
       "      <td>0.296395</td>\n",
       "    </tr>\n",
       "    <tr>\n",
       "      <th>8524</th>\n",
       "      <td>run</td>\n",
       "      <td>0.109256</td>\n",
       "      <td>-1.686669</td>\n",
       "      <td>0.854560</td>\n",
       "      <td>0.109256</td>\n",
       "      <td>-1.686669</td>\n",
       "      <td>0.854560</td>\n",
       "      <td>2.007196</td>\n",
       "      <td>4.072584</td>\n",
       "      <td>0.481589</td>\n",
       "      <td>...</td>\n",
       "      <td>-0.260547</td>\n",
       "      <td>0.476485</td>\n",
       "      <td>4.979932</td>\n",
       "      <td>0.739004</td>\n",
       "      <td>0.101317</td>\n",
       "      <td>3.307289</td>\n",
       "      <td>1.382503</td>\n",
       "      <td>0.473085</td>\n",
       "      <td>-0.857446</td>\n",
       "      <td>0.152227</td>\n",
       "    </tr>\n",
       "    <tr>\n",
       "      <th>8525</th>\n",
       "      <td>run</td>\n",
       "      <td>0.025911</td>\n",
       "      <td>-1.615912</td>\n",
       "      <td>0.989746</td>\n",
       "      <td>0.025911</td>\n",
       "      <td>-1.615912</td>\n",
       "      <td>0.989746</td>\n",
       "      <td>2.089717</td>\n",
       "      <td>3.784458</td>\n",
       "      <td>0.669307</td>\n",
       "      <td>...</td>\n",
       "      <td>-0.054197</td>\n",
       "      <td>0.476485</td>\n",
       "      <td>3.882474</td>\n",
       "      <td>0.119255</td>\n",
       "      <td>0.101317</td>\n",
       "      <td>3.307289</td>\n",
       "      <td>1.073339</td>\n",
       "      <td>0.719519</td>\n",
       "      <td>-0.697778</td>\n",
       "      <td>0.106412</td>\n",
       "    </tr>\n",
       "    <tr>\n",
       "      <th>8526</th>\n",
       "      <td>run</td>\n",
       "      <td>0.216958</td>\n",
       "      <td>-1.211040</td>\n",
       "      <td>1.025839</td>\n",
       "      <td>0.216958</td>\n",
       "      <td>-1.211040</td>\n",
       "      <td>1.025839</td>\n",
       "      <td>2.181549</td>\n",
       "      <td>3.842519</td>\n",
       "      <td>0.837790</td>\n",
       "      <td>...</td>\n",
       "      <td>0.068773</td>\n",
       "      <td>0.476485</td>\n",
       "      <td>3.333746</td>\n",
       "      <td>0.739004</td>\n",
       "      <td>-0.224119</td>\n",
       "      <td>3.307289</td>\n",
       "      <td>1.382503</td>\n",
       "      <td>0.299352</td>\n",
       "      <td>-0.634271</td>\n",
       "      <td>0.279858</td>\n",
       "    </tr>\n",
       "    <tr>\n",
       "      <th>8527</th>\n",
       "      <td>run</td>\n",
       "      <td>0.254702</td>\n",
       "      <td>-0.878254</td>\n",
       "      <td>0.959617</td>\n",
       "      <td>0.254702</td>\n",
       "      <td>-0.878254</td>\n",
       "      <td>0.959617</td>\n",
       "      <td>1.777935</td>\n",
       "      <td>3.765450</td>\n",
       "      <td>0.857882</td>\n",
       "      <td>...</td>\n",
       "      <td>-0.005772</td>\n",
       "      <td>0.476485</td>\n",
       "      <td>2.785017</td>\n",
       "      <td>0.739004</td>\n",
       "      <td>-0.549554</td>\n",
       "      <td>3.602069</td>\n",
       "      <td>1.382503</td>\n",
       "      <td>0.082836</td>\n",
       "      <td>-0.724532</td>\n",
       "      <td>0.273126</td>\n",
       "    </tr>\n",
       "  </tbody>\n",
       "</table>\n",
       "<p>5 rows × 58 columns</p>\n",
       "</div>"
      ],
      "text/plain": [
       "     label     sum_x     sum_y     sum_z    mean_x    mean_y    mean_z  \\\n",
       "8523   run  0.189805 -1.281936  0.872933  0.189805 -1.281936  0.872933   \n",
       "8524   run  0.109256 -1.686669  0.854560  0.109256 -1.686669  0.854560   \n",
       "8525   run  0.025911 -1.615912  0.989746  0.025911 -1.615912  0.989746   \n",
       "8526   run  0.216958 -1.211040  1.025839  0.216958 -1.211040  1.025839   \n",
       "8527   run  0.254702 -0.878254  0.959617  0.254702 -0.878254  0.959617   \n",
       "\n",
       "         std_x     std_y     std_z    ...     logpower_z    peak_x    peak_y  \\\n",
       "8523  2.050616  4.132020  0.406729    ...      -0.235000  0.476485  3.333746   \n",
       "8524  2.007196  4.072584  0.481589    ...      -0.260547  0.476485  4.979932   \n",
       "8525  2.089717  3.784458  0.669307    ...      -0.054197  0.476485  3.882474   \n",
       "8526  2.181549  3.842519  0.837790    ...       0.068773  0.476485  3.333746   \n",
       "8527  1.777935  3.765450  0.857882    ...      -0.005772  0.476485  2.785017   \n",
       "\n",
       "        peak_z  cross0_x  cross0_y  cross0_z    cor_xy    cor_yz    cor_zx  \n",
       "8523  0.739004 -0.224119  2.717729  1.382503  0.249037 -0.575488  0.296395  \n",
       "8524  0.739004  0.101317  3.307289  1.382503  0.473085 -0.857446  0.152227  \n",
       "8525  0.119255  0.101317  3.307289  1.073339  0.719519 -0.697778  0.106412  \n",
       "8526  0.739004 -0.224119  3.307289  1.382503  0.299352 -0.634271  0.279858  \n",
       "8527  0.739004 -0.549554  3.602069  1.382503  0.082836 -0.724532  0.273126  \n",
       "\n",
       "[5 rows x 58 columns]"
      ]
     },
     "execution_count": 3,
     "metadata": {},
     "output_type": "execute_result"
    }
   ],
   "source": [
    "training_data.tail()\n",
    "# training_data.mean(axis=0)\n",
    "# training_data.std(axis=0)"
   ]
  },
  {
   "cell_type": "code",
   "execution_count": 4,
   "metadata": {},
   "outputs": [],
   "source": [
    "X = np.array(training_data.drop('label',axis=1))\n",
    "y = training_data['label']"
   ]
  },
  {
   "cell_type": "code",
   "execution_count": 5,
   "metadata": {},
   "outputs": [
    {
     "data": {
      "text/plain": [
       "KNeighborsClassifier(algorithm='auto', leaf_size=30, metric='minkowski',\n",
       "           metric_params=None, n_jobs=1, n_neighbors=5, p=2,\n",
       "           weights='uniform')"
      ]
     },
     "execution_count": 5,
     "metadata": {},
     "output_type": "execute_result"
    },
    {
     "data": {
      "text/plain": [
       "['./model/knn.pkl']"
      ]
     },
     "execution_count": 5,
     "metadata": {},
     "output_type": "execute_result"
    }
   ],
   "source": [
    "knn = KNeighborsClassifier()\n",
    "knn.fit(X, y)\n",
    "joblib.dump(knn, './model/knn.pkl')"
   ]
  },
  {
   "cell_type": "code",
   "execution_count": 6,
   "metadata": {},
   "outputs": [
    {
     "data": {
      "text/plain": [
       "DecisionTreeClassifier(class_weight=None, criterion='entropy', max_depth=None,\n",
       "            max_features=None, max_leaf_nodes=None,\n",
       "            min_impurity_decrease=0.0, min_impurity_split=None,\n",
       "            min_samples_leaf=1, min_samples_split=2,\n",
       "            min_weight_fraction_leaf=0.0, presort=False, random_state=None,\n",
       "            splitter='best')"
      ]
     },
     "execution_count": 6,
     "metadata": {},
     "output_type": "execute_result"
    },
    {
     "data": {
      "text/plain": [
       "['./model/dt.pkl']"
      ]
     },
     "execution_count": 6,
     "metadata": {},
     "output_type": "execute_result"
    }
   ],
   "source": [
    "dt = DecisionTreeClassifier(criterion='entropy')\n",
    "dt.fit(X, y)\n",
    "joblib.dump(dt, './model/dt.pkl')"
   ]
  },
  {
   "cell_type": "code",
   "execution_count": 7,
   "metadata": {},
   "outputs": [
    {
     "data": {
      "text/plain": [
       "GaussianNB(priors=None)"
      ]
     },
     "execution_count": 7,
     "metadata": {},
     "output_type": "execute_result"
    },
    {
     "data": {
      "text/plain": [
       "['./model/gnb.pkl']"
      ]
     },
     "execution_count": 7,
     "metadata": {},
     "output_type": "execute_result"
    }
   ],
   "source": [
    "gnb = GaussianNB()\n",
    "gnb.fit(X, y)\n",
    "joblib.dump(gnb, './model/gnb.pkl')"
   ]
  },
  {
   "cell_type": "code",
   "execution_count": 8,
   "metadata": {},
   "outputs": [
    {
     "data": {
      "text/plain": [
       "SVC(C=5, cache_size=1000, class_weight=None, coef0=0.0,\n",
       "  decision_function_shape='ovr', degree=3, gamma='auto', kernel='rbf',\n",
       "  max_iter=-1, probability=False, random_state=None, shrinking=True,\n",
       "  tol=0.001, verbose=False)"
      ]
     },
     "execution_count": 8,
     "metadata": {},
     "output_type": "execute_result"
    },
    {
     "data": {
      "text/plain": [
       "['./model/svm_clf.pkl']"
      ]
     },
     "execution_count": 8,
     "metadata": {},
     "output_type": "execute_result"
    }
   ],
   "source": [
    "svm_clf = svm.SVC(C=5, cache_size=1000)\n",
    "svm_clf.fit(X, y)\n",
    "joblib.dump(svm_clf, './model/svm_clf.pkl')"
   ]
  },
  {
   "cell_type": "code",
   "execution_count": null,
   "metadata": {},
   "outputs": [],
   "source": []
  }
 ],
 "metadata": {
  "kernelspec": {
   "display_name": "Python 3",
   "language": "python",
   "name": "python3"
  },
  "language_info": {
   "codemirror_mode": {
    "name": "ipython",
    "version": 3
   },
   "file_extension": ".py",
   "mimetype": "text/x-python",
   "name": "python",
   "nbconvert_exporter": "python",
   "pygments_lexer": "ipython3",
   "version": "3.6.1"
  },
  "toc": {
   "nav_menu": {},
   "number_sections": true,
   "sideBar": true,
   "skip_h1_title": false,
   "toc_cell": false,
   "toc_position": {},
   "toc_section_display": "block",
   "toc_window_display": false
  },
  "varInspector": {
   "cols": {
    "lenName": 16,
    "lenType": 16,
    "lenVar": 40
   },
   "kernels_config": {
    "python": {
     "delete_cmd_postfix": "",
     "delete_cmd_prefix": "del ",
     "library": "var_list.py",
     "varRefreshCmd": "print(var_dic_list())"
    },
    "r": {
     "delete_cmd_postfix": ") ",
     "delete_cmd_prefix": "rm(",
     "library": "var_list.r",
     "varRefreshCmd": "cat(var_dic_list()) "
    }
   },
   "types_to_exclude": [
    "module",
    "function",
    "builtin_function_or_method",
    "instance",
    "_Feature"
   ],
   "window_display": false
  }
 },
 "nbformat": 4,
 "nbformat_minor": 2
}

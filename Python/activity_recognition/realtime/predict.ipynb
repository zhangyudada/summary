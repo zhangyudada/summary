{
 "cells": [
  {
   "cell_type": "code",
   "execution_count": 1,
   "metadata": {},
   "outputs": [],
   "source": [
    "import pandas as pd\n",
    "import numpy as np\n",
    "\n",
    "from sklearn import preprocessing\n",
    "from sklearn.neighbors import KNeighborsClassifier\n",
    "from sklearn.tree import DecisionTreeClassifier\n",
    "from sklearn.naive_bayes import GaussianNB\n",
    "from sklearn import svm\n",
    "from sklearn.externals import joblib\n",
    "\n",
    "import feature_project as fp\n",
    "from sklearn.externals import joblib"
   ]
  },
  {
   "cell_type": "code",
   "execution_count": 2,
   "metadata": {},
   "outputs": [
    {
     "data": {
      "text/plain": [
       "StandardScaler(copy=True, with_mean=True, with_std=True)"
      ]
     },
     "execution_count": 2,
     "metadata": {},
     "output_type": "execute_result"
    }
   ],
   "source": [
    "scaler = joblib.load('./model/scaler.pkl') \n",
    "scaler"
   ]
  },
  {
   "cell_type": "code",
   "execution_count": 3,
   "metadata": {},
   "outputs": [
    {
     "data": {
      "text/plain": [
       "25150"
      ]
     },
     "execution_count": 3,
     "metadata": {},
     "output_type": "execute_result"
    }
   ],
   "source": [
    "df = pd.read_csv('../data/processed_data/all/resample_to_50_per_act/file_split/test.csv')\n",
    "len(df)"
   ]
  },
  {
   "cell_type": "code",
   "execution_count": 4,
   "metadata": {},
   "outputs": [
    {
     "data": {
      "text/plain": [
       "(57,)"
      ]
     },
     "execution_count": 4,
     "metadata": {},
     "output_type": "execute_result"
    }
   ],
   "source": [
    "seg_df = df.iloc[25100 : 25150]\n",
    "x = seg_df['x'].values\n",
    "y = seg_df['y'].values\n",
    "z = seg_df['z'].values\n",
    "X = fp.feature_extraction(x,y,z)\n",
    "X.shape"
   ]
  },
  {
   "cell_type": "code",
   "execution_count": 5,
   "metadata": {},
   "outputs": [
    {
     "data": {
      "text/plain": [
       "(1, 57)"
      ]
     },
     "execution_count": 5,
     "metadata": {},
     "output_type": "execute_result"
    }
   ],
   "source": [
    "X=X.reshape(1, -1)\n",
    "X.shape"
   ]
  },
  {
   "cell_type": "code",
   "execution_count": 6,
   "metadata": {},
   "outputs": [
    {
     "data": {
      "text/plain": [
       "(1, 57)"
      ]
     },
     "execution_count": 6,
     "metadata": {},
     "output_type": "execute_result"
    },
    {
     "data": {
      "text/plain": [
       "array([[-0.86067934, -0.94961705,  1.05408351, -0.86067934, -0.94961705,\n",
       "         1.05408351, -1.23071208, -1.30564387, -0.85284413,  0.01388167,\n",
       "        -0.05252313, -0.00433124, -1.27839704, -1.2371996 , -1.00952865,\n",
       "        -0.53376876, -0.47062509,  0.99573958, -0.56826271, -0.43262286,\n",
       "         1.07066497, -0.8396707 , -0.62372188,  0.9293447 , -0.79971012,\n",
       "        -0.70509711,  0.78181566, -0.86244294, -0.56349847,  0.60450226,\n",
       "        -0.35823136, -0.21706576, -0.31442355,  1.10610453,  1.02534219,\n",
       "         1.13942648, -0.10135426,  0.28945528, -0.57150554, -0.0508545 ,\n",
       "         0.32017613, -0.08700637,  0.26052199, -1.09226975, -0.29220559,\n",
       "         0.72290697, -1.51337296,  0.57847426, -0.18189815,  0.38135362,\n",
       "        -0.48638521, -1.84667385, -1.69645139, -1.99740954,  1.15776962,\n",
       "         1.16536707,  1.92483437]])"
      ]
     },
     "execution_count": 6,
     "metadata": {},
     "output_type": "execute_result"
    }
   ],
   "source": [
    "X = scaler.transform(X)\n",
    "X.shape\n",
    "X"
   ]
  },
  {
   "cell_type": "code",
   "execution_count": 7,
   "metadata": {},
   "outputs": [
    {
     "data": {
      "text/plain": [
       "array(['dump'], dtype=object)"
      ]
     },
     "execution_count": 7,
     "metadata": {},
     "output_type": "execute_result"
    }
   ],
   "source": [
    "clf = joblib.load('./model/svm_clf.pkl')\n",
    "clf.predict(X)"
   ]
  },
  {
   "cell_type": "code",
   "execution_count": 8,
   "metadata": {},
   "outputs": [
    {
     "name": "stdout",
     "output_type": "stream",
     "text": [
      "[   1] : predict label : walk, true label : walk, accuracy :  1.00000\n",
      "[   2] : predict label : walk, true label : walk, accuracy :  1.00000\n",
      "[   3] : predict label : walk, true label : walk, accuracy :  1.00000\n",
      "[   4] : predict label : walk, true label : walk, accuracy :  1.00000\n",
      "[   5] : predict label : walk, true label : walk, accuracy :  1.00000\n",
      "[   6] : predict label : walk, true label : walk, accuracy :  1.00000\n",
      "[   7] : predict label : walk, true label : walk, accuracy :  1.00000\n",
      "[   8] : predict label : walk, true label : walk, accuracy :  1.00000\n",
      "[   9] : predict label : walk, true label : walk, accuracy :  1.00000\n",
      "[  10] : predict label : bweep, true label : bweep, accuracy :  1.00000\n",
      "[  11] : predict label : bweep, true label : bweep, accuracy :  1.00000\n"
     ]
    }
   ],
   "source": [
    "clf = joblib.load('./model/svm_clf.pkl') \n",
    "subw_size = 50\n",
    "subw_step = 50\n",
    "start = 0\n",
    "# df_len = len(df)\n",
    "# end_index = df_len - subw_size + 1\n",
    "end_index = 500 + 1\n",
    "predict_num = 0\n",
    "true_num = 0\n",
    "while start < end_index:\n",
    "    end = start + subw_size\n",
    "    seg_df = df.iloc[start : end]\n",
    "    true_label = seg_df.label.unique()[0] if len(seg_df.label.unique())==1 else 'other'\n",
    "    x = seg_df['x'].values\n",
    "    y = seg_df['y'].values\n",
    "    z = seg_df['z'].values\n",
    "    X = fp.feature_extraction(x,y,z).reshape(1, -1)\n",
    "    X = scaler.transform(X)\n",
    "    predict_label = clf.predict(X)[0]\n",
    "    predict_num += 1\n",
    "    if predict_label == true_label:\n",
    "        true_num += 1\n",
    "    print('[%4d] : predict label : %s, true label : %s, accuracy : % .5f' \\\n",
    "          %(predict_num,predict_label,true_label,true_num/predict_num))\n",
    "    start += subw_step"
   ]
  },
  {
   "cell_type": "code",
   "execution_count": null,
   "metadata": {},
   "outputs": [],
   "source": []
  }
 ],
 "metadata": {
  "kernelspec": {
   "display_name": "Python 3",
   "language": "python",
   "name": "python3"
  },
  "language_info": {
   "codemirror_mode": {
    "name": "ipython",
    "version": 3
   },
   "file_extension": ".py",
   "mimetype": "text/x-python",
   "name": "python",
   "nbconvert_exporter": "python",
   "pygments_lexer": "ipython3",
   "version": "3.6.1"
  },
  "toc": {
   "nav_menu": {},
   "number_sections": true,
   "sideBar": true,
   "skip_h1_title": false,
   "toc_cell": false,
   "toc_position": {},
   "toc_section_display": "block",
   "toc_window_display": false
  },
  "varInspector": {
   "cols": {
    "lenName": 16,
    "lenType": 16,
    "lenVar": 40
   },
   "kernels_config": {
    "python": {
     "delete_cmd_postfix": "",
     "delete_cmd_prefix": "del ",
     "library": "var_list.py",
     "varRefreshCmd": "print(var_dic_list())"
    },
    "r": {
     "delete_cmd_postfix": ") ",
     "delete_cmd_prefix": "rm(",
     "library": "var_list.r",
     "varRefreshCmd": "cat(var_dic_list()) "
    }
   },
   "types_to_exclude": [
    "module",
    "function",
    "builtin_function_or_method",
    "instance",
    "_Feature"
   ],
   "window_display": false
  }
 },
 "nbformat": 4,
 "nbformat_minor": 2
}

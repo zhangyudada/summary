{
 "cells": [
  {
   "cell_type": "code",
   "execution_count": 54,
   "metadata": {},
   "outputs": [],
   "source": [
    "import pandas as pd\n",
    "import numpy as np\n",
    "\n",
    "import struct\n",
    "import binascii\n",
    "import ctypes\n",
    "\n",
    "import time\n",
    "import socket"
   ]
  },
  {
   "cell_type": "code",
   "execution_count": 55,
   "metadata": {},
   "outputs": [
    {
     "data": {
      "text/html": [
       "<div>\n",
       "<style scoped>\n",
       "    .dataframe tbody tr th:only-of-type {\n",
       "        vertical-align: middle;\n",
       "    }\n",
       "\n",
       "    .dataframe tbody tr th {\n",
       "        vertical-align: top;\n",
       "    }\n",
       "\n",
       "    .dataframe thead th {\n",
       "        text-align: right;\n",
       "    }\n",
       "</style>\n",
       "<table border=\"1\" class=\"dataframe\">\n",
       "  <thead>\n",
       "    <tr style=\"text-align: right;\">\n",
       "      <th></th>\n",
       "      <th>AccelerometerX</th>\n",
       "      <th>AccelerometerY</th>\n",
       "      <th>AccelerometerZ</th>\n",
       "    </tr>\n",
       "  </thead>\n",
       "  <tbody>\n",
       "    <tr>\n",
       "      <th>13700</th>\n",
       "      <td>1.30244</td>\n",
       "      <td>-9.11711</td>\n",
       "      <td>-3.88818</td>\n",
       "    </tr>\n",
       "    <tr>\n",
       "      <th>13701</th>\n",
       "      <td>1.30244</td>\n",
       "      <td>-9.11711</td>\n",
       "      <td>-3.88818</td>\n",
       "    </tr>\n",
       "    <tr>\n",
       "      <th>13702</th>\n",
       "      <td>1.16837</td>\n",
       "      <td>-8.81066</td>\n",
       "      <td>-3.75411</td>\n",
       "    </tr>\n",
       "    <tr>\n",
       "      <th>13703</th>\n",
       "      <td>1.03429</td>\n",
       "      <td>-8.75319</td>\n",
       "      <td>-3.83072</td>\n",
       "    </tr>\n",
       "    <tr>\n",
       "      <th>13704</th>\n",
       "      <td>0.74699</td>\n",
       "      <td>-8.40843</td>\n",
       "      <td>-3.75411</td>\n",
       "    </tr>\n",
       "  </tbody>\n",
       "</table>\n",
       "</div>"
      ],
      "text/plain": [
       "       AccelerometerX  AccelerometerY  AccelerometerZ\n",
       "13700         1.30244        -9.11711        -3.88818\n",
       "13701         1.30244        -9.11711        -3.88818\n",
       "13702         1.16837        -8.81066        -3.75411\n",
       "13703         1.03429        -8.75319        -3.83072\n",
       "13704         0.74699        -8.40843        -3.75411"
      ]
     },
     "execution_count": 55,
     "metadata": {},
     "output_type": "execute_result"
    },
    {
     "data": {
      "text/plain": [
       "100"
      ]
     },
     "execution_count": 55,
     "metadata": {},
     "output_type": "execute_result"
    }
   ],
   "source": [
    "# df = pd.read_csv('../data/processed_data/all/resample_to_50_per_act/file_split/test_xyz.csv')\n",
    "# df = df.iloc[:50]\n",
    "df = pd.read_csv('../data/X3/zyu/test/allnolabel.csv')\n",
    "df = df.iloc[13700:13800]\n",
    "df.head()\n",
    "df_len = len(df)\n",
    "df_len"
   ]
  },
  {
   "cell_type": "code",
   "execution_count": 56,
   "metadata": {},
   "outputs": [
    {
     "data": {
      "text/plain": [
       "numpy.float64"
      ]
     },
     "execution_count": 56,
     "metadata": {},
     "output_type": "execute_result"
    },
    {
     "data": {
      "text/plain": [
       "array([ 1.30244, -9.11711, -3.88818])"
      ]
     },
     "execution_count": 56,
     "metadata": {},
     "output_type": "execute_result"
    },
    {
     "data": {
      "text/plain": [
       "numpy.int32"
      ]
     },
     "execution_count": 56,
     "metadata": {},
     "output_type": "execute_result"
    },
    {
     "data": {
      "text/plain": [
       "(22, -152, -65)"
      ]
     },
     "execution_count": 56,
     "metadata": {},
     "output_type": "execute_result"
    }
   ],
   "source": [
    "i = 0\n",
    "arr = np.array(df.iloc[i:i+1]).reshape(3)\n",
    "type(arr[0])\n",
    "arr\n",
    "arr = np.around((arr*32768/2/9.8/100)).astype(int)\n",
    "values = tuple(arr)\n",
    "type(values[0])\n",
    "values"
   ]
  },
  {
   "cell_type": "code",
   "execution_count": 57,
   "metadata": {},
   "outputs": [
    {
     "data": {
      "text/plain": [
       "bytes"
      ]
     },
     "execution_count": 57,
     "metadata": {},
     "output_type": "execute_result"
    },
    {
     "data": {
      "text/plain": [
       "6"
      ]
     },
     "execution_count": 57,
     "metadata": {},
     "output_type": "execute_result"
    }
   ],
   "source": [
    "s = struct.Struct('<3h')\n",
    "packed_data = s.pack(*values)\n",
    "type(packed_data)\n",
    "len(packed_data)"
   ]
  },
  {
   "cell_type": "code",
   "execution_count": 58,
   "metadata": {},
   "outputs": [
    {
     "data": {
      "text/plain": [
       "600"
      ]
     },
     "execution_count": 58,
     "metadata": {},
     "output_type": "execute_result"
    },
    {
     "data": {
      "text/plain": [
       "1200"
      ]
     },
     "execution_count": 58,
     "metadata": {},
     "output_type": "execute_result"
    },
    {
     "data": {
      "text/plain": [
       "b'160068ffbfff000000000000000000000000000000000000000000000000000000000000000000000000000000000000000000000000000000000000000000000000000000000000000000000000000000000000000000000000000000000000000000000000000000000000000000000000000000000000000000000000000000000000000000000000000000000000000000000000000000000000000000000000000000000000000000000000000000000000000000000000000000000000000000000000000000000000000000000000000000000000000000000000000000000000000000000000000000000000000000000000000000000000000000000000000000000000000000000000000000000000000000000000000000000000000000000000000000000000000000000000000000000000000000000000000000000000000000000000000000000000000000000000000000000000000000000000000000000000000000000000000000000000000000000000000000000000000000000000000000000000000000000000000000000000000000000000000000000000000000000000000000000000000000000000000000000000000000000000000000000000000000000000000000000000000000000000000000000000000000000000000000000000000000000000000000000000000000000000000000000000000000000000000000000000000000000000000000000000000000000000000000000000000000000000000000000000000000000000000000000000000000000000000000000000000000000000000000000000'"
      ]
     },
     "execution_count": 58,
     "metadata": {},
     "output_type": "execute_result"
    },
    {
     "data": {
      "text/plain": [
       "1200"
      ]
     },
     "execution_count": 58,
     "metadata": {},
     "output_type": "execute_result"
    },
    {
     "data": {
      "text/plain": [
       "(22, -152, -65)"
      ]
     },
     "execution_count": 58,
     "metadata": {},
     "output_type": "execute_result"
    }
   ],
   "source": [
    "sample_points = 100\n",
    "buffer_size = s.size*sample_points\n",
    "buffer_size\n",
    "prebuffer = ctypes.create_string_buffer(buffer_size)\n",
    "len(binascii.hexlify(prebuffer))\n",
    "\n",
    "s.pack_into(prebuffer,0,*values)\n",
    "binascii.hexlify(prebuffer)\n",
    "len(binascii.hexlify(prebuffer))\n",
    "\n",
    "s.unpack_from(prebuffer,0)"
   ]
  },
  {
   "cell_type": "code",
   "execution_count": 59,
   "metadata": {},
   "outputs": [
    {
     "name": "stdout",
     "output_type": "stream",
     "text": [
      "发送编码数据：b'0b00b4ffdfff0b00b4ffdfff0a00b6ffe1ff0900b7ffe0ff0600baffe1ff0300beffe3ff0000c1ffe6fffeffc4ffeafffcffc6ffebfff9ffc9ffedfff7ffccffeefff6ffcffff1fff6ffd3fff5fff7ffd5fff8fff8ffd3fffafffaffcffffafffcffcafff5ff0100c0ffecff0800b6ffe4ff0b00aeffdcff0b00a4ffd4ff10009affd7ff100096ffdbff0e0094ffd9ff0b0090ffd9ff080091ffdcff050093ffdfff020095ffe2ff030098ffe0ff05009bffdfff07009effdfff0700a5ffdfff0700a9ffdfff0800aeffdeff0800b1ffdfff0600b6ffe0ff0300bbffe2ff0000bfffe5fffeffc3ffe8fffdffc7ffeafffaffccffebfffaffd1ffecfffcffd7ffeffffcffdafff1fffcffdafff2fffdffd8fff2fffdffd3fff2ffffffccfff2ff0200c3ffefff0500bdffe9ff0a00afffe3ff10009bffe1ff130092ffe0ff11008effdcff0d008affd5ff0b0087ffd3ff08008bffdaff05008fffdeff020092ffe0ff040096ffe0ff07009bffe1ff0700a1ffe2ff0700a7ffe1ff0900adffe1ff0900b1ffe1ff0800b4ffe1ff0600b9ffe3ff0400bcffe5ff0200c0ffe7ff0000c4ffe8fffeffc8ffebfffbffceffedfffbffd2ffeffffcffd7fff1fffbffd7fff2fffdffd7fff2fffeffd5fff1ffffffd0fff0ff0100c8ffefff0300bfffebff0700b6ffe9ff0900adffe8ff0b00a2ffe4ff0f0097ffddff12008bffd5ff10008affd7ff0b008dffdaff060090ffdeff040093ffe0ff030097ffe1ff05009affe1ff07009effe1ff0700a4ffe2ff0900abffe1ff0b00b2ffe1ff0800b8ffe1ff0500bfffe3ff0300c2ffe4ff0300c6ffe5ff0100cbffe7ff'\n"
     ]
    },
    {
     "data": {
      "text/plain": [
       "1200"
      ]
     },
     "execution_count": 59,
     "metadata": {},
     "output_type": "execute_result"
    }
   ],
   "source": [
    "s = struct.Struct('<3h')\n",
    "sample_point_size = s.size\n",
    "sample_points = 100\n",
    "buffer_size = sample_point_size * sample_points\n",
    "prebuffer = ctypes.create_string_buffer(buffer_size)\n",
    "\n",
    "ip_port = ('127.0.0.1',9999)\n",
    "sk = socket.socket(socket.AF_INET,socket.SOCK_DGRAM,0)\n",
    "\n",
    "df_idx = 0\n",
    "buffer_idx = 0\n",
    "\n",
    "while True:\n",
    "    if df_idx == df_len:\n",
    "        break\n",
    "    time.sleep(0.04)\n",
    "    arr = np.array(df.iloc[df_idx:df_idx+1]).reshape(3)\n",
    "    arr = np.around((arr*32768/4/9.8/100)).astype(int)\n",
    "    values = tuple(arr)\n",
    "    s.pack_into(prebuffer,buffer_idx,*values)\n",
    "    df_idx += 1\n",
    "    buffer_idx += sample_point_size\n",
    "    if buffer_idx == buffer_size:\n",
    "        print('发送编码数据：%s' %binascii.hexlify(prebuffer))\n",
    "        sk.sendto(binascii.hexlify(prebuffer),ip_port)\n",
    "        buffer_idx = 0"
   ]
  },
  {
   "cell_type": "code",
   "execution_count": 60,
   "metadata": {},
   "outputs": [
    {
     "data": {
      "text/plain": [
       "array([  11,  -76,  -33,   11,  -76,  -33,   10,  -74,  -31,    9,  -73,\n",
       "        -32,    6,  -70,  -31,    3,  -66,  -29,    0,  -63,  -26,   -2,\n",
       "        -60,  -22,   -4,  -58,  -21,   -7,  -55,  -19,   -9,  -52,  -18,\n",
       "        -10,  -49,  -15,  -10,  -45,  -11,   -9,  -43,   -8,   -8,  -45,\n",
       "         -6,   -6,  -49,   -6,   -4,  -54,  -11,    1,  -64,  -20,    8,\n",
       "        -74,  -28,   11,  -82,  -36,   11,  -92,  -44,   16, -102,  -41,\n",
       "         16, -106,  -37,   14, -108,  -39,   11, -112,  -39,    8, -111,\n",
       "        -36,    5, -109,  -33,    2, -107,  -30,    3, -104,  -32,    5,\n",
       "       -101,  -33,    7,  -98,  -33,    7,  -91,  -33,    7,  -87,  -33,\n",
       "          8,  -82,  -34,    8,  -79,  -33,    6,  -74,  -32,    3,  -69,\n",
       "        -30,    0,  -65,  -27,   -2,  -61,  -24,   -3,  -57,  -22,   -6,\n",
       "        -52,  -21,   -6,  -47,  -20,   -4,  -41,  -17,   -4,  -38,  -15,\n",
       "         -4,  -38,  -14,   -3,  -40,  -14,   -3,  -45,  -14,   -1,  -52,\n",
       "        -14,    2,  -61,  -17,    5,  -67,  -23,   10,  -81,  -29,   16,\n",
       "       -101,  -31,   19, -110,  -32,   17, -114,  -36,   13, -118,  -43,\n",
       "         11, -121,  -45,    8, -117,  -38,    5, -113,  -34,    2, -110,\n",
       "        -32,    4, -106,  -32,    7, -101,  -31,    7,  -95,  -30,    7,\n",
       "        -89,  -31,    9,  -83,  -31,    9,  -79,  -31,    8,  -76,  -31,\n",
       "          6,  -71,  -29,    4,  -68,  -27,    2,  -64,  -25,    0,  -60,\n",
       "        -24,   -2,  -56,  -21,   -5,  -50,  -19,   -5,  -46,  -17,   -4,\n",
       "        -41,  -15,   -5,  -41,  -14,   -3,  -41,  -14,   -2,  -43,  -15,\n",
       "         -1,  -48,  -16,    1,  -56,  -17,    3,  -65,  -21,    7,  -74,\n",
       "        -23,    9,  -83,  -24,   11,  -94,  -28,   15, -105,  -35,   18,\n",
       "       -117,  -43,   16, -118,  -41,   11, -115,  -38,    6, -112,  -34,\n",
       "          4, -109,  -32,    3, -105,  -31,    5, -102,  -31,    7,  -98,\n",
       "        -31,    7,  -92,  -30,    9,  -85,  -31,   11,  -78,  -31,    8,\n",
       "        -72,  -31,    5,  -65,  -29,    3,  -62,  -28,    3,  -58,  -27,\n",
       "          1,  -53,  -25])"
      ]
     },
     "execution_count": 60,
     "metadata": {},
     "output_type": "execute_result"
    },
    {
     "data": {
      "text/plain": [
       "300"
      ]
     },
     "execution_count": 60,
     "metadata": {},
     "output_type": "execute_result"
    }
   ],
   "source": [
    "s = struct.Struct('<300h')\n",
    "rcvs = np.array(s.unpack_from(prebuffer,0))\n",
    "rcvs\n",
    "len(rcvs)"
   ]
  },
  {
   "cell_type": "code",
   "execution_count": 61,
   "metadata": {},
   "outputs": [],
   "source": [
    "rcvs = rcvs/32768*4*9.8*100"
   ]
  },
  {
   "cell_type": "code",
   "execution_count": 62,
   "metadata": {},
   "outputs": [
    {
     "data": {
      "text/plain": [
       "array([ 1.31591797,  1.31591797,  1.19628906,  1.07666016,  0.71777344,\n",
       "        0.35888672,  0.        , -0.23925781, -0.47851563, -0.83740234,\n",
       "       -1.07666016, -1.19628906, -1.19628906, -1.07666016, -0.95703125,\n",
       "       -0.71777344, -0.47851563,  0.11962891,  0.95703125,  1.31591797,\n",
       "        1.31591797,  1.9140625 ,  1.9140625 ,  1.67480469,  1.31591797,\n",
       "        0.95703125,  0.59814453,  0.23925781,  0.35888672,  0.59814453,\n",
       "        0.83740234,  0.83740234,  0.83740234,  0.95703125,  0.95703125,\n",
       "        0.71777344,  0.35888672,  0.        , -0.23925781, -0.35888672,\n",
       "       -0.71777344, -0.71777344, -0.47851563, -0.47851563, -0.47851563,\n",
       "       -0.35888672, -0.35888672, -0.11962891,  0.23925781,  0.59814453,\n",
       "        1.19628906,  1.9140625 ,  2.27294922,  2.03369141,  1.55517578,\n",
       "        1.31591797,  0.95703125,  0.59814453,  0.23925781,  0.47851563,\n",
       "        0.83740234,  0.83740234,  0.83740234,  1.07666016,  1.07666016,\n",
       "        0.95703125,  0.71777344,  0.47851563,  0.23925781,  0.        ,\n",
       "       -0.23925781, -0.59814453, -0.59814453, -0.47851563, -0.59814453,\n",
       "       -0.35888672, -0.23925781, -0.11962891,  0.11962891,  0.35888672,\n",
       "        0.83740234,  1.07666016,  1.31591797,  1.79443359,  2.15332031,\n",
       "        1.9140625 ,  1.31591797,  0.71777344,  0.47851563,  0.35888672,\n",
       "        0.59814453,  0.83740234,  0.83740234,  1.07666016,  1.31591797,\n",
       "        0.95703125,  0.59814453,  0.35888672,  0.35888672,  0.11962891])"
      ]
     },
     "execution_count": 62,
     "metadata": {},
     "output_type": "execute_result"
    },
    {
     "data": {
      "text/plain": [
       "array([ -9.09179688,  -9.09179688,  -8.85253906,  -8.73291016,\n",
       "        -8.37402344,  -7.89550781,  -7.53662109,  -7.17773438,\n",
       "        -6.93847656,  -6.57958984,  -6.22070312,  -5.86181641,\n",
       "        -5.38330078,  -5.14404297,  -5.38330078,  -5.86181641,\n",
       "        -6.45996094,  -7.65625   ,  -8.85253906,  -9.80957031,\n",
       "       -11.00585938, -12.20214844, -12.68066406, -12.91992188,\n",
       "       -13.3984375 , -13.27880859, -13.03955078, -12.80029297,\n",
       "       -12.44140625, -12.08251953, -11.72363281, -10.88623047,\n",
       "       -10.40771484,  -9.80957031,  -9.45068359,  -8.85253906,\n",
       "        -8.25439453,  -7.77587891,  -7.29736328,  -6.81884766,\n",
       "        -6.22070312,  -5.62255859,  -4.90478516,  -4.54589844,\n",
       "        -4.54589844,  -4.78515625,  -5.38330078,  -6.22070312,\n",
       "        -7.29736328,  -8.01513672,  -9.68994141, -12.08251953,\n",
       "       -13.15917969, -13.63769531, -14.11621094, -14.47509766,\n",
       "       -13.99658203, -13.51806641, -13.15917969, -12.68066406,\n",
       "       -12.08251953, -11.36474609, -10.64697266,  -9.92919922,\n",
       "        -9.45068359,  -9.09179688,  -8.49365234,  -8.13476563,\n",
       "        -7.65625   ,  -7.17773438,  -6.69921875,  -5.98144531,\n",
       "        -5.50292969,  -4.90478516,  -4.90478516,  -4.90478516,\n",
       "        -5.14404297,  -5.7421875 ,  -6.69921875,  -7.77587891,\n",
       "        -8.85253906,  -9.92919922, -11.24511719, -12.56103516,\n",
       "       -13.99658203, -14.11621094, -13.75732422, -13.3984375 ,\n",
       "       -13.03955078, -12.56103516, -12.20214844, -11.72363281,\n",
       "       -11.00585938, -10.16845703,  -9.33105469,  -8.61328125,\n",
       "        -7.77587891,  -7.41699219,  -6.93847656,  -6.34033203])"
      ]
     },
     "execution_count": 62,
     "metadata": {},
     "output_type": "execute_result"
    },
    {
     "data": {
      "text/plain": [
       "array([-3.94775391, -3.94775391, -3.70849609, -3.828125  , -3.70849609,\n",
       "       -3.46923828, -3.11035156, -2.63183594, -2.51220703, -2.27294922,\n",
       "       -2.15332031, -1.79443359, -1.31591797, -0.95703125, -0.71777344,\n",
       "       -0.71777344, -1.31591797, -2.39257812, -3.34960938, -4.30664062,\n",
       "       -5.26367188, -4.90478516, -4.42626953, -4.66552734, -4.66552734,\n",
       "       -4.30664062, -3.94775391, -3.58886719, -3.828125  , -3.94775391,\n",
       "       -3.94775391, -3.94775391, -3.94775391, -4.06738281, -3.94775391,\n",
       "       -3.828125  , -3.58886719, -3.22998047, -2.87109375, -2.63183594,\n",
       "       -2.51220703, -2.39257812, -2.03369141, -1.79443359, -1.67480469,\n",
       "       -1.67480469, -1.67480469, -1.67480469, -2.03369141, -2.75146484,\n",
       "       -3.46923828, -3.70849609, -3.828125  , -4.30664062, -5.14404297,\n",
       "       -5.38330078, -4.54589844, -4.06738281, -3.828125  , -3.828125  ,\n",
       "       -3.70849609, -3.58886719, -3.70849609, -3.70849609, -3.70849609,\n",
       "       -3.70849609, -3.46923828, -3.22998047, -2.99072266, -2.87109375,\n",
       "       -2.51220703, -2.27294922, -2.03369141, -1.79443359, -1.67480469,\n",
       "       -1.67480469, -1.79443359, -1.9140625 , -2.03369141, -2.51220703,\n",
       "       -2.75146484, -2.87109375, -3.34960938, -4.18701172, -5.14404297,\n",
       "       -4.90478516, -4.54589844, -4.06738281, -3.828125  , -3.70849609,\n",
       "       -3.70849609, -3.70849609, -3.58886719, -3.70849609, -3.70849609,\n",
       "       -3.70849609, -3.46923828, -3.34960938, -3.22998047, -2.99072266])"
      ]
     },
     "execution_count": 62,
     "metadata": {},
     "output_type": "execute_result"
    }
   ],
   "source": [
    "x = rcvs[0:300:3]\n",
    "y = rcvs[1:300:3]\n",
    "z = rcvs[2:300:3]\n",
    "x\n",
    "y\n",
    "z"
   ]
  },
  {
   "cell_type": "code",
   "execution_count": 63,
   "metadata": {},
   "outputs": [],
   "source": [
    "from sklearn.externals import joblib\n",
    "scaler = joblib.load('../data/X3/zyu/fm/scaler_train.pkl')"
   ]
  },
  {
   "cell_type": "code",
   "execution_count": 64,
   "metadata": {},
   "outputs": [],
   "source": [
    "import feature_project as fp\n",
    "X = fp.feature_extraction(x,y,z).reshape(1, -1).astype(float)"
   ]
  },
  {
   "cell_type": "code",
   "execution_count": 65,
   "metadata": {},
   "outputs": [],
   "source": [
    "X = scaler.transform(X)"
   ]
  },
  {
   "cell_type": "code",
   "execution_count": 66,
   "metadata": {},
   "outputs": [
    {
     "data": {
      "text/plain": [
       "array([[ -4.98899358e-01,  -1.44897493e+00,  -1.43319288e+00,\n",
       "         -4.98899358e-01,  -1.44897493e+00,  -1.43319288e+00,\n",
       "         -7.09897956e-01,  -3.62497868e-03,  -5.05196955e-01,\n",
       "          2.26955886e-01,   3.61192304e-02,   1.66611590e-02,\n",
       "         -6.81922599e-01,  -1.09102092e-01,  -4.39825543e-01,\n",
       "         -6.90085028e-01,  -3.65680662e-01,  -9.72328204e-01,\n",
       "         -3.82128694e-01,  -1.62182468e+00,  -1.48401738e+00,\n",
       "         -3.44511033e-01,  -1.01125215e+00,  -1.30559033e+00,\n",
       "         -5.77795940e-01,  -1.31532698e-01,  -8.56524558e-01,\n",
       "         -4.37413872e-01,  -1.43353964e+00,  -1.34992600e+00,\n",
       "         -3.03866966e-01,   1.18413699e+00,   8.25518291e-01,\n",
       "          4.41601994e-01,   7.24522633e-01,   5.76321640e-01,\n",
       "         -4.00180206e-01,  -1.43382272e-01,   5.98239837e-01,\n",
       "         -3.43491401e-01,  -3.42643472e-01,  -3.59528318e-01,\n",
       "         -1.71854250e+00,   6.59379429e-01,  -3.99010883e-01,\n",
       "         -4.37399049e+00,   1.70683285e+00,   4.43524961e-01,\n",
       "         -1.94866317e+00,  -2.18775522e+00,  -2.02371164e+00,\n",
       "          4.44316434e-02,  -7.65980961e-01,  -6.90201658e-01,\n",
       "         -1.49310879e+00,   1.25651860e+00,  -1.99419558e+00]])"
      ]
     },
     "execution_count": 66,
     "metadata": {},
     "output_type": "execute_result"
    }
   ],
   "source": [
    "X"
   ]
  },
  {
   "cell_type": "code",
   "execution_count": 67,
   "metadata": {},
   "outputs": [
    {
     "data": {
      "text/plain": [
       "'dump'"
      ]
     },
     "execution_count": 67,
     "metadata": {},
     "output_type": "execute_result"
    }
   ],
   "source": [
    "clf = joblib.load('./modelX3/svm_clf.pkl')\n",
    "predict_label = clf.predict(X)[0]\n",
    "predict_label"
   ]
  },
  {
   "cell_type": "code",
   "execution_count": null,
   "metadata": {},
   "outputs": [],
   "source": []
  }
 ],
 "metadata": {
  "kernelspec": {
   "display_name": "Python 3",
   "language": "python",
   "name": "python3"
  },
  "language_info": {
   "codemirror_mode": {
    "name": "ipython",
    "version": 3
   },
   "file_extension": ".py",
   "mimetype": "text/x-python",
   "name": "python",
   "nbconvert_exporter": "python",
   "pygments_lexer": "ipython3",
   "version": "3.6.1"
  },
  "toc": {
   "nav_menu": {},
   "number_sections": true,
   "sideBar": true,
   "skip_h1_title": false,
   "toc_cell": false,
   "toc_position": {},
   "toc_section_display": "block",
   "toc_window_display": false
  },
  "varInspector": {
   "cols": {
    "lenName": 16,
    "lenType": 16,
    "lenVar": 40
   },
   "kernels_config": {
    "python": {
     "delete_cmd_postfix": "",
     "delete_cmd_prefix": "del ",
     "library": "var_list.py",
     "varRefreshCmd": "print(var_dic_list())"
    },
    "r": {
     "delete_cmd_postfix": ") ",
     "delete_cmd_prefix": "rm(",
     "library": "var_list.r",
     "varRefreshCmd": "cat(var_dic_list()) "
    }
   },
   "position": {
    "height": "513px",
    "left": "658px",
    "right": "20px",
    "top": "44px",
    "width": "655px"
   },
   "types_to_exclude": [
    "module",
    "function",
    "builtin_function_or_method",
    "instance",
    "_Feature"
   ],
   "window_display": false
  }
 },
 "nbformat": 4,
 "nbformat_minor": 2
}

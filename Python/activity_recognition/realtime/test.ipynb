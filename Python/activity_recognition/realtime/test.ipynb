{
 "cells": [
  {
   "cell_type": "code",
   "execution_count": 1,
   "metadata": {},
   "outputs": [],
   "source": [
    "import pandas as pd\n",
    "import numpy as np\n",
    "\n",
    "from sklearn.neighbors import KNeighborsClassifier\n",
    "from sklearn.tree import DecisionTreeClassifier\n",
    "from sklearn.naive_bayes import GaussianNB\n",
    "from sklearn import svm\n",
    "from sklearn.externals import joblib\n",
    "\n",
    "from sklearn.metrics import classification_report\n",
    "from sklearn.metrics import confusion_matrix"
   ]
  },
  {
   "cell_type": "code",
   "execution_count": 2,
   "metadata": {},
   "outputs": [
    {
     "data": {
      "text/html": [
       "<div>\n",
       "<style scoped>\n",
       "    .dataframe tbody tr th:only-of-type {\n",
       "        vertical-align: middle;\n",
       "    }\n",
       "\n",
       "    .dataframe tbody tr th {\n",
       "        vertical-align: top;\n",
       "    }\n",
       "\n",
       "    .dataframe thead th {\n",
       "        text-align: right;\n",
       "    }\n",
       "</style>\n",
       "<table border=\"1\" class=\"dataframe\">\n",
       "  <thead>\n",
       "    <tr style=\"text-align: right;\">\n",
       "      <th></th>\n",
       "      <th>label</th>\n",
       "      <th>sum_x</th>\n",
       "      <th>sum_y</th>\n",
       "      <th>sum_z</th>\n",
       "      <th>mean_x</th>\n",
       "      <th>mean_y</th>\n",
       "      <th>mean_z</th>\n",
       "      <th>std_x</th>\n",
       "      <th>std_y</th>\n",
       "      <th>std_z</th>\n",
       "      <th>...</th>\n",
       "      <th>logpower_z</th>\n",
       "      <th>peak_x</th>\n",
       "      <th>peak_y</th>\n",
       "      <th>peak_z</th>\n",
       "      <th>cross0_x</th>\n",
       "      <th>cross0_y</th>\n",
       "      <th>cross0_z</th>\n",
       "      <th>cor_xy</th>\n",
       "      <th>cor_yz</th>\n",
       "      <th>cor_zx</th>\n",
       "    </tr>\n",
       "  </thead>\n",
       "  <tbody>\n",
       "    <tr>\n",
       "      <th>498</th>\n",
       "      <td>daily</td>\n",
       "      <td>0.871974</td>\n",
       "      <td>-0.506615</td>\n",
       "      <td>1.905047</td>\n",
       "      <td>0.871974</td>\n",
       "      <td>-0.506615</td>\n",
       "      <td>1.905047</td>\n",
       "      <td>1.161791</td>\n",
       "      <td>0.668840</td>\n",
       "      <td>2.066722</td>\n",
       "      <td>...</td>\n",
       "      <td>1.107306</td>\n",
       "      <td>0.310677</td>\n",
       "      <td>-0.101317</td>\n",
       "      <td>-0.486385</td>\n",
       "      <td>1.225614</td>\n",
       "      <td>-0.276952</td>\n",
       "      <td>0.968491</td>\n",
       "      <td>-0.104536</td>\n",
       "      <td>-0.189671</td>\n",
       "      <td>-0.213077</td>\n",
       "    </tr>\n",
       "    <tr>\n",
       "      <th>499</th>\n",
       "      <td>daily</td>\n",
       "      <td>0.859801</td>\n",
       "      <td>-0.513587</td>\n",
       "      <td>2.079823</td>\n",
       "      <td>0.859801</td>\n",
       "      <td>-0.513587</td>\n",
       "      <td>2.079823</td>\n",
       "      <td>0.882915</td>\n",
       "      <td>0.694803</td>\n",
       "      <td>1.258796</td>\n",
       "      <td>...</td>\n",
       "      <td>1.118004</td>\n",
       "      <td>0.310677</td>\n",
       "      <td>0.381354</td>\n",
       "      <td>-0.486385</td>\n",
       "      <td>1.225614</td>\n",
       "      <td>0.006948</td>\n",
       "      <td>0.968491</td>\n",
       "      <td>0.052629</td>\n",
       "      <td>-0.202197</td>\n",
       "      <td>-0.333312</td>\n",
       "    </tr>\n",
       "    <tr>\n",
       "      <th>500</th>\n",
       "      <td>daily</td>\n",
       "      <td>0.811544</td>\n",
       "      <td>-0.646363</td>\n",
       "      <td>1.931862</td>\n",
       "      <td>0.811544</td>\n",
       "      <td>-0.646363</td>\n",
       "      <td>1.931862</td>\n",
       "      <td>0.926973</td>\n",
       "      <td>0.805511</td>\n",
       "      <td>1.975635</td>\n",
       "      <td>...</td>\n",
       "      <td>1.206388</td>\n",
       "      <td>0.803253</td>\n",
       "      <td>0.381354</td>\n",
       "      <td>0.032853</td>\n",
       "      <td>1.532843</td>\n",
       "      <td>0.006948</td>\n",
       "      <td>1.858261</td>\n",
       "      <td>0.105503</td>\n",
       "      <td>-0.234781</td>\n",
       "      <td>-0.067065</td>\n",
       "    </tr>\n",
       "    <tr>\n",
       "      <th>501</th>\n",
       "      <td>clean</td>\n",
       "      <td>-0.832289</td>\n",
       "      <td>-0.973984</td>\n",
       "      <td>1.381715</td>\n",
       "      <td>-0.832289</td>\n",
       "      <td>-0.973984</td>\n",
       "      <td>1.381715</td>\n",
       "      <td>-0.263799</td>\n",
       "      <td>0.124802</td>\n",
       "      <td>1.062778</td>\n",
       "      <td>...</td>\n",
       "      <td>0.720981</td>\n",
       "      <td>-0.181898</td>\n",
       "      <td>-1.549327</td>\n",
       "      <td>-0.486385</td>\n",
       "      <td>-0.617759</td>\n",
       "      <td>-0.844752</td>\n",
       "      <td>-0.811049</td>\n",
       "      <td>-1.749094</td>\n",
       "      <td>-1.937806</td>\n",
       "      <td>2.030798</td>\n",
       "    </tr>\n",
       "    <tr>\n",
       "      <th>502</th>\n",
       "      <td>clean</td>\n",
       "      <td>-0.860679</td>\n",
       "      <td>-0.949617</td>\n",
       "      <td>1.054084</td>\n",
       "      <td>-0.860679</td>\n",
       "      <td>-0.949617</td>\n",
       "      <td>1.054084</td>\n",
       "      <td>-1.230712</td>\n",
       "      <td>-1.305644</td>\n",
       "      <td>-0.852844</td>\n",
       "      <td>...</td>\n",
       "      <td>0.578474</td>\n",
       "      <td>-0.181898</td>\n",
       "      <td>0.381354</td>\n",
       "      <td>-0.486385</td>\n",
       "      <td>-1.846674</td>\n",
       "      <td>-1.696451</td>\n",
       "      <td>-1.997410</td>\n",
       "      <td>1.157770</td>\n",
       "      <td>1.165367</td>\n",
       "      <td>1.924834</td>\n",
       "    </tr>\n",
       "  </tbody>\n",
       "</table>\n",
       "<p>5 rows × 58 columns</p>\n",
       "</div>"
      ],
      "text/plain": [
       "     label     sum_x     sum_y     sum_z    mean_x    mean_y    mean_z  \\\n",
       "498  daily  0.871974 -0.506615  1.905047  0.871974 -0.506615  1.905047   \n",
       "499  daily  0.859801 -0.513587  2.079823  0.859801 -0.513587  2.079823   \n",
       "500  daily  0.811544 -0.646363  1.931862  0.811544 -0.646363  1.931862   \n",
       "501  clean -0.832289 -0.973984  1.381715 -0.832289 -0.973984  1.381715   \n",
       "502  clean -0.860679 -0.949617  1.054084 -0.860679 -0.949617  1.054084   \n",
       "\n",
       "        std_x     std_y     std_z    ...     logpower_z    peak_x    peak_y  \\\n",
       "498  1.161791  0.668840  2.066722    ...       1.107306  0.310677 -0.101317   \n",
       "499  0.882915  0.694803  1.258796    ...       1.118004  0.310677  0.381354   \n",
       "500  0.926973  0.805511  1.975635    ...       1.206388  0.803253  0.381354   \n",
       "501 -0.263799  0.124802  1.062778    ...       0.720981 -0.181898 -1.549327   \n",
       "502 -1.230712 -1.305644 -0.852844    ...       0.578474 -0.181898  0.381354   \n",
       "\n",
       "       peak_z  cross0_x  cross0_y  cross0_z    cor_xy    cor_yz    cor_zx  \n",
       "498 -0.486385  1.225614 -0.276952  0.968491 -0.104536 -0.189671 -0.213077  \n",
       "499 -0.486385  1.225614  0.006948  0.968491  0.052629 -0.202197 -0.333312  \n",
       "500  0.032853  1.532843  0.006948  1.858261  0.105503 -0.234781 -0.067065  \n",
       "501 -0.486385 -0.617759 -0.844752 -0.811049 -1.749094 -1.937806  2.030798  \n",
       "502 -0.486385 -1.846674 -1.696451 -1.997410  1.157770  1.165367  1.924834  \n",
       "\n",
       "[5 rows x 58 columns]"
      ]
     },
     "execution_count": 2,
     "metadata": {},
     "output_type": "execute_result"
    }
   ],
   "source": [
    "test_data = pd.read_csv('./feature_matrix_test.csv')\n",
    "test_data.tail()"
   ]
  },
  {
   "cell_type": "code",
   "execution_count": 3,
   "metadata": {},
   "outputs": [],
   "source": [
    "X = np.array(test_data.drop('label',axis=1))\n",
    "y = test_data['label']"
   ]
  },
  {
   "cell_type": "code",
   "execution_count": 4,
   "metadata": {},
   "outputs": [
    {
     "name": "stdout",
     "output_type": "stream",
     "text": [
      "             precision    recall  f1-score   support\n",
      "\n",
      "      bweep    0.85030   0.93421   0.89028       152\n",
      "      clean    0.90909   0.88235   0.89552        68\n",
      "      daily    0.83838   0.93258   0.88298        89\n",
      "       dump    0.90000   0.70588   0.79121        51\n",
      "        run    0.50000   0.12500   0.20000         8\n",
      "      sweep    0.95455   0.89744   0.92511       117\n",
      "       walk    0.89474   0.94444   0.91892        18\n",
      "\n",
      "avg / total    0.88145   0.88270   0.87780       503\n",
      "\n"
     ]
    },
    {
     "data": {
      "text/plain": [
       "array([[142,   1,   7,   2,   0,   0,   0],\n",
       "       [  6,  60,   0,   1,   0,   1,   0],\n",
       "       [  4,   1,  83,   0,   0,   1,   0],\n",
       "       [  5,   1,   3,  36,   1,   3,   2],\n",
       "       [  3,   2,   2,   0,   1,   0,   0],\n",
       "       [  7,   0,   4,   1,   0, 105,   0],\n",
       "       [  0,   1,   0,   0,   0,   0,  17]], dtype=int64)"
      ]
     },
     "execution_count": 4,
     "metadata": {},
     "output_type": "execute_result"
    }
   ],
   "source": [
    "knn = joblib.load('./model/knn.pkl') \n",
    "knn_labels = knn.predict(X)\n",
    "print(classification_report(y, knn_labels,digits=5))\n",
    "knn_cm = confusion_matrix(y, knn_labels)\n",
    "knn_cm\n",
    "# knn_cm_nor = cm.astype('float') / cm.sum(axis=1)[:, np.newaxis]\n",
    "# knn_cm_nor"
   ]
  },
  {
   "cell_type": "code",
   "execution_count": 5,
   "metadata": {},
   "outputs": [
    {
     "name": "stdout",
     "output_type": "stream",
     "text": [
      "             precision    recall  f1-score   support\n",
      "\n",
      "      bweep    1.00000   1.00000   1.00000       152\n",
      "      clean    1.00000   1.00000   1.00000        68\n",
      "      daily    1.00000   1.00000   1.00000        89\n",
      "       dump    1.00000   1.00000   1.00000        51\n",
      "        run    1.00000   1.00000   1.00000         8\n",
      "      sweep    1.00000   1.00000   1.00000       117\n",
      "       walk    1.00000   1.00000   1.00000        18\n",
      "\n",
      "avg / total    1.00000   1.00000   1.00000       503\n",
      "\n"
     ]
    },
    {
     "data": {
      "text/plain": [
       "array([[152,   0,   0,   0,   0,   0,   0],\n",
       "       [  0,  68,   0,   0,   0,   0,   0],\n",
       "       [  0,   0,  89,   0,   0,   0,   0],\n",
       "       [  0,   0,   0,  51,   0,   0,   0],\n",
       "       [  0,   0,   0,   0,   8,   0,   0],\n",
       "       [  0,   0,   0,   0,   0, 117,   0],\n",
       "       [  0,   0,   0,   0,   0,   0,  18]], dtype=int64)"
      ]
     },
     "execution_count": 5,
     "metadata": {},
     "output_type": "execute_result"
    }
   ],
   "source": [
    "dt = joblib.load('./model/dt.pkl') \n",
    "dt_labels = dt.predict(X)\n",
    "print(classification_report(y, dt_labels,digits=5))\n",
    "dt_cm = confusion_matrix(y, dt_labels)\n",
    "dt_cm"
   ]
  },
  {
   "cell_type": "code",
   "execution_count": 6,
   "metadata": {},
   "outputs": [
    {
     "name": "stdout",
     "output_type": "stream",
     "text": [
      "             precision    recall  f1-score   support\n",
      "\n",
      "      bweep    0.41284   0.29605   0.34483       152\n",
      "      clean    0.42683   0.51471   0.46667        68\n",
      "      daily    0.43478   0.22472   0.29630        89\n",
      "       dump    0.58824   0.58824   0.58824        51\n",
      "        run    0.00000   0.00000   0.00000         8\n",
      "      sweep    0.63462   0.84615   0.72527       117\n",
      "       walk    0.25000   0.77778   0.37838        18\n",
      "\n",
      "avg / total    0.47559   0.48310   0.46160       503\n",
      "\n"
     ]
    },
    {
     "data": {
      "text/plain": [
       "array([[45, 29,  9,  9,  2, 47, 11],\n",
       "       [ 6, 35, 10,  7,  0,  2,  8],\n",
       "       [46, 13, 20,  1,  1,  2,  6],\n",
       "       [ 5,  0,  1, 30,  0,  5, 10],\n",
       "       [ 1,  0,  0,  3,  0,  0,  4],\n",
       "       [ 6,  5,  3,  1,  0, 99,  3],\n",
       "       [ 0,  0,  3,  0,  0,  1, 14]], dtype=int64)"
      ]
     },
     "execution_count": 6,
     "metadata": {},
     "output_type": "execute_result"
    }
   ],
   "source": [
    "gnb = joblib.load('./model/gnb.pkl') \n",
    "gnb_labels = gnb.predict(X)\n",
    "print(classification_report(y, gnb_labels,digits=5))\n",
    "gnb_cm = confusion_matrix(y, gnb_labels)\n",
    "gnb_cm"
   ]
  },
  {
   "cell_type": "code",
   "execution_count": 7,
   "metadata": {},
   "outputs": [
    {
     "name": "stdout",
     "output_type": "stream",
     "text": [
      "             precision    recall  f1-score   support\n",
      "\n",
      "      bweep    0.94375   0.99342   0.96795       152\n",
      "      clean    0.98485   0.95588   0.97015        68\n",
      "      daily    0.98889   1.00000   0.99441        89\n",
      "       dump    0.95918   0.92157   0.94000        51\n",
      "        run    1.00000   0.87500   0.93333         8\n",
      "      sweep    0.99115   0.95726   0.97391       117\n",
      "       walk    1.00000   1.00000   1.00000        18\n",
      "\n",
      "avg / total    0.97279   0.97217   0.97208       503\n",
      "\n"
     ]
    },
    {
     "data": {
      "text/plain": [
       "array([[151,   0,   0,   0,   0,   1,   0],\n",
       "       [  2,  65,   0,   1,   0,   0,   0],\n",
       "       [  0,   0,  89,   0,   0,   0,   0],\n",
       "       [  4,   0,   0,  47,   0,   0,   0],\n",
       "       [  0,   1,   0,   0,   7,   0,   0],\n",
       "       [  3,   0,   1,   1,   0, 112,   0],\n",
       "       [  0,   0,   0,   0,   0,   0,  18]], dtype=int64)"
      ]
     },
     "execution_count": 7,
     "metadata": {},
     "output_type": "execute_result"
    }
   ],
   "source": [
    "svm_clf = joblib.load('./model/svm_clf.pkl') \n",
    "svm_clf_labels = svm_clf.predict(X)\n",
    "print(classification_report(y, svm_clf_labels,digits=5))\n",
    "svm_clf_cm = confusion_matrix(y, svm_clf_labels)\n",
    "svm_clf_cm"
   ]
  },
  {
   "cell_type": "code",
   "execution_count": null,
   "metadata": {},
   "outputs": [],
   "source": []
  },
  {
   "cell_type": "code",
   "execution_count": null,
   "metadata": {},
   "outputs": [],
   "source": []
  }
 ],
 "metadata": {
  "kernelspec": {
   "display_name": "Python 3",
   "language": "python",
   "name": "python3"
  },
  "language_info": {
   "codemirror_mode": {
    "name": "ipython",
    "version": 3
   },
   "file_extension": ".py",
   "mimetype": "text/x-python",
   "name": "python",
   "nbconvert_exporter": "python",
   "pygments_lexer": "ipython3",
   "version": "3.6.1"
  },
  "toc": {
   "nav_menu": {},
   "number_sections": true,
   "sideBar": true,
   "skip_h1_title": false,
   "toc_cell": false,
   "toc_position": {},
   "toc_section_display": "block",
   "toc_window_display": false
  },
  "varInspector": {
   "cols": {
    "lenName": 16,
    "lenType": 16,
    "lenVar": 40
   },
   "kernels_config": {
    "python": {
     "delete_cmd_postfix": "",
     "delete_cmd_prefix": "del ",
     "library": "var_list.py",
     "varRefreshCmd": "print(var_dic_list())"
    },
    "r": {
     "delete_cmd_postfix": ") ",
     "delete_cmd_prefix": "rm(",
     "library": "var_list.r",
     "varRefreshCmd": "cat(var_dic_list()) "
    }
   },
   "types_to_exclude": [
    "module",
    "function",
    "builtin_function_or_method",
    "instance",
    "_Feature"
   ],
   "window_display": false
  }
 },
 "nbformat": 4,
 "nbformat_minor": 2
}

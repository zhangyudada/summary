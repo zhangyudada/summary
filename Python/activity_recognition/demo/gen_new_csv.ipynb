{
 "cells": [
  {
   "cell_type": "code",
   "execution_count": 1,
   "metadata": {
    "collapsed": true
   },
   "outputs": [],
   "source": [
    "%matplotlib inline\n",
    "import pandas as pd\n",
    "import numpy as np\n",
    "from scipy import interpolate\n",
    "import matplotlib.pyplot as plt"
   ]
  },
  {
   "cell_type": "code",
   "execution_count": 2,
   "metadata": {
    "collapsed": true
   },
   "outputs": [],
   "source": [
    "data = pd.read_csv('./data/dataset.csv')"
   ]
  },
  {
   "cell_type": "code",
   "execution_count": 3,
   "metadata": {},
   "outputs": [
    {
     "data": {
      "text/html": [
       "<div>\n",
       "<style>\n",
       "    .dataframe thead tr:only-child th {\n",
       "        text-align: right;\n",
       "    }\n",
       "\n",
       "    .dataframe thead th {\n",
       "        text-align: left;\n",
       "    }\n",
       "\n",
       "    .dataframe tbody tr th {\n",
       "        vertical-align: top;\n",
       "    }\n",
       "</style>\n",
       "<table border=\"1\" class=\"dataframe\">\n",
       "  <thead>\n",
       "    <tr style=\"text-align: right;\">\n",
       "      <th></th>\n",
       "      <th>x</th>\n",
       "      <th>y</th>\n",
       "      <th>z</th>\n",
       "      <th>class</th>\n",
       "      <th>seg</th>\n",
       "      <th>suspicious</th>\n",
       "    </tr>\n",
       "  </thead>\n",
       "  <tbody>\n",
       "    <tr>\n",
       "      <th>0</th>\n",
       "      <td>-928</td>\n",
       "      <td>523</td>\n",
       "      <td>25</td>\n",
       "      <td>bweep</td>\n",
       "      <td>bweep/右手高位大扫帚扫/repeat_77-duration_120.csv-14-63</td>\n",
       "      <td>False</td>\n",
       "    </tr>\n",
       "    <tr>\n",
       "      <th>1</th>\n",
       "      <td>-826</td>\n",
       "      <td>552</td>\n",
       "      <td>102</td>\n",
       "      <td>bweep</td>\n",
       "      <td>bweep/右手高位大扫帚扫/repeat_77-duration_120.csv-14-63</td>\n",
       "      <td>False</td>\n",
       "    </tr>\n",
       "    <tr>\n",
       "      <th>2</th>\n",
       "      <td>-866</td>\n",
       "      <td>545</td>\n",
       "      <td>101</td>\n",
       "      <td>bweep</td>\n",
       "      <td>bweep/右手高位大扫帚扫/repeat_77-duration_120.csv-14-63</td>\n",
       "      <td>False</td>\n",
       "    </tr>\n",
       "    <tr>\n",
       "      <th>3</th>\n",
       "      <td>-1006</td>\n",
       "      <td>545</td>\n",
       "      <td>49</td>\n",
       "      <td>bweep</td>\n",
       "      <td>bweep/右手高位大扫帚扫/repeat_77-duration_120.csv-14-63</td>\n",
       "      <td>False</td>\n",
       "    </tr>\n",
       "    <tr>\n",
       "      <th>4</th>\n",
       "      <td>-1199</td>\n",
       "      <td>548</td>\n",
       "      <td>-20</td>\n",
       "      <td>bweep</td>\n",
       "      <td>bweep/右手高位大扫帚扫/repeat_77-duration_120.csv-14-63</td>\n",
       "      <td>False</td>\n",
       "    </tr>\n",
       "  </tbody>\n",
       "</table>\n",
       "</div>"
      ],
      "text/plain": [
       "      x    y    z  class                                              seg  \\\n",
       "0  -928  523   25  bweep  bweep/右手高位大扫帚扫/repeat_77-duration_120.csv-14-63   \n",
       "1  -826  552  102  bweep  bweep/右手高位大扫帚扫/repeat_77-duration_120.csv-14-63   \n",
       "2  -866  545  101  bweep  bweep/右手高位大扫帚扫/repeat_77-duration_120.csv-14-63   \n",
       "3 -1006  545   49  bweep  bweep/右手高位大扫帚扫/repeat_77-duration_120.csv-14-63   \n",
       "4 -1199  548  -20  bweep  bweep/右手高位大扫帚扫/repeat_77-duration_120.csv-14-63   \n",
       "\n",
       "   suspicious  \n",
       "0       False  \n",
       "1       False  \n",
       "2       False  \n",
       "3       False  \n",
       "4       False  "
      ]
     },
     "execution_count": 3,
     "metadata": {},
     "output_type": "execute_result"
    }
   ],
   "source": [
    "data.head()"
   ]
  },
  {
   "cell_type": "code",
   "execution_count": 4,
   "metadata": {
    "collapsed": true
   },
   "outputs": [],
   "source": [
    "#max(3,5,9)"
   ]
  },
  {
   "cell_type": "code",
   "execution_count": 5,
   "metadata": {
    "collapsed": true
   },
   "outputs": [],
   "source": [
    "#data[data['seg'] == segs[0]][['x']].size"
   ]
  },
  {
   "cell_type": "code",
   "execution_count": 6,
   "metadata": {
    "collapsed": true
   },
   "outputs": [],
   "source": [
    "#max_length = 0\n",
    "#for seg in segs:\n",
    "#    max_length = max(max_length, data[data['seg'] == seg][['x']].size)"
   ]
  },
  {
   "cell_type": "code",
   "execution_count": 7,
   "metadata": {
    "collapsed": true
   },
   "outputs": [],
   "source": [
    "#max_length"
   ]
  },
  {
   "cell_type": "code",
   "execution_count": 8,
   "metadata": {
    "collapsed": true
   },
   "outputs": [],
   "source": [
    "length = []\n",
    "for g, m in data.groupby('seg'):\n",
    "    length +=[len(m)]\n",
    "max_length = max(length)"
   ]
  },
  {
   "cell_type": "code",
   "execution_count": 9,
   "metadata": {},
   "outputs": [
    {
     "data": {
      "text/plain": [
       "77"
      ]
     },
     "execution_count": 9,
     "metadata": {},
     "output_type": "execute_result"
    }
   ],
   "source": [
    "max_length"
   ]
  },
  {
   "cell_type": "code",
   "execution_count": 10,
   "metadata": {
    "collapsed": true
   },
   "outputs": [],
   "source": [
    "segs = data.seg.unique()"
   ]
  },
  {
   "cell_type": "code",
   "execution_count": 11,
   "metadata": {
    "collapsed": true
   },
   "outputs": [],
   "source": [
    "#segs[:5]"
   ]
  },
  {
   "cell_type": "code",
   "execution_count": 12,
   "metadata": {
    "collapsed": true
   },
   "outputs": [],
   "source": [
    "seg = segs[0]"
   ]
  },
  {
   "cell_type": "code",
   "execution_count": 13,
   "metadata": {
    "collapsed": true
   },
   "outputs": [],
   "source": [
    "seg_df = data[data['seg'] ==seg][['x', 'y', 'z']]"
   ]
  },
  {
   "cell_type": "code",
   "execution_count": 14,
   "metadata": {},
   "outputs": [
    {
     "data": {
      "text/html": [
       "<div>\n",
       "<style>\n",
       "    .dataframe thead tr:only-child th {\n",
       "        text-align: right;\n",
       "    }\n",
       "\n",
       "    .dataframe thead th {\n",
       "        text-align: left;\n",
       "    }\n",
       "\n",
       "    .dataframe tbody tr th {\n",
       "        vertical-align: top;\n",
       "    }\n",
       "</style>\n",
       "<table border=\"1\" class=\"dataframe\">\n",
       "  <thead>\n",
       "    <tr style=\"text-align: right;\">\n",
       "      <th></th>\n",
       "      <th>x</th>\n",
       "      <th>y</th>\n",
       "      <th>z</th>\n",
       "    </tr>\n",
       "  </thead>\n",
       "  <tbody>\n",
       "    <tr>\n",
       "      <th>0</th>\n",
       "      <td>-928</td>\n",
       "      <td>523</td>\n",
       "      <td>25</td>\n",
       "    </tr>\n",
       "    <tr>\n",
       "      <th>1</th>\n",
       "      <td>-826</td>\n",
       "      <td>552</td>\n",
       "      <td>102</td>\n",
       "    </tr>\n",
       "    <tr>\n",
       "      <th>2</th>\n",
       "      <td>-866</td>\n",
       "      <td>545</td>\n",
       "      <td>101</td>\n",
       "    </tr>\n",
       "    <tr>\n",
       "      <th>3</th>\n",
       "      <td>-1006</td>\n",
       "      <td>545</td>\n",
       "      <td>49</td>\n",
       "    </tr>\n",
       "    <tr>\n",
       "      <th>4</th>\n",
       "      <td>-1199</td>\n",
       "      <td>548</td>\n",
       "      <td>-20</td>\n",
       "    </tr>\n",
       "  </tbody>\n",
       "</table>\n",
       "</div>"
      ],
      "text/plain": [
       "      x    y    z\n",
       "0  -928  523   25\n",
       "1  -826  552  102\n",
       "2  -866  545  101\n",
       "3 -1006  545   49\n",
       "4 -1199  548  -20"
      ]
     },
     "execution_count": 14,
     "metadata": {},
     "output_type": "execute_result"
    }
   ],
   "source": [
    "seg_df.head()"
   ]
  },
  {
   "cell_type": "code",
   "execution_count": 15,
   "metadata": {},
   "outputs": [
    {
     "data": {
      "text/plain": [
       "(50, 3)"
      ]
     },
     "execution_count": 15,
     "metadata": {},
     "output_type": "execute_result"
    }
   ],
   "source": [
    "seg_df.shape"
   ]
  },
  {
   "cell_type": "code",
   "execution_count": 16,
   "metadata": {
    "collapsed": true
   },
   "outputs": [],
   "source": [
    "raw_x = seg_df['x'].values\n",
    "raw_y = seg_df['y'].values\n",
    "raw_z = seg_df['z'].values"
   ]
  },
  {
   "cell_type": "code",
   "execution_count": 17,
   "metadata": {
    "collapsed": true
   },
   "outputs": [],
   "source": [
    "raw_index = np.linspace(0,max_length,raw_x.size)"
   ]
  },
  {
   "cell_type": "code",
   "execution_count": 18,
   "metadata": {},
   "outputs": [
    {
     "data": {
      "text/plain": [
       "array([  0.        ,   1.57142857,   3.14285714,   4.71428571,\n",
       "         6.28571429,   7.85714286,   9.42857143,  11.        ,\n",
       "        12.57142857,  14.14285714,  15.71428571,  17.28571429,\n",
       "        18.85714286,  20.42857143,  22.        ,  23.57142857,\n",
       "        25.14285714,  26.71428571,  28.28571429,  29.85714286,\n",
       "        31.42857143,  33.        ,  34.57142857,  36.14285714,\n",
       "        37.71428571,  39.28571429,  40.85714286,  42.42857143,\n",
       "        44.        ,  45.57142857,  47.14285714,  48.71428571,\n",
       "        50.28571429,  51.85714286,  53.42857143,  55.        ,\n",
       "        56.57142857,  58.14285714,  59.71428571,  61.28571429,\n",
       "        62.85714286,  64.42857143,  66.        ,  67.57142857,\n",
       "        69.14285714,  70.71428571,  72.28571429,  73.85714286,\n",
       "        75.42857143,  77.        ])"
      ]
     },
     "execution_count": 18,
     "metadata": {},
     "output_type": "execute_result"
    }
   ],
   "source": [
    "raw_index"
   ]
  },
  {
   "cell_type": "code",
   "execution_count": 19,
   "metadata": {
    "collapsed": true
   },
   "outputs": [],
   "source": [
    "#plt.plot(raw_index, raw_x, 'ro-', raw_index, raw_y, 'gx:', raw_index, raw_z, 'b*--')"
   ]
  },
  {
   "cell_type": "code",
   "execution_count": 20,
   "metadata": {
    "collapsed": true
   },
   "outputs": [],
   "source": [
    "new_index = np.arange(max_length)"
   ]
  },
  {
   "cell_type": "code",
   "execution_count": 21,
   "metadata": {
    "collapsed": true
   },
   "outputs": [],
   "source": [
    "f_x = interpolate.interp1d(raw_index, raw_x, kind='cubic')\n",
    "f_y = interpolate.interp1d(raw_index, raw_y, kind='cubic')\n",
    "f_z = interpolate.interp1d(raw_index, raw_z, kind='cubic')"
   ]
  },
  {
   "cell_type": "code",
   "execution_count": 22,
   "metadata": {
    "collapsed": true
   },
   "outputs": [],
   "source": [
    "new_x = f_x(new_index)\n",
    "new_y = f_y(new_index)\n",
    "new_z = f_z(new_index)"
   ]
  },
  {
   "cell_type": "code",
   "execution_count": 23,
   "metadata": {},
   "outputs": [
    {
     "data": {
      "text/plain": [
       "[<matplotlib.lines.Line2D at 0x450842ccf8>,\n",
       " <matplotlib.lines.Line2D at 0x450844b5c0>]"
      ]
     },
     "execution_count": 23,
     "metadata": {},
     "output_type": "execute_result"
    },
    {
     "data": {
      "image/png": "[encoded data removed]",
      "text/plain": [
       "<matplotlib.figure.Figure at 0x4506f926d8>"
      ]
     },
     "metadata": {},
     "output_type": "display_data"
    }
   ],
   "source": [
    "fig = plt.figure(figsize=(9, 6))\n",
    "ax = fig.add_subplot(111, frameon=True)\n",
    "ax.grid(True)\n",
    "plt.plot(raw_index, raw_x, '-', new_index, new_x, 'o')\n",
    "plt.plot(raw_index, raw_y, '-', new_index, new_y, 'o')\n",
    "plt.plot(raw_index, raw_z, '-', new_index, new_z, 'o')"
   ]
  },
  {
   "cell_type": "code",
   "execution_count": 24,
   "metadata": {
    "collapsed": true
   },
   "outputs": [],
   "source": [
    "#下面两种方法等效\n",
    "#train_data = np.array(seg_df).reshape(seg_df.size)\n",
    "#train_data = seg_df.values.reshape(seg_df.size)"
   ]
  },
  {
   "cell_type": "code",
   "execution_count": 25,
   "metadata": {
    "collapsed": true
   },
   "outputs": [],
   "source": [
    "train_data = np.array([new_x,new_y,new_z]).reshape(max_length*3)"
   ]
  },
  {
   "cell_type": "code",
   "execution_count": 26,
   "metadata": {},
   "outputs": [
    {
     "data": {
      "text/plain": [
       "231"
      ]
     },
     "execution_count": 26,
     "metadata": {},
     "output_type": "execute_result"
    }
   ],
   "source": [
    "train_data.size"
   ]
  },
  {
   "cell_type": "code",
   "execution_count": 27,
   "metadata": {
    "collapsed": true
   },
   "outputs": [],
   "source": [
    "train_label = seg.split('/')[0]"
   ]
  },
  {
   "cell_type": "code",
   "execution_count": 28,
   "metadata": {},
   "outputs": [
    {
     "data": {
      "text/plain": [
       "'bweep'"
      ]
     },
     "execution_count": 28,
     "metadata": {},
     "output_type": "execute_result"
    }
   ],
   "source": [
    "train_label"
   ]
  },
  {
   "cell_type": "code",
   "execution_count": 29,
   "metadata": {
    "collapsed": true
   },
   "outputs": [],
   "source": [
    "df1=pd.DataFrame(np.arange(10).reshape(2,5))"
   ]
  },
  {
   "cell_type": "code",
   "execution_count": 30,
   "metadata": {},
   "outputs": [
    {
     "data": {
      "text/html": [
       "<div>\n",
       "<style>\n",
       "    .dataframe thead tr:only-child th {\n",
       "        text-align: right;\n",
       "    }\n",
       "\n",
       "    .dataframe thead th {\n",
       "        text-align: left;\n",
       "    }\n",
       "\n",
       "    .dataframe tbody tr th {\n",
       "        vertical-align: top;\n",
       "    }\n",
       "</style>\n",
       "<table border=\"1\" class=\"dataframe\">\n",
       "  <thead>\n",
       "    <tr style=\"text-align: right;\">\n",
       "      <th></th>\n",
       "      <th>0</th>\n",
       "      <th>1</th>\n",
       "      <th>2</th>\n",
       "      <th>3</th>\n",
       "      <th>4</th>\n",
       "    </tr>\n",
       "  </thead>\n",
       "  <tbody>\n",
       "    <tr>\n",
       "      <th>0</th>\n",
       "      <td>0</td>\n",
       "      <td>1</td>\n",
       "      <td>2</td>\n",
       "      <td>3</td>\n",
       "      <td>4</td>\n",
       "    </tr>\n",
       "    <tr>\n",
       "      <th>1</th>\n",
       "      <td>5</td>\n",
       "      <td>6</td>\n",
       "      <td>7</td>\n",
       "      <td>8</td>\n",
       "      <td>9</td>\n",
       "    </tr>\n",
       "  </tbody>\n",
       "</table>\n",
       "</div>"
      ],
      "text/plain": [
       "   0  1  2  3  4\n",
       "0  0  1  2  3  4\n",
       "1  5  6  7  8  9"
      ]
     },
     "execution_count": 30,
     "metadata": {},
     "output_type": "execute_result"
    }
   ],
   "source": [
    "df1"
   ]
  },
  {
   "cell_type": "code",
   "execution_count": 31,
   "metadata": {
    "collapsed": true
   },
   "outputs": [],
   "source": [
    "len_df1 = len(df1)"
   ]
  },
  {
   "cell_type": "code",
   "execution_count": 32,
   "metadata": {
    "collapsed": true
   },
   "outputs": [],
   "source": [
    "df1.loc[len_df1,0] = 9\n",
    "df1.loc[len_df1,1:] = [3,3,3,3]"
   ]
  },
  {
   "cell_type": "code",
   "execution_count": 33,
   "metadata": {},
   "outputs": [
    {
     "data": {
      "text/html": [
       "<div>\n",
       "<style>\n",
       "    .dataframe thead tr:only-child th {\n",
       "        text-align: right;\n",
       "    }\n",
       "\n",
       "    .dataframe thead th {\n",
       "        text-align: left;\n",
       "    }\n",
       "\n",
       "    .dataframe tbody tr th {\n",
       "        vertical-align: top;\n",
       "    }\n",
       "</style>\n",
       "<table border=\"1\" class=\"dataframe\">\n",
       "  <thead>\n",
       "    <tr style=\"text-align: right;\">\n",
       "      <th></th>\n",
       "      <th>0</th>\n",
       "      <th>1</th>\n",
       "      <th>2</th>\n",
       "      <th>3</th>\n",
       "      <th>4</th>\n",
       "    </tr>\n",
       "  </thead>\n",
       "  <tbody>\n",
       "    <tr>\n",
       "      <th>0</th>\n",
       "      <td>0.0</td>\n",
       "      <td>1.0</td>\n",
       "      <td>2.0</td>\n",
       "      <td>3.0</td>\n",
       "      <td>4.0</td>\n",
       "    </tr>\n",
       "    <tr>\n",
       "      <th>1</th>\n",
       "      <td>5.0</td>\n",
       "      <td>6.0</td>\n",
       "      <td>7.0</td>\n",
       "      <td>8.0</td>\n",
       "      <td>9.0</td>\n",
       "    </tr>\n",
       "    <tr>\n",
       "      <th>2</th>\n",
       "      <td>9.0</td>\n",
       "      <td>3.0</td>\n",
       "      <td>3.0</td>\n",
       "      <td>3.0</td>\n",
       "      <td>3.0</td>\n",
       "    </tr>\n",
       "  </tbody>\n",
       "</table>\n",
       "</div>"
      ],
      "text/plain": [
       "     0    1    2    3    4\n",
       "0  0.0  1.0  2.0  3.0  4.0\n",
       "1  5.0  6.0  7.0  8.0  9.0\n",
       "2  9.0  3.0  3.0  3.0  3.0"
      ]
     },
     "execution_count": 33,
     "metadata": {},
     "output_type": "execute_result"
    }
   ],
   "source": [
    "df1"
   ]
  },
  {
   "cell_type": "code",
   "execution_count": 34,
   "metadata": {
    "collapsed": true
   },
   "outputs": [],
   "source": [
    "cols = [str(i) for i in np.arange(max_length*3)]\n",
    "cols.insert(0,\"label\")\n",
    "new_df = pd.DataFrame(columns=cols)"
   ]
  },
  {
   "cell_type": "code",
   "execution_count": 35,
   "metadata": {},
   "outputs": [
    {
     "data": {
      "text/html": [
       "<div>\n",
       "<style>\n",
       "    .dataframe thead tr:only-child th {\n",
       "        text-align: right;\n",
       "    }\n",
       "\n",
       "    .dataframe thead th {\n",
       "        text-align: left;\n",
       "    }\n",
       "\n",
       "    .dataframe tbody tr th {\n",
       "        vertical-align: top;\n",
       "    }\n",
       "</style>\n",
       "<table border=\"1\" class=\"dataframe\">\n",
       "  <thead>\n",
       "    <tr style=\"text-align: right;\">\n",
       "      <th></th>\n",
       "      <th>label</th>\n",
       "      <th>0</th>\n",
       "      <th>1</th>\n",
       "      <th>2</th>\n",
       "      <th>3</th>\n",
       "      <th>4</th>\n",
       "      <th>5</th>\n",
       "      <th>6</th>\n",
       "      <th>7</th>\n",
       "      <th>8</th>\n",
       "      <th>...</th>\n",
       "      <th>221</th>\n",
       "      <th>222</th>\n",
       "      <th>223</th>\n",
       "      <th>224</th>\n",
       "      <th>225</th>\n",
       "      <th>226</th>\n",
       "      <th>227</th>\n",
       "      <th>228</th>\n",
       "      <th>229</th>\n",
       "      <th>230</th>\n",
       "    </tr>\n",
       "  </thead>\n",
       "  <tbody>\n",
       "  </tbody>\n",
       "</table>\n",
       "<p>0 rows × 232 columns</p>\n",
       "</div>"
      ],
      "text/plain": [
       "Empty DataFrame\n",
       "Columns: [label, 0, 1, 2, 3, 4, 5, 6, 7, 8, 9, 10, 11, 12, 13, 14, 15, 16, 17, 18, 19, 20, 21, 22, 23, 24, 25, 26, 27, 28, 29, 30, 31, 32, 33, 34, 35, 36, 37, 38, 39, 40, 41, 42, 43, 44, 45, 46, 47, 48, 49, 50, 51, 52, 53, 54, 55, 56, 57, 58, 59, 60, 61, 62, 63, 64, 65, 66, 67, 68, 69, 70, 71, 72, 73, 74, 75, 76, 77, 78, 79, 80, 81, 82, 83, 84, 85, 86, 87, 88, 89, 90, 91, 92, 93, 94, 95, 96, 97, 98, ...]\n",
       "Index: []\n",
       "\n",
       "[0 rows x 232 columns]"
      ]
     },
     "execution_count": 35,
     "metadata": {},
     "output_type": "execute_result"
    }
   ],
   "source": [
    "new_df"
   ]
  },
  {
   "cell_type": "code",
   "execution_count": 36,
   "metadata": {
    "collapsed": true
   },
   "outputs": [],
   "source": [
    "len_df = len(new_df)"
   ]
  },
  {
   "cell_type": "code",
   "execution_count": 37,
   "metadata": {},
   "outputs": [
    {
     "data": {
      "text/plain": [
       "0"
      ]
     },
     "execution_count": 37,
     "metadata": {},
     "output_type": "execute_result"
    }
   ],
   "source": [
    "len_df"
   ]
  },
  {
   "cell_type": "code",
   "execution_count": 38,
   "metadata": {
    "collapsed": true
   },
   "outputs": [],
   "source": [
    "new_df.loc[len_df,'label'] = train_label\n",
    "new_df.loc[len_df,1:] = train_data"
   ]
  },
  {
   "cell_type": "code",
   "execution_count": 39,
   "metadata": {},
   "outputs": [
    {
     "data": {
      "text/html": [
       "<div>\n",
       "<style>\n",
       "    .dataframe thead tr:only-child th {\n",
       "        text-align: right;\n",
       "    }\n",
       "\n",
       "    .dataframe thead th {\n",
       "        text-align: left;\n",
       "    }\n",
       "\n",
       "    .dataframe tbody tr th {\n",
       "        vertical-align: top;\n",
       "    }\n",
       "</style>\n",
       "<table border=\"1\" class=\"dataframe\">\n",
       "  <thead>\n",
       "    <tr style=\"text-align: right;\">\n",
       "      <th></th>\n",
       "      <th>label</th>\n",
       "      <th>0</th>\n",
       "      <th>1</th>\n",
       "      <th>2</th>\n",
       "      <th>3</th>\n",
       "      <th>4</th>\n",
       "      <th>5</th>\n",
       "      <th>6</th>\n",
       "      <th>7</th>\n",
       "      <th>8</th>\n",
       "      <th>...</th>\n",
       "      <th>221</th>\n",
       "      <th>222</th>\n",
       "      <th>223</th>\n",
       "      <th>224</th>\n",
       "      <th>225</th>\n",
       "      <th>226</th>\n",
       "      <th>227</th>\n",
       "      <th>228</th>\n",
       "      <th>229</th>\n",
       "      <th>230</th>\n",
       "    </tr>\n",
       "  </thead>\n",
       "  <tbody>\n",
       "    <tr>\n",
       "      <th>0</th>\n",
       "      <td>bweep</td>\n",
       "      <td>-928</td>\n",
       "      <td>-844.515</td>\n",
       "      <td>-824.544</td>\n",
       "      <td>-857.569</td>\n",
       "      <td>-932.881</td>\n",
       "      <td>-1038.58</td>\n",
       "      <td>-1162.18</td>\n",
       "      <td>-1285.72</td>\n",
       "      <td>-1339.83</td>\n",
       "      <td>...</td>\n",
       "      <td>84.4566</td>\n",
       "      <td>35.6726</td>\n",
       "      <td>14.3099</td>\n",
       "      <td>25.0619</td>\n",
       "      <td>50.0715</td>\n",
       "      <td>60.9978</td>\n",
       "      <td>30.1382</td>\n",
       "      <td>-23.2811</td>\n",
       "      <td>-59.1936</td>\n",
       "      <td>-53.0823</td>\n",
       "    </tr>\n",
       "  </tbody>\n",
       "</table>\n",
       "<p>1 rows × 232 columns</p>\n",
       "</div>"
      ],
      "text/plain": [
       "   label    0        1        2        3        4        5        6        7  \\\n",
       "0  bweep -928 -844.515 -824.544 -857.569 -932.881 -1038.58 -1162.18 -1285.72   \n",
       "\n",
       "         8   ...         221      222      223      224      225      226  \\\n",
       "0 -1339.83   ...     84.4566  35.6726  14.3099  25.0619  50.0715  60.9978   \n",
       "\n",
       "       227      228      229      230  \n",
       "0  30.1382 -23.2811 -59.1936 -53.0823  \n",
       "\n",
       "[1 rows x 232 columns]"
      ]
     },
     "execution_count": 39,
     "metadata": {},
     "output_type": "execute_result"
    }
   ],
   "source": [
    "new_df"
   ]
  },
  {
   "cell_type": "code",
   "execution_count": 40,
   "metadata": {
    "collapsed": true
   },
   "outputs": [],
   "source": [
    "cols = [str(i) for i in np.arange(train_data.size)]\n",
    "cols.insert(0,\"label\")\n",
    "new_df = pd.DataFrame(columns=cols)\n",
    "for seg in segs:\n",
    "    seg_df = data[data['seg'] ==seg][['x', 'y', 'z']]\n",
    "    \n",
    "    raw_x = seg_df['x'].values\n",
    "    raw_y = seg_df['y'].values\n",
    "    raw_z = seg_df['z'].values\n",
    "    raw_index = np.linspace(0,max_length,raw_x.size)\n",
    "    \n",
    "    \n",
    "    f_x = interpolate.interp1d(raw_index, raw_x, kind='cubic')\n",
    "    f_y = interpolate.interp1d(raw_index, raw_y, kind='cubic')\n",
    "    f_z = interpolate.interp1d(raw_index, raw_z, kind='cubic')\n",
    "    \n",
    "    new_index = np.arange(max_length)\n",
    "    new_x = f_x(new_index)\n",
    "    new_y = f_y(new_index)\n",
    "    new_z = f_z(new_index)\n",
    "    \n",
    "    train_data = np.array([new_x,new_y,new_z]).reshape(max_length*3)\n",
    "    train_label = seg.split('/')[0]\n",
    "    \n",
    "    len_df = len(new_df)\n",
    "    new_df.loc[len_df,'label'] = train_label\n",
    "    new_df.iloc[len_df,1:] = list(train_data)"
   ]
  },
  {
   "cell_type": "code",
   "execution_count": 53,
   "metadata": {},
   "outputs": [
    {
     "data": {
      "text/html": [
       "<div>\n",
       "<style>\n",
       "    .dataframe thead tr:only-child th {\n",
       "        text-align: right;\n",
       "    }\n",
       "\n",
       "    .dataframe thead th {\n",
       "        text-align: left;\n",
       "    }\n",
       "\n",
       "    .dataframe tbody tr th {\n",
       "        vertical-align: top;\n",
       "    }\n",
       "</style>\n",
       "<table border=\"1\" class=\"dataframe\">\n",
       "  <thead>\n",
       "    <tr style=\"text-align: right;\">\n",
       "      <th></th>\n",
       "      <th>label</th>\n",
       "      <th>0</th>\n",
       "      <th>1</th>\n",
       "      <th>2</th>\n",
       "      <th>3</th>\n",
       "      <th>4</th>\n",
       "      <th>5</th>\n",
       "      <th>6</th>\n",
       "      <th>7</th>\n",
       "      <th>8</th>\n",
       "      <th>...</th>\n",
       "      <th>221</th>\n",
       "      <th>222</th>\n",
       "      <th>223</th>\n",
       "      <th>224</th>\n",
       "      <th>225</th>\n",
       "      <th>226</th>\n",
       "      <th>227</th>\n",
       "      <th>228</th>\n",
       "      <th>229</th>\n",
       "      <th>230</th>\n",
       "    </tr>\n",
       "  </thead>\n",
       "  <tbody>\n",
       "    <tr>\n",
       "      <th>0</th>\n",
       "      <td>bweep</td>\n",
       "      <td>-928</td>\n",
       "      <td>-844.515</td>\n",
       "      <td>-824.544</td>\n",
       "      <td>-857.569</td>\n",
       "      <td>-932.881</td>\n",
       "      <td>-1038.58</td>\n",
       "      <td>-1162.18</td>\n",
       "      <td>-1285.72</td>\n",
       "      <td>-1339.83</td>\n",
       "      <td>...</td>\n",
       "      <td>84.4566</td>\n",
       "      <td>35.6726</td>\n",
       "      <td>14.3099</td>\n",
       "      <td>25.0619</td>\n",
       "      <td>50.0715</td>\n",
       "      <td>60.9978</td>\n",
       "      <td>30.1382</td>\n",
       "      <td>-23.2811</td>\n",
       "      <td>-59.1936</td>\n",
       "      <td>-53.0823</td>\n",
       "    </tr>\n",
       "    <tr>\n",
       "      <th>1</th>\n",
       "      <td>bweep</td>\n",
       "      <td>-986</td>\n",
       "      <td>-910.49</td>\n",
       "      <td>-866.202</td>\n",
       "      <td>-858.734</td>\n",
       "      <td>-890.486</td>\n",
       "      <td>-944.596</td>\n",
       "      <td>-1040.09</td>\n",
       "      <td>-1250.22</td>\n",
       "      <td>-1437.67</td>\n",
       "      <td>...</td>\n",
       "      <td>68.2235</td>\n",
       "      <td>16.034</td>\n",
       "      <td>-10.815</td>\n",
       "      <td>-5.30804</td>\n",
       "      <td>21.9242</td>\n",
       "      <td>41.6942</td>\n",
       "      <td>10.0096</td>\n",
       "      <td>-55.3843</td>\n",
       "      <td>-111.554</td>\n",
       "      <td>-144.264</td>\n",
       "    </tr>\n",
       "    <tr>\n",
       "      <th>2</th>\n",
       "      <td>bweep</td>\n",
       "      <td>-1045</td>\n",
       "      <td>-985.347</td>\n",
       "      <td>-957.773</td>\n",
       "      <td>-950.061</td>\n",
       "      <td>-950.003</td>\n",
       "      <td>-947.528</td>\n",
       "      <td>-938.07</td>\n",
       "      <td>-917.297</td>\n",
       "      <td>-879.821</td>\n",
       "      <td>...</td>\n",
       "      <td>-43.4504</td>\n",
       "      <td>-60.1701</td>\n",
       "      <td>-73.671</td>\n",
       "      <td>-83.5414</td>\n",
       "      <td>-91.2885</td>\n",
       "      <td>-99.0951</td>\n",
       "      <td>-106.147</td>\n",
       "      <td>-110.306</td>\n",
       "      <td>-110.209</td>\n",
       "      <td>-104.793</td>\n",
       "    </tr>\n",
       "    <tr>\n",
       "      <th>3</th>\n",
       "      <td>bweep</td>\n",
       "      <td>-951</td>\n",
       "      <td>-948.333</td>\n",
       "      <td>-929.124</td>\n",
       "      <td>-899.586</td>\n",
       "      <td>-865.923</td>\n",
       "      <td>-829.197</td>\n",
       "      <td>-777.499</td>\n",
       "      <td>-736.117</td>\n",
       "      <td>-810.86</td>\n",
       "      <td>...</td>\n",
       "      <td>-95.7179</td>\n",
       "      <td>-105.873</td>\n",
       "      <td>-118.947</td>\n",
       "      <td>-132.116</td>\n",
       "      <td>-143.71</td>\n",
       "      <td>-152.957</td>\n",
       "      <td>-160.827</td>\n",
       "      <td>-168.555</td>\n",
       "      <td>-173.809</td>\n",
       "      <td>-172.866</td>\n",
       "    </tr>\n",
       "    <tr>\n",
       "      <th>4</th>\n",
       "      <td>bweep</td>\n",
       "      <td>-1081</td>\n",
       "      <td>-1043.79</td>\n",
       "      <td>-1023.65</td>\n",
       "      <td>-1001.26</td>\n",
       "      <td>-957.304</td>\n",
       "      <td>-890.237</td>\n",
       "      <td>-843.907</td>\n",
       "      <td>-841.828</td>\n",
       "      <td>-850.794</td>\n",
       "      <td>...</td>\n",
       "      <td>-75.1123</td>\n",
       "      <td>-98.6839</td>\n",
       "      <td>-135.222</td>\n",
       "      <td>-161.786</td>\n",
       "      <td>-175.667</td>\n",
       "      <td>-185.447</td>\n",
       "      <td>-193.11</td>\n",
       "      <td>-196.469</td>\n",
       "      <td>-187.462</td>\n",
       "      <td>-155.753</td>\n",
       "    </tr>\n",
       "  </tbody>\n",
       "</table>\n",
       "<p>5 rows × 232 columns</p>\n",
       "</div>"
      ],
      "text/plain": [
       "   label     0        1        2        3        4        5        6        7  \\\n",
       "0  bweep  -928 -844.515 -824.544 -857.569 -932.881 -1038.58 -1162.18 -1285.72   \n",
       "1  bweep  -986  -910.49 -866.202 -858.734 -890.486 -944.596 -1040.09 -1250.22   \n",
       "2  bweep -1045 -985.347 -957.773 -950.061 -950.003 -947.528  -938.07 -917.297   \n",
       "3  bweep  -951 -948.333 -929.124 -899.586 -865.923 -829.197 -777.499 -736.117   \n",
       "4  bweep -1081 -1043.79 -1023.65 -1001.26 -957.304 -890.237 -843.907 -841.828   \n",
       "\n",
       "         8   ...         221      222      223      224      225      226  \\\n",
       "0 -1339.83   ...     84.4566  35.6726  14.3099  25.0619  50.0715  60.9978   \n",
       "1 -1437.67   ...     68.2235   16.034  -10.815 -5.30804  21.9242  41.6942   \n",
       "2 -879.821   ...    -43.4504 -60.1701  -73.671 -83.5414 -91.2885 -99.0951   \n",
       "3  -810.86   ...    -95.7179 -105.873 -118.947 -132.116  -143.71 -152.957   \n",
       "4 -850.794   ...    -75.1123 -98.6839 -135.222 -161.786 -175.667 -185.447   \n",
       "\n",
       "       227      228      229      230  \n",
       "0  30.1382 -23.2811 -59.1936 -53.0823  \n",
       "1  10.0096 -55.3843 -111.554 -144.264  \n",
       "2 -106.147 -110.306 -110.209 -104.793  \n",
       "3 -160.827 -168.555 -173.809 -172.866  \n",
       "4  -193.11 -196.469 -187.462 -155.753  \n",
       "\n",
       "[5 rows x 232 columns]"
      ]
     },
     "execution_count": 53,
     "metadata": {},
     "output_type": "execute_result"
    }
   ],
   "source": [
    "new_df.head()"
   ]
  },
  {
   "cell_type": "code",
   "execution_count": 60,
   "metadata": {},
   "outputs": [
    {
     "data": {
      "text/plain": [
       "'dump'"
      ]
     },
     "execution_count": 60,
     "metadata": {},
     "output_type": "execute_result"
    }
   ],
   "source": [
    "new_df['label'][300]"
   ]
  },
  {
   "cell_type": "code",
   "execution_count": 41,
   "metadata": {
    "collapsed": true
   },
   "outputs": [],
   "source": [
    "values1 = new_df.loc[0].drop('label').values\n",
    "values2· = new_df.loc[158].drop('label').values\n",
    "values3 = new_df.loc[187].drop('label').values"
   ]
  },
  {
   "cell_type": "code",
   "execution_count": 42,
   "metadata": {},
   "outputs": [
    {
     "data": {
      "text/plain": [
       "[<matplotlib.lines.Line2D at 0x4503262da0>]"
      ]
     },
     "execution_count": 42,
     "metadata": {},
     "output_type": "execute_result"
    },
    {
     "data": {
      "image/png": "[encoded data removed]",
      "text/plain": [
       "<matplotlib.figure.Figure at 0x4502de2c88>"
      ]
     },
     "metadata": {},
     "output_type": "display_data"
    }
   ],
   "source": [
    "fig = plt.figure(figsize=(12, 6))\n",
    "ax = fig.add_subplot(111, frameon=True)\n",
    "ax.grid(True)\n",
    "plt.plot(values1, '-o')\n",
    "plt.plot(values2, '-o')\n",
    "plt.plot(values3, '-o')"
   ]
  },
  {
   "cell_type": "code",
   "execution_count": 43,
   "metadata": {},
   "outputs": [
    {
     "data": {
      "text/plain": [
       "847"
      ]
     },
     "execution_count": 43,
     "metadata": {},
     "output_type": "execute_result"
    }
   ],
   "source": [
    "len(new_df)"
   ]
  },
  {
   "cell_type": "code",
   "execution_count": 44,
   "metadata": {
    "collapsed": true
   },
   "outputs": [],
   "source": [
    "labels = new_df.label.unique()"
   ]
  },
  {
   "cell_type": "code",
   "execution_count": 45,
   "metadata": {},
   "outputs": [
    {
     "data": {
      "text/plain": [
       "array(['bweep', 'sweep', 'clean', 'dump'], dtype=object)"
      ]
     },
     "execution_count": 45,
     "metadata": {},
     "output_type": "execute_result"
    }
   ],
   "source": [
    "labels"
   ]
  },
  {
   "cell_type": "code",
   "execution_count": 808,
   "metadata": {
    "collapsed": true
   },
   "outputs": [],
   "source": [
    "temp_df = new_df[new_df['label'] ==labels[0]]\n",
    "temp_len = int(len(temp_df)*2/3)\n",
    "temp_train_df = temp_df.iloc[:temp_len]\n",
    "temp_test_df = temp_df.iloc[temp_len:]"
   ]
  },
  {
   "cell_type": "code",
   "execution_count": 809,
   "metadata": {},
   "outputs": [
    {
     "data": {
      "text/html": [
       "<div>\n",
       "<style>\n",
       "    .dataframe thead tr:only-child th {\n",
       "        text-align: right;\n",
       "    }\n",
       "\n",
       "    .dataframe thead th {\n",
       "        text-align: left;\n",
       "    }\n",
       "\n",
       "    .dataframe tbody tr th {\n",
       "        vertical-align: top;\n",
       "    }\n",
       "</style>\n",
       "<table border=\"1\" class=\"dataframe\">\n",
       "  <thead>\n",
       "    <tr style=\"text-align: right;\">\n",
       "      <th></th>\n",
       "      <th>label</th>\n",
       "      <th>0</th>\n",
       "      <th>1</th>\n",
       "      <th>2</th>\n",
       "      <th>3</th>\n",
       "      <th>4</th>\n",
       "      <th>5</th>\n",
       "      <th>6</th>\n",
       "      <th>7</th>\n",
       "      <th>8</th>\n",
       "      <th>...</th>\n",
       "      <th>221</th>\n",
       "      <th>222</th>\n",
       "      <th>223</th>\n",
       "      <th>224</th>\n",
       "      <th>225</th>\n",
       "      <th>226</th>\n",
       "      <th>227</th>\n",
       "      <th>228</th>\n",
       "      <th>229</th>\n",
       "      <th>230</th>\n",
       "    </tr>\n",
       "  </thead>\n",
       "  <tbody>\n",
       "    <tr>\n",
       "      <th>627</th>\n",
       "      <td>bweep</td>\n",
       "      <td>-590</td>\n",
       "      <td>-576.755</td>\n",
       "      <td>-567.034</td>\n",
       "      <td>-546.816</td>\n",
       "      <td>-514.361</td>\n",
       "      <td>-495.651</td>\n",
       "      <td>-483.755</td>\n",
       "      <td>-484.705</td>\n",
       "      <td>-546.003</td>\n",
       "      <td>...</td>\n",
       "      <td>1183.38</td>\n",
       "      <td>1159.47</td>\n",
       "      <td>1123.64</td>\n",
       "      <td>1027.17</td>\n",
       "      <td>858.998</td>\n",
       "      <td>790.593</td>\n",
       "      <td>823.691</td>\n",
       "      <td>843.852</td>\n",
       "      <td>761.745</td>\n",
       "      <td>620.894</td>\n",
       "    </tr>\n",
       "    <tr>\n",
       "      <th>628</th>\n",
       "      <td>bweep</td>\n",
       "      <td>-538</td>\n",
       "      <td>-525.822</td>\n",
       "      <td>-584.677</td>\n",
       "      <td>-650.868</td>\n",
       "      <td>-684.035</td>\n",
       "      <td>-709.931</td>\n",
       "      <td>-870.185</td>\n",
       "      <td>-1105.44</td>\n",
       "      <td>-1217.39</td>\n",
       "      <td>...</td>\n",
       "      <td>812.849</td>\n",
       "      <td>889.037</td>\n",
       "      <td>919.684</td>\n",
       "      <td>837.912</td>\n",
       "      <td>727.696</td>\n",
       "      <td>643.365</td>\n",
       "      <td>620.685</td>\n",
       "      <td>661.045</td>\n",
       "      <td>683.086</td>\n",
       "      <td>668.823</td>\n",
       "    </tr>\n",
       "    <tr>\n",
       "      <th>629</th>\n",
       "      <td>bweep</td>\n",
       "      <td>-343</td>\n",
       "      <td>-329</td>\n",
       "      <td>-188.763</td>\n",
       "      <td>-21.8899</td>\n",
       "      <td>84.1794</td>\n",
       "      <td>134.252</td>\n",
       "      <td>162.855</td>\n",
       "      <td>173.086</td>\n",
       "      <td>124.166</td>\n",
       "      <td>...</td>\n",
       "      <td>787.403</td>\n",
       "      <td>793.304</td>\n",
       "      <td>794.98</td>\n",
       "      <td>790.496</td>\n",
       "      <td>777.533</td>\n",
       "      <td>764.632</td>\n",
       "      <td>770.068</td>\n",
       "      <td>784.849</td>\n",
       "      <td>799.665</td>\n",
       "      <td>831.063</td>\n",
       "    </tr>\n",
       "    <tr>\n",
       "      <th>630</th>\n",
       "      <td>bweep</td>\n",
       "      <td>-206</td>\n",
       "      <td>-247.333</td>\n",
       "      <td>-324.316</td>\n",
       "      <td>-410.866</td>\n",
       "      <td>-483.112</td>\n",
       "      <td>-538.243</td>\n",
       "      <td>-582.275</td>\n",
       "      <td>-612.897</td>\n",
       "      <td>-636.683</td>\n",
       "      <td>...</td>\n",
       "      <td>684.727</td>\n",
       "      <td>690.401</td>\n",
       "      <td>685.941</td>\n",
       "      <td>671.287</td>\n",
       "      <td>667.246</td>\n",
       "      <td>680.358</td>\n",
       "      <td>703.481</td>\n",
       "      <td>735.94</td>\n",
       "      <td>768.584</td>\n",
       "      <td>772.816</td>\n",
       "    </tr>\n",
       "    <tr>\n",
       "      <th>631</th>\n",
       "      <td>bweep</td>\n",
       "      <td>-281</td>\n",
       "      <td>-283.712</td>\n",
       "      <td>-439.018</td>\n",
       "      <td>-635.595</td>\n",
       "      <td>-768.042</td>\n",
       "      <td>-827.791</td>\n",
       "      <td>-884.412</td>\n",
       "      <td>-1004.3</td>\n",
       "      <td>-1193.84</td>\n",
       "      <td>...</td>\n",
       "      <td>942.734</td>\n",
       "      <td>890.678</td>\n",
       "      <td>842.612</td>\n",
       "      <td>804.135</td>\n",
       "      <td>786.901</td>\n",
       "      <td>778.641</td>\n",
       "      <td>764.784</td>\n",
       "      <td>750.267</td>\n",
       "      <td>738.905</td>\n",
       "      <td>729.119</td>\n",
       "    </tr>\n",
       "  </tbody>\n",
       "</table>\n",
       "<p>5 rows × 232 columns</p>\n",
       "</div>"
      ],
      "text/plain": [
       "     label    0        1        2        3        4        5        6  \\\n",
       "627  bweep -590 -576.755 -567.034 -546.816 -514.361 -495.651 -483.755   \n",
       "628  bweep -538 -525.822 -584.677 -650.868 -684.035 -709.931 -870.185   \n",
       "629  bweep -343     -329 -188.763 -21.8899  84.1794  134.252  162.855   \n",
       "630  bweep -206 -247.333 -324.316 -410.866 -483.112 -538.243 -582.275   \n",
       "631  bweep -281 -283.712 -439.018 -635.595 -768.042 -827.791 -884.412   \n",
       "\n",
       "           7        8   ...         221      222      223      224      225  \\\n",
       "627 -484.705 -546.003   ...     1183.38  1159.47  1123.64  1027.17  858.998   \n",
       "628 -1105.44 -1217.39   ...     812.849  889.037  919.684  837.912  727.696   \n",
       "629  173.086  124.166   ...     787.403  793.304   794.98  790.496  777.533   \n",
       "630 -612.897 -636.683   ...     684.727  690.401  685.941  671.287  667.246   \n",
       "631  -1004.3 -1193.84   ...     942.734  890.678  842.612  804.135  786.901   \n",
       "\n",
       "         226      227      228      229      230  \n",
       "627  790.593  823.691  843.852  761.745  620.894  \n",
       "628  643.365  620.685  661.045  683.086  668.823  \n",
       "629  764.632  770.068  784.849  799.665  831.063  \n",
       "630  680.358  703.481   735.94  768.584  772.816  \n",
       "631  778.641  764.784  750.267  738.905  729.119  \n",
       "\n",
       "[5 rows x 232 columns]"
      ]
     },
     "execution_count": 809,
     "metadata": {},
     "output_type": "execute_result"
    }
   ],
   "source": [
    "temp_train_df.tail()"
   ]
  },
  {
   "cell_type": "code",
   "execution_count": 810,
   "metadata": {},
   "outputs": [
    {
     "data": {
      "text/html": [
       "<div>\n",
       "<style>\n",
       "    .dataframe thead tr:only-child th {\n",
       "        text-align: right;\n",
       "    }\n",
       "\n",
       "    .dataframe thead th {\n",
       "        text-align: left;\n",
       "    }\n",
       "\n",
       "    .dataframe tbody tr th {\n",
       "        vertical-align: top;\n",
       "    }\n",
       "</style>\n",
       "<table border=\"1\" class=\"dataframe\">\n",
       "  <thead>\n",
       "    <tr style=\"text-align: right;\">\n",
       "      <th></th>\n",
       "      <th>label</th>\n",
       "      <th>0</th>\n",
       "      <th>1</th>\n",
       "      <th>2</th>\n",
       "      <th>3</th>\n",
       "      <th>4</th>\n",
       "      <th>5</th>\n",
       "      <th>6</th>\n",
       "      <th>7</th>\n",
       "      <th>8</th>\n",
       "      <th>...</th>\n",
       "      <th>221</th>\n",
       "      <th>222</th>\n",
       "      <th>223</th>\n",
       "      <th>224</th>\n",
       "      <th>225</th>\n",
       "      <th>226</th>\n",
       "      <th>227</th>\n",
       "      <th>228</th>\n",
       "      <th>229</th>\n",
       "      <th>230</th>\n",
       "    </tr>\n",
       "  </thead>\n",
       "  <tbody>\n",
       "    <tr>\n",
       "      <th>632</th>\n",
       "      <td>bweep</td>\n",
       "      <td>-575</td>\n",
       "      <td>-606.357</td>\n",
       "      <td>-521.696</td>\n",
       "      <td>-388.477</td>\n",
       "      <td>-273.529</td>\n",
       "      <td>-205.93</td>\n",
       "      <td>-157.186</td>\n",
       "      <td>-115.583</td>\n",
       "      <td>-90.3342</td>\n",
       "      <td>...</td>\n",
       "      <td>765.229</td>\n",
       "      <td>808.881</td>\n",
       "      <td>845.175</td>\n",
       "      <td>869.61</td>\n",
       "      <td>885.853</td>\n",
       "      <td>909.895</td>\n",
       "      <td>946.388</td>\n",
       "      <td>987.719</td>\n",
       "      <td>1027.78</td>\n",
       "      <td>1061.8</td>\n",
       "    </tr>\n",
       "    <tr>\n",
       "      <th>633</th>\n",
       "      <td>bweep</td>\n",
       "      <td>-108</td>\n",
       "      <td>-283.347</td>\n",
       "      <td>-350.037</td>\n",
       "      <td>-362.025</td>\n",
       "      <td>-401.543</td>\n",
       "      <td>-487.591</td>\n",
       "      <td>-562.811</td>\n",
       "      <td>-633.911</td>\n",
       "      <td>-675.121</td>\n",
       "      <td>...</td>\n",
       "      <td>1006.4</td>\n",
       "      <td>1088.28</td>\n",
       "      <td>1147.15</td>\n",
       "      <td>1161.94</td>\n",
       "      <td>1121.08</td>\n",
       "      <td>1046.89</td>\n",
       "      <td>940.857</td>\n",
       "      <td>851.835</td>\n",
       "      <td>853.308</td>\n",
       "      <td>922.626</td>\n",
       "    </tr>\n",
       "    <tr>\n",
       "      <th>634</th>\n",
       "      <td>bweep</td>\n",
       "      <td>-213</td>\n",
       "      <td>-184.829</td>\n",
       "      <td>-144.394</td>\n",
       "      <td>-46.5269</td>\n",
       "      <td>-6.79038</td>\n",
       "      <td>15.7725</td>\n",
       "      <td>35.905</td>\n",
       "      <td>99.218</td>\n",
       "      <td>151.093</td>\n",
       "      <td>...</td>\n",
       "      <td>928.336</td>\n",
       "      <td>972.873</td>\n",
       "      <td>986.357</td>\n",
       "      <td>944.975</td>\n",
       "      <td>927.727</td>\n",
       "      <td>1042.57</td>\n",
       "      <td>1153.16</td>\n",
       "      <td>1209.72</td>\n",
       "      <td>1148.85</td>\n",
       "      <td>841.166</td>\n",
       "    </tr>\n",
       "    <tr>\n",
       "      <th>635</th>\n",
       "      <td>bweep</td>\n",
       "      <td>-370</td>\n",
       "      <td>-369.997</td>\n",
       "      <td>-441.108</td>\n",
       "      <td>-522.703</td>\n",
       "      <td>-560.663</td>\n",
       "      <td>-562.831</td>\n",
       "      <td>-564.581</td>\n",
       "      <td>-580.152</td>\n",
       "      <td>-606.309</td>\n",
       "      <td>...</td>\n",
       "      <td>1141.46</td>\n",
       "      <td>1216.26</td>\n",
       "      <td>1261.05</td>\n",
       "      <td>1290.47</td>\n",
       "      <td>1308.62</td>\n",
       "      <td>1234.49</td>\n",
       "      <td>971.483</td>\n",
       "      <td>717.919</td>\n",
       "      <td>631.77</td>\n",
       "      <td>624.335</td>\n",
       "    </tr>\n",
       "    <tr>\n",
       "      <th>636</th>\n",
       "      <td>bweep</td>\n",
       "      <td>-341</td>\n",
       "      <td>-296.52</td>\n",
       "      <td>-466.118</td>\n",
       "      <td>-678.559</td>\n",
       "      <td>-801.576</td>\n",
       "      <td>-866.52</td>\n",
       "      <td>-903.372</td>\n",
       "      <td>-906.926</td>\n",
       "      <td>-928.748</td>\n",
       "      <td>...</td>\n",
       "      <td>910.833</td>\n",
       "      <td>934.396</td>\n",
       "      <td>955.917</td>\n",
       "      <td>979.521</td>\n",
       "      <td>996.217</td>\n",
       "      <td>985.624</td>\n",
       "      <td>944.65</td>\n",
       "      <td>879.563</td>\n",
       "      <td>801.891</td>\n",
       "      <td>724.14</td>\n",
       "    </tr>\n",
       "  </tbody>\n",
       "</table>\n",
       "<p>5 rows × 232 columns</p>\n",
       "</div>"
      ],
      "text/plain": [
       "     label    0        1        2        3        4        5        6  \\\n",
       "632  bweep -575 -606.357 -521.696 -388.477 -273.529  -205.93 -157.186   \n",
       "633  bweep -108 -283.347 -350.037 -362.025 -401.543 -487.591 -562.811   \n",
       "634  bweep -213 -184.829 -144.394 -46.5269 -6.79038  15.7725   35.905   \n",
       "635  bweep -370 -369.997 -441.108 -522.703 -560.663 -562.831 -564.581   \n",
       "636  bweep -341  -296.52 -466.118 -678.559 -801.576  -866.52 -903.372   \n",
       "\n",
       "           7        8   ...         221      222      223      224      225  \\\n",
       "632 -115.583 -90.3342   ...     765.229  808.881  845.175   869.61  885.853   \n",
       "633 -633.911 -675.121   ...      1006.4  1088.28  1147.15  1161.94  1121.08   \n",
       "634   99.218  151.093   ...     928.336  972.873  986.357  944.975  927.727   \n",
       "635 -580.152 -606.309   ...     1141.46  1216.26  1261.05  1290.47  1308.62   \n",
       "636 -906.926 -928.748   ...     910.833  934.396  955.917  979.521  996.217   \n",
       "\n",
       "         226      227      228      229      230  \n",
       "632  909.895  946.388  987.719  1027.78   1061.8  \n",
       "633  1046.89  940.857  851.835  853.308  922.626  \n",
       "634  1042.57  1153.16  1209.72  1148.85  841.166  \n",
       "635  1234.49  971.483  717.919   631.77  624.335  \n",
       "636  985.624   944.65  879.563  801.891   724.14  \n",
       "\n",
       "[5 rows x 232 columns]"
      ]
     },
     "execution_count": 810,
     "metadata": {},
     "output_type": "execute_result"
    }
   ],
   "source": [
    "temp_test_df.head()"
   ]
  },
  {
   "cell_type": "code",
   "execution_count": 811,
   "metadata": {
    "collapsed": true
   },
   "outputs": [],
   "source": [
    "train_df = pd.DataFrame()\n",
    "test_df = pd.DataFrame()\n",
    "for label in labels:\n",
    "    temp_df = new_df[new_df['label'] ==label]\n",
    "    temp_len = int(len(temp_df)*2/3)\n",
    "    temp_train_df = temp_df.iloc[:temp_len]\n",
    "    train_df = pd.concat([train_df, temp_train_df])\n",
    "    temp_test_df = temp_df.iloc[temp_len:]\n",
    "    test_df = pd.concat([test_df, temp_test_df])"
   ]
  },
  {
   "cell_type": "code",
   "execution_count": 812,
   "metadata": {},
   "outputs": [
    {
     "data": {
      "text/plain": [
       "563"
      ]
     },
     "execution_count": 812,
     "metadata": {},
     "output_type": "execute_result"
    }
   ],
   "source": [
    "len(train_df)"
   ]
  },
  {
   "cell_type": "code",
   "execution_count": 813,
   "metadata": {},
   "outputs": [
    {
     "data": {
      "text/plain": [
       "284"
      ]
     },
     "execution_count": 813,
     "metadata": {},
     "output_type": "execute_result"
    }
   ],
   "source": [
    "len(test_df)"
   ]
  },
  {
   "cell_type": "code",
   "execution_count": 635,
   "metadata": {
    "collapsed": true
   },
   "outputs": [],
   "source": [
    "#temp_df.to_csv('./data/processed_data/{}.csv'.format(label), index=False)"
   ]
  },
  {
   "cell_type": "code",
   "execution_count": null,
   "metadata": {
    "collapsed": true
   },
   "outputs": [],
   "source": []
  }
 ],
 "metadata": {
  "kernelspec": {
   "display_name": "Python 3",
   "language": "python",
   "name": "python3"
  },
  "language_info": {
   "codemirror_mode": {
    "name": "ipython",
    "version": 3
   },
   "file_extension": ".py",
   "mimetype": "text/x-python",
   "name": "python",
   "nbconvert_exporter": "python",
   "pygments_lexer": "ipython3",
   "version": "3.6.1"
  }
 },
 "nbformat": 4,
 "nbformat_minor": 2
}

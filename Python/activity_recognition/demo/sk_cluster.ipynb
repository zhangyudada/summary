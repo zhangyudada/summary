{
 "cells": [
  {
   "cell_type": "code",
   "execution_count": 200,
   "metadata": {
    "collapsed": true
   },
   "outputs": [],
   "source": [
    "import numpy as np\n",
    "import pandas as pd\n",
    "import matplotlib.pyplot as plt\n",
    "#from sklearn.cluster import KMeans\n",
    "#from sklearn.cluster import DBSCAN\n",
    "import sklearn.cluster as skc\n",
    "from sklearn import metrics"
   ]
  },
  {
   "cell_type": "code",
   "execution_count": 233,
   "metadata": {
    "collapsed": true
   },
   "outputs": [],
   "source": [
    "df = pd.read_csv('./data/processed_data/part/sweep.csv')"
   ]
  },
  {
   "cell_type": "code",
   "execution_count": 234,
   "metadata": {},
   "outputs": [
    {
     "data": {
      "text/html": [
       "<div>\n",
       "<style>\n",
       "    .dataframe thead tr:only-child th {\n",
       "        text-align: right;\n",
       "    }\n",
       "\n",
       "    .dataframe thead th {\n",
       "        text-align: left;\n",
       "    }\n",
       "\n",
       "    .dataframe tbody tr th {\n",
       "        vertical-align: top;\n",
       "    }\n",
       "</style>\n",
       "<table border=\"1\" class=\"dataframe\">\n",
       "  <thead>\n",
       "    <tr style=\"text-align: right;\">\n",
       "      <th></th>\n",
       "      <th>label</th>\n",
       "      <th>0</th>\n",
       "      <th>1</th>\n",
       "      <th>2</th>\n",
       "      <th>3</th>\n",
       "      <th>4</th>\n",
       "      <th>5</th>\n",
       "      <th>6</th>\n",
       "      <th>7</th>\n",
       "      <th>8</th>\n",
       "      <th>...</th>\n",
       "      <th>221</th>\n",
       "      <th>222</th>\n",
       "      <th>223</th>\n",
       "      <th>224</th>\n",
       "      <th>225</th>\n",
       "      <th>226</th>\n",
       "      <th>227</th>\n",
       "      <th>228</th>\n",
       "      <th>229</th>\n",
       "      <th>230</th>\n",
       "    </tr>\n",
       "  </thead>\n",
       "  <tbody>\n",
       "    <tr>\n",
       "      <th>0</th>\n",
       "      <td>sweep</td>\n",
       "      <td>-423.0</td>\n",
       "      <td>-334.170748</td>\n",
       "      <td>-338.802245</td>\n",
       "      <td>-411.530329</td>\n",
       "      <td>-529.169464</td>\n",
       "      <td>-681.818595</td>\n",
       "      <td>-850.719037</td>\n",
       "      <td>-1001.539872</td>\n",
       "      <td>-1186.204372</td>\n",
       "      <td>...</td>\n",
       "      <td>-93.702378</td>\n",
       "      <td>-204.064315</td>\n",
       "      <td>-270.404093</td>\n",
       "      <td>-264.014688</td>\n",
       "      <td>-221.910397</td>\n",
       "      <td>-199.052625</td>\n",
       "      <td>-231.006051</td>\n",
       "      <td>-288.278414</td>\n",
       "      <td>-322.939678</td>\n",
       "      <td>-333.244824</td>\n",
       "    </tr>\n",
       "    <tr>\n",
       "      <th>1</th>\n",
       "      <td>sweep</td>\n",
       "      <td>-463.0</td>\n",
       "      <td>-462.277151</td>\n",
       "      <td>-519.319142</td>\n",
       "      <td>-605.866016</td>\n",
       "      <td>-694.421988</td>\n",
       "      <td>-803.341514</td>\n",
       "      <td>-1016.091996</td>\n",
       "      <td>-1285.291011</td>\n",
       "      <td>-1441.406871</td>\n",
       "      <td>...</td>\n",
       "      <td>-487.752898</td>\n",
       "      <td>-424.236578</td>\n",
       "      <td>-323.866399</td>\n",
       "      <td>-235.039987</td>\n",
       "      <td>-187.174458</td>\n",
       "      <td>-165.520355</td>\n",
       "      <td>-168.709292</td>\n",
       "      <td>-211.295879</td>\n",
       "      <td>-293.218027</td>\n",
       "      <td>-404.499792</td>\n",
       "    </tr>\n",
       "    <tr>\n",
       "      <th>2</th>\n",
       "      <td>sweep</td>\n",
       "      <td>-328.0</td>\n",
       "      <td>-295.568061</td>\n",
       "      <td>-383.878898</td>\n",
       "      <td>-528.595205</td>\n",
       "      <td>-667.474314</td>\n",
       "      <td>-786.450316</td>\n",
       "      <td>-914.971561</td>\n",
       "      <td>-1044.000000</td>\n",
       "      <td>-1151.087950</td>\n",
       "      <td>...</td>\n",
       "      <td>-317.473221</td>\n",
       "      <td>-158.227920</td>\n",
       "      <td>-59.748949</td>\n",
       "      <td>-21.000000</td>\n",
       "      <td>5.165707</td>\n",
       "      <td>13.426359</td>\n",
       "      <td>-3.506649</td>\n",
       "      <td>-30.866209</td>\n",
       "      <td>-48.685259</td>\n",
       "      <td>-34.317465</td>\n",
       "    </tr>\n",
       "    <tr>\n",
       "      <th>3</th>\n",
       "      <td>sweep</td>\n",
       "      <td>-405.0</td>\n",
       "      <td>-394.468634</td>\n",
       "      <td>-388.390125</td>\n",
       "      <td>-372.906616</td>\n",
       "      <td>-334.251496</td>\n",
       "      <td>-299.410693</td>\n",
       "      <td>-399.486868</td>\n",
       "      <td>-680.049276</td>\n",
       "      <td>-975.342461</td>\n",
       "      <td>...</td>\n",
       "      <td>-344.232895</td>\n",
       "      <td>-272.851802</td>\n",
       "      <td>-223.613745</td>\n",
       "      <td>-213.547749</td>\n",
       "      <td>-239.002686</td>\n",
       "      <td>-284.735759</td>\n",
       "      <td>-341.065512</td>\n",
       "      <td>-398.327392</td>\n",
       "      <td>-429.634715</td>\n",
       "      <td>-401.394813</td>\n",
       "    </tr>\n",
       "    <tr>\n",
       "      <th>4</th>\n",
       "      <td>sweep</td>\n",
       "      <td>-342.0</td>\n",
       "      <td>-401.227388</td>\n",
       "      <td>-496.124800</td>\n",
       "      <td>-593.341514</td>\n",
       "      <td>-664.342475</td>\n",
       "      <td>-759.394350</td>\n",
       "      <td>-963.012352</td>\n",
       "      <td>-1181.644534</td>\n",
       "      <td>-1321.227140</td>\n",
       "      <td>...</td>\n",
       "      <td>-489.348915</td>\n",
       "      <td>-463.303253</td>\n",
       "      <td>-443.542651</td>\n",
       "      <td>-443.521540</td>\n",
       "      <td>-455.904121</td>\n",
       "      <td>-456.252424</td>\n",
       "      <td>-424.831198</td>\n",
       "      <td>-372.553178</td>\n",
       "      <td>-328.122595</td>\n",
       "      <td>-335.850083</td>\n",
       "    </tr>\n",
       "  </tbody>\n",
       "</table>\n",
       "<p>5 rows × 232 columns</p>\n",
       "</div>"
      ],
      "text/plain": [
       "   label      0           1           2           3           4           5  \\\n",
       "0  sweep -423.0 -334.170748 -338.802245 -411.530329 -529.169464 -681.818595   \n",
       "1  sweep -463.0 -462.277151 -519.319142 -605.866016 -694.421988 -803.341514   \n",
       "2  sweep -328.0 -295.568061 -383.878898 -528.595205 -667.474314 -786.450316   \n",
       "3  sweep -405.0 -394.468634 -388.390125 -372.906616 -334.251496 -299.410693   \n",
       "4  sweep -342.0 -401.227388 -496.124800 -593.341514 -664.342475 -759.394350   \n",
       "\n",
       "             6            7            8     ...             221         222  \\\n",
       "0  -850.719037 -1001.539872 -1186.204372     ...      -93.702378 -204.064315   \n",
       "1 -1016.091996 -1285.291011 -1441.406871     ...     -487.752898 -424.236578   \n",
       "2  -914.971561 -1044.000000 -1151.087950     ...     -317.473221 -158.227920   \n",
       "3  -399.486868  -680.049276  -975.342461     ...     -344.232895 -272.851802   \n",
       "4  -963.012352 -1181.644534 -1321.227140     ...     -489.348915 -463.303253   \n",
       "\n",
       "          223         224         225         226         227         228  \\\n",
       "0 -270.404093 -264.014688 -221.910397 -199.052625 -231.006051 -288.278414   \n",
       "1 -323.866399 -235.039987 -187.174458 -165.520355 -168.709292 -211.295879   \n",
       "2  -59.748949  -21.000000    5.165707   13.426359   -3.506649  -30.866209   \n",
       "3 -223.613745 -213.547749 -239.002686 -284.735759 -341.065512 -398.327392   \n",
       "4 -443.542651 -443.521540 -455.904121 -456.252424 -424.831198 -372.553178   \n",
       "\n",
       "          229         230  \n",
       "0 -322.939678 -333.244824  \n",
       "1 -293.218027 -404.499792  \n",
       "2  -48.685259  -34.317465  \n",
       "3 -429.634715 -401.394813  \n",
       "4 -328.122595 -335.850083  \n",
       "\n",
       "[5 rows x 232 columns]"
      ]
     },
     "execution_count": 234,
     "metadata": {},
     "output_type": "execute_result"
    }
   ],
   "source": [
    "df.head()"
   ]
  },
  {
   "cell_type": "code",
   "execution_count": 235,
   "metadata": {
    "collapsed": true
   },
   "outputs": [],
   "source": [
    "labels = df['label']"
   ]
  },
  {
   "cell_type": "code",
   "execution_count": 236,
   "metadata": {},
   "outputs": [
    {
     "data": {
      "text/plain": [
       "0    sweep\n",
       "1    sweep\n",
       "2    sweep\n",
       "3    sweep\n",
       "4    sweep\n",
       "Name: label, dtype: object"
      ]
     },
     "execution_count": 236,
     "metadata": {},
     "output_type": "execute_result"
    }
   ],
   "source": [
    "labels.head()"
   ]
  },
  {
   "cell_type": "code",
   "execution_count": 237,
   "metadata": {
    "collapsed": true
   },
   "outputs": [],
   "source": [
    "data = df.drop('label',axis=1)"
   ]
  },
  {
   "cell_type": "code",
   "execution_count": 238,
   "metadata": {
    "scrolled": true
   },
   "outputs": [
    {
     "data": {
      "text/plain": [
       "(304, 231)"
      ]
     },
     "execution_count": 238,
     "metadata": {},
     "output_type": "execute_result"
    }
   ],
   "source": [
    "data.shape"
   ]
  },
  {
   "cell_type": "markdown",
   "metadata": {},
   "source": [
    "### 1. KMeans"
   ]
  },
  {
   "cell_type": "code",
   "execution_count": 239,
   "metadata": {
    "collapsed": true
   },
   "outputs": [],
   "source": [
    "km = skc.KMeans(n_clusters=2)"
   ]
  },
  {
   "cell_type": "code",
   "execution_count": 240,
   "metadata": {
    "collapsed": true
   },
   "outputs": [],
   "source": [
    "km_labels = km.fit_predict(data)"
   ]
  },
  {
   "cell_type": "code",
   "execution_count": 241,
   "metadata": {},
   "outputs": [
    {
     "data": {
      "text/plain": [
       "numpy.ndarray"
      ]
     },
     "execution_count": 241,
     "metadata": {},
     "output_type": "execute_result"
    }
   ],
   "source": [
    "type(km_labels)"
   ]
  },
  {
   "cell_type": "code",
   "execution_count": 242,
   "metadata": {},
   "outputs": [
    {
     "data": {
      "text/plain": [
       "array([0, 0, 0, 0, 0, 0, 0, 0, 0, 1, 0, 0, 0, 0, 0, 0, 1, 0, 0, 0, 0, 0, 0,\n",
       "       0, 0, 0, 0, 0, 0, 0, 0, 0, 0, 0, 0, 0, 0, 0, 0, 0, 0, 0, 0, 0, 0, 1,\n",
       "       1, 0, 0, 0, 0, 0, 1, 0, 0, 0, 1, 0, 1, 0, 0, 0, 0, 1, 0, 0, 0, 0, 0,\n",
       "       0, 0, 0, 0, 0, 0, 0, 0, 0, 1, 0, 1, 0, 1, 0, 1, 0, 1, 1, 0, 1, 1, 1,\n",
       "       0, 0, 0, 1, 1, 1, 1, 1, 1, 1, 1, 1, 0, 0, 1, 1, 1, 1, 1, 0, 1, 0, 0,\n",
       "       0, 1, 1, 1, 1, 0, 1, 1, 0, 1, 1, 0, 1, 0, 0, 0, 1, 1, 0, 0, 1, 0, 0,\n",
       "       0, 0, 0, 0, 0, 0, 0, 0, 1, 0, 0, 0, 0, 0, 0, 0, 0, 0, 0, 0, 0, 0, 0,\n",
       "       0, 0, 0, 0, 0, 0, 1, 0, 0, 0, 0, 0, 0, 1, 1, 1, 0, 1, 1, 1, 1, 1, 1,\n",
       "       0, 1, 0, 0, 1, 1, 0, 0, 0, 0, 1, 0, 0, 1, 0, 0, 0, 0, 1, 1, 1, 1, 0,\n",
       "       1, 1, 1, 1, 0, 0, 0, 1, 0, 0, 1, 0, 0, 0, 0, 0, 0, 0, 0, 0, 0, 0, 0,\n",
       "       0, 0, 0, 0, 0, 0, 0, 0, 0, 0, 0, 0, 0, 0, 0, 0, 0, 0, 0, 0, 0, 0, 0,\n",
       "       0, 0, 1, 1, 1, 1, 1, 1, 1, 1, 1, 1, 1, 1, 1, 1, 1, 1, 1, 1, 1, 1, 1,\n",
       "       1, 1, 1, 1, 1, 1, 1, 1, 1, 1, 1, 1, 1, 1, 1, 1, 1, 1, 1, 1, 1, 1, 1,\n",
       "       1, 1, 0, 0, 0])"
      ]
     },
     "execution_count": 242,
     "metadata": {},
     "output_type": "execute_result"
    }
   ],
   "source": [
    "km_labels"
   ]
  },
  {
   "cell_type": "code",
   "execution_count": 243,
   "metadata": {
    "collapsed": true
   },
   "outputs": [],
   "source": [
    "km_df = pd.DataFrame(columns=('label','km_label'))"
   ]
  },
  {
   "cell_type": "code",
   "execution_count": 244,
   "metadata": {},
   "outputs": [
    {
     "data": {
      "text/html": [
       "<div>\n",
       "<style>\n",
       "    .dataframe thead tr:only-child th {\n",
       "        text-align: right;\n",
       "    }\n",
       "\n",
       "    .dataframe thead th {\n",
       "        text-align: left;\n",
       "    }\n",
       "\n",
       "    .dataframe tbody tr th {\n",
       "        vertical-align: top;\n",
       "    }\n",
       "</style>\n",
       "<table border=\"1\" class=\"dataframe\">\n",
       "  <thead>\n",
       "    <tr style=\"text-align: right;\">\n",
       "      <th></th>\n",
       "      <th>label</th>\n",
       "      <th>km_label</th>\n",
       "    </tr>\n",
       "  </thead>\n",
       "  <tbody>\n",
       "  </tbody>\n",
       "</table>\n",
       "</div>"
      ],
      "text/plain": [
       "Empty DataFrame\n",
       "Columns: [label, km_label]\n",
       "Index: []"
      ]
     },
     "execution_count": 244,
     "metadata": {},
     "output_type": "execute_result"
    }
   ],
   "source": [
    "km_df"
   ]
  },
  {
   "cell_type": "code",
   "execution_count": 245,
   "metadata": {
    "collapsed": true
   },
   "outputs": [],
   "source": [
    "km_df['label']=labels"
   ]
  },
  {
   "cell_type": "code",
   "execution_count": 246,
   "metadata": {
    "collapsed": true
   },
   "outputs": [],
   "source": [
    "km_df['km_label'] = km_labels"
   ]
  },
  {
   "cell_type": "code",
   "execution_count": 247,
   "metadata": {},
   "outputs": [
    {
     "data": {
      "text/html": [
       "<div>\n",
       "<style>\n",
       "    .dataframe thead tr:only-child th {\n",
       "        text-align: right;\n",
       "    }\n",
       "\n",
       "    .dataframe thead th {\n",
       "        text-align: left;\n",
       "    }\n",
       "\n",
       "    .dataframe tbody tr th {\n",
       "        vertical-align: top;\n",
       "    }\n",
       "</style>\n",
       "<table border=\"1\" class=\"dataframe\">\n",
       "  <thead>\n",
       "    <tr style=\"text-align: right;\">\n",
       "      <th></th>\n",
       "      <th>label</th>\n",
       "      <th>km_label</th>\n",
       "    </tr>\n",
       "  </thead>\n",
       "  <tbody>\n",
       "    <tr>\n",
       "      <th>0</th>\n",
       "      <td>sweep</td>\n",
       "      <td>0</td>\n",
       "    </tr>\n",
       "    <tr>\n",
       "      <th>1</th>\n",
       "      <td>sweep</td>\n",
       "      <td>0</td>\n",
       "    </tr>\n",
       "    <tr>\n",
       "      <th>2</th>\n",
       "      <td>sweep</td>\n",
       "      <td>0</td>\n",
       "    </tr>\n",
       "    <tr>\n",
       "      <th>3</th>\n",
       "      <td>sweep</td>\n",
       "      <td>0</td>\n",
       "    </tr>\n",
       "    <tr>\n",
       "      <th>4</th>\n",
       "      <td>sweep</td>\n",
       "      <td>0</td>\n",
       "    </tr>\n",
       "  </tbody>\n",
       "</table>\n",
       "</div>"
      ],
      "text/plain": [
       "   label  km_label\n",
       "0  sweep         0\n",
       "1  sweep         0\n",
       "2  sweep         0\n",
       "3  sweep         0\n",
       "4  sweep         0"
      ]
     },
     "execution_count": 247,
     "metadata": {},
     "output_type": "execute_result"
    }
   ],
   "source": [
    "km_df.head()"
   ]
  },
  {
   "cell_type": "code",
   "execution_count": 248,
   "metadata": {
    "collapsed": true
   },
   "outputs": [],
   "source": [
    "km_df.to_csv('./data/processed_data/part/cluster/km_sweep.csv')"
   ]
  },
  {
   "cell_type": "markdown",
   "metadata": {},
   "source": [
    "### 2. DBSCAN"
   ]
  },
  {
   "cell_type": "code",
   "execution_count": 302,
   "metadata": {
    "collapsed": true
   },
   "outputs": [],
   "source": [
    "db = skc.DBSCAN(eps=11000,min_samples=30).fit(data)"
   ]
  },
  {
   "cell_type": "code",
   "execution_count": 303,
   "metadata": {
    "collapsed": true
   },
   "outputs": [],
   "source": [
    "db_labels = db.labels_"
   ]
  },
  {
   "cell_type": "markdown",
   "metadata": {},
   "source": [
    "##### 聚类效果"
   ]
  },
  {
   "cell_type": "code",
   "execution_count": 304,
   "metadata": {},
   "outputs": [
    {
     "data": {
      "text/plain": [
       "0.53759475114944311"
      ]
     },
     "execution_count": 304,
     "metadata": {},
     "output_type": "execute_result"
    }
   ],
   "source": [
    "metrics.silhouette_score(data, db_labels)"
   ]
  },
  {
   "cell_type": "code",
   "execution_count": 305,
   "metadata": {},
   "outputs": [
    {
     "data": {
      "text/plain": [
       "array([ 0,  0,  0,  0,  0,  0,  0,  0,  0,  0,  0,  0,  0,  0,  0,  0,  0,\n",
       "        0,  0,  0,  0,  0,  0,  0,  0,  0,  0,  0,  0,  0,  0,  0,  0,  0,\n",
       "        0,  0,  0,  0,  0,  0,  0,  0,  0,  0,  0,  0,  0,  0,  0,  0,  0,\n",
       "        0,  0,  0,  0,  0,  0,  0,  0,  0,  0,  0,  0,  0,  0,  0,  0,  0,\n",
       "        0,  0,  0,  0,  0,  0,  0,  0,  0,  0,  0,  0,  0,  0,  0,  0,  0,\n",
       "        0,  0,  0,  0,  0,  0,  0,  0,  0,  0,  0,  0,  0,  0,  0,  0,  0,\n",
       "        0,  0,  0,  0,  0,  0,  0,  0,  0,  0,  0,  0,  0,  0,  0,  0,  0,\n",
       "        0,  0,  0,  0,  0,  0,  0,  0,  0,  0,  0,  0,  0,  0,  0,  0,  0,\n",
       "        0,  0,  0,  0,  0,  0,  0,  0,  0,  0,  0,  0,  0,  0,  0,  0,  0,\n",
       "        0,  0,  0,  0,  0,  0,  0,  0,  0,  0,  0,  0,  0,  0,  0,  0,  0,\n",
       "        0,  0,  0,  0,  0,  0,  0,  0,  0,  0,  0, -1,  0,  0,  0,  0,  0,\n",
       "        0,  0,  0,  0,  0,  0,  0,  0, -1,  0,  0,  0,  0,  0,  0,  0,  0,\n",
       "        0,  0,  0,  0,  0,  0,  0,  0,  0,  0,  0,  0,  0,  0,  0,  0,  0,\n",
       "        0,  0,  0,  0,  0,  0,  0,  0,  0,  0,  0,  0,  0,  0,  0,  0,  0,\n",
       "        0,  0,  0,  0,  0,  0,  0,  0,  0,  0,  0,  0,  0,  0,  0,  0,  0,\n",
       "        0,  0,  0,  0,  0,  0,  0,  0,  0,  0,  0,  0,  0,  0,  0,  0,  0,\n",
       "        0,  0,  0,  0,  0,  0,  0,  0,  0,  0,  0,  0,  0,  0,  0,  0,  0,\n",
       "        0,  0,  0,  0,  0,  0,  0,  0,  0,  0,  0,  0,  0,  0,  0], dtype=int64)"
      ]
     },
     "execution_count": 305,
     "metadata": {},
     "output_type": "execute_result"
    }
   ],
   "source": [
    "db_labels"
   ]
  },
  {
   "cell_type": "markdown",
   "metadata": {},
   "source": [
    "##### 聚类数量"
   ]
  },
  {
   "cell_type": "code",
   "execution_count": 306,
   "metadata": {},
   "outputs": [
    {
     "data": {
      "text/plain": [
       "{-1, 0}"
      ]
     },
     "execution_count": 306,
     "metadata": {},
     "output_type": "execute_result"
    }
   ],
   "source": [
    "set(db_labels)"
   ]
  },
  {
   "cell_type": "code",
   "execution_count": 307,
   "metadata": {
    "collapsed": true
   },
   "outputs": [],
   "source": [
    "n_db_clusters = len(set(db_labels)) - (1 if -1 in db_labels else 0)"
   ]
  },
  {
   "cell_type": "code",
   "execution_count": 308,
   "metadata": {},
   "outputs": [
    {
     "data": {
      "text/plain": [
       "1"
      ]
     },
     "execution_count": 308,
     "metadata": {},
     "output_type": "execute_result"
    }
   ],
   "source": [
    "n_db_clusters"
   ]
  },
  {
   "cell_type": "markdown",
   "metadata": {},
   "source": [
    "##### 噪声点比例"
   ]
  },
  {
   "cell_type": "code",
   "execution_count": 309,
   "metadata": {},
   "outputs": [
    {
     "data": {
      "text/plain": [
       "array([-1, -1], dtype=int64)"
      ]
     },
     "execution_count": 309,
     "metadata": {},
     "output_type": "execute_result"
    }
   ],
   "source": [
    "db_labels[db_labels[:]==-1]"
   ]
  },
  {
   "cell_type": "code",
   "execution_count": 310,
   "metadata": {
    "collapsed": true
   },
   "outputs": [],
   "source": [
    "noise_radio = len( db_labels[db_labels[:]==-1] ) / len(db_labels)"
   ]
  },
  {
   "cell_type": "code",
   "execution_count": 311,
   "metadata": {},
   "outputs": [
    {
     "data": {
      "text/plain": [
       "0.006578947368421052"
      ]
     },
     "execution_count": 311,
     "metadata": {},
     "output_type": "execute_result"
    }
   ],
   "source": [
    "noise_radio"
   ]
  },
  {
   "cell_type": "code",
   "execution_count": 312,
   "metadata": {
    "collapsed": true
   },
   "outputs": [],
   "source": [
    "new_df = df[db_labels==-1]"
   ]
  },
  {
   "cell_type": "code",
   "execution_count": 313,
   "metadata": {},
   "outputs": [
    {
     "data": {
      "text/plain": [
       "0.006578947368421052"
      ]
     },
     "execution_count": 313,
     "metadata": {},
     "output_type": "execute_result"
    }
   ],
   "source": [
    "new_df.shape[0]/df.shape[0]"
   ]
  },
  {
   "cell_type": "code",
   "execution_count": 314,
   "metadata": {},
   "outputs": [
    {
     "data": {
      "text/html": [
       "<div>\n",
       "<style>\n",
       "    .dataframe thead tr:only-child th {\n",
       "        text-align: right;\n",
       "    }\n",
       "\n",
       "    .dataframe thead th {\n",
       "        text-align: left;\n",
       "    }\n",
       "\n",
       "    .dataframe tbody tr th {\n",
       "        vertical-align: top;\n",
       "    }\n",
       "</style>\n",
       "<table border=\"1\" class=\"dataframe\">\n",
       "  <thead>\n",
       "    <tr style=\"text-align: right;\">\n",
       "      <th></th>\n",
       "      <th>label</th>\n",
       "      <th>0</th>\n",
       "      <th>1</th>\n",
       "      <th>2</th>\n",
       "      <th>3</th>\n",
       "      <th>4</th>\n",
       "      <th>5</th>\n",
       "      <th>6</th>\n",
       "      <th>7</th>\n",
       "      <th>8</th>\n",
       "      <th>...</th>\n",
       "      <th>221</th>\n",
       "      <th>222</th>\n",
       "      <th>223</th>\n",
       "      <th>224</th>\n",
       "      <th>225</th>\n",
       "      <th>226</th>\n",
       "      <th>227</th>\n",
       "      <th>228</th>\n",
       "      <th>229</th>\n",
       "      <th>230</th>\n",
       "    </tr>\n",
       "  </thead>\n",
       "  <tbody>\n",
       "    <tr>\n",
       "      <th>181</th>\n",
       "      <td>sweep</td>\n",
       "      <td>-244.0</td>\n",
       "      <td>166.536452</td>\n",
       "      <td>139.747844</td>\n",
       "      <td>-77.497729</td>\n",
       "      <td>-381.701788</td>\n",
       "      <td>-1216.295764</td>\n",
       "      <td>-1560.383901</td>\n",
       "      <td>403.194575</td>\n",
       "      <td>2311.369355</td>\n",
       "      <td>...</td>\n",
       "      <td>-777.158410</td>\n",
       "      <td>-589.968005</td>\n",
       "      <td>-252.917672</td>\n",
       "      <td>555.262511</td>\n",
       "      <td>1389.900872</td>\n",
       "      <td>1435.910032</td>\n",
       "      <td>1126.764861</td>\n",
       "      <td>806.631795</td>\n",
       "      <td>507.813625</td>\n",
       "      <td>388.345717</td>\n",
       "    </tr>\n",
       "    <tr>\n",
       "      <th>195</th>\n",
       "      <td>sweep</td>\n",
       "      <td>80.0</td>\n",
       "      <td>261.908510</td>\n",
       "      <td>238.435175</td>\n",
       "      <td>66.392852</td>\n",
       "      <td>-202.024266</td>\n",
       "      <td>-542.008141</td>\n",
       "      <td>-842.294164</td>\n",
       "      <td>-899.715585</td>\n",
       "      <td>-1273.077438</td>\n",
       "      <td>...</td>\n",
       "      <td>-1037.350993</td>\n",
       "      <td>-1339.139359</td>\n",
       "      <td>-1330.121349</td>\n",
       "      <td>-1305.279004</td>\n",
       "      <td>-1270.815936</td>\n",
       "      <td>-1164.626291</td>\n",
       "      <td>-1014.056208</td>\n",
       "      <td>-822.594107</td>\n",
       "      <td>-594.935695</td>\n",
       "      <td>-388.431622</td>\n",
       "    </tr>\n",
       "  </tbody>\n",
       "</table>\n",
       "<p>2 rows × 232 columns</p>\n",
       "</div>"
      ],
      "text/plain": [
       "     label      0           1           2          3           4            5  \\\n",
       "181  sweep -244.0  166.536452  139.747844 -77.497729 -381.701788 -1216.295764   \n",
       "195  sweep   80.0  261.908510  238.435175  66.392852 -202.024266  -542.008141   \n",
       "\n",
       "               6           7            8     ...              221  \\\n",
       "181 -1560.383901  403.194575  2311.369355     ...      -777.158410   \n",
       "195  -842.294164 -899.715585 -1273.077438     ...     -1037.350993   \n",
       "\n",
       "             222          223          224          225          226  \\\n",
       "181  -589.968005  -252.917672   555.262511  1389.900872  1435.910032   \n",
       "195 -1339.139359 -1330.121349 -1305.279004 -1270.815936 -1164.626291   \n",
       "\n",
       "             227         228         229         230  \n",
       "181  1126.764861  806.631795  507.813625  388.345717  \n",
       "195 -1014.056208 -822.594107 -594.935695 -388.431622  \n",
       "\n",
       "[2 rows x 232 columns]"
      ]
     },
     "execution_count": 314,
     "metadata": {},
     "output_type": "execute_result"
    }
   ],
   "source": [
    "new_df"
   ]
  },
  {
   "cell_type": "code",
   "execution_count": null,
   "metadata": {
    "collapsed": true
   },
   "outputs": [],
   "source": []
  }
 ],
 "metadata": {
  "kernelspec": {
   "display_name": "Python 3",
   "language": "python",
   "name": "python3"
  },
  "language_info": {
   "codemirror_mode": {
    "name": "ipython",
    "version": 3
   },
   "file_extension": ".py",
   "mimetype": "text/x-python",
   "name": "python",
   "nbconvert_exporter": "python",
   "pygments_lexer": "ipython3",
   "version": "3.6.1"
  }
 },
 "nbformat": 4,
 "nbformat_minor": 2
}

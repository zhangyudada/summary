{
 "cells": [
  {
   "cell_type": "code",
   "execution_count": 2,
   "metadata": {},
   "outputs": [],
   "source": [
    "import pandas as pd\n",
    "import numpy as np"
   ]
  },
  {
   "cell_type": "code",
   "execution_count": 3,
   "metadata": {},
   "outputs": [],
   "source": [
    "# df = pd.read_csv('./data/all.csv')\n",
    "df = pd.read_csv('../data/processed_data/all/resample_to_50_per_act/resample_to_50.csv')"
   ]
  },
  {
   "cell_type": "code",
   "execution_count": 4,
   "metadata": {},
   "outputs": [
    {
     "data": {
      "text/html": [
       "<div>\n",
       "<style scoped>\n",
       "    .dataframe tbody tr th:only-of-type {\n",
       "        vertical-align: middle;\n",
       "    }\n",
       "\n",
       "    .dataframe tbody tr th {\n",
       "        vertical-align: top;\n",
       "    }\n",
       "\n",
       "    .dataframe thead th {\n",
       "        text-align: right;\n",
       "    }\n",
       "</style>\n",
       "<table border=\"1\" class=\"dataframe\">\n",
       "  <thead>\n",
       "    <tr style=\"text-align: right;\">\n",
       "      <th></th>\n",
       "      <th>x</th>\n",
       "      <th>y</th>\n",
       "      <th>z</th>\n",
       "      <th>label</th>\n",
       "      <th>seg</th>\n",
       "      <th>suspicious</th>\n",
       "    </tr>\n",
       "  </thead>\n",
       "  <tbody>\n",
       "    <tr>\n",
       "      <th>251295</th>\n",
       "      <td>-928.094685</td>\n",
       "      <td>163.788475</td>\n",
       "      <td>337.651526</td>\n",
       "      <td>clean</td>\n",
       "      <td>clean/庆喜/repeat_82-duration_60.csv-1584-1628</td>\n",
       "      <td>False</td>\n",
       "    </tr>\n",
       "    <tr>\n",
       "      <th>251296</th>\n",
       "      <td>-946.717057</td>\n",
       "      <td>177.251312</td>\n",
       "      <td>326.688697</td>\n",
       "      <td>clean</td>\n",
       "      <td>clean/庆喜/repeat_82-duration_60.csv-1584-1628</td>\n",
       "      <td>False</td>\n",
       "    </tr>\n",
       "    <tr>\n",
       "      <th>251297</th>\n",
       "      <td>-933.746906</td>\n",
       "      <td>167.946609</td>\n",
       "      <td>310.380039</td>\n",
       "      <td>clean</td>\n",
       "      <td>clean/庆喜/repeat_82-duration_60.csv-1584-1628</td>\n",
       "      <td>False</td>\n",
       "    </tr>\n",
       "    <tr>\n",
       "      <th>251298</th>\n",
       "      <td>-910.344399</td>\n",
       "      <td>154.584634</td>\n",
       "      <td>309.409075</td>\n",
       "      <td>clean</td>\n",
       "      <td>clean/庆喜/repeat_82-duration_60.csv-1584-1628</td>\n",
       "      <td>False</td>\n",
       "    </tr>\n",
       "    <tr>\n",
       "      <th>251299</th>\n",
       "      <td>-896.701663</td>\n",
       "      <td>143.548819</td>\n",
       "      <td>302.866383</td>\n",
       "      <td>clean</td>\n",
       "      <td>clean/庆喜/repeat_82-duration_60.csv-1584-1628</td>\n",
       "      <td>False</td>\n",
       "    </tr>\n",
       "  </tbody>\n",
       "</table>\n",
       "</div>"
      ],
      "text/plain": [
       "                 x           y           z  label  \\\n",
       "251295 -928.094685  163.788475  337.651526  clean   \n",
       "251296 -946.717057  177.251312  326.688697  clean   \n",
       "251297 -933.746906  167.946609  310.380039  clean   \n",
       "251298 -910.344399  154.584634  309.409075  clean   \n",
       "251299 -896.701663  143.548819  302.866383  clean   \n",
       "\n",
       "                                                 seg  suspicious  \n",
       "251295  clean/庆喜/repeat_82-duration_60.csv-1584-1628       False  \n",
       "251296  clean/庆喜/repeat_82-duration_60.csv-1584-1628       False  \n",
       "251297  clean/庆喜/repeat_82-duration_60.csv-1584-1628       False  \n",
       "251298  clean/庆喜/repeat_82-duration_60.csv-1584-1628       False  \n",
       "251299  clean/庆喜/repeat_82-duration_60.csv-1584-1628       False  "
      ]
     },
     "execution_count": 4,
     "metadata": {},
     "output_type": "execute_result"
    }
   ],
   "source": [
    "df.tail()"
   ]
  },
  {
   "cell_type": "code",
   "execution_count": 5,
   "metadata": {},
   "outputs": [
    {
     "data": {
      "text/plain": [
       "'walk/863137003295439_walk_L_2017-07-25 17-39-00_2017-07-25 17-49-00'"
      ]
     },
     "execution_count": 5,
     "metadata": {},
     "output_type": "execute_result"
    }
   ],
   "source": [
    "df.loc[3, 'seg'].split('.')[0]"
   ]
  },
  {
   "cell_type": "code",
   "execution_count": 6,
   "metadata": {},
   "outputs": [],
   "source": [
    "df_len = df.shape[0]"
   ]
  },
  {
   "cell_type": "code",
   "execution_count": 7,
   "metadata": {},
   "outputs": [
    {
     "data": {
      "text/plain": [
       "251300"
      ]
     },
     "execution_count": 7,
     "metadata": {},
     "output_type": "execute_result"
    }
   ],
   "source": [
    "df_len"
   ]
  },
  {
   "cell_type": "code",
   "execution_count": 11,
   "metadata": {},
   "outputs": [
    {
     "name": "stdout",
     "output_type": "stream",
     "text": [
      "Wall time: 28.7 s\n"
     ]
    }
   ],
   "source": [
    "%%time\n",
    "for i in range(1000):\n",
    "    df.loc[i, 'seg'] = df.loc[i, 'seg'].split('.')[0]"
   ]
  },
  {
   "cell_type": "code",
   "execution_count": 12,
   "metadata": {},
   "outputs": [],
   "source": [
    "#df.to_csv('./data/processed_data/all_with_big_seg.csv', encoding='utf-8', index=False)\n",
    "df.to_csv('../data/processed_data/all/resample_to_50_per_act/resample_to_50_with_big_seg.csv', encoding='utf-8', index=False)"
   ]
  },
  {
   "cell_type": "code",
   "execution_count": 9,
   "metadata": {
    "collapsed": true
   },
   "outputs": [],
   "source": [
    "#length = []\n",
    "#for g, m in df.groupby('seg'):\n",
    "    #length +=[len(m)]"
   ]
  },
  {
   "cell_type": "code",
   "execution_count": 10,
   "metadata": {
    "collapsed": true
   },
   "outputs": [],
   "source": [
    "#len(length)"
   ]
  },
  {
   "cell_type": "code",
   "execution_count": null,
   "metadata": {
    "collapsed": true
   },
   "outputs": [],
   "source": []
  }
 ],
 "metadata": {
  "kernelspec": {
   "display_name": "Python 3",
   "language": "python",
   "name": "python3"
  },
  "language_info": {
   "codemirror_mode": {
    "name": "ipython",
    "version": 3
   },
   "file_extension": ".py",
   "mimetype": "text/x-python",
   "name": "python",
   "nbconvert_exporter": "python",
   "pygments_lexer": "ipython3",
   "version": "3.6.1"
  },
  "toc": {
   "nav_menu": {},
   "number_sections": true,
   "sideBar": true,
   "skip_h1_title": false,
   "toc_cell": false,
   "toc_position": {},
   "toc_section_display": "block",
   "toc_window_display": false
  },
  "varInspector": {
   "cols": {
    "lenName": 16,
    "lenType": 16,
    "lenVar": 40
   },
   "kernels_config": {
    "python": {
     "delete_cmd_postfix": "",
     "delete_cmd_prefix": "del ",
     "library": "var_list.py",
     "varRefreshCmd": "print(var_dic_list())"
    },
    "r": {
     "delete_cmd_postfix": ") ",
     "delete_cmd_prefix": "rm(",
     "library": "var_list.r",
     "varRefreshCmd": "cat(var_dic_list()) "
    }
   },
   "types_to_exclude": [
    "module",
    "function",
    "builtin_function_or_method",
    "instance",
    "_Feature"
   ],
   "window_display": false
  }
 },
 "nbformat": 4,
 "nbformat_minor": 2
}

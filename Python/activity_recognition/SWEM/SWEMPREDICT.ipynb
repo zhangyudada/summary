{
 "cells": [
  {
   "cell_type": "code",
   "execution_count": 1,
   "metadata": {
    "collapsed": true
   },
   "outputs": [],
   "source": [
    "import pandas as pd\n",
    "import numpy as np\n",
    "\n",
    "from sklearn.neighbors import KNeighborsClassifier\n",
    "from sklearn.metrics import classification_report"
   ]
  },
  {
   "cell_type": "markdown",
   "metadata": {},
   "source": [
    "### SWEMPREDICT(M, t)"
   ]
  },
  {
   "cell_type": "code",
   "execution_count": 2,
   "metadata": {
    "collapsed": true
   },
   "outputs": [],
   "source": [
    "M = []\n",
    "for ind in range(5):\n",
    "    tmp_df = pd.read_csv('../data/processed_data/all/resample_to_50_per_act/time_features/time_w{}.csv'.format( 10*(ind+1) ))\n",
    "    M.append(tmp_df)"
   ]
  },
  {
   "cell_type": "code",
   "execution_count": 3,
   "metadata": {},
   "outputs": [
    {
     "data": {
      "text/html": [
       "<div>\n",
       "<style>\n",
       "    .dataframe thead tr:only-child th {\n",
       "        text-align: right;\n",
       "    }\n",
       "\n",
       "    .dataframe thead th {\n",
       "        text-align: left;\n",
       "    }\n",
       "\n",
       "    .dataframe tbody tr th {\n",
       "        vertical-align: top;\n",
       "    }\n",
       "</style>\n",
       "<table border=\"1\" class=\"dataframe\">\n",
       "  <thead>\n",
       "    <tr style=\"text-align: right;\">\n",
       "      <th></th>\n",
       "      <th>label</th>\n",
       "      <th>sum_x</th>\n",
       "      <th>sum_y</th>\n",
       "      <th>sum_z</th>\n",
       "      <th>mean_x</th>\n",
       "      <th>mean_y</th>\n",
       "      <th>mean_z</th>\n",
       "      <th>std_x</th>\n",
       "      <th>std_y</th>\n",
       "      <th>std_z</th>\n",
       "      <th>...</th>\n",
       "      <th>logpower_z</th>\n",
       "      <th>peak_x</th>\n",
       "      <th>peak_y</th>\n",
       "      <th>peak_z</th>\n",
       "      <th>cross0_x</th>\n",
       "      <th>cross0_y</th>\n",
       "      <th>cross0_z</th>\n",
       "      <th>cor_xy</th>\n",
       "      <th>cor_yz</th>\n",
       "      <th>cor_zx</th>\n",
       "    </tr>\n",
       "  </thead>\n",
       "  <tbody>\n",
       "    <tr>\n",
       "      <th>25125</th>\n",
       "      <td>clean</td>\n",
       "      <td>-0.694522</td>\n",
       "      <td>-0.679725</td>\n",
       "      <td>1.191577</td>\n",
       "      <td>-0.694522</td>\n",
       "      <td>-0.679725</td>\n",
       "      <td>1.191577</td>\n",
       "      <td>-1.118825</td>\n",
       "      <td>-1.007717</td>\n",
       "      <td>-0.985198</td>\n",
       "      <td>...</td>\n",
       "      <td>0.771805</td>\n",
       "      <td>1.382418</td>\n",
       "      <td>1.177458</td>\n",
       "      <td>-0.233092</td>\n",
       "      <td>1.211017</td>\n",
       "      <td>0.943935</td>\n",
       "      <td>1.025869</td>\n",
       "      <td>-0.938526</td>\n",
       "      <td>1.091964</td>\n",
       "      <td>-0.039398</td>\n",
       "    </tr>\n",
       "    <tr>\n",
       "      <th>25126</th>\n",
       "      <td>clean</td>\n",
       "      <td>-0.724934</td>\n",
       "      <td>-0.726187</td>\n",
       "      <td>1.205264</td>\n",
       "      <td>-0.724934</td>\n",
       "      <td>-0.726187</td>\n",
       "      <td>1.205264</td>\n",
       "      <td>-1.074078</td>\n",
       "      <td>-1.021453</td>\n",
       "      <td>-1.076042</td>\n",
       "      <td>...</td>\n",
       "      <td>0.786032</td>\n",
       "      <td>-0.088563</td>\n",
       "      <td>1.177458</td>\n",
       "      <td>1.272333</td>\n",
       "      <td>-0.898421</td>\n",
       "      <td>-0.994379</td>\n",
       "      <td>-0.980129</td>\n",
       "      <td>1.423826</td>\n",
       "      <td>1.528562</td>\n",
       "      <td>1.397030</td>\n",
       "    </tr>\n",
       "    <tr>\n",
       "      <th>25127</th>\n",
       "      <td>clean</td>\n",
       "      <td>-0.823001</td>\n",
       "      <td>-0.869185</td>\n",
       "      <td>1.032818</td>\n",
       "      <td>-0.823001</td>\n",
       "      <td>-0.869185</td>\n",
       "      <td>1.032818</td>\n",
       "      <td>-0.997357</td>\n",
       "      <td>-1.070073</td>\n",
       "      <td>-1.015448</td>\n",
       "      <td>...</td>\n",
       "      <td>0.606791</td>\n",
       "      <td>-0.088563</td>\n",
       "      <td>-0.300835</td>\n",
       "      <td>-1.738517</td>\n",
       "      <td>-0.898421</td>\n",
       "      <td>-0.994379</td>\n",
       "      <td>0.022870</td>\n",
       "      <td>1.018348</td>\n",
       "      <td>1.266870</td>\n",
       "      <td>0.661409</td>\n",
       "    </tr>\n",
       "    <tr>\n",
       "      <th>25128</th>\n",
       "      <td>clean</td>\n",
       "      <td>-0.931209</td>\n",
       "      <td>-0.933836</td>\n",
       "      <td>0.770862</td>\n",
       "      <td>-0.931209</td>\n",
       "      <td>-0.933836</td>\n",
       "      <td>0.770862</td>\n",
       "      <td>-1.031881</td>\n",
       "      <td>-1.027341</td>\n",
       "      <td>-0.882662</td>\n",
       "      <td>...</td>\n",
       "      <td>0.259332</td>\n",
       "      <td>-0.088563</td>\n",
       "      <td>-0.300835</td>\n",
       "      <td>-0.233092</td>\n",
       "      <td>-0.898421</td>\n",
       "      <td>-0.025222</td>\n",
       "      <td>0.022870</td>\n",
       "      <td>0.735887</td>\n",
       "      <td>0.727584</td>\n",
       "      <td>-0.110056</td>\n",
       "    </tr>\n",
       "    <tr>\n",
       "      <th>25129</th>\n",
       "      <td>clean</td>\n",
       "      <td>-0.919999</td>\n",
       "      <td>-0.797845</td>\n",
       "      <td>0.639727</td>\n",
       "      <td>-0.919999</td>\n",
       "      <td>-0.797845</td>\n",
       "      <td>0.639727</td>\n",
       "      <td>-1.003169</td>\n",
       "      <td>-0.967580</td>\n",
       "      <td>-1.023722</td>\n",
       "      <td>...</td>\n",
       "      <td>0.045905</td>\n",
       "      <td>-0.088563</td>\n",
       "      <td>-0.300835</td>\n",
       "      <td>-0.233092</td>\n",
       "      <td>1.211017</td>\n",
       "      <td>-0.994379</td>\n",
       "      <td>1.025869</td>\n",
       "      <td>-1.740828</td>\n",
       "      <td>0.476355</td>\n",
       "      <td>-0.818226</td>\n",
       "    </tr>\n",
       "  </tbody>\n",
       "</table>\n",
       "<p>5 rows × 58 columns</p>\n",
       "</div>"
      ],
      "text/plain": [
       "       label     sum_x     sum_y     sum_z    mean_x    mean_y    mean_z  \\\n",
       "25125  clean -0.694522 -0.679725  1.191577 -0.694522 -0.679725  1.191577   \n",
       "25126  clean -0.724934 -0.726187  1.205264 -0.724934 -0.726187  1.205264   \n",
       "25127  clean -0.823001 -0.869185  1.032818 -0.823001 -0.869185  1.032818   \n",
       "25128  clean -0.931209 -0.933836  0.770862 -0.931209 -0.933836  0.770862   \n",
       "25129  clean -0.919999 -0.797845  0.639727 -0.919999 -0.797845  0.639727   \n",
       "\n",
       "          std_x     std_y     std_z    ...     logpower_z    peak_x    peak_y  \\\n",
       "25125 -1.118825 -1.007717 -0.985198    ...       0.771805  1.382418  1.177458   \n",
       "25126 -1.074078 -1.021453 -1.076042    ...       0.786032 -0.088563  1.177458   \n",
       "25127 -0.997357 -1.070073 -1.015448    ...       0.606791 -0.088563 -0.300835   \n",
       "25128 -1.031881 -1.027341 -0.882662    ...       0.259332 -0.088563 -0.300835   \n",
       "25129 -1.003169 -0.967580 -1.023722    ...       0.045905 -0.088563 -0.300835   \n",
       "\n",
       "         peak_z  cross0_x  cross0_y  cross0_z    cor_xy    cor_yz    cor_zx  \n",
       "25125 -0.233092  1.211017  0.943935  1.025869 -0.938526  1.091964 -0.039398  \n",
       "25126  1.272333 -0.898421 -0.994379 -0.980129  1.423826  1.528562  1.397030  \n",
       "25127 -1.738517 -0.898421 -0.994379  0.022870  1.018348  1.266870  0.661409  \n",
       "25128 -0.233092 -0.898421 -0.025222  0.022870  0.735887  0.727584 -0.110056  \n",
       "25129 -0.233092  1.211017 -0.994379  1.025869 -1.740828  0.476355 -0.818226  \n",
       "\n",
       "[5 rows x 58 columns]"
      ]
     },
     "execution_count": 3,
     "metadata": {},
     "output_type": "execute_result"
    }
   ],
   "source": [
    "M[0].tail()"
   ]
  },
  {
   "cell_type": "code",
   "execution_count": 4,
   "metadata": {
    "collapsed": true
   },
   "outputs": [],
   "source": [
    "df = M[0]"
   ]
  },
  {
   "cell_type": "code",
   "execution_count": 5,
   "metadata": {
    "collapsed": true
   },
   "outputs": [],
   "source": [
    "seg_num = 5026"
   ]
  },
  {
   "cell_type": "code",
   "execution_count": 6,
   "metadata": {
    "collapsed": true
   },
   "outputs": [],
   "source": [
    "subw_num = int(df.shape[0] / seg_num)"
   ]
  },
  {
   "cell_type": "code",
   "execution_count": 7,
   "metadata": {},
   "outputs": [
    {
     "data": {
      "text/plain": [
       "5"
      ]
     },
     "execution_count": 7,
     "metadata": {},
     "output_type": "execute_result"
    }
   ],
   "source": [
    "subw_num"
   ]
  },
  {
   "cell_type": "code",
   "execution_count": 8,
   "metadata": {
    "collapsed": true
   },
   "outputs": [],
   "source": [
    "df_data = np.array(df.drop('label',axis=1))"
   ]
  },
  {
   "cell_type": "code",
   "execution_count": 9,
   "metadata": {},
   "outputs": [
    {
     "data": {
      "text/plain": [
       "array([[ 0.54660675,  1.19649435, -0.98980068, ...,  1.03726771,\n",
       "        -0.03499345, -0.55101541],\n",
       "       [ 0.44756469,  1.05414447, -1.11106285, ...,  1.09484418,\n",
       "        -0.34147509,  0.11814566],\n",
       "       [ 0.27442783,  1.11182317, -1.06472041, ..., -1.46496583,\n",
       "         0.92995583, -1.43283644],\n",
       "       ..., \n",
       "       [-0.82300073, -0.86918511,  1.03281827, ...,  1.01834848,\n",
       "         1.26686965,  0.66140882],\n",
       "       [-0.9312092 , -0.93383649,  0.77086224, ...,  0.73588704,\n",
       "         0.72758399, -0.11005634],\n",
       "       [-0.91999936, -0.79784517,  0.63972651, ..., -1.74082771,\n",
       "         0.47635506, -0.8182257 ]])"
      ]
     },
     "execution_count": 9,
     "metadata": {},
     "output_type": "execute_result"
    }
   ],
   "source": [
    "df_data"
   ]
  },
  {
   "cell_type": "code",
   "execution_count": 10,
   "metadata": {
    "collapsed": true
   },
   "outputs": [],
   "source": [
    "df_labels = np.array(df['label'])"
   ]
  },
  {
   "cell_type": "code",
   "execution_count": 11,
   "metadata": {},
   "outputs": [
    {
     "data": {
      "text/plain": [
       "array(['walk', 'walk', 'walk', ..., 'clean', 'clean', 'clean'], dtype=object)"
      ]
     },
     "execution_count": 11,
     "metadata": {},
     "output_type": "execute_result"
    }
   ],
   "source": [
    "df_labels"
   ]
  },
  {
   "cell_type": "code",
   "execution_count": 12,
   "metadata": {},
   "outputs": [
    {
     "data": {
      "text/plain": [
       "(25130,)"
      ]
     },
     "execution_count": 12,
     "metadata": {},
     "output_type": "execute_result"
    }
   ],
   "source": [
    "df_labels.shape"
   ]
  },
  {
   "cell_type": "code",
   "execution_count": 13,
   "metadata": {
    "collapsed": true
   },
   "outputs": [],
   "source": [
    "seg_index = 150"
   ]
  },
  {
   "cell_type": "code",
   "execution_count": 14,
   "metadata": {
    "collapsed": true
   },
   "outputs": [],
   "source": [
    "start = 5*(seg_index)"
   ]
  },
  {
   "cell_type": "code",
   "execution_count": 15,
   "metadata": {
    "collapsed": true
   },
   "outputs": [],
   "source": [
    "test_label = df_labels[start]"
   ]
  },
  {
   "cell_type": "code",
   "execution_count": 16,
   "metadata": {},
   "outputs": [
    {
     "data": {
      "text/plain": [
       "'bweep'"
      ]
     },
     "execution_count": 16,
     "metadata": {},
     "output_type": "execute_result"
    }
   ],
   "source": [
    "test_label"
   ]
  },
  {
   "cell_type": "code",
   "execution_count": 17,
   "metadata": {
    "collapsed": true
   },
   "outputs": [],
   "source": [
    "test_data = df_data[start : start+5]"
   ]
  },
  {
   "cell_type": "code",
   "execution_count": 18,
   "metadata": {},
   "outputs": [
    {
     "data": {
      "text/plain": [
       "(5, 57)"
      ]
     },
     "execution_count": 18,
     "metadata": {},
     "output_type": "execute_result"
    }
   ],
   "source": [
    "test_data.shape"
   ]
  },
  {
   "cell_type": "code",
   "execution_count": 19,
   "metadata": {},
   "outputs": [
    {
     "data": {
      "text/plain": [
       "array([ 1.6388149 ,  0.18753832,  0.30170989,  1.6388149 ,  0.18753832,\n",
       "        0.30170989, -0.38917335, -0.54283335, -0.77496663,  0.01236237,\n",
       "       -0.01088622, -0.0063083 , -0.37654632, -0.4848661 , -0.74243467,\n",
       "        1.27855621, -0.1699012 ,  0.48519245,  1.50194986,  0.14462759,\n",
       "        0.33085699,  1.48546363,  0.01330469,  0.33898984,  1.68786889,\n",
       "        0.08187468,  0.26949798,  1.64146305, -0.04106051,  0.30099647,\n",
       "        0.30006285, -0.05483817, -0.06762504, -0.84377808, -1.78497091,\n",
       "       -3.88666726, -0.93119024,  1.12126898, -0.02589467, -0.08631635,\n",
       "       -0.06691571, -0.05867038,  0.13867089, -0.34450637, -0.89765001,\n",
       "        0.56933019,  0.39349231, -1.02185745,  1.38241779,  1.1774582 ,\n",
       "        1.27233269,  1.21101716,  2.88224763,  3.03186747,  0.64793781,\n",
       "       -1.49698995, -0.49660054])"
      ]
     },
     "execution_count": 19,
     "metadata": {},
     "output_type": "execute_result"
    }
   ],
   "source": [
    "test_data[0]"
   ]
  },
  {
   "cell_type": "code",
   "execution_count": 20,
   "metadata": {
    "collapsed": true
   },
   "outputs": [],
   "source": [
    "train_labels = np.delete(df_labels,np.arange(start, start+5))"
   ]
  },
  {
   "cell_type": "code",
   "execution_count": 21,
   "metadata": {},
   "outputs": [
    {
     "data": {
      "text/plain": [
       "'clean'"
      ]
     },
     "execution_count": 21,
     "metadata": {},
     "output_type": "execute_result"
    }
   ],
   "source": [
    "train_labels[start]"
   ]
  },
  {
   "cell_type": "code",
   "execution_count": 22,
   "metadata": {},
   "outputs": [
    {
     "data": {
      "text/plain": [
       "(25125,)"
      ]
     },
     "execution_count": 22,
     "metadata": {},
     "output_type": "execute_result"
    }
   ],
   "source": [
    "train_labels.shape"
   ]
  },
  {
   "cell_type": "code",
   "execution_count": 23,
   "metadata": {
    "collapsed": true
   },
   "outputs": [],
   "source": [
    "train_data = np.delete(df_data,np.arange(start, start+5),0)"
   ]
  },
  {
   "cell_type": "code",
   "execution_count": 24,
   "metadata": {},
   "outputs": [
    {
     "data": {
      "text/plain": [
       "array([-1.14963545, -2.02754553,  0.81265931, -1.14963545, -2.02754553,\n",
       "        0.81265931,  0.93680529,  1.83490344,  1.17463591, -0.0110843 ,\n",
       "       -0.07994212, -0.0063083 ,  0.63708449,  1.38096597,  0.89338116,\n",
       "       -0.48793805, -0.46279285,  1.18033585, -0.5550441 , -0.49653431,\n",
       "        1.32732328, -1.20657044, -1.52123214,  0.87178759, -1.7019285 ,\n",
       "       -3.41566833, -0.35679606, -1.62438458, -2.72632115, -0.08550013,\n",
       "       -1.6622844 , -2.64689527, -2.04158092,  1.10150144,  1.09600376,\n",
       "        1.15096804,  0.05611226, -0.33382863, -0.62843375, -0.08856452,\n",
       "       -0.0735531 , -0.06765596,  1.48998886,  0.06740218, -0.03346277,\n",
       "        0.81948409,  0.21814365,  0.11000467, -1.55954428, -0.30083539,\n",
       "       -0.23309226, -0.89842078, -0.99437852, -0.9801294 ,  1.45354447,\n",
       "        1.52169518,  1.44332747])"
      ]
     },
     "execution_count": 24,
     "metadata": {},
     "output_type": "execute_result"
    }
   ],
   "source": [
    "train_data[start]"
   ]
  },
  {
   "cell_type": "code",
   "execution_count": 25,
   "metadata": {},
   "outputs": [
    {
     "data": {
      "text/plain": [
       "(25125, 57)"
      ]
     },
     "execution_count": 25,
     "metadata": {},
     "output_type": "execute_result"
    }
   ],
   "source": [
    "train_data.shape"
   ]
  },
  {
   "cell_type": "code",
   "execution_count": 26,
   "metadata": {
    "collapsed": true
   },
   "outputs": [],
   "source": [
    "knn = KNeighborsClassifier()"
   ]
  },
  {
   "cell_type": "code",
   "execution_count": 27,
   "metadata": {},
   "outputs": [
    {
     "data": {
      "text/plain": [
       "KNeighborsClassifier(algorithm='auto', leaf_size=30, metric='minkowski',\n",
       "           metric_params=None, n_jobs=1, n_neighbors=5, p=2,\n",
       "           weights='uniform')"
      ]
     },
     "execution_count": 27,
     "metadata": {},
     "output_type": "execute_result"
    }
   ],
   "source": [
    "knn.fit(train_data, train_labels)"
   ]
  },
  {
   "cell_type": "code",
   "execution_count": 28,
   "metadata": {
    "collapsed": true
   },
   "outputs": [],
   "source": [
    "predict_labels = knn.predict(test_data)"
   ]
  },
  {
   "cell_type": "code",
   "execution_count": 29,
   "metadata": {},
   "outputs": [
    {
     "data": {
      "text/plain": [
       "array(['daily', 'daily', 'daily', 'bweep', 'bweep'], dtype=object)"
      ]
     },
     "execution_count": 29,
     "metadata": {},
     "output_type": "execute_result"
    }
   ],
   "source": [
    "predict_labels"
   ]
  },
  {
   "cell_type": "code",
   "execution_count": 30,
   "metadata": {},
   "outputs": [
    {
     "data": {
      "text/plain": [
       "array(['bweep', 'daily'], dtype=object)"
      ]
     },
     "execution_count": 30,
     "metadata": {},
     "output_type": "execute_result"
    }
   ],
   "source": [
    "np.unique(predict_labels)"
   ]
  },
  {
   "cell_type": "code",
   "execution_count": 31,
   "metadata": {
    "collapsed": true
   },
   "outputs": [],
   "source": [
    "p = sorted([( np.sum(predict_labels==label),label ) for label in np.unique(predict_labels)])"
   ]
  },
  {
   "cell_type": "code",
   "execution_count": 32,
   "metadata": {},
   "outputs": [
    {
     "data": {
      "text/plain": [
       "[(2, 'bweep'), (3, 'daily')]"
      ]
     },
     "execution_count": 32,
     "metadata": {},
     "output_type": "execute_result"
    }
   ],
   "source": [
    "p"
   ]
  },
  {
   "cell_type": "code",
   "execution_count": 33,
   "metadata": {
    "collapsed": true
   },
   "outputs": [],
   "source": [
    "predict_label = p[-1][1]"
   ]
  },
  {
   "cell_type": "code",
   "execution_count": 34,
   "metadata": {},
   "outputs": [
    {
     "data": {
      "text/plain": [
       "'daily'"
      ]
     },
     "execution_count": 34,
     "metadata": {},
     "output_type": "execute_result"
    }
   ],
   "source": [
    "predict_label"
   ]
  },
  {
   "cell_type": "code",
   "execution_count": 35,
   "metadata": {},
   "outputs": [
    {
     "data": {
      "text/plain": [
       "False"
      ]
     },
     "execution_count": 35,
     "metadata": {},
     "output_type": "execute_result"
    }
   ],
   "source": [
    "predict_label == test_label"
   ]
  },
  {
   "cell_type": "code",
   "execution_count": 36,
   "metadata": {
    "collapsed": true
   },
   "outputs": [],
   "source": [
    "test_rate = 0.02"
   ]
  },
  {
   "cell_type": "code",
   "execution_count": 37,
   "metadata": {
    "collapsed": true
   },
   "outputs": [],
   "source": [
    "test_num = int(np.round(seg_num*test_rate))"
   ]
  },
  {
   "cell_type": "code",
   "execution_count": 38,
   "metadata": {},
   "outputs": [
    {
     "data": {
      "text/plain": [
       "101"
      ]
     },
     "execution_count": 38,
     "metadata": {},
     "output_type": "execute_result"
    }
   ],
   "source": [
    "test_num"
   ]
  },
  {
   "cell_type": "code",
   "execution_count": 39,
   "metadata": {
    "collapsed": true
   },
   "outputs": [],
   "source": [
    "# np.random.seed(1)"
   ]
  },
  {
   "cell_type": "code",
   "execution_count": 40,
   "metadata": {
    "collapsed": true
   },
   "outputs": [],
   "source": [
    "test_labels = []\n",
    "clf_labels = []\n",
    "for ind in range(test_num):\n",
    "    seg_index = np.random.randint(0, seg_num)\n",
    "    start = subw_num*(seg_index)\n",
    "    \n",
    "    test_label = df_labels[start]\n",
    "    test_data = df_data[start : start+subw_num]\n",
    "    train_labels = np.delete(df_labels,np.arange(start, start+subw_num))\n",
    "    train_data = np.delete(df_data,np.arange(start, start+subw_num),0)\n",
    "    \n",
    "    knn = KNeighborsClassifier()\n",
    "    knn.fit(train_data, train_labels)\n",
    "    \n",
    "    predict_labels = knn.predict(test_data)\n",
    "    p = sorted([( np.sum(predict_labels==label),label ) for label in np.unique(predict_labels)])\n",
    "    predict_label = p[-1][1]\n",
    "    \n",
    "    test_labels.append(test_label)\n",
    "    clf_labels.append(predict_label)"
   ]
  },
  {
   "cell_type": "code",
   "execution_count": 41,
   "metadata": {},
   "outputs": [
    {
     "name": "stdout",
     "output_type": "stream",
     "text": [
      "             precision    recall  f1-score   support\n",
      "\n",
      "      bweep       0.76      0.73      0.75        26\n",
      "      clean       0.74      0.88      0.80        16\n",
      "      daily       0.93      0.82      0.87        17\n",
      "       dump       0.86      0.86      0.86        14\n",
      "      sweep       0.87      0.87      0.87        23\n",
      "       walk       0.80      0.80      0.80         5\n",
      "\n",
      "avg / total       0.83      0.82      0.82       101\n",
      "\n"
     ]
    }
   ],
   "source": [
    "print(classification_report(test_labels, clf_labels))"
   ]
  },
  {
   "cell_type": "code",
   "execution_count": null,
   "metadata": {
    "collapsed": true
   },
   "outputs": [],
   "source": []
  }
 ],
 "metadata": {
  "kernelspec": {
   "display_name": "Python 3",
   "language": "python",
   "name": "python3"
  },
  "language_info": {
   "codemirror_mode": {
    "name": "ipython",
    "version": 3
   },
   "file_extension": ".py",
   "mimetype": "text/x-python",
   "name": "python",
   "nbconvert_exporter": "python",
   "pygments_lexer": "ipython3",
   "version": "3.6.1"
  },
  "toc": {
   "nav_menu": {},
   "number_sections": true,
   "sideBar": true,
   "skip_h1_title": false,
   "toc_cell": false,
   "toc_position": {},
   "toc_section_display": "block",
   "toc_window_display": false
  },
  "varInspector": {
   "cols": {
    "lenName": 16,
    "lenType": 16,
    "lenVar": 40
   },
   "kernels_config": {
    "python": {
     "delete_cmd_postfix": "",
     "delete_cmd_prefix": "del ",
     "library": "var_list.py",
     "varRefreshCmd": "print(var_dic_list())"
    },
    "r": {
     "delete_cmd_postfix": ") ",
     "delete_cmd_prefix": "rm(",
     "library": "var_list.r",
     "varRefreshCmd": "cat(var_dic_list()) "
    }
   },
   "types_to_exclude": [
    "module",
    "function",
    "builtin_function_or_method",
    "instance",
    "_Feature"
   ],
   "window_display": false
  }
 },
 "nbformat": 4,
 "nbformat_minor": 2
}

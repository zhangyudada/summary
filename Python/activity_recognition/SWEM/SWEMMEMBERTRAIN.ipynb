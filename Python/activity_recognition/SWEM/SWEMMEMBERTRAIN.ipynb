{
 "cells": [
  {
   "cell_type": "code",
   "execution_count": 1,
   "metadata": {},
   "outputs": [],
   "source": [
    "import sys  \n",
    "sys.path.append('../') \n",
    "\n",
    "import pandas as pd\n",
    "import numpy as np\n",
    "\n",
    "from resample.resample import resample\n",
    "from feature.feature import feature_extraction\n",
    "from feature.feature import feature_normalization"
   ]
  },
  {
   "cell_type": "code",
   "execution_count": 2,
   "metadata": {
    "scrolled": true
   },
   "outputs": [],
   "source": [
    "df = pd.read_csv('../data/all.csv')"
   ]
  },
  {
   "cell_type": "code",
   "execution_count": 3,
   "metadata": {},
   "outputs": [
    {
     "data": {
      "text/html": [
       "<div>\n",
       "<style scoped>\n",
       "    .dataframe tbody tr th:only-of-type {\n",
       "        vertical-align: middle;\n",
       "    }\n",
       "\n",
       "    .dataframe tbody tr th {\n",
       "        vertical-align: top;\n",
       "    }\n",
       "\n",
       "    .dataframe thead th {\n",
       "        text-align: right;\n",
       "    }\n",
       "</style>\n",
       "<table border=\"1\" class=\"dataframe\">\n",
       "  <thead>\n",
       "    <tr style=\"text-align: right;\">\n",
       "      <th></th>\n",
       "      <th>x</th>\n",
       "      <th>y</th>\n",
       "      <th>z</th>\n",
       "      <th>class</th>\n",
       "      <th>seg</th>\n",
       "      <th>suspicious</th>\n",
       "    </tr>\n",
       "  </thead>\n",
       "  <tbody>\n",
       "    <tr>\n",
       "      <th>266550</th>\n",
       "      <td>-941</td>\n",
       "      <td>174</td>\n",
       "      <td>337</td>\n",
       "      <td>clean</td>\n",
       "      <td>clean/庆喜/repeat_82-duration_60.csv-1584-1628</td>\n",
       "      <td>False</td>\n",
       "    </tr>\n",
       "    <tr>\n",
       "      <th>266551</th>\n",
       "      <td>-942</td>\n",
       "      <td>173</td>\n",
       "      <td>314</td>\n",
       "      <td>clean</td>\n",
       "      <td>clean/庆喜/repeat_82-duration_60.csv-1584-1628</td>\n",
       "      <td>False</td>\n",
       "    </tr>\n",
       "    <tr>\n",
       "      <th>266552</th>\n",
       "      <td>-916</td>\n",
       "      <td>158</td>\n",
       "      <td>310</td>\n",
       "      <td>clean</td>\n",
       "      <td>clean/庆喜/repeat_82-duration_60.csv-1584-1628</td>\n",
       "      <td>False</td>\n",
       "    </tr>\n",
       "    <tr>\n",
       "      <th>266553</th>\n",
       "      <td>-898</td>\n",
       "      <td>145</td>\n",
       "      <td>304</td>\n",
       "      <td>clean</td>\n",
       "      <td>clean/庆喜/repeat_82-duration_60.csv-1584-1628</td>\n",
       "      <td>False</td>\n",
       "    </tr>\n",
       "    <tr>\n",
       "      <th>266554</th>\n",
       "      <td>-891</td>\n",
       "      <td>132</td>\n",
       "      <td>295</td>\n",
       "      <td>clean</td>\n",
       "      <td>clean/庆喜/repeat_82-duration_60.csv-1584-1628</td>\n",
       "      <td>False</td>\n",
       "    </tr>\n",
       "  </tbody>\n",
       "</table>\n",
       "</div>"
      ],
      "text/plain": [
       "          x    y    z  class                                           seg  \\\n",
       "266550 -941  174  337  clean  clean/庆喜/repeat_82-duration_60.csv-1584-1628   \n",
       "266551 -942  173  314  clean  clean/庆喜/repeat_82-duration_60.csv-1584-1628   \n",
       "266552 -916  158  310  clean  clean/庆喜/repeat_82-duration_60.csv-1584-1628   \n",
       "266553 -898  145  304  clean  clean/庆喜/repeat_82-duration_60.csv-1584-1628   \n",
       "266554 -891  132  295  clean  clean/庆喜/repeat_82-duration_60.csv-1584-1628   \n",
       "\n",
       "        suspicious  \n",
       "266550       False  \n",
       "266551       False  \n",
       "266552       False  \n",
       "266553       False  \n",
       "266554       False  "
      ]
     },
     "execution_count": 3,
     "metadata": {},
     "output_type": "execute_result"
    }
   ],
   "source": [
    "df.tail()"
   ]
  },
  {
   "cell_type": "code",
   "execution_count": 5,
   "metadata": {},
   "outputs": [],
   "source": [
    "# new_df = resample(df)\n",
    "# new_df.to_csv('./data/processed_data/all/resample_to_50_per_act/resample_to_50.csv', encoding='utf-8', index=False)\n",
    "new_df = pd.read_csv('../data/processed_data/all/resample_to_50_per_act/resample_to_50.csv')"
   ]
  },
  {
   "cell_type": "code",
   "execution_count": 6,
   "metadata": {},
   "outputs": [
    {
     "data": {
      "text/html": [
       "<div>\n",
       "<style scoped>\n",
       "    .dataframe tbody tr th:only-of-type {\n",
       "        vertical-align: middle;\n",
       "    }\n",
       "\n",
       "    .dataframe tbody tr th {\n",
       "        vertical-align: top;\n",
       "    }\n",
       "\n",
       "    .dataframe thead th {\n",
       "        text-align: right;\n",
       "    }\n",
       "</style>\n",
       "<table border=\"1\" class=\"dataframe\">\n",
       "  <thead>\n",
       "    <tr style=\"text-align: right;\">\n",
       "      <th></th>\n",
       "      <th>x</th>\n",
       "      <th>y</th>\n",
       "      <th>z</th>\n",
       "      <th>class</th>\n",
       "      <th>seg</th>\n",
       "      <th>suspicious</th>\n",
       "    </tr>\n",
       "  </thead>\n",
       "  <tbody>\n",
       "    <tr>\n",
       "      <th>251295</th>\n",
       "      <td>-928.094685</td>\n",
       "      <td>163.788475</td>\n",
       "      <td>337.651526</td>\n",
       "      <td>clean</td>\n",
       "      <td>clean/庆喜/repeat_82-duration_60.csv-1584-1628</td>\n",
       "      <td>False</td>\n",
       "    </tr>\n",
       "    <tr>\n",
       "      <th>251296</th>\n",
       "      <td>-946.717057</td>\n",
       "      <td>177.251312</td>\n",
       "      <td>326.688697</td>\n",
       "      <td>clean</td>\n",
       "      <td>clean/庆喜/repeat_82-duration_60.csv-1584-1628</td>\n",
       "      <td>False</td>\n",
       "    </tr>\n",
       "    <tr>\n",
       "      <th>251297</th>\n",
       "      <td>-933.746906</td>\n",
       "      <td>167.946609</td>\n",
       "      <td>310.380039</td>\n",
       "      <td>clean</td>\n",
       "      <td>clean/庆喜/repeat_82-duration_60.csv-1584-1628</td>\n",
       "      <td>False</td>\n",
       "    </tr>\n",
       "    <tr>\n",
       "      <th>251298</th>\n",
       "      <td>-910.344399</td>\n",
       "      <td>154.584634</td>\n",
       "      <td>309.409075</td>\n",
       "      <td>clean</td>\n",
       "      <td>clean/庆喜/repeat_82-duration_60.csv-1584-1628</td>\n",
       "      <td>False</td>\n",
       "    </tr>\n",
       "    <tr>\n",
       "      <th>251299</th>\n",
       "      <td>-896.701663</td>\n",
       "      <td>143.548819</td>\n",
       "      <td>302.866383</td>\n",
       "      <td>clean</td>\n",
       "      <td>clean/庆喜/repeat_82-duration_60.csv-1584-1628</td>\n",
       "      <td>False</td>\n",
       "    </tr>\n",
       "  </tbody>\n",
       "</table>\n",
       "</div>"
      ],
      "text/plain": [
       "                 x           y           z  class  \\\n",
       "251295 -928.094685  163.788475  337.651526  clean   \n",
       "251296 -946.717057  177.251312  326.688697  clean   \n",
       "251297 -933.746906  167.946609  310.380039  clean   \n",
       "251298 -910.344399  154.584634  309.409075  clean   \n",
       "251299 -896.701663  143.548819  302.866383  clean   \n",
       "\n",
       "                                                 seg  suspicious  \n",
       "251295  clean/庆喜/repeat_82-duration_60.csv-1584-1628       False  \n",
       "251296  clean/庆喜/repeat_82-duration_60.csv-1584-1628       False  \n",
       "251297  clean/庆喜/repeat_82-duration_60.csv-1584-1628       False  \n",
       "251298  clean/庆喜/repeat_82-duration_60.csv-1584-1628       False  \n",
       "251299  clean/庆喜/repeat_82-duration_60.csv-1584-1628       False  "
      ]
     },
     "execution_count": 6,
     "metadata": {},
     "output_type": "execute_result"
    }
   ],
   "source": [
    "new_df.tail()"
   ]
  },
  {
   "cell_type": "code",
   "execution_count": 7,
   "metadata": {},
   "outputs": [],
   "source": [
    "segs = new_df.seg.unique()"
   ]
  },
  {
   "cell_type": "code",
   "execution_count": 8,
   "metadata": {},
   "outputs": [],
   "source": [
    "seg = segs[0]"
   ]
  },
  {
   "cell_type": "code",
   "execution_count": 9,
   "metadata": {},
   "outputs": [],
   "source": [
    "seg_df = new_df[new_df['seg'] ==seg]"
   ]
  },
  {
   "cell_type": "code",
   "execution_count": 10,
   "metadata": {},
   "outputs": [],
   "source": [
    "x = seg_df['x'].values\n",
    "y = seg_df['y'].values\n",
    "z = seg_df['z'].values"
   ]
  },
  {
   "cell_type": "code",
   "execution_count": 11,
   "metadata": {},
   "outputs": [
    {
     "data": {
      "text/plain": [
       "numpy.float64"
      ]
     },
     "execution_count": 11,
     "metadata": {},
     "output_type": "execute_result"
    }
   ],
   "source": [
    "type(x[0])"
   ]
  },
  {
   "cell_type": "code",
   "execution_count": 12,
   "metadata": {},
   "outputs": [
    {
     "data": {
      "text/plain": [
       "array([  20.        ,   47.14968151,   68.46329185,  107.58660707,\n",
       "        133.49236672,  147.62733917,   71.71998123,   33.0372632 ,\n",
       "         52.28349815,   76.22541825,   76.35212133,   67.47723417,\n",
       "         41.93167471,    0.68156118,   22.6765374 ,   57.46498051,\n",
       "          9.44596952,  -64.34866768,  -61.76577109,  -52.82310927,\n",
       "        -66.24599366,  -73.02031018,  -82.15698355, -103.08656079,\n",
       "       -114.99693488, -118.50984252, -121.38199954, -126.6136776 ,\n",
       "       -127.20777036, -124.30457733, -116.89315008, -105.75894729,\n",
       "       -109.21432913, -120.99199563, -126.69744644, -118.22032523,\n",
       "        -80.3957489 ,  -73.17596716,  -78.30044491,  -91.83267834,\n",
       "        -98.52228587,  -91.31922282,  -87.7657692 ,  -88.27723269,\n",
       "        -78.30693049,  -74.97583757,  -78.52530004,  -83.87144962,\n",
       "        -93.56083531,  -95.78632902])"
      ]
     },
     "execution_count": 12,
     "metadata": {},
     "output_type": "execute_result"
    }
   ],
   "source": [
    "x"
   ]
  },
  {
   "cell_type": "code",
   "execution_count": 13,
   "metadata": {},
   "outputs": [],
   "source": [
    "label = seg.split('/')[0]"
   ]
  },
  {
   "cell_type": "code",
   "execution_count": 14,
   "metadata": {},
   "outputs": [
    {
     "data": {
      "text/plain": [
       "'walk'"
      ]
     },
     "execution_count": 14,
     "metadata": {},
     "output_type": "execute_result"
    }
   ],
   "source": [
    "label"
   ]
  },
  {
   "cell_type": "code",
   "execution_count": 15,
   "metadata": {},
   "outputs": [],
   "source": [
    "features = feature_extraction(x,y,z)"
   ]
  },
  {
   "cell_type": "code",
   "execution_count": 16,
   "metadata": {},
   "outputs": [
    {
     "data": {
      "text/plain": [
       "numpy.float64"
      ]
     },
     "execution_count": 16,
     "metadata": {},
     "output_type": "execute_result"
    }
   ],
   "source": [
    "type(features[0])"
   ]
  },
  {
   "cell_type": "code",
   "execution_count": 17,
   "metadata": {},
   "outputs": [
    {
     "data": {
      "text/plain": [
       "array([ -2.09523890e+03,   4.06660331e+04,  -2.68396925e+04,\n",
       "        -4.19047780e+01,   8.13320661e+02,  -5.36793851e+02,\n",
       "         7.91562750e+01,   4.13127577e+01,   5.30131195e+01,\n",
       "        -1.88895584e+00,   5.07951656e-02,  -9.87588056e-02,\n",
       "         2.74835110e+02,   1.89727368e+02,   2.34013056e+02,\n",
       "         1.47627339e+02,   8.89703116e+02,  -5.33542397e+02,\n",
       "         4.19316747e+01,   7.60381869e+02,  -5.40862681e+02,\n",
       "        -1.18509843e+02,   8.38010575e+02,  -5.59661231e+02,\n",
       "        -7.83004449e+01,   8.65935422e+02,  -4.66638555e+02,\n",
       "        -7.49758376e+01,   8.53790385e+02,  -4.81685271e+02,\n",
       "        -1.20232120e+02,   1.05553553e+02,   7.42241267e+01,\n",
       "         9.45851814e-01,   7.24111149e-01,   7.90261085e-01,\n",
       "         8.03860335e-01,  -5.93645021e-01,  -7.03575274e-01,\n",
       "        -2.99963638e+00,  -2.99839486e+00,  -2.99890101e+00,\n",
       "         4.01086315e+05,   3.31598621e+07,   1.45479014e+07,\n",
       "         4.24699502e+02,   6.69980458e+02,   6.28089854e+02,\n",
       "         8.00000000e+00,   1.10000000e+01,   1.00000000e+01,\n",
       "         1.00000000e+00,   1.10000000e+01,   1.00000000e+01,\n",
       "         1.02645406e-02,   5.76464268e-01,  -2.10651701e-01])"
      ]
     },
     "execution_count": 17,
     "metadata": {},
     "output_type": "execute_result"
    }
   ],
   "source": [
    "features"
   ]
  },
  {
   "cell_type": "markdown",
   "metadata": {},
   "source": [
    "### SWEMMEMBERTRAIN(T, L)"
   ]
  },
  {
   "cell_type": "code",
   "execution_count": 61,
   "metadata": {
    "collapsed": true
   },
   "outputs": [],
   "source": [
    "L = np.arange(10, 51, 10)"
   ]
  },
  {
   "cell_type": "code",
   "execution_count": 62,
   "metadata": {},
   "outputs": [
    {
     "data": {
      "text/plain": [
       "array([10, 20, 30, 40, 50])"
      ]
     },
     "execution_count": 62,
     "metadata": {},
     "output_type": "execute_result"
    }
   ],
   "source": [
    "L"
   ]
  },
  {
   "cell_type": "code",
   "execution_count": 63,
   "metadata": {
    "collapsed": true
   },
   "outputs": [],
   "source": [
    "seg_length = 50\n",
    "slidew_size = 10"
   ]
  },
  {
   "cell_type": "code",
   "execution_count": 58,
   "metadata": {
    "collapsed": true
   },
   "outputs": [],
   "source": [
    "M = []"
   ]
  },
  {
   "cell_type": "code",
   "execution_count": 59,
   "metadata": {
    "collapsed": true
   },
   "outputs": [],
   "source": [
    "cols = ['label', \n",
    "        'sum_x', 'sum_y', 'sum_z', \\\n",
    "        'mean_x', 'mean_y', 'mean_z', \\\n",
    "        'std_x', 'std_y', 'std_z', \\\n",
    "        'cv_x', 'cv_y', 'cv_z', \\\n",
    "        'ptp_x', 'ptp_y', 'ptp_z', \\\n",
    "        'p10_x', 'p10_y', 'p10_z', \\\n",
    "        'p25_x', 'p25_y', 'p25_z', \\\n",
    "        'p50_x', 'p50_y', 'p50_z', \\\n",
    "        'p75_x', 'p75_y', 'p75_z', \\\n",
    "        'p90_x',' p90_y', 'p90_z', \\\n",
    "        'iq_x', 'iq_y', 'iq_z', \\\n",
    "        'lagone_autocor_x', 'lagone_autocor_y', 'lagone_autocor_z', \\\n",
    "        'sk_x', 'sk_y', 'sk_z', \\\n",
    "        'kurt_x', 'kurt_y', 'kurt_z', \\\n",
    "        'power_x', 'power_y', 'power_z', \\\n",
    "        'logpower_x', 'logpower_y', 'logpower_z', \\\n",
    "        'peak_x', 'peak_y', 'peak_z', \\\n",
    "        'cross0_x', 'cross0_y', 'cross0_z', \\\n",
    "        'cor_xy', 'cor_yz', 'cor_zx']"
   ]
  },
  {
   "cell_type": "code",
   "execution_count": 60,
   "metadata": {
    "collapsed": true
   },
   "outputs": [],
   "source": [
    "for l in L:\n",
    "    training_data = pd.DataFrame(columns=cols)\n",
    "    segs = new_df.seg.unique()[:50]\n",
    "    for seg in segs:\n",
    "        seg_df = new_df[new_df['seg'] == seg]\n",
    "        label = seg.split('/')[0]\n",
    "        for s in np.arange(0, seg_length-l+1, slidew_size):\n",
    "            x = seg_df['x'].values[s:s+l]\n",
    "            y = seg_df['y'].values[s:s+l]\n",
    "            z = seg_df['z'].values[s:s+l]\n",
    "            features = feature_extraction(x,y,z)\n",
    "            len_training_data = len(training_data)\n",
    "            training_data.loc[len_training_data, 'label'] = label\n",
    "            training_data.loc[len_training_data, 1:] = features\n",
    "            \n",
    "    X = np.array(training_data.drop('label',axis=1))\n",
    "    norm_X = feature_normalization(X)\n",
    "    for ind in range(norm_X.shape[1]):\n",
    "        training_data.iloc[:,ind+1] = norm_X[:,ind]\n",
    "\n",
    "    M.append(training_data)"
   ]
  },
  {
   "cell_type": "code",
   "execution_count": 42,
   "metadata": {},
   "outputs": [
    {
     "data": {
      "text/html": [
       "<div>\n",
       "<style>\n",
       "    .dataframe thead tr:only-child th {\n",
       "        text-align: right;\n",
       "    }\n",
       "\n",
       "    .dataframe thead th {\n",
       "        text-align: left;\n",
       "    }\n",
       "\n",
       "    .dataframe tbody tr th {\n",
       "        vertical-align: top;\n",
       "    }\n",
       "</style>\n",
       "<table border=\"1\" class=\"dataframe\">\n",
       "  <thead>\n",
       "    <tr style=\"text-align: right;\">\n",
       "      <th></th>\n",
       "      <th>label</th>\n",
       "      <th>sum_x</th>\n",
       "      <th>sum_y</th>\n",
       "      <th>sum_z</th>\n",
       "      <th>mean_x</th>\n",
       "      <th>mean_y</th>\n",
       "      <th>mean_z</th>\n",
       "      <th>std_x</th>\n",
       "      <th>std_y</th>\n",
       "      <th>std_z</th>\n",
       "      <th>...</th>\n",
       "      <th>logpower_z</th>\n",
       "      <th>peak_x</th>\n",
       "      <th>peak_y</th>\n",
       "      <th>peak_z</th>\n",
       "      <th>cross0_x</th>\n",
       "      <th>cross0_y</th>\n",
       "      <th>cross0_z</th>\n",
       "      <th>cor_xy</th>\n",
       "      <th>cor_yz</th>\n",
       "      <th>cor_zx</th>\n",
       "    </tr>\n",
       "  </thead>\n",
       "  <tbody>\n",
       "    <tr>\n",
       "      <th>495</th>\n",
       "      <td>walk</td>\n",
       "      <td>-0.049496</td>\n",
       "      <td>-0.903100</td>\n",
       "      <td>-0.243918</td>\n",
       "      <td>-0.049496</td>\n",
       "      <td>-0.903100</td>\n",
       "      <td>-0.243918</td>\n",
       "      <td>-0.201671</td>\n",
       "      <td>0.237897</td>\n",
       "      <td>0.022896</td>\n",
       "      <td>...</td>\n",
       "      <td>0.432139</td>\n",
       "      <td>0.704128</td>\n",
       "      <td>-1.023623</td>\n",
       "      <td>0.493377</td>\n",
       "      <td>-0.739667</td>\n",
       "      <td>0.772207</td>\n",
       "      <td>-0.793329</td>\n",
       "      <td>-0.058042</td>\n",
       "      <td>0.953295</td>\n",
       "      <td>0.337131</td>\n",
       "    </tr>\n",
       "    <tr>\n",
       "      <th>496</th>\n",
       "      <td>walk</td>\n",
       "      <td>0.012660</td>\n",
       "      <td>-0.296968</td>\n",
       "      <td>0.669287</td>\n",
       "      <td>0.012660</td>\n",
       "      <td>-0.296968</td>\n",
       "      <td>0.669287</td>\n",
       "      <td>-0.616675</td>\n",
       "      <td>0.532226</td>\n",
       "      <td>0.689505</td>\n",
       "      <td>...</td>\n",
       "      <td>-1.057355</td>\n",
       "      <td>0.704128</td>\n",
       "      <td>0.648964</td>\n",
       "      <td>0.493377</td>\n",
       "      <td>0.882410</td>\n",
       "      <td>0.772207</td>\n",
       "      <td>0.528886</td>\n",
       "      <td>-1.546038</td>\n",
       "      <td>0.969848</td>\n",
       "      <td>-0.954704</td>\n",
       "    </tr>\n",
       "    <tr>\n",
       "      <th>497</th>\n",
       "      <td>walk</td>\n",
       "      <td>0.073816</td>\n",
       "      <td>0.290645</td>\n",
       "      <td>0.833092</td>\n",
       "      <td>0.073816</td>\n",
       "      <td>0.290645</td>\n",
       "      <td>0.833092</td>\n",
       "      <td>-0.253286</td>\n",
       "      <td>-0.856682</td>\n",
       "      <td>-0.829399</td>\n",
       "      <td>...</td>\n",
       "      <td>-1.884764</td>\n",
       "      <td>0.704128</td>\n",
       "      <td>0.648964</td>\n",
       "      <td>2.230619</td>\n",
       "      <td>-0.739667</td>\n",
       "      <td>2.304365</td>\n",
       "      <td>0.528886</td>\n",
       "      <td>0.692306</td>\n",
       "      <td>0.031845</td>\n",
       "      <td>0.670617</td>\n",
       "    </tr>\n",
       "    <tr>\n",
       "      <th>498</th>\n",
       "      <td>walk</td>\n",
       "      <td>0.622307</td>\n",
       "      <td>0.223362</td>\n",
       "      <td>0.324027</td>\n",
       "      <td>0.622307</td>\n",
       "      <td>0.223362</td>\n",
       "      <td>0.324027</td>\n",
       "      <td>-0.034853</td>\n",
       "      <td>0.028829</td>\n",
       "      <td>-0.484087</td>\n",
       "      <td>...</td>\n",
       "      <td>-0.237006</td>\n",
       "      <td>0.704128</td>\n",
       "      <td>-1.023623</td>\n",
       "      <td>0.493377</td>\n",
       "      <td>-0.739667</td>\n",
       "      <td>-0.759950</td>\n",
       "      <td>1.851101</td>\n",
       "      <td>1.016985</td>\n",
       "      <td>0.801051</td>\n",
       "      <td>1.240275</td>\n",
       "    </tr>\n",
       "    <tr>\n",
       "      <th>499</th>\n",
       "      <td>walk</td>\n",
       "      <td>0.126444</td>\n",
       "      <td>-0.764884</td>\n",
       "      <td>-0.510143</td>\n",
       "      <td>0.126444</td>\n",
       "      <td>-0.764884</td>\n",
       "      <td>-0.510143</td>\n",
       "      <td>0.572638</td>\n",
       "      <td>-0.474632</td>\n",
       "      <td>-1.097898</td>\n",
       "      <td>...</td>\n",
       "      <td>0.761551</td>\n",
       "      <td>0.704128</td>\n",
       "      <td>-1.023623</td>\n",
       "      <td>0.493377</td>\n",
       "      <td>-0.739667</td>\n",
       "      <td>-0.759950</td>\n",
       "      <td>1.851101</td>\n",
       "      <td>1.268361</td>\n",
       "      <td>0.538786</td>\n",
       "      <td>1.315167</td>\n",
       "    </tr>\n",
       "  </tbody>\n",
       "</table>\n",
       "<p>5 rows × 58 columns</p>\n",
       "</div>"
      ],
      "text/plain": [
       "    label     sum_x     sum_y     sum_z    mean_x    mean_y    mean_z  \\\n",
       "495  walk -0.049496 -0.903100 -0.243918 -0.049496 -0.903100 -0.243918   \n",
       "496  walk  0.012660 -0.296968  0.669287  0.012660 -0.296968  0.669287   \n",
       "497  walk  0.073816  0.290645  0.833092  0.073816  0.290645  0.833092   \n",
       "498  walk  0.622307  0.223362  0.324027  0.622307  0.223362  0.324027   \n",
       "499  walk  0.126444 -0.764884 -0.510143  0.126444 -0.764884 -0.510143   \n",
       "\n",
       "        std_x     std_y     std_z    ...     logpower_z    peak_x    peak_y  \\\n",
       "495 -0.201671  0.237897  0.022896    ...       0.432139  0.704128 -1.023623   \n",
       "496 -0.616675  0.532226  0.689505    ...      -1.057355  0.704128  0.648964   \n",
       "497 -0.253286 -0.856682 -0.829399    ...      -1.884764  0.704128  0.648964   \n",
       "498 -0.034853  0.028829 -0.484087    ...      -0.237006  0.704128 -1.023623   \n",
       "499  0.572638 -0.474632 -1.097898    ...       0.761551  0.704128 -1.023623   \n",
       "\n",
       "       peak_z  cross0_x  cross0_y  cross0_z    cor_xy    cor_yz    cor_zx  \n",
       "495  0.493377 -0.739667  0.772207 -0.793329 -0.058042  0.953295  0.337131  \n",
       "496  0.493377  0.882410  0.772207  0.528886 -1.546038  0.969848 -0.954704  \n",
       "497  2.230619 -0.739667  2.304365  0.528886  0.692306  0.031845  0.670617  \n",
       "498  0.493377 -0.739667 -0.759950  1.851101  1.016985  0.801051  1.240275  \n",
       "499  0.493377 -0.739667 -0.759950  1.851101  1.268361  0.538786  1.315167  \n",
       "\n",
       "[5 rows x 58 columns]"
      ]
     },
     "execution_count": 42,
     "metadata": {},
     "output_type": "execute_result"
    }
   ],
   "source": [
    "M[0].tail()"
   ]
  },
  {
   "cell_type": "code",
   "execution_count": null,
   "metadata": {
    "collapsed": true
   },
   "outputs": [],
   "source": []
  }
 ],
 "metadata": {
  "kernelspec": {
   "display_name": "Python 3",
   "language": "python",
   "name": "python3"
  },
  "language_info": {
   "codemirror_mode": {
    "name": "ipython",
    "version": 3
   },
   "file_extension": ".py",
   "mimetype": "text/x-python",
   "name": "python",
   "nbconvert_exporter": "python",
   "pygments_lexer": "ipython3",
   "version": "3.6.1"
  },
  "toc": {
   "nav_menu": {},
   "number_sections": true,
   "sideBar": true,
   "skip_h1_title": false,
   "toc_cell": false,
   "toc_position": {},
   "toc_section_display": "block",
   "toc_window_display": false
  },
  "varInspector": {
   "cols": {
    "lenName": 16,
    "lenType": 16,
    "lenVar": 40
   },
   "kernels_config": {
    "python": {
     "delete_cmd_postfix": "",
     "delete_cmd_prefix": "del ",
     "library": "var_list.py",
     "varRefreshCmd": "print(var_dic_list())"
    },
    "r": {
     "delete_cmd_postfix": ") ",
     "delete_cmd_prefix": "rm(",
     "library": "var_list.r",
     "varRefreshCmd": "cat(var_dic_list()) "
    }
   },
   "types_to_exclude": [
    "module",
    "function",
    "builtin_function_or_method",
    "instance",
    "_Feature"
   ],
   "window_display": false
  }
 },
 "nbformat": 4,
 "nbformat_minor": 2
}

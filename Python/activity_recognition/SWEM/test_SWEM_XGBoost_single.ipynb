{
 "cells": [
  {
   "cell_type": "code",
   "execution_count": 1,
   "metadata": {
    "extensions": {
     "jupyter_dashboards": {
      "version": 1,
      "views": {
       "grid_default": {
        "hidden": true
       },
       "report_default": {}
      }
     }
    }
   },
   "outputs": [],
   "source": [
    "import pandas as pd\n",
    "import numpy as np\n",
    "\n",
    "from SWEM_XGBoost import SWEMPREDICT_SINGLE\n",
    "from SWEM_XGBoost import SWEMPREDICT\n",
    "from sklearn.metrics import classification_report"
   ]
  },
  {
   "cell_type": "code",
   "execution_count": 2,
   "metadata": {
    "extensions": {
     "jupyter_dashboards": {
      "version": 1,
      "views": {
       "grid_default": {
        "hidden": true
       },
       "report_default": {}
      }
     }
    }
   },
   "outputs": [
    {
     "name": "stdout",
     "output_type": "stream",
     "text": [
      "CPU times: user 1.46 s, sys: 68 ms, total: 1.53 s\n",
      "Wall time: 1.53 s\n"
     ]
    }
   ],
   "source": [
    "%%time\n",
    "M = []\n",
    "for ind in range(5):\n",
    "    tmp_df = pd.read_csv('../data/processed_data/all/resample_to_50_per_act/time_features/time_w{}.csv'.format( 10*(ind+1) ))\n",
    "    M.append(tmp_df)"
   ]
  },
  {
   "cell_type": "code",
   "execution_count": 3,
   "metadata": {
    "extensions": {
     "jupyter_dashboards": {
      "version": 1,
      "views": {
       "grid_default": {
        "hidden": true
       },
       "report_default": {}
      }
     }
    }
   },
   "outputs": [],
   "source": [
    "df = M[2]"
   ]
  },
  {
   "cell_type": "code",
   "execution_count": 4,
   "metadata": {
    "extensions": {
     "jupyter_dashboards": {
      "version": 1,
      "views": {
       "grid_default": {
        "col": 0,
        "height": 8,
        "hidden": false,
        "row": 0,
        "width": 12
       },
       "report_default": {}
      }
     }
    }
   },
   "outputs": [
    {
     "data": {
      "text/html": [
       "<div>\n",
       "<style scoped>\n",
       "    .dataframe tbody tr th:only-of-type {\n",
       "        vertical-align: middle;\n",
       "    }\n",
       "\n",
       "    .dataframe tbody tr th {\n",
       "        vertical-align: top;\n",
       "    }\n",
       "\n",
       "    .dataframe thead th {\n",
       "        text-align: right;\n",
       "    }\n",
       "</style>\n",
       "<table border=\"1\" class=\"dataframe\">\n",
       "  <thead>\n",
       "    <tr style=\"text-align: right;\">\n",
       "      <th></th>\n",
       "      <th>label</th>\n",
       "      <th>sum_x</th>\n",
       "      <th>sum_y</th>\n",
       "      <th>sum_z</th>\n",
       "      <th>mean_x</th>\n",
       "      <th>mean_y</th>\n",
       "      <th>mean_z</th>\n",
       "      <th>std_x</th>\n",
       "      <th>std_y</th>\n",
       "      <th>std_z</th>\n",
       "      <th>...</th>\n",
       "      <th>logpower_z</th>\n",
       "      <th>peak_x</th>\n",
       "      <th>peak_y</th>\n",
       "      <th>peak_z</th>\n",
       "      <th>cross0_x</th>\n",
       "      <th>cross0_y</th>\n",
       "      <th>cross0_z</th>\n",
       "      <th>cor_xy</th>\n",
       "      <th>cor_yz</th>\n",
       "      <th>cor_zx</th>\n",
       "    </tr>\n",
       "  </thead>\n",
       "  <tbody>\n",
       "    <tr>\n",
       "      <th>15073</th>\n",
       "      <td>clean</td>\n",
       "      <td>-0.980312</td>\n",
       "      <td>-0.578681</td>\n",
       "      <td>0.971361</td>\n",
       "      <td>-0.980312</td>\n",
       "      <td>-0.578681</td>\n",
       "      <td>0.971361</td>\n",
       "      <td>-0.092835</td>\n",
       "      <td>0.017286</td>\n",
       "      <td>1.251830</td>\n",
       "      <td>...</td>\n",
       "      <td>0.272348</td>\n",
       "      <td>-0.574179</td>\n",
       "      <td>-0.871172</td>\n",
       "      <td>-0.829297</td>\n",
       "      <td>-0.648494</td>\n",
       "      <td>-0.857094</td>\n",
       "      <td>-0.842873</td>\n",
       "      <td>-1.815293</td>\n",
       "      <td>-1.847354</td>\n",
       "      <td>1.927596</td>\n",
       "    </tr>\n",
       "    <tr>\n",
       "      <th>15074</th>\n",
       "      <td>clean</td>\n",
       "      <td>-0.794419</td>\n",
       "      <td>-1.064882</td>\n",
       "      <td>1.453493</td>\n",
       "      <td>-0.794419</td>\n",
       "      <td>-1.064882</td>\n",
       "      <td>1.453493</td>\n",
       "      <td>-0.116380</td>\n",
       "      <td>0.151676</td>\n",
       "      <td>1.147381</td>\n",
       "      <td>...</td>\n",
       "      <td>0.830881</td>\n",
       "      <td>0.176491</td>\n",
       "      <td>-1.598378</td>\n",
       "      <td>-0.059480</td>\n",
       "      <td>-1.114868</td>\n",
       "      <td>-0.857094</td>\n",
       "      <td>-1.292203</td>\n",
       "      <td>-1.541576</td>\n",
       "      <td>-1.784354</td>\n",
       "      <td>1.892664</td>\n",
       "    </tr>\n",
       "    <tr>\n",
       "      <th>15075</th>\n",
       "      <td>clean</td>\n",
       "      <td>-0.780189</td>\n",
       "      <td>-0.868114</td>\n",
       "      <td>1.220809</td>\n",
       "      <td>-0.780189</td>\n",
       "      <td>-0.868114</td>\n",
       "      <td>1.220809</td>\n",
       "      <td>-1.275220</td>\n",
       "      <td>-1.243961</td>\n",
       "      <td>-1.171967</td>\n",
       "      <td>...</td>\n",
       "      <td>0.819009</td>\n",
       "      <td>0.176491</td>\n",
       "      <td>0.583241</td>\n",
       "      <td>-0.829297</td>\n",
       "      <td>-1.581241</td>\n",
       "      <td>-1.288805</td>\n",
       "      <td>-0.842873</td>\n",
       "      <td>1.501674</td>\n",
       "      <td>1.755738</td>\n",
       "      <td>1.698440</td>\n",
       "    </tr>\n",
       "    <tr>\n",
       "      <th>15076</th>\n",
       "      <td>clean</td>\n",
       "      <td>-0.862450</td>\n",
       "      <td>-0.965896</td>\n",
       "      <td>1.070501</td>\n",
       "      <td>-0.862450</td>\n",
       "      <td>-0.965896</td>\n",
       "      <td>1.070501</td>\n",
       "      <td>-1.169706</td>\n",
       "      <td>-1.237278</td>\n",
       "      <td>-0.892992</td>\n",
       "      <td>...</td>\n",
       "      <td>0.626308</td>\n",
       "      <td>-0.574179</td>\n",
       "      <td>-0.143965</td>\n",
       "      <td>-0.059480</td>\n",
       "      <td>-1.581241</td>\n",
       "      <td>-1.720515</td>\n",
       "      <td>-0.842873</td>\n",
       "      <td>1.591916</td>\n",
       "      <td>1.747669</td>\n",
       "      <td>1.867912</td>\n",
       "    </tr>\n",
       "    <tr>\n",
       "      <th>15077</th>\n",
       "      <td>clean</td>\n",
       "      <td>-0.930246</td>\n",
       "      <td>-0.993470</td>\n",
       "      <td>0.868453</td>\n",
       "      <td>-0.930246</td>\n",
       "      <td>-0.993470</td>\n",
       "      <td>0.868453</td>\n",
       "      <td>-1.273597</td>\n",
       "      <td>-1.271885</td>\n",
       "      <td>-0.930186</td>\n",
       "      <td>...</td>\n",
       "      <td>0.348003</td>\n",
       "      <td>-0.574179</td>\n",
       "      <td>-0.143965</td>\n",
       "      <td>-0.829297</td>\n",
       "      <td>-0.648494</td>\n",
       "      <td>-0.425383</td>\n",
       "      <td>-0.842873</td>\n",
       "      <td>-0.365684</td>\n",
       "      <td>-0.432096</td>\n",
       "      <td>1.375003</td>\n",
       "    </tr>\n",
       "  </tbody>\n",
       "</table>\n",
       "<p>5 rows × 58 columns</p>\n",
       "</div>"
      ],
      "text/plain": [
       "       label     sum_x     sum_y     sum_z    mean_x    mean_y    mean_z  \\\n",
       "15073  clean -0.980312 -0.578681  0.971361 -0.980312 -0.578681  0.971361   \n",
       "15074  clean -0.794419 -1.064882  1.453493 -0.794419 -1.064882  1.453493   \n",
       "15075  clean -0.780189 -0.868114  1.220809 -0.780189 -0.868114  1.220809   \n",
       "15076  clean -0.862450 -0.965896  1.070501 -0.862450 -0.965896  1.070501   \n",
       "15077  clean -0.930246 -0.993470  0.868453 -0.930246 -0.993470  0.868453   \n",
       "\n",
       "          std_x     std_y     std_z    ...     logpower_z    peak_x    peak_y  \\\n",
       "15073 -0.092835  0.017286  1.251830    ...       0.272348 -0.574179 -0.871172   \n",
       "15074 -0.116380  0.151676  1.147381    ...       0.830881  0.176491 -1.598378   \n",
       "15075 -1.275220 -1.243961 -1.171967    ...       0.819009  0.176491  0.583241   \n",
       "15076 -1.169706 -1.237278 -0.892992    ...       0.626308 -0.574179 -0.143965   \n",
       "15077 -1.273597 -1.271885 -0.930186    ...       0.348003 -0.574179 -0.143965   \n",
       "\n",
       "         peak_z  cross0_x  cross0_y  cross0_z    cor_xy    cor_yz    cor_zx  \n",
       "15073 -0.829297 -0.648494 -0.857094 -0.842873 -1.815293 -1.847354  1.927596  \n",
       "15074 -0.059480 -1.114868 -0.857094 -1.292203 -1.541576 -1.784354  1.892664  \n",
       "15075 -0.829297 -1.581241 -1.288805 -0.842873  1.501674  1.755738  1.698440  \n",
       "15076 -0.059480 -1.581241 -1.720515 -0.842873  1.591916  1.747669  1.867912  \n",
       "15077 -0.829297 -0.648494 -0.425383 -0.842873 -0.365684 -0.432096  1.375003  \n",
       "\n",
       "[5 rows x 58 columns]"
      ]
     },
     "execution_count": 4,
     "metadata": {},
     "output_type": "execute_result"
    }
   ],
   "source": [
    "df.tail()"
   ]
  },
  {
   "cell_type": "code",
   "execution_count": 5,
   "metadata": {
    "extensions": {
     "jupyter_dashboards": {
      "version": 1,
      "views": {
       "grid_default": {
        "hidden": true
       },
       "report_default": {}
      }
     }
    }
   },
   "outputs": [
    {
     "name": "stdout",
     "output_type": "stream",
     "text": [
      "CPU times: user 4d 9h 31min 15s, sys: 2min 38s, total: 4d 9h 33min 53s\n",
      "Wall time: 1d 5h 16min 41s\n"
     ]
    }
   ],
   "source": [
    "%%time\n",
    "test_ratio = 0.2\n",
    "test_labels,xgb_clf_labels = SWEMPREDICT_SINGLE(df, test_ratio)"
   ]
  },
  {
   "cell_type": "code",
   "execution_count": 6,
   "metadata": {
    "extensions": {
     "jupyter_dashboards": {
      "version": 1,
      "views": {
       "grid_default": {
        "col": 4,
        "height": 13,
        "hidden": false,
        "row": 8,
        "width": 4
       },
       "report_default": {}
      }
     }
    }
   },
   "outputs": [
    {
     "name": "stdout",
     "output_type": "stream",
     "text": [
      "             precision    recall  f1-score   support\n",
      "\n",
      "      bweep    0.93750   0.96284   0.95000       296\n",
      "      clean    0.97122   0.95070   0.96085       142\n",
      "      daily    0.92222   0.93258   0.92737       178\n",
      "       dump    0.95789   0.89216   0.92386       102\n",
      "        run    0.91667   0.91667   0.91667        12\n",
      "      sweep    0.95510   0.95902   0.95706       244\n",
      "       walk    0.96667   0.93548   0.95082        31\n",
      "\n",
      "avg / total    0.94655   0.94627   0.94621      1005\n",
      "\n"
     ]
    }
   ],
   "source": [
    "print(classification_report(test_labels, xgb_clf_labels, digits=5))"
   ]
  },
  {
   "cell_type": "code",
   "execution_count": 7,
   "metadata": {
    "extensions": {
     "jupyter_dashboards": {
      "version": 1,
      "views": {
       "grid_default": {
        "hidden": true
       },
       "report_default": {}
      }
     }
    }
   },
   "outputs": [],
   "source": [
    "df1 = M[3]"
   ]
  },
  {
   "cell_type": "code",
   "execution_count": 8,
   "metadata": {},
   "outputs": [
    {
     "data": {
      "text/html": [
       "<div>\n",
       "<style scoped>\n",
       "    .dataframe tbody tr th:only-of-type {\n",
       "        vertical-align: middle;\n",
       "    }\n",
       "\n",
       "    .dataframe tbody tr th {\n",
       "        vertical-align: top;\n",
       "    }\n",
       "\n",
       "    .dataframe thead th {\n",
       "        text-align: right;\n",
       "    }\n",
       "</style>\n",
       "<table border=\"1\" class=\"dataframe\">\n",
       "  <thead>\n",
       "    <tr style=\"text-align: right;\">\n",
       "      <th></th>\n",
       "      <th>label</th>\n",
       "      <th>sum_x</th>\n",
       "      <th>sum_y</th>\n",
       "      <th>sum_z</th>\n",
       "      <th>mean_x</th>\n",
       "      <th>mean_y</th>\n",
       "      <th>mean_z</th>\n",
       "      <th>std_x</th>\n",
       "      <th>std_y</th>\n",
       "      <th>std_z</th>\n",
       "      <th>...</th>\n",
       "      <th>logpower_z</th>\n",
       "      <th>peak_x</th>\n",
       "      <th>peak_y</th>\n",
       "      <th>peak_z</th>\n",
       "      <th>cross0_x</th>\n",
       "      <th>cross0_y</th>\n",
       "      <th>cross0_z</th>\n",
       "      <th>cor_xy</th>\n",
       "      <th>cor_yz</th>\n",
       "      <th>cor_zx</th>\n",
       "    </tr>\n",
       "  </thead>\n",
       "  <tbody>\n",
       "    <tr>\n",
       "      <th>10047</th>\n",
       "      <td>clean</td>\n",
       "      <td>-0.860436</td>\n",
       "      <td>-0.767645</td>\n",
       "      <td>1.269625</td>\n",
       "      <td>-0.860436</td>\n",
       "      <td>-0.767645</td>\n",
       "      <td>1.269625</td>\n",
       "      <td>-0.021524</td>\n",
       "      <td>0.087434</td>\n",
       "      <td>1.259958</td>\n",
       "      <td>...</td>\n",
       "      <td>0.117180</td>\n",
       "      <td>-0.056044</td>\n",
       "      <td>-0.405645</td>\n",
       "      <td>-0.326242</td>\n",
       "      <td>-0.630989</td>\n",
       "      <td>-0.847045</td>\n",
       "      <td>-0.118591</td>\n",
       "      <td>-1.986470</td>\n",
       "      <td>-2.077952</td>\n",
       "      <td>2.029415</td>\n",
       "    </tr>\n",
       "    <tr>\n",
       "      <th>10048</th>\n",
       "      <td>clean</td>\n",
       "      <td>-0.877861</td>\n",
       "      <td>-0.849021</td>\n",
       "      <td>1.237746</td>\n",
       "      <td>-0.877861</td>\n",
       "      <td>-0.849021</td>\n",
       "      <td>1.237746</td>\n",
       "      <td>-0.158562</td>\n",
       "      <td>0.103398</td>\n",
       "      <td>1.187838</td>\n",
       "      <td>...</td>\n",
       "      <td>0.559489</td>\n",
       "      <td>-0.056044</td>\n",
       "      <td>-1.570492</td>\n",
       "      <td>-0.326242</td>\n",
       "      <td>-0.630989</td>\n",
       "      <td>-0.847045</td>\n",
       "      <td>-0.830064</td>\n",
       "      <td>-1.863472</td>\n",
       "      <td>-1.933861</td>\n",
       "      <td>2.018661</td>\n",
       "    </tr>\n",
       "    <tr>\n",
       "      <th>10049</th>\n",
       "      <td>clean</td>\n",
       "      <td>-0.886379</td>\n",
       "      <td>-0.796720</td>\n",
       "      <td>1.207994</td>\n",
       "      <td>-0.886379</td>\n",
       "      <td>-0.796720</td>\n",
       "      <td>1.207994</td>\n",
       "      <td>-0.176619</td>\n",
       "      <td>0.125056</td>\n",
       "      <td>1.156651</td>\n",
       "      <td>...</td>\n",
       "      <td>0.530482</td>\n",
       "      <td>-0.650300</td>\n",
       "      <td>-0.988069</td>\n",
       "      <td>-0.944992</td>\n",
       "      <td>-0.630989</td>\n",
       "      <td>-1.185971</td>\n",
       "      <td>-0.830064</td>\n",
       "      <td>-1.678832</td>\n",
       "      <td>-1.869922</td>\n",
       "      <td>1.986165</td>\n",
       "    </tr>\n",
       "    <tr>\n",
       "      <th>10050</th>\n",
       "      <td>clean</td>\n",
       "      <td>-0.825877</td>\n",
       "      <td>-0.938359</td>\n",
       "      <td>1.131694</td>\n",
       "      <td>-0.825877</td>\n",
       "      <td>-0.938359</td>\n",
       "      <td>1.131694</td>\n",
       "      <td>-1.202427</td>\n",
       "      <td>-1.257205</td>\n",
       "      <td>-0.952342</td>\n",
       "      <td>...</td>\n",
       "      <td>0.697138</td>\n",
       "      <td>-0.056044</td>\n",
       "      <td>0.176778</td>\n",
       "      <td>-0.326242</td>\n",
       "      <td>-1.731580</td>\n",
       "      <td>-1.863823</td>\n",
       "      <td>-1.897275</td>\n",
       "      <td>1.616856</td>\n",
       "      <td>1.765329</td>\n",
       "      <td>1.935458</td>\n",
       "    </tr>\n",
       "    <tr>\n",
       "      <th>10051</th>\n",
       "      <td>clean</td>\n",
       "      <td>-0.884921</td>\n",
       "      <td>-0.973099</td>\n",
       "      <td>0.982635</td>\n",
       "      <td>-0.884921</td>\n",
       "      <td>-0.973099</td>\n",
       "      <td>0.982635</td>\n",
       "      <td>-1.226561</td>\n",
       "      <td>-1.292172</td>\n",
       "      <td>-0.831990</td>\n",
       "      <td>...</td>\n",
       "      <td>0.488505</td>\n",
       "      <td>-0.650300</td>\n",
       "      <td>0.176778</td>\n",
       "      <td>-0.326242</td>\n",
       "      <td>-1.731580</td>\n",
       "      <td>-0.847045</td>\n",
       "      <td>-1.897275</td>\n",
       "      <td>0.836724</td>\n",
       "      <td>0.802466</td>\n",
       "      <td>1.843300</td>\n",
       "    </tr>\n",
       "  </tbody>\n",
       "</table>\n",
       "<p>5 rows × 58 columns</p>\n",
       "</div>"
      ],
      "text/plain": [
       "       label     sum_x     sum_y     sum_z    mean_x    mean_y    mean_z  \\\n",
       "10047  clean -0.860436 -0.767645  1.269625 -0.860436 -0.767645  1.269625   \n",
       "10048  clean -0.877861 -0.849021  1.237746 -0.877861 -0.849021  1.237746   \n",
       "10049  clean -0.886379 -0.796720  1.207994 -0.886379 -0.796720  1.207994   \n",
       "10050  clean -0.825877 -0.938359  1.131694 -0.825877 -0.938359  1.131694   \n",
       "10051  clean -0.884921 -0.973099  0.982635 -0.884921 -0.973099  0.982635   \n",
       "\n",
       "          std_x     std_y     std_z    ...     logpower_z    peak_x    peak_y  \\\n",
       "10047 -0.021524  0.087434  1.259958    ...       0.117180 -0.056044 -0.405645   \n",
       "10048 -0.158562  0.103398  1.187838    ...       0.559489 -0.056044 -1.570492   \n",
       "10049 -0.176619  0.125056  1.156651    ...       0.530482 -0.650300 -0.988069   \n",
       "10050 -1.202427 -1.257205 -0.952342    ...       0.697138 -0.056044  0.176778   \n",
       "10051 -1.226561 -1.292172 -0.831990    ...       0.488505 -0.650300  0.176778   \n",
       "\n",
       "         peak_z  cross0_x  cross0_y  cross0_z    cor_xy    cor_yz    cor_zx  \n",
       "10047 -0.326242 -0.630989 -0.847045 -0.118591 -1.986470 -2.077952  2.029415  \n",
       "10048 -0.326242 -0.630989 -0.847045 -0.830064 -1.863472 -1.933861  2.018661  \n",
       "10049 -0.944992 -0.630989 -1.185971 -0.830064 -1.678832 -1.869922  1.986165  \n",
       "10050 -0.326242 -1.731580 -1.863823 -1.897275  1.616856  1.765329  1.935458  \n",
       "10051 -0.326242 -1.731580 -0.847045 -1.897275  0.836724  0.802466  1.843300  \n",
       "\n",
       "[5 rows x 58 columns]"
      ]
     },
     "execution_count": 8,
     "metadata": {},
     "output_type": "execute_result"
    }
   ],
   "source": [
    "df1.tail()"
   ]
  },
  {
   "cell_type": "code",
   "execution_count": 9,
   "metadata": {},
   "outputs": [
    {
     "name": "stdout",
     "output_type": "stream",
     "text": [
      "CPU times: user 1d 13h 21min 57s, sys: 37.7 s, total: 1d 13h 22min 34s\n",
      "Wall time: 9h 24min 1s\n"
     ]
    }
   ],
   "source": [
    "%%time\n",
    "test_ratio = 0.2\n",
    "test_labels1,xgb_clf_labels1 = SWEMPREDICT_SINGLE(df1, test_ratio)"
   ]
  },
  {
   "cell_type": "code",
   "execution_count": 10,
   "metadata": {},
   "outputs": [
    {
     "name": "stdout",
     "output_type": "stream",
     "text": [
      "             precision    recall  f1-score   support\n",
      "\n",
      "      bweep    0.96416   0.92123   0.94221       292\n",
      "      clean    0.94839   0.93038   0.93930       158\n",
      "      daily    0.89617   0.92655   0.91111       177\n",
      "       dump    0.90435   0.92035   0.91228       113\n",
      "        run    0.92308   0.70588   0.80000        17\n",
      "      sweep    0.90541   0.96172   0.93271       209\n",
      "       walk    0.92105   0.89744   0.90909        39\n",
      "\n",
      "avg / total    0.92839   0.92736   0.92724      1005\n",
      "\n"
     ]
    }
   ],
   "source": [
    "print(classification_report(test_labels1, xgb_clf_labels1, digits=5))"
   ]
  },
  {
   "cell_type": "code",
   "execution_count": 11,
   "metadata": {},
   "outputs": [
    {
     "name": "stdout",
     "output_type": "stream",
     "text": [
      "CPU times: user 13d 10h 16min 24s, sys: 4min 35s, total: 13d 10h 21min\n",
      "Wall time: 3d 9h 17min 15s\n"
     ]
    }
   ],
   "source": [
    "%%time\n",
    "test_ratio = 0.2\n",
    "test_labels2,xgb_clf_labels2 = SWEMPREDICT(M, test_ratio)"
   ]
  },
  {
   "cell_type": "code",
   "execution_count": 12,
   "metadata": {},
   "outputs": [
    {
     "name": "stdout",
     "output_type": "stream",
     "text": [
      "             precision    recall  f1-score   support\n",
      "\n",
      "      bweep    0.97628   0.82333   0.89331       300\n",
      "      clean    0.94340   0.93168   0.93750       161\n",
      "      daily    0.89714   0.90751   0.90230       173\n",
      "       dump    0.74074   0.79208   0.76555       101\n",
      "        run    0.91667   0.91667   0.91667        12\n",
      "      sweep    0.84982   0.99145   0.91519       234\n",
      "       walk    0.84000   0.87500   0.85714        24\n",
      "\n",
      "avg / total    0.90031   0.89353   0.89361      1005\n",
      "\n"
     ]
    }
   ],
   "source": [
    "print(classification_report(test_labels2, xgb_clf_labels2, digits=5))"
   ]
  },
  {
   "cell_type": "code",
   "execution_count": null,
   "metadata": {},
   "outputs": [],
   "source": []
  }
 ],
 "metadata": {
  "extensions": {
   "jupyter_dashboards": {
    "activeView": "grid_default",
    "version": 1,
    "views": {
     "grid_default": {
      "cellMargin": 10,
      "defaultCellHeight": 20,
      "maxColumns": 12,
      "name": "grid",
      "type": "grid"
     },
     "report_default": {
      "name": "report",
      "type": "report"
     }
    }
   }
  },
  "kernelspec": {
   "display_name": "Python 3",
   "language": "python",
   "name": "python3"
  },
  "language_info": {
   "codemirror_mode": {
    "name": "ipython",
    "version": 3
   },
   "file_extension": ".py",
   "mimetype": "text/x-python",
   "name": "python",
   "nbconvert_exporter": "python",
   "pygments_lexer": "ipython3",
   "version": "3.6.1"
  },
  "toc": {
   "nav_menu": {},
   "number_sections": true,
   "sideBar": true,
   "skip_h1_title": false,
   "toc_cell": false,
   "toc_position": {},
   "toc_section_display": "block",
   "toc_window_display": false
  },
  "varInspector": {
   "cols": {
    "lenName": 16,
    "lenType": 16,
    "lenVar": 40
   },
   "kernels_config": {
    "python": {
     "delete_cmd_postfix": "",
     "delete_cmd_prefix": "del ",
     "library": "var_list.py",
     "varRefreshCmd": "print(var_dic_list())"
    },
    "r": {
     "delete_cmd_postfix": ") ",
     "delete_cmd_prefix": "rm(",
     "library": "var_list.r",
     "varRefreshCmd": "cat(var_dic_list()) "
    }
   },
   "types_to_exclude": [
    "module",
    "function",
    "builtin_function_or_method",
    "instance",
    "_Feature"
   ],
   "window_display": false
  }
 },
 "nbformat": 4,
 "nbformat_minor": 2
}

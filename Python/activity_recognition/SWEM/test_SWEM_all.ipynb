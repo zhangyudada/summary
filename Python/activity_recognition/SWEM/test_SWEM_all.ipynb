{
 "cells": [
  {
   "cell_type": "code",
   "execution_count": 1,
   "metadata": {
    "collapsed": true
   },
   "outputs": [],
   "source": [
    "import pandas as pd\n",
    "import numpy as np\n",
    "\n",
    "from SWEM import SWEMPREDICT_SINGLE\n",
    "from SWEM import SWEMPREDICT\n",
    "from sklearn.metrics import classification_report"
   ]
  },
  {
   "cell_type": "code",
   "execution_count": 2,
   "metadata": {
    "collapsed": true
   },
   "outputs": [],
   "source": [
    "M = []\n",
    "for ind in range(5):\n",
    "    tmp_df = pd.read_csv('../data/processed_data/all/resample_to_50_per_act/time_features/time_w{}.csv'.format( 10*(ind+1) ))\n",
    "    M.append(tmp_df)"
   ]
  },
  {
   "cell_type": "code",
   "execution_count": 3,
   "metadata": {
    "collapsed": true
   },
   "outputs": [],
   "source": [
    "df = M[0]\n",
    "test_ratio = 0.1\n",
    "test_labels,knn_clf_labels,svm_clf_labels = SWEMPREDICT_SINGLE(df, test_ratio)"
   ]
  },
  {
   "cell_type": "code",
   "execution_count": 4,
   "metadata": {},
   "outputs": [
    {
     "name": "stdout",
     "output_type": "stream",
     "text": [
      "             precision    recall  f1-score   support\n",
      "\n",
      "      bweep       0.93      0.87      0.90       144\n",
      "      clean       0.93      0.95      0.94        73\n",
      "      daily       0.89      0.85      0.87       100\n",
      "       dump       0.92      0.86      0.89        65\n",
      "        run       0.60      0.75      0.67         4\n",
      "      sweep       0.82      0.96      0.89       101\n",
      "       walk       0.88      0.88      0.88        16\n",
      "\n",
      "avg / total       0.90      0.89      0.89       503\n",
      "\n"
     ]
    }
   ],
   "source": [
    "print(classification_report(test_labels, knn_clf_labels))"
   ]
  },
  {
   "cell_type": "code",
   "execution_count": 5,
   "metadata": {},
   "outputs": [
    {
     "name": "stdout",
     "output_type": "stream",
     "text": [
      "             precision    recall  f1-score   support\n",
      "\n",
      "      bweep       0.92      0.86      0.89       144\n",
      "      clean       0.91      0.93      0.92        73\n",
      "      daily       0.86      0.88      0.87       100\n",
      "       dump       0.91      0.82      0.86        65\n",
      "        run       1.00      0.75      0.86         4\n",
      "      sweep       0.83      0.94      0.88       101\n",
      "       walk       0.93      0.88      0.90        16\n",
      "\n",
      "avg / total       0.89      0.88      0.88       503\n",
      "\n"
     ]
    }
   ],
   "source": [
    "print(classification_report(test_labels, svm_clf_labels))"
   ]
  },
  {
   "cell_type": "code",
   "execution_count": 6,
   "metadata": {
    "collapsed": true
   },
   "outputs": [],
   "source": [
    "df = M[1]\n",
    "test_ratio = 0.1\n",
    "test_labels,knn_clf_labels,svm_clf_labels = SWEMPREDICT_SINGLE(df, test_ratio)"
   ]
  },
  {
   "cell_type": "code",
   "execution_count": 7,
   "metadata": {},
   "outputs": [
    {
     "name": "stdout",
     "output_type": "stream",
     "text": [
      "             precision    recall  f1-score   support\n",
      "\n",
      "      bweep       0.90      0.89      0.90       156\n",
      "      clean       0.96      0.85      0.90        78\n",
      "      daily       0.79      0.79      0.79        86\n",
      "       dump       0.89      0.81      0.85        59\n",
      "        run       1.00      1.00      1.00         9\n",
      "      sweep       0.86      1.00      0.93        96\n",
      "       walk       0.80      0.84      0.82        19\n",
      "\n",
      "avg / total       0.88      0.88      0.88       503\n",
      "\n"
     ]
    }
   ],
   "source": [
    "print(classification_report(test_labels, knn_clf_labels))"
   ]
  },
  {
   "cell_type": "code",
   "execution_count": 8,
   "metadata": {},
   "outputs": [
    {
     "name": "stdout",
     "output_type": "stream",
     "text": [
      "             precision    recall  f1-score   support\n",
      "\n",
      "      bweep       0.96      0.87      0.91       156\n",
      "      clean       0.94      0.92      0.93        78\n",
      "      daily       0.83      0.90      0.86        86\n",
      "       dump       0.94      0.83      0.88        59\n",
      "        run       1.00      1.00      1.00         9\n",
      "      sweep       0.85      1.00      0.92        96\n",
      "       walk       0.89      0.84      0.86        19\n",
      "\n",
      "avg / total       0.91      0.90      0.90       503\n",
      "\n"
     ]
    }
   ],
   "source": [
    "print(classification_report(test_labels, svm_clf_labels))"
   ]
  },
  {
   "cell_type": "code",
   "execution_count": 9,
   "metadata": {
    "collapsed": true
   },
   "outputs": [],
   "source": [
    "df = M[2]\n",
    "test_ratio = 0.1\n",
    "test_labels,knn_clf_labels,svm_clf_labels = SWEMPREDICT_SINGLE(df, test_ratio)"
   ]
  },
  {
   "cell_type": "code",
   "execution_count": 10,
   "metadata": {},
   "outputs": [
    {
     "name": "stdout",
     "output_type": "stream",
     "text": [
      "             precision    recall  f1-score   support\n",
      "\n",
      "      bweep       0.92      0.93      0.93       144\n",
      "      clean       0.97      0.93      0.95        82\n",
      "      daily       0.90      0.86      0.88        81\n",
      "       dump       0.89      0.89      0.89        57\n",
      "        run       1.00      0.88      0.93         8\n",
      "      sweep       0.93      0.97      0.95       115\n",
      "       walk       0.89      1.00      0.94        16\n",
      "\n",
      "avg / total       0.93      0.93      0.93       503\n",
      "\n"
     ]
    }
   ],
   "source": [
    "print(classification_report(test_labels, knn_clf_labels))"
   ]
  },
  {
   "cell_type": "code",
   "execution_count": 11,
   "metadata": {},
   "outputs": [
    {
     "name": "stdout",
     "output_type": "stream",
     "text": [
      "             precision    recall  f1-score   support\n",
      "\n",
      "      bweep       0.92      0.92      0.92       144\n",
      "      clean       0.97      0.93      0.95        82\n",
      "      daily       0.85      0.89      0.87        81\n",
      "       dump       0.96      0.93      0.95        57\n",
      "        run       1.00      0.88      0.93         8\n",
      "      sweep       0.95      0.97      0.96       115\n",
      "       walk       1.00      1.00      1.00        16\n",
      "\n",
      "avg / total       0.93      0.93      0.93       503\n",
      "\n"
     ]
    }
   ],
   "source": [
    "print(classification_report(test_labels, svm_clf_labels))"
   ]
  },
  {
   "cell_type": "code",
   "execution_count": 12,
   "metadata": {
    "collapsed": true
   },
   "outputs": [],
   "source": [
    "df = M[3]\n",
    "test_ratio = 0.1\n",
    "test_labels,knn_clf_labels,svm_clf_labels = SWEMPREDICT_SINGLE(df, test_ratio)"
   ]
  },
  {
   "cell_type": "code",
   "execution_count": 13,
   "metadata": {},
   "outputs": [
    {
     "name": "stdout",
     "output_type": "stream",
     "text": [
      "             precision    recall  f1-score   support\n",
      "\n",
      "      bweep       0.97      0.91      0.94       161\n",
      "      clean       0.95      0.88      0.92        68\n",
      "      daily       0.87      0.93      0.90        99\n",
      "       dump       0.90      0.93      0.92        41\n",
      "        run       0.83      0.83      0.83         6\n",
      "      sweep       0.92      0.99      0.96       109\n",
      "       walk       0.94      0.89      0.92        19\n",
      "\n",
      "avg / total       0.93      0.93      0.93       503\n",
      "\n"
     ]
    }
   ],
   "source": [
    "print(classification_report(test_labels, knn_clf_labels))"
   ]
  },
  {
   "cell_type": "code",
   "execution_count": 14,
   "metadata": {},
   "outputs": [
    {
     "name": "stdout",
     "output_type": "stream",
     "text": [
      "             precision    recall  f1-score   support\n",
      "\n",
      "      bweep       0.95      0.91      0.93       161\n",
      "      clean       0.97      0.94      0.96        68\n",
      "      daily       0.89      0.94      0.92        99\n",
      "       dump       0.94      0.80      0.87        41\n",
      "        run       0.83      0.83      0.83         6\n",
      "      sweep       0.88      0.98      0.93       109\n",
      "       walk       1.00      0.89      0.94        19\n",
      "\n",
      "avg / total       0.93      0.92      0.92       503\n",
      "\n"
     ]
    }
   ],
   "source": [
    "print(classification_report(test_labels, svm_clf_labels))"
   ]
  },
  {
   "cell_type": "code",
   "execution_count": 15,
   "metadata": {
    "collapsed": true
   },
   "outputs": [],
   "source": [
    "df = M[4]\n",
    "test_ratio = 0.1\n",
    "test_labels,knn_clf_labels,svm_clf_labels = SWEMPREDICT_SINGLE(df, test_ratio)"
   ]
  },
  {
   "cell_type": "code",
   "execution_count": 16,
   "metadata": {},
   "outputs": [
    {
     "name": "stdout",
     "output_type": "stream",
     "text": [
      "             precision    recall  f1-score   support\n",
      "\n",
      "      bweep       0.89      0.93      0.91       167\n",
      "      clean       0.92      0.88      0.90        67\n",
      "      daily       0.86      0.86      0.86        72\n",
      "       dump       0.92      0.83      0.87        53\n",
      "        run       1.00      0.88      0.93         8\n",
      "      sweep       0.94      0.96      0.95       115\n",
      "       walk       0.95      0.90      0.93        21\n",
      "\n",
      "avg / total       0.91      0.91      0.91       503\n",
      "\n"
     ]
    }
   ],
   "source": [
    "print(classification_report(test_labels, knn_clf_labels))"
   ]
  },
  {
   "cell_type": "code",
   "execution_count": 17,
   "metadata": {},
   "outputs": [
    {
     "name": "stdout",
     "output_type": "stream",
     "text": [
      "             precision    recall  f1-score   support\n",
      "\n",
      "      bweep       0.91      0.91      0.91       167\n",
      "      clean       0.91      0.96      0.93        67\n",
      "      daily       0.80      0.92      0.86        72\n",
      "       dump       0.97      0.74      0.84        53\n",
      "        run       1.00      0.75      0.86         8\n",
      "      sweep       0.89      0.92      0.91       115\n",
      "       walk       1.00      0.90      0.95        21\n",
      "\n",
      "avg / total       0.90      0.90      0.90       503\n",
      "\n"
     ]
    }
   ],
   "source": [
    "print(classification_report(test_labels, svm_clf_labels))"
   ]
  },
  {
   "cell_type": "code",
   "execution_count": 18,
   "metadata": {
    "collapsed": true
   },
   "outputs": [],
   "source": [
    "test_ratio = 0.1\n",
    "test_labels,knn_clf_labels,svm_clf_labels = SWEMPREDICT(M, test_ratio)"
   ]
  },
  {
   "cell_type": "code",
   "execution_count": 19,
   "metadata": {},
   "outputs": [
    {
     "name": "stdout",
     "output_type": "stream",
     "text": [
      "             precision    recall  f1-score   support\n",
      "\n",
      "      bweep       0.99      0.81      0.89       146\n",
      "      clean       0.95      0.86      0.90        65\n",
      "      daily       0.81      0.85      0.83        95\n",
      "       dump       0.83      0.76      0.79        63\n",
      "        run       0.86      1.00      0.92         6\n",
      "      sweep       0.79      0.99      0.88       112\n",
      "       walk       0.65      0.81      0.72        16\n",
      "\n",
      "avg / total       0.87      0.86      0.86       503\n",
      "\n"
     ]
    }
   ],
   "source": [
    "print(classification_report(test_labels, knn_clf_labels))"
   ]
  },
  {
   "cell_type": "code",
   "execution_count": 20,
   "metadata": {},
   "outputs": [
    {
     "name": "stdout",
     "output_type": "stream",
     "text": [
      "             precision    recall  f1-score   support\n",
      "\n",
      "      bweep       0.98      0.75      0.85       146\n",
      "      clean       0.89      0.85      0.87        65\n",
      "      daily       0.81      0.86      0.84        95\n",
      "       dump       0.78      0.75      0.76        63\n",
      "        run       0.86      1.00      0.92         6\n",
      "      sweep       0.77      0.99      0.86       112\n",
      "       walk       0.81      0.81      0.81        16\n",
      "\n",
      "avg / total       0.86      0.84      0.84       503\n",
      "\n"
     ]
    }
   ],
   "source": [
    "print(classification_report(test_labels, svm_clf_labels))"
   ]
  },
  {
   "cell_type": "code",
   "execution_count": null,
   "metadata": {
    "collapsed": true
   },
   "outputs": [],
   "source": []
  }
 ],
 "metadata": {
  "kernelspec": {
   "display_name": "Python 3",
   "language": "python",
   "name": "python3"
  },
  "language_info": {
   "codemirror_mode": {
    "name": "ipython",
    "version": 3
   },
   "file_extension": ".py",
   "mimetype": "text/x-python",
   "name": "python",
   "nbconvert_exporter": "python",
   "pygments_lexer": "ipython3",
   "version": "3.6.1"
  },
  "toc": {
   "nav_menu": {},
   "number_sections": true,
   "sideBar": true,
   "skip_h1_title": false,
   "toc_cell": false,
   "toc_position": {},
   "toc_section_display": "block",
   "toc_window_display": false
  },
  "varInspector": {
   "cols": {
    "lenName": 16,
    "lenType": 16,
    "lenVar": 40
   },
   "kernels_config": {
    "python": {
     "delete_cmd_postfix": "",
     "delete_cmd_prefix": "del ",
     "library": "var_list.py",
     "varRefreshCmd": "print(var_dic_list())"
    },
    "r": {
     "delete_cmd_postfix": ") ",
     "delete_cmd_prefix": "rm(",
     "library": "var_list.r",
     "varRefreshCmd": "cat(var_dic_list()) "
    }
   },
   "types_to_exclude": [
    "module",
    "function",
    "builtin_function_or_method",
    "instance",
    "_Feature"
   ],
   "window_display": false
  }
 },
 "nbformat": 4,
 "nbformat_minor": 2
}
